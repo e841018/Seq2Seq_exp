{
 "cells": [
  {
   "cell_type": "code",
   "execution_count": 1,
   "metadata": {},
   "outputs": [],
   "source": [
    "import torch\n",
    "import random\n",
    "import os\n",
    "from torch import nn\n",
    "from torch.utils.data import Dataset,DataLoader\n",
    "\n",
    "corpus_file = 'hw2.1_corpus.txt'"
   ]
  },
  {
   "cell_type": "code",
   "execution_count": 2,
   "metadata": {},
   "outputs": [],
   "source": [
    "# Load Corpus\n",
    "\n",
    "corpus = []\n",
    "with open(corpus_file,'r') as f:\n",
    "    for row in f:\n",
    "        row = row.replace('\\n','')\n",
    "        row = [w for w in row]\n",
    "        corpus.append(row)"
   ]
  },
  {
   "cell_type": "code",
   "execution_count": 3,
   "metadata": {},
   "outputs": [],
   "source": [
    "# Use list to guarantee the embedded index for each word are same everytime\n",
    "\n",
    "words = []\n",
    "words_set = set()\n",
    "for ws in corpus:\n",
    "    for w in ws:\n",
    "        if w not in words_set:\n",
    "            words_set.add(w)\n",
    "            words.append(w)"
   ]
  },
  {
   "cell_type": "code",
   "execution_count": 4,
   "metadata": {},
   "outputs": [],
   "source": [
    "import re\n",
    "\n",
    "class Embedding:\n",
    "\n",
    "    def __init__(self,words=None,dim=300):\n",
    "        self.word_dict = {}\n",
    "        self.word_list = []\n",
    "        self.emb_dim = dim\n",
    "        self.maxPOS = 55      # Maximum POS\n",
    "        self.addition_words = ['<PAD>','<SOS>','<EOS>','<UNK>']\n",
    "        \n",
    "        for POS in range(self.maxPOS):\n",
    "            self.addition_words.append(str(POS))\n",
    "        \n",
    "        for addition_word in self.addition_words:\n",
    "            if addition_word not in words:\n",
    "                self.word_dict[addition_word] = len(self.word_list)\n",
    "                self.word_list.append(addition_word)\n",
    "        \n",
    "        for word in words:\n",
    "            if word not in self.word_dict:\n",
    "                self.word_dict[word] = len(self.word_list)\n",
    "                self.word_list.append(word)\n",
    "                \n",
    "        self.vectors = torch.nn.init.uniform_(\n",
    "                torch.empty(len(self.word_dict),dim))\n",
    "        \n",
    "    def to_index(self, word):\n",
    "        # single word tokenize\n",
    "        if word not in self.word_dict:\n",
    "            return self.word_dict['<UNK>']\n",
    "        \n",
    "        return self.word_dict[word]\n",
    "        \n",
    "    def tokenize(self, words):\n",
    "        # whole sentence tokenize\n",
    "        return [self.to_index(w) for w in words]\n",
    "    \n",
    "    def to_word(self, idx):\n",
    "        \n",
    "        return self.word_list[idx]\n",
    "        \n",
    "    def unTokenize(self,ids):\n",
    "        \n",
    "        return [self.to_word(idx) for idx in ids]\n",
    "        \n",
    "    def get_vocabulary_size(self):\n",
    "        return self.vectors.shape[0]\n",
    "    \n",
    "    def get_dim(self):\n",
    "        return self.vectors.shape[1]"
   ]
  },
  {
   "cell_type": "code",
   "execution_count": 5,
   "metadata": {},
   "outputs": [],
   "source": [
    "# establish embedder to tokenize\n",
    "embedder = Embedding(words=words,dim=300)\n",
    "\n",
    "PAD = embedder.to_index('<PAD>')\n",
    "SOS = embedder.to_index('<SOS>')\n",
    "EOS = embedder.to_index('<EOS>')"
   ]
  },
  {
   "cell_type": "code",
   "execution_count": 6,
   "metadata": {},
   "outputs": [],
   "source": [
    "all_set = []\n",
    "two_hint_ratio = 0.0\n",
    "\n",
    "for former,latter in zip(corpus[:-1],corpus[1:]):\n",
    "    \n",
    "    n = len(latter)\n",
    "    addition_tokens = []\n",
    "    \n",
    "    hint_word = 2 if random.random() < two_hint_ratio else 1\n",
    "\n",
    "    selected_idice = random.sample(list(range(min(n,embedder.maxPOS))), k=min(n,hint_word))\n",
    "    \n",
    "    for selected_idx in selected_idice:\n",
    "        \n",
    "        addition_tokens.append(str(selected_idx+1))\n",
    "        addition_tokens.append(latter[selected_idx])\n",
    "    \n",
    "    former = ['<SOS>'] + former + ['<EOS>'] + addition_tokens\n",
    "    latter = ['<SOS>'] + latter + ['<EOS>']\n",
    "    \n",
    "    \n",
    "    all_set.append((former,latter))"
   ]
  },
  {
   "cell_type": "code",
   "execution_count": 7,
   "metadata": {},
   "outputs": [
    {
     "name": "stdout",
     "output_type": "stream",
     "text": [
      "741714 593371 148343\n"
     ]
    }
   ],
   "source": [
    "from sklearn.model_selection import train_test_split\n",
    "\n",
    "train_set,valid_set = train_test_split(all_set,test_size=0.2,random_state=42)\n",
    "\n",
    "print(len(all_set),len(train_set),len(valid_set))"
   ]
  },
  {
   "cell_type": "code",
   "execution_count": 8,
   "metadata": {},
   "outputs": [
    {
     "data": {
      "text/plain": [
       "(['<SOS>',\n",
       "  '你',\n",
       "  '最',\n",
       "  '想',\n",
       "  '去',\n",
       "  '的',\n",
       "  '目',\n",
       "  '的',\n",
       "  '地',\n",
       "  '剩',\n",
       "  '多',\n",
       "  '少',\n",
       "  '公',\n",
       "  '里',\n",
       "  '<EOS>',\n",
       "  '7',\n",
       "  '我'],\n",
       " ['<SOS>', '累', '了', '也', '没', '关', '系', '我', '可', '以', '暂', '停', '<EOS>'])"
      ]
     },
     "execution_count": 8,
     "metadata": {},
     "output_type": "execute_result"
    }
   ],
   "source": [
    "# list of turple : [(x0,y0),(x1,y1),(x2,y2),....]\n",
    "all_set[5]"
   ]
  },
  {
   "cell_type": "code",
   "execution_count": 9,
   "metadata": {},
   "outputs": [],
   "source": [
    "\n",
    "class SentDataset(Dataset):\n",
    "    def __init__(self, data):\n",
    "        self.data = data\n",
    "        \n",
    "    def __len__(self):\n",
    "        return len(self.data)\n",
    "\n",
    "    def __getitem__(self, index):\n",
    "        \n",
    "        return self.data[index]\n",
    "        \n",
    "    def collate_fn(self, datas):\n",
    "        # get max length in this batch\n",
    "        max_data_len = max([len(data[0]) for data in datas])\n",
    "        max_label_len = max([len(data[1]) for data in datas])\n",
    "        \n",
    "        batch_x = []\n",
    "        batch_y = []\n",
    "        len_x = []\n",
    "        len_y = []\n",
    "        batch_y_ = []\n",
    "        \n",
    "        \n",
    "        for data,label in datas:\n",
    "            \n",
    "            len_x.append(len(data))\n",
    "            len_y.append(len(label))\n",
    "            \n",
    "            # Tokenize\n",
    "            pad_data = embedder.tokenize(data)\n",
    "            pad_label = embedder.tokenize(label)\n",
    "            \n",
    "            # Padding data and label\n",
    "            if len(data) < max_data_len:\n",
    "                pad_data.extend([PAD] * (max_data_len-len(data)))\n",
    "            if len(label) < max_label_len:\n",
    "                pad_label.extend([PAD] * (max_label_len-len(label)))\n",
    "                \n",
    "                \n",
    "            batch_x.append(pad_data)\n",
    "            batch_y.append(pad_label)\n",
    "            \n",
    "            # generate y_\n",
    "            focus_designate = [PAD] * len(pad_label)\n",
    "            focus_designate[0] = SOS\n",
    "            focus_designate[pad_label.index(EOS)] = EOS\n",
    "            \n",
    "            for i in range(data.index('<EOS>')+1,len(data),2):\n",
    "                \n",
    "                idx = int(data[i])\n",
    "                focus_designate[idx] = pad_label[idx]\n",
    "            \n",
    "            batch_y_.append(focus_designate)\n",
    "            \n",
    "            \n",
    "        return torch.LongTensor(batch_x), torch.LongTensor(len_x), torch.LongTensor(batch_y), len_y, torch.LongTensor(batch_y_)"
   ]
  },
  {
   "cell_type": "code",
   "execution_count": 10,
   "metadata": {},
   "outputs": [
    {
     "name": "stdout",
     "output_type": "stream",
     "text": [
      "Sentence lenght: tensor([ 8, 18, 10, 15]) [9, 17, 5, 11] \n",
      "\n",
      "['<SOS>', '别', '人', '都', '说', '<EOS>', '2', '们', '<PAD>', '<PAD>', '<PAD>', '<PAD>', '<PAD>', '<PAD>', '<PAD>', '<PAD>', '<PAD>', '<PAD>']\n",
      "['<SOS>', '我', '们', '迟', '早', '会', '分', '开', '<EOS>', '<PAD>', '<PAD>', '<PAD>', '<PAD>', '<PAD>', '<PAD>', '<PAD>', '<PAD>']\n",
      "['<SOS>', '<PAD>', '们', '<PAD>', '<PAD>', '<PAD>', '<PAD>', '<PAD>', '<EOS>', '<PAD>', '<PAD>', '<PAD>', '<PAD>', '<PAD>', '<PAD>', '<PAD>', '<PAD>'] \n",
      "\n",
      "['<SOS>', '根', '本', '融', '入', '不', '进', '一', '群', '人', '的', '狂', '欢', '狂', '欢', '<EOS>', '7', '沉']\n",
      "['<SOS>', '别', '让', '我', '再', '昏', '昏', '沉', '沉', '没', '喝', '多', '就', '像', '断', '片', '<EOS>']\n",
      "['<SOS>', '<PAD>', '<PAD>', '<PAD>', '<PAD>', '<PAD>', '<PAD>', '沉', '<PAD>', '<PAD>', '<PAD>', '<PAD>', '<PAD>', '<PAD>', '<PAD>', '<PAD>', '<EOS>'] \n",
      "\n",
      "['<SOS>', '就', '在', '这', '一', '分', '秒', '<EOS>', '1', '再', '<PAD>', '<PAD>', '<PAD>', '<PAD>', '<PAD>', '<PAD>', '<PAD>', '<PAD>']\n",
      "['<SOS>', '再', '策', '动', '<EOS>', '<PAD>', '<PAD>', '<PAD>', '<PAD>', '<PAD>', '<PAD>', '<PAD>', '<PAD>', '<PAD>', '<PAD>', '<PAD>', '<PAD>']\n",
      "['<SOS>', '再', '<PAD>', '<PAD>', '<EOS>', '<PAD>', '<PAD>', '<PAD>', '<PAD>', '<PAD>', '<PAD>', '<PAD>', '<PAD>', '<PAD>', '<PAD>', '<PAD>', '<PAD>'] \n",
      "\n",
      "['<SOS>', '等', '待', '某', '一', '天', '血', '水', '化', '作', '花', '香', '<EOS>', '2', '气', '<PAD>', '<PAD>', '<PAD>']\n",
      "['<SOS>', '香', '气', '包', '覆', '着', '阳', '光', '高', '昂', '<EOS>', '<PAD>', '<PAD>', '<PAD>', '<PAD>', '<PAD>', '<PAD>']\n",
      "['<SOS>', '<PAD>', '气', '<PAD>', '<PAD>', '<PAD>', '<PAD>', '<PAD>', '<PAD>', '<PAD>', '<EOS>', '<PAD>', '<PAD>', '<PAD>', '<PAD>', '<PAD>', '<PAD>'] \n",
      "\n"
     ]
    }
   ],
   "source": [
    "# For Validate~~~~\n",
    "\n",
    "dataset = SentDataset(train_set)\n",
    "dataloader = DataLoader(dataset=dataset,\n",
    "                        batch_size=4,\n",
    "                        shuffle=True,\n",
    "                        collate_fn=dataset.collate_fn,\n",
    "                        num_workers=0)\n",
    "for x,x_len,y,y_len,y_ in dataloader:\n",
    "    print('Sentence lenght:',x_len,y_len,'\\n')\n",
    "    \n",
    "    for xi,yi,y_i in zip(x,y,y_):      \n",
    "        \n",
    "        print(embedder.unTokenize(xi))\n",
    "        print(embedder.unTokenize(yi))\n",
    "        print(embedder.unTokenize(y_i),'\\n')\n",
    "    \n",
    "    break\n"
   ]
  },
  {
   "cell_type": "code",
   "execution_count": 11,
   "metadata": {},
   "outputs": [],
   "source": [
    "from torch.nn.utils.rnn import  pack_padded_sequence, pad_packed_sequence\n",
    "\n",
    "class Encoder(nn.Module):\n",
    "\n",
    "    def __init__(self, vocab_size, embedding_size, output_size):\n",
    "        \n",
    "        super(Encoder, self).__init__()\n",
    "\n",
    "        self.vocab_size = vocab_size\n",
    "        self.embedding = nn.Embedding(vocab_size,embedder.get_dim())\n",
    "        self.embedding.weight = nn.Parameter(embedder.vectors)\n",
    "        self.gru = nn.GRU(embedding_size, output_size,batch_first=True, bias=False) \n",
    "\n",
    "    def forward(self, input_seqs, input_lengths, hidden=None):\n",
    "        \n",
    "        # Sort mini-batch by input_lengths\n",
    "        sorted_input_lengths, indices = torch.sort(input_lengths,descending=True)\n",
    "        _, desorted_indices = torch.sort(indices, descending=False)\n",
    "        input_seqs = input_seqs[indices]\n",
    "        \n",
    "        # Encoder work\n",
    "        embedded = self.embedding(input_seqs)\n",
    "        packed = pack_padded_sequence(embedded, sorted_input_lengths.cpu().numpy(), batch_first=True)\n",
    "        packed_outputs, hidden = self.gru(packed, hidden)\n",
    "        outputs, output_lengths = pad_packed_sequence(packed_outputs,batch_first=True)\n",
    "        \n",
    "        # Desort mini-batch\n",
    "        outputs = outputs[desorted_indices]\n",
    "        hidden = hidden[:,desorted_indices]\n",
    "        \n",
    "        return outputs, hidden"
   ]
  },
  {
   "cell_type": "code",
   "execution_count": 12,
   "metadata": {},
   "outputs": [],
   "source": [
    "class Decoder(nn.Module):\n",
    "\n",
    "    def __init__(self, hidden_size, output_size, teacher_forcing_ratio=0.5):\n",
    "        super(Decoder, self).__init__()\n",
    "\n",
    "        self.hidden_size = hidden_size\n",
    "        self.output_size = output_size\n",
    "        self.embedding = nn.Embedding(embedder.get_vocabulary_size(),embedder.get_dim()) # Unused\n",
    "        self.embedding.weight = nn.Parameter(embedder.vectors)\n",
    "        self.cell = nn.GRUCell(embedder.get_dim(), hidden_size, bias=False)\n",
    "        self.clf = nn.Linear(hidden_size, output_size, bias=False)\n",
    "        \n",
    "        if hidden_size == embedder.vectors.T.shape[0]:\n",
    "            self.clf.weight = nn.Parameter(embedder.vectors)\n",
    "\n",
    "        self.log_softmax = nn.LogSoftmax(dim=1)  # work with NLLLoss\n",
    "\n",
    "        self.teacher_forcing_ratio = teacher_forcing_ratio\n",
    "\n",
    "    def forward_step(self, inputs, hidden):\n",
    "        \n",
    "        # Unused\n",
    "        embedded = self.embedding(inputs)\n",
    "        # For research : all x to 0\n",
    "        embedded = torch.zeros_like(embedded)\n",
    "        \n",
    "        hidden = self.cell(embedded, hidden) # [B,Hidden_dim]\n",
    "        clf_output = self.clf(hidden) # [B,Output_dim]\n",
    "        output = self.log_softmax(clf_output)\n",
    "\n",
    "        return output, hidden\n",
    "\n",
    "    def forward(self, context_vector, target_vars, target_lengths):\n",
    "\n",
    "        batch_size = context_vector.shape[1]\n",
    "        \n",
    "        decoder_input = torch.LongTensor([SOS] * batch_size).to(device)\n",
    "        decoder_hidden = context_vector.squeeze(0)\n",
    "\n",
    "        if target_lengths is None:\n",
    "            max_target_length = 50\n",
    "        else:\n",
    "            max_target_length = max(target_lengths)\n",
    "        decoder_outputs = []\n",
    "        decoder_hiddens = []\n",
    "\n",
    "        use_teacher_forcing = True if random.random() < self.teacher_forcing_ratio else False\n",
    "        \n",
    "        for t in range(max_target_length):    \n",
    "            \n",
    "            decoder_outputs_on_t, decoder_hidden = self.forward_step(decoder_input, decoder_hidden)\n",
    "            decoder_outputs.append(decoder_outputs_on_t)\n",
    "            decoder_hiddens.append(decoder_hidden)\n",
    "            \n",
    "            # Take input for next GRU iteration\n",
    "            if use_teacher_forcing :\n",
    "                decoder_input = target_vars[:,t]\n",
    "            else:\n",
    "                decoder_input = decoder_outputs_on_t.argmax(-1)\n",
    "            \n",
    "            # Early Stop when all predict <EOS> \n",
    "            if torch.all(decoder_input==EOS) and target_lengths is None and self.train() == False:\n",
    "                break\n",
    "            \n",
    "        # Stack output of each word at dimension 2\n",
    "        decoder_outputs = torch.stack(decoder_outputs,dim=2)\n",
    "        # Stack hidden of each timestep at dimension 1\n",
    "        decoder_hiddens = torch.stack(decoder_hiddens,dim=1)\n",
    "        \n",
    "        return decoder_outputs, decoder_hiddens"
   ]
  },
  {
   "cell_type": "code",
   "execution_count": 13,
   "metadata": {},
   "outputs": [],
   "source": [
    "class Seq2Seq(nn.Module):\n",
    "    def __init__(self,encoder,decoder):\n",
    "        super(Seq2Seq, self).__init__()\n",
    "        self.encoder = encoder\n",
    "        self.decoder = decoder\n",
    "    \n",
    "    def forward(self, input_seqs, input_lengths, target_seqs=None, target_lengths=None):\n",
    "        outputs, hidden = encoder(input_seqs, input_lengths)\n",
    "        outputs, hiddens = decoder(hidden, target_seqs, target_lengths)\n",
    "        return outputs,hiddens"
   ]
  },
  {
   "cell_type": "code",
   "execution_count": 14,
   "metadata": {},
   "outputs": [
    {
     "data": {
      "text/plain": [
       "Seq2Seq(\n",
       "  (encoder): Encoder(\n",
       "    (embedding): Embedding(6618, 300)\n",
       "    (gru): GRU(300, 128, bias=False, batch_first=True)\n",
       "  )\n",
       "  (decoder): Decoder(\n",
       "    (embedding): Embedding(6618, 300)\n",
       "    (cell): GRUCell(300, 128, bias=False)\n",
       "    (clf): Linear(in_features=128, out_features=6618, bias=False)\n",
       "    (log_softmax): LogSoftmax()\n",
       "  )\n",
       ")"
      ]
     },
     "execution_count": 14,
     "metadata": {},
     "output_type": "execute_result"
    }
   ],
   "source": [
    "from torch.utils.data import DataLoader\n",
    "from tqdm import tqdm_notebook as tqdm\n",
    "\n",
    "device = torch.device('cuda' if torch.cuda.is_available() else 'cpu')\n",
    "\n",
    "context_dim = 128\n",
    "\n",
    "encoder = Encoder(embedder.get_vocabulary_size(),embedder.get_dim(),output_size=context_dim)\n",
    "decoder = Decoder(context_dim,embedder.get_vocabulary_size(),0.5)\n",
    "model = Seq2Seq(encoder,decoder)\n",
    "model.to(device)"
   ]
  },
  {
   "cell_type": "markdown",
   "metadata": {},
   "source": [
    "# Training ( Dont run when analysing )"
   ]
  },
  {
   "cell_type": "code",
   "execution_count": 15,
   "metadata": {},
   "outputs": [
    {
     "data": {
      "text/plain": [
       "\"\\ndef run_epoch(epoch,dataset,isTraining):\\n    \\n    if isTraining:\\n        model.train()\\n    else:\\n        model.eval()\\n        \\n    dataloader = DataLoader(dataset=dataset,\\n                            batch_size=32,\\n                            shuffle=True,\\n                            collate_fn=dataset.collate_fn,\\n                            num_workers=0)\\n    \\n    if isTraining:\\n        desc='Train {}'\\n    else:\\n        desc='Valid {}'\\n    \\n    trange = tqdm(enumerate(dataloader), total=len(dataloader),desc=desc.format(epoch))\\n    \\n    loss=0\\n    acc = 0\\n    \\n    for i,(x,x_len,y,y_len,y_) in trange:\\n        \\n        x = x.to(device)\\n        y = y.to(device)\\n        y_ = y_.to(device)\\n        \\n        # outputs : [b,emb,s] , hiddens : [b,s,hidden]\\n        outputs,hiddens = model(x,x_len,y,y_len)\\n        \\n        idx = y_>2\\n        tf_map = y_[idx] == outputs.argmax(1)[idx]\\n        batch_acc = tf_map.sum().cpu().float().numpy()/len(tf_map)\\n        acc += batch_acc\\n        \\n        batch_loss_all = criterion(outputs, y)\\n        batch_loss_designated = criterion(outputs, y_)\\n        batch_loss = (1-focus_ratio)*batch_loss_all + focus_ratio*batch_loss_designated\\n        \\n        if isTraining:\\n            optimizer.zero_grad()\\n            batch_loss.backward()\\n            optimizer.step()\\n        \\n        loss += batch_loss.item()\\n        \\n        trange.set_postfix({'loss':loss/(i+1),'accuracy':acc/(i+1)})\\n        \\n        if isTraining:\\n            history_loss['train'].append(batch_loss.item())\\n            history_acc['train'].append(batch_acc)\\n        else:\\n            history_loss['valid'].append(batch_loss.item())\\n            history_acc['valid'].append(batch_acc)\\n            \""
      ]
     },
     "execution_count": 15,
     "metadata": {},
     "output_type": "execute_result"
    }
   ],
   "source": [
    "'''\n",
    "def run_epoch(epoch,dataset,isTraining):\n",
    "    \n",
    "    if isTraining:\n",
    "        model.train()\n",
    "    else:\n",
    "        model.eval()\n",
    "        \n",
    "    dataloader = DataLoader(dataset=dataset,\n",
    "                            batch_size=32,\n",
    "                            shuffle=True,\n",
    "                            collate_fn=dataset.collate_fn,\n",
    "                            num_workers=0)\n",
    "    \n",
    "    if isTraining:\n",
    "        desc='Train {}'\n",
    "    else:\n",
    "        desc='Valid {}'\n",
    "    \n",
    "    trange = tqdm(enumerate(dataloader), total=len(dataloader),desc=desc.format(epoch))\n",
    "    \n",
    "    loss=0\n",
    "    acc = 0\n",
    "    \n",
    "    for i,(x,x_len,y,y_len,y_) in trange:\n",
    "        \n",
    "        x = x.to(device)\n",
    "        y = y.to(device)\n",
    "        y_ = y_.to(device)\n",
    "        \n",
    "        # outputs : [b,emb,s] , hiddens : [b,s,hidden]\n",
    "        outputs,hiddens = model(x,x_len,y,y_len)\n",
    "        \n",
    "        idx = y_>2\n",
    "        tf_map = y_[idx] == outputs.argmax(1)[idx]\n",
    "        batch_acc = tf_map.sum().cpu().float().numpy()/len(tf_map)\n",
    "        acc += batch_acc\n",
    "        \n",
    "        batch_loss_all = criterion(outputs, y)\n",
    "        batch_loss_designated = criterion(outputs, y_)\n",
    "        batch_loss = (1-focus_ratio)*batch_loss_all + focus_ratio*batch_loss_designated\n",
    "        \n",
    "        if isTraining:\n",
    "            optimizer.zero_grad()\n",
    "            batch_loss.backward()\n",
    "            optimizer.step()\n",
    "        \n",
    "        loss += batch_loss.item()\n",
    "        \n",
    "        trange.set_postfix({'loss':loss/(i+1),'accuracy':acc/(i+1)})\n",
    "        \n",
    "        if isTraining:\n",
    "            history_loss['train'].append(batch_loss.item())\n",
    "            history_acc['train'].append(batch_acc)\n",
    "        else:\n",
    "            history_loss['valid'].append(batch_loss.item())\n",
    "            history_acc['valid'].append(batch_acc)\n",
    "            '''"
   ]
  },
  {
   "cell_type": "code",
   "execution_count": 16,
   "metadata": {},
   "outputs": [
    {
     "data": {
      "text/plain": [
       "\"\\n\\n\\ndataset_all = SentDataset(all_set)\\ndataset_train = SentDataset(train_set)\\ndataset_valid = SentDataset(valid_set)\\n\\ncriterion = torch.nn.NLLLoss(ignore_index=PAD, size_average=True)\\noptimizer = torch.optim.Adam(model.parameters(), lr=1e-3)\\nmax_epoch = 20\\nfocus_ratio = 0.5\\n\\nhistory_loss = {'train':[],'valid':[]}\\nhistory_acc = {'train':[],'valid':[]}\\n\\n\\nfor epoch in range(max_epoch):\\n    \\n    # Training\\n    run_epoch(epoch,dataset=dataset_train,isTraining=True)\\n    \\n    # Validation\\n    run_epoch(epoch,dataset=dataset_valid,isTraining=False)\\n    \\n    # Saving\\n    if not os.path.exists('model'):\\n        os.makedirs('model')\\n    torch.save(model.state_dict(), 'model/model.pkl.{}'.format(epoch))\\n    \""
      ]
     },
     "execution_count": 16,
     "metadata": {},
     "output_type": "execute_result"
    }
   ],
   "source": [
    "# Training\n",
    "\n",
    "'''\n",
    "\n",
    "\n",
    "dataset_all = SentDataset(all_set)\n",
    "dataset_train = SentDataset(train_set)\n",
    "dataset_valid = SentDataset(valid_set)\n",
    "\n",
    "criterion = torch.nn.NLLLoss(ignore_index=PAD, size_average=True)\n",
    "optimizer = torch.optim.Adam(model.parameters(), lr=1e-3)\n",
    "max_epoch = 20\n",
    "focus_ratio = 0.5\n",
    "\n",
    "history_loss = {'train':[],'valid':[]}\n",
    "history_acc = {'train':[],'valid':[]}\n",
    "\n",
    "\n",
    "for epoch in range(max_epoch):\n",
    "    \n",
    "    # Training\n",
    "    run_epoch(epoch,dataset=dataset_train,isTraining=True)\n",
    "    \n",
    "    # Validation\n",
    "    run_epoch(epoch,dataset=dataset_valid,isTraining=False)\n",
    "    \n",
    "    # Saving\n",
    "    if not os.path.exists('model'):\n",
    "        os.makedirs('model')\n",
    "    torch.save(model.state_dict(), 'model/model.pkl.{}'.format(epoch))\n",
    "    '''"
   ]
  },
  {
   "cell_type": "markdown",
   "metadata": {},
   "source": [
    "# Plot (Loss and acc)  ( Dont run when analysis )"
   ]
  },
  {
   "cell_type": "code",
   "execution_count": 17,
   "metadata": {},
   "outputs": [
    {
     "data": {
      "text/plain": [
       "\"\\nimport matplotlib.pyplot as plt\\n\\nmodes = ['train', 'valid']\\nrecs = [history_loss, history_acc]\\nnames = ['Loss', 'Accuracy']\\n\\nvalues = []\\nfor mode in modes:\\n    v = []\\n    for rec in recs:\\n        v.append(rec[mode])\\n    values.append(v)\\n\\nplt.figure(figsize=(32, 4))\\nplt.subplots_adjust(left=0.02, right=0.999)\\nfor r, name in enumerate(names):\\n    plt.subplot(1, len(recs), r+1)\\n    for m in range(len(modes)):\\n        plt.plot(values[m][r])\\n    plt.title(name)\\n    plt.legend(modes)\\n    plt.xlabel('iteration')\\n    plt.show()\\n#plt.savefig('figure.png', dpi=100)\\n\""
      ]
     },
     "execution_count": 17,
     "metadata": {},
     "output_type": "execute_result"
    }
   ],
   "source": [
    "'''\n",
    "import matplotlib.pyplot as plt\n",
    "\n",
    "modes = ['train', 'valid']\n",
    "recs = [history_loss, history_acc]\n",
    "names = ['Loss', 'Accuracy']\n",
    "\n",
    "values = []\n",
    "for mode in modes:\n",
    "    v = []\n",
    "    for rec in recs:\n",
    "        v.append(rec[mode])\n",
    "    values.append(v)\n",
    "\n",
    "plt.figure(figsize=(32, 4))\n",
    "plt.subplots_adjust(left=0.02, right=0.999)\n",
    "for r, name in enumerate(names):\n",
    "    plt.subplot(1, len(recs), r+1)\n",
    "    for m in range(len(modes)):\n",
    "        plt.plot(values[m][r])\n",
    "    plt.title(name)\n",
    "    plt.legend(modes)\n",
    "    plt.xlabel('iteration')\n",
    "    plt.show()\n",
    "#plt.savefig('figure.png', dpi=100)\n",
    "'''"
   ]
  },
  {
   "cell_type": "markdown",
   "metadata": {},
   "source": [
    "# Inference Test Data\n",
    "### Define test data dataloader"
   ]
  },
  {
   "cell_type": "code",
   "execution_count": 18,
   "metadata": {},
   "outputs": [],
   "source": [
    "class TestDataset(Dataset):\n",
    "    def __init__(self, data):\n",
    "        self.data = data\n",
    "        \n",
    "    def __len__(self):\n",
    "        return len(self.data)\n",
    "\n",
    "    def __getitem__(self, index):\n",
    "        return self.data[index]\n",
    "        \n",
    "    def collate_fn(self, datas):\n",
    "        max_data_len = max([len(data) for data in datas])\n",
    "        batch_x = []\n",
    "        len_x = []\n",
    "        \n",
    "        for data in datas:\n",
    "            len_x.append(len(data))\n",
    "            pad_data = [embedder.to_index(w) for w in data]\n",
    "            if len(data) < max_data_len:\n",
    "                pad_data.extend([PAD] * (max_data_len-len(data)))\n",
    "            batch_x.append(pad_data)\n",
    "\n",
    "        return torch.LongTensor(batch_x), torch.LongTensor(len_x)"
   ]
  },
  {
   "cell_type": "markdown",
   "metadata": {},
   "source": [
    "## Load pre-trained model"
   ]
  },
  {
   "cell_type": "code",
   "execution_count": 19,
   "metadata": {},
   "outputs": [
    {
     "data": {
      "text/plain": [
       "Seq2Seq(\n",
       "  (encoder): Encoder(\n",
       "    (embedding): Embedding(6618, 300)\n",
       "    (gru): GRU(300, 128, bias=False, batch_first=True)\n",
       "  )\n",
       "  (decoder): Decoder(\n",
       "    (embedding): Embedding(6618, 300)\n",
       "    (cell): GRUCell(300, 128, bias=False)\n",
       "    (clf): Linear(in_features=128, out_features=6618, bias=False)\n",
       "    (log_softmax): LogSoftmax()\n",
       "  )\n",
       ")"
      ]
     },
     "execution_count": 19,
     "metadata": {},
     "output_type": "execute_result"
    }
   ],
   "source": [
    "path_pkl = 'pre-train/model.pkl.2-1-1'\n",
    "model.load_state_dict(torch.load(path_pkl))\n",
    "model.decoder.teacher_forcing_ratio = 0.0\n",
    "model.eval()"
   ]
  },
  {
   "cell_type": "markdown",
   "metadata": {},
   "source": [
    "## Generate certain condition valid datas ( by designated word / position filter )"
   ]
  },
  {
   "cell_type": "code",
   "execution_count": 20,
   "metadata": {
    "scrolled": true
   },
   "outputs": [
    {
     "name": "stdout",
     "output_type": "stream",
     "text": [
      "['<SOS>', '酒', '干', '倘', '卖', '无', '酒', '干', '倘', '<EOS>', '3', '勇']\n",
      "['<SOS>', '算', '了', '吧', '都', '已', '经', '到', '此', '<EOS>', '5', '勇']\n",
      "['<SOS>', '啦', '啦', '啦', '啦', '啦', '啦', '耶', '拉', '<EOS>', '5', '勇']\n",
      "['<SOS>', '温', '柔', '的', '狗', '狗', '啊', '啊', '啊', '<EOS>', '10', '勇']\n",
      "['<SOS>', '就', '像', '你', '不', '知', '道', '这', '竟', '<EOS>', '4', '勇']\n",
      "['<SOS>', '编', '曲', '薛', '琳', '可', '啊', '啊', '啊', '<EOS>', '2', '勇']\n",
      "['<SOS>', '还', '是', '我', '自', '己', '想', '得', '太', '<EOS>', '4', '勇']\n",
      "['<SOS>', '纵', '情', '在', '一', '霎', '那', '啊', '啊', '<EOS>', '5', '勇']\n",
      "['<SOS>', '反', '正', '爱', '只', '能', '那', '么', '浓', '<EOS>', '9', '勇']\n",
      "['<SOS>', '编', '曲', '小', '皮', '啊', '啊', '啊', '啊', '<EOS>', '8', '勇']\n",
      "['<SOS>', '为', '爱', '情', '在', '努', '力', '啊', '啊', '<EOS>', '3', '勇']\n",
      "['<SOS>', '注', '定', '要', '接', '受', '一', '个', '人', '<EOS>', '4', '勇']\n",
      "['<SOS>', '就', '这', '种', '感', '觉', '真', '的', '不', '<EOS>', '10', '勇']\n",
      "['<SOS>', '想', '你', '想', '你', '想', '你', '想', '你', '<EOS>', '5', '勇']\n",
      "['<SOS>', '虽', '然', '漏', '着', '雨', '啊', '啊', '啊', '<EOS>', '6', '勇']\n",
      "['<SOS>', '弹', '著', '你', '的', '晚', '安', '曲', '啊', '<EOS>', '4', '勇']\n",
      "['<SOS>', '我', '才', '不', '上', '你', '的', '当', '啊', '<EOS>', '6', '勇']\n",
      "['<SOS>', '我', '要', '全', '心', '灌', '溉', '所', '有', '<EOS>', '1', '勇']\n",
      "['<SOS>', '鸟', '儿', '啊', '天', '黑', '了', '啊', '啊', '<EOS>', '10', '勇']\n",
      "['<SOS>', '然', '后', '又', '怎', '样', '啊', '啊', '啊', '<EOS>', '8', '勇']\n",
      "['<SOS>', '这', '一', '场', '秋', '风', '后', '华', '丽', '<EOS>', '3', '勇']\n",
      "['<SOS>', '那', '年', '跟', '着', '你', '走', '过', '好', '<EOS>', '1', '勇']\n",
      "['<SOS>', '谁', '先', '认', '输', '的', '谁', '就', '先', '<EOS>', '5', '勇']\n",
      "['<SOS>', '下', '班', '啊', '啊', '啊', '啊', '啊', '啊', '<EOS>', '9', '勇']\n",
      "['<SOS>', '我', '没', '权', '终', '止', '见', '面', '只', '<EOS>', '8', '勇']\n",
      "['<SOS>', '陈', '红', '啊', '啊', '啊', '啊', '啊', '啊', '<EOS>', '10', '勇']\n",
      "['<SOS>', '茫', '然', '走', '在', '海', '边', '看', '那', '<EOS>', '1', '勇']\n",
      "['<SOS>', '谁', '在', '等', '待', '不', '可', '知', '的', '<EOS>', '4', '勇']\n",
      "['<SOS>', '天', '暗', '了', '灯', '亮', '了', '啊', '啊', '<EOS>', '8', '勇']\n",
      "['<SOS>', '我', '要', '从', '南', '走', '到', '北', '啊', '<EOS>', '5', '勇']\n",
      "['<SOS>', '是', '需', '要', '是', '习', '惯', '是', '无', '<EOS>', '2', '勇']\n",
      "['<SOS>', '有', '钱', '啊', '啊', '啊', '啊', '啊', '啊', '<EOS>', '9', '勇']\n",
      "['<SOS>', '还', '是', '要', '结', '束', '啊', '啊', '啊', '<EOS>', '9', '勇']\n",
      "['<SOS>', '唱', '来', '歌', '声', '俏', '啊', '啊', '啊', '<EOS>', '4', '勇']\n",
      "['<SOS>', '用', '我', '的', '心', '跳', '同', '步', '你', '<EOS>', '8', '勇']\n",
      "['<SOS>', '自', '习', '室', '图', '书', '馆', '啊', '啊', '<EOS>', '5', '勇']\n",
      "['<SOS>', '失', '恋', '啊', '就', '像', '发', '烧', '好', '<EOS>', '3', '勇']\n",
      "['<SOS>', '她', '先', '后', '谈', '了', '几', '个', '对', '<EOS>', '6', '勇']\n",
      "['<SOS>', '伟', '能', '流', '连', '忘', '返', '总', '是', '<EOS>', '8', '勇']\n",
      "['<SOS>', '望', '着', '窗', '外', '的', '上', '弦', '月', '<EOS>', '8', '勇']\n",
      "['<SOS>', '真', '相', '也', '从', '不', '对', '谁', '宽', '<EOS>', '8', '勇']\n",
      "['<SOS>', '那', '故', '乡', '的', '风', '和', '故', '乡', '<EOS>', '4', '勇']\n",
      "['<SOS>', '理', '想', '邦', '我', '愿', '靠', '我', '双', '<EOS>', '8', '勇']\n",
      "['<SOS>', '终', '于', '你', '变', '成', '了', '最', '好', '<EOS>', '9', '勇']\n",
      "['<SOS>', '如', '果', '你', '生', '命', '中', '的', '基', '<EOS>', '1', '勇']\n",
      "['<SOS>', '燃', '烧', '所', '有', '羞', '涩', '感', '伤', '<EOS>', '8', '勇']\n",
      "['<SOS>', '爱', '就', '是', '有', '我', '常', '烦', '着', '<EOS>', '2', '勇']\n",
      "['<SOS>', '银', '色', '发', '箍', '金', '色', '厨', '具', '<EOS>', '9', '勇']\n",
      "['<SOS>', '万', '年', '后', '对', '对', '啊', '啊', '啊', '<EOS>', '1', '勇']\n",
      "['<SOS>', '不', '烦', '我', '不', '烦', '啊', '啊', '啊', '<EOS>', '1', '勇']\n",
      "['<SOS>', '啊', '啊', '啊', '啊', '啊', '啊', '啊', '啊', '<EOS>', '1', '勇']\n",
      "['<SOS>', '不', '需', '言', '传', '啊', '啊', '啊', '啊', '<EOS>', '1', '勇']\n",
      "['<SOS>', '的', '一', '位', '编', '辑', '啊', '啊', '啊', '<EOS>', '3', '勇']\n",
      "['<SOS>', '等', '待', '的', '时', '候', '也', '要', '随', '<EOS>', '4', '勇']\n",
      "['<SOS>', '别', '害', '怕', '我', '总', '是', '对', '着', '<EOS>', '2', '勇']\n",
      "['<SOS>', '我', '的', '梦', '从', '此', '已', '经', '不', '<EOS>', '7', '勇']\n",
      "['<SOS>', '你', '到', '底', '是', '谁', '的', '啊', '啊', '<EOS>', '5', '勇']\n",
      "['<SOS>', '等', '待', '我', '们', '的', '不', '是', '幸', '<EOS>', '6', '勇']\n",
      "['<SOS>', '毛', '主', '席', '教', '导', '记', '心', '间', '<EOS>', '7', '勇']\n",
      "['<SOS>', '是', '否', '泪', '水', '已', '干', '不', '再', '<EOS>', '5', '勇']\n",
      "['<SOS>', '轻', '轻', '洒', '落', '到', '大', '地', '沙', '<EOS>', '5', '勇']\n",
      "['<SOS>', '幽', '幽', '眼', '神', '似', '比', '火', '海', '<EOS>', '4', '勇']\n",
      "['<SOS>', '混', '音', '室', '啊', '啊', '啊', '啊', '啊', '<EOS>', '7', '勇']\n",
      "['<SOS>', '我', '忠', '诚', '的', '爱', '人', '和', '朋', '<EOS>', '6', '勇']\n",
      "['<SOS>', '叫', '我', '如', '何', '不', '心', '慌', '啊', '<EOS>', '6', '勇']\n",
      "['<SOS>', '凝', '望', '地', '上', '我', '的', '泪', '湿', '<EOS>', '6', '勇']\n",
      "['<SOS>', '男', '无', '一', '可', '比', '你', '女', '一', '<EOS>', '3', '勇']\n",
      "['<SOS>', '她', '摆', '了', '我', '偷', '送', '的', '花', '<EOS>', '10', '勇']\n",
      "['<SOS>', '友', '听', '毕', '啊', '啊', '啊', '啊', '啊', '<EOS>', '1', '勇']\n",
      "['<SOS>', '神', '态', '不', '浮', '躁', '啊', '啊', '啊', '<EOS>', '3', '勇']\n",
      "['<SOS>', '让', '所', '有', '很', '久', '很', '久', '以', '<EOS>', '5', '勇']\n",
      "['<SOS>', '相', '聚', '在', '很', '多', '年', '以', '后', '<EOS>', '3', '勇']\n",
      "['<SOS>', '吻', '我', '至', '凄', '冷', '的', '深', '宵', '<EOS>', '9', '勇']\n",
      "['<SOS>', '而', '回', '忆', '越', '是', '甜', '就', '是', '<EOS>', '10', '勇']\n",
      "['<SOS>', '从', '教', '堂', '回', '来', '的', '路', '上', '<EOS>', '4', '勇']\n",
      "['<SOS>', '送', '你', '送', '到', '小', '村', '外', '啊', '<EOS>', '7', '勇']\n",
      "['<SOS>', '愿', '来', '生', '还', '能', '再', '度', '拥', '<EOS>', '8', '勇']\n",
      "['<SOS>', '刀', '剑', '依', '旧', '在', '吟', '唱', '啊', '<EOS>', '7', '勇']\n",
      "['<SOS>', '那', '句', '话', '一', '直', '藏', '在', '心', '<EOS>', '4', '勇']\n",
      "['<SOS>', '有', '人', '在', '雪', '地', '里', '燃', '起', '<EOS>', '10', '勇']\n",
      "['<SOS>', '我', '曾', '经', '遇', '见', '你', '啊', '啊', '<EOS>', '8', '勇']\n",
      "['<SOS>', '我', '正', '发', '觉', '我', '有', '生', '命', '<EOS>', '1', '勇']\n",
      "['<SOS>', '反', '正', '她', '都', '不', '难', '受', '她', '<EOS>', '10', '勇']\n",
      "['<SOS>', '不', '过', '要', '坚', '守', '绝', '不', '可', '<EOS>', '9', '勇']\n",
      "['<SOS>', '一', '道', '道', '山', '啊', '啊', '啊', '啊', '<EOS>', '2', '勇']\n",
      "['<SOS>', '一', '首', '为', '爱', '为', '你', '唱', '的', '<EOS>', '1', '勇']\n",
      "['<SOS>', '天', '花', '板', '不', '只', '盯', '了', '多', '<EOS>', '10', '勇']\n",
      "['<SOS>', '拈', '花', '的', '笑', '啊', '啊', '啊', '啊', '<EOS>', '7', '勇']\n",
      "['<SOS>', '想', '若', '结', '局', '一', '样', '啊', '啊', '<EOS>', '5', '勇']\n",
      "['<SOS>', '日', '夜', '提', '醒', '我', '幸', '福', '的', '<EOS>', '4', '勇']\n",
      "['<SOS>', '就', '是', '矛', '盾', '龃', '龉', '也', '在', '<EOS>', '10', '勇']\n",
      "['<SOS>', '人', '海', '中', '就', '我', '一', '人', '挂', '<EOS>', '8', '勇']\n",
      "['<SOS>', '心', '里', '有', '一', '首', '歌', '啊', '啊', '<EOS>', '2', '勇']\n",
      "['<SOS>', '等', '你', '怒', '放', '替', '他', '传', '达', '<EOS>', '5', '勇']\n",
      "['<SOS>', '是', '你', '转', '世', '而', '来', '的', '魂', '<EOS>', '5', '勇']\n",
      "['<SOS>', '我', '曾', '爱', '过', '一', '个', '男', '孩', '<EOS>', '4', '勇']\n",
      "['<SOS>', '你', '会', '流', '泪', '啊', '啊', '啊', '啊', '<EOS>', '2', '勇']\n",
      "['<SOS>', '寂', '寞', '的', '围', '堵', '我', '可', '以', '<EOS>', '6', '勇']\n",
      "['<SOS>', '管', '他', '是', '对', '是', '错', '是', '人', '<EOS>', '10', '勇']\n",
      "['<SOS>', '从', '大', '阪', '出', '发', '啊', '啊', '啊', '<EOS>', '5', '勇']\n"
     ]
    }
   ],
   "source": [
    "certain_set = []\n",
    "\n",
    "designated_POS = 6\n",
    "designated_word = '勇'\n",
    "\n",
    "for i,sent in enumerate(random.sample(corpus, k=100)):\n",
    "\n",
    "    if len(sent) > 8:\n",
    "        sent = sent[:8]\n",
    "    else:\n",
    "        sent = sent + ['啊']*(8-len(sent))\n",
    "        \n",
    "    designated_POS = random.randint(a=1,b=10)\n",
    "    \n",
    "    control_signal = [str(designated_POS) , designated_word]\n",
    "    \n",
    "    data = ['<SOS>'] + sent + ['<EOS>'] + control_signal\n",
    "    \n",
    "    print(data)\n",
    "    \n",
    "    certain_set.append(data)\n",
    "    \n",
    "dataset_certain = TestDataset(certain_set)"
   ]
  },
  {
   "cell_type": "markdown",
   "metadata": {},
   "source": [
    "# Control"
   ]
  },
  {
   "cell_type": "code",
   "execution_count": 21,
   "metadata": {},
   "outputs": [],
   "source": [
    "pos_control_cell = [59,90,91,33,110,117,71,82,24,36,21,39,73,119,97,98]"
   ]
  },
  {
   "cell_type": "code",
   "execution_count": 22,
   "metadata": {},
   "outputs": [],
   "source": [
    "global context_spos_set\n",
    "\n",
    "context_spos_set = [None] * 11\n",
    "\n",
    "for spos in range(1,11):\n",
    "\n",
    "    context_spos = ['<SOS>', '让', '我', '拥', '有', '了', '恬', '静', '的', '<EOS>', str(spos), '静']\n",
    "    len_context = torch.LongTensor([len(context_spos)])\n",
    "    context_spos = [embedder.to_index(w) for w in context_spos]\n",
    "    context_spos = torch.LongTensor([context_spos]).to(device)\n",
    "    context_spos = model.encoder(context_spos,len_context)[1].squeeze()\n",
    "    \n",
    "    context_spos_set[spos] = context_spos"
   ]
  },
  {
   "cell_type": "code",
   "execution_count": 23,
   "metadata": {},
   "outputs": [],
   "source": [
    "import torch.nn.functional as F\n",
    "\n",
    "def Deconstruction(model,x,x_len,special_cells=[],spos=5):\n",
    "    \n",
    "    # Encoder \n",
    "    encoder_hiddens, context = model.encoder(x,x_len)\n",
    "    \n",
    "    \n",
    "    for c in special_cells:\n",
    "        context[0,:,c] = context_spos_set[spos][c]\n",
    "        encoder_hiddens[:,-1,c] = context_spos_set[spos][c]\n",
    "    \n",
    "    # Decoder\n",
    "    decoder_hidden = context.squeeze(0)\n",
    "    \n",
    "    # Collection signal\n",
    "    decoder_outputs = []\n",
    "    decoder_hiddens = []\n",
    "    decoder_resetGates = []\n",
    "    decoder_updateGates = []\n",
    "    decoder_newGates = []\n",
    "    \n",
    "    while True:\n",
    "        \n",
    "        # GRU Cell\n",
    "        gru = model.decoder.cell\n",
    "        \n",
    "        U_h = F.linear(decoder_hidden, gru.weight_hh)\n",
    "        Ur_h, Uz_h, Un_h = U_h.chunk(3, 1)\n",
    "        reset_gate = torch.sigmoid(Ur_h)\n",
    "        update_gate = torch.sigmoid(Uz_h)\n",
    "        new_gate = torch.tanh(reset_gate * Un_h)\n",
    "        decoder_hidden = new_gate + update_gate * (decoder_hidden - new_gate)\n",
    "        \n",
    "        # Classifier\n",
    "        clf_output = model.decoder.clf(decoder_hidden)\n",
    "        decoder_output = model.decoder.log_softmax(clf_output)\n",
    "        \n",
    "        decoder_resetGates.append(reset_gate)\n",
    "        decoder_updateGates.append(update_gate)\n",
    "        decoder_newGates.append(new_gate)\n",
    "        decoder_outputs.append(decoder_output)            \n",
    "        decoder_hiddens.append(decoder_hidden)\n",
    "                                                   \n",
    "        if torch.all(decoder_output.argmax(-1)==EOS) == True:\n",
    "            break\n",
    "            \n",
    "    outputs = torch.stack(decoder_outputs,dim=2)             # (b,6xxx,s)\n",
    "    \n",
    "    gru_info = {\n",
    "        'hiddens':torch.stack(decoder_hiddens,dim=2),             # (b,128,s)\n",
    "        'resetgates':torch.stack(decoder_resetGates,dim=2),       # (b,128,s)\n",
    "        'updategates':torch.stack(decoder_updateGates,dim=2),     # (b,128,s)\n",
    "        'newgates':torch.stack(decoder_newGates,dim=2),           # (b,128,s)\n",
    "        'encoder_hiddens' : encoder_hiddens.permute(0,2,1),       # (b,128,s)\n",
    "        'context' : context.squeeze(0)                            # (b,128)\n",
    "    }\n",
    "    \n",
    "    return outputs, gru_info"
   ]
  },
  {
   "cell_type": "markdown",
   "metadata": {},
   "source": [
    "## Prediction certain condition data"
   ]
  },
  {
   "cell_type": "code",
   "execution_count": 31,
   "metadata": {},
   "outputs": [
    {
     "data": {
      "application/vnd.jupyter.widget-view+json": {
       "model_id": "9a3a92d9631b4d46a357d2ca36ff0409",
       "version_major": 2,
       "version_minor": 0
      },
      "text/plain": [
       "HBox(children=(IntProgress(value=0, max=1), HTML(value='')))"
      ]
     },
     "metadata": {},
     "output_type": "display_data"
    },
    {
     "name": "stdout",
     "output_type": "stream",
     "text": [
      "\n"
     ]
    }
   ],
   "source": [
    "dataloader = DataLoader(dataset=dataset_certain,\n",
    "                        batch_size=512,\n",
    "                        shuffle=False,\n",
    "                        collate_fn=dataset_certain.collate_fn,\n",
    "                        num_workers=0)\n",
    "\n",
    "predictions = []\n",
    "trange = tqdm(enumerate(dataloader), total=len(dataloader))\n",
    "\n",
    "for i,(x,x_len) in trange:\n",
    "    \n",
    "    x = x.to(device)\n",
    "    \n",
    "    outputs,gru_info = Deconstruction(model,x,x_len)\n",
    "    \n",
    "    for pred in outputs.cpu().detach().numpy().argmax(1):\n",
    "        predictions.append(pred)"
   ]
  },
  {
   "cell_type": "code",
   "execution_count": 32,
   "metadata": {
    "scrolled": true
   },
   "outputs": [
    {
     "name": "stdout",
     "output_type": "stream",
     "text": [
      "1\n",
      "input:\t<SOS>酒干倘卖无酒干倘<EOS>3勇\n",
      "pred:\t<SOS>我要勇敢<EOS>\n",
      "\n",
      "2\n",
      "input:\t<SOS>算了吧都已经到此<EOS>5勇\n",
      "pred:\t<SOS>我不不我勇敢<EOS>\n",
      "\n",
      "3\n",
      "input:\t<SOS>啦啦啦啦啦啦耶拉<EOS>5勇\n",
      "pred:\t<SOS>我我我我勇敢<EOS>\n",
      "\n",
      "4\n",
      "input:\t<SOS>温柔的狗狗啊啊啊<EOS>10勇\n",
      "pred:\t<SOS>我不的的的的的的的勇<EOS>\n",
      "\n",
      "5\n",
      "input:\t<SOS>就像你不知道这竟<EOS>4勇\n",
      "pred:\t<SOS>我不我勇敢<EOS>\n",
      "\n",
      "6\n",
      "input:\t<SOS>编曲薛琳可啊啊啊<EOS>2勇\n",
      "pred:\t<SOS>我勇敢<EOS>\n",
      "\n",
      "7\n",
      "input:\t<SOS>还是我自己想得太<EOS>4勇\n",
      "pred:\t<SOS>我不我勇敢<EOS>\n",
      "\n",
      "8\n",
      "input:\t<SOS>纵情在一霎那啊啊<EOS>5勇\n",
      "pred:\t<SOS>我不的的勇敢<EOS>\n",
      "\n",
      "9\n",
      "input:\t<SOS>反正爱只能那么浓<EOS>9勇\n",
      "pred:\t<SOS>我不我不不不的的勇<EOS>\n",
      "\n",
      "10\n",
      "input:\t<SOS>编曲小皮啊啊啊啊<EOS>8勇\n",
      "pred:\t<SOS>我是的的的的的勇<EOS>\n",
      "\n",
      "1\n",
      "input:\t<SOS>为爱情在努力啊啊<EOS>3勇\n",
      "pred:\t<SOS>我有勇敢<EOS>\n",
      "\n",
      "2\n",
      "input:\t<SOS>注定要接受一个人<EOS>4勇\n",
      "pred:\t<SOS>我不有勇敢<EOS>\n",
      "\n",
      "3\n",
      "input:\t<SOS>就这种感觉真的不<EOS>10勇\n",
      "pred:\t<SOS>我不的的的不不的的勇<EOS>\n",
      "\n",
      "4\n",
      "input:\t<SOS>想你想你想你想你<EOS>5勇\n",
      "pred:\t<SOS>我不你的勇敢<EOS>\n",
      "\n",
      "5\n",
      "input:\t<SOS>虽然漏着雨啊啊啊<EOS>6勇\n",
      "pred:\t<SOS>我不的的的勇<EOS>\n",
      "\n",
      "6\n",
      "input:\t<SOS>弹著你的晚安曲啊<EOS>4勇\n",
      "pred:\t<SOS>我不的勇敢<EOS>\n",
      "\n",
      "7\n",
      "input:\t<SOS>我才不上你的当啊<EOS>6勇\n",
      "pred:\t<SOS>我不的的的勇<EOS>\n",
      "\n",
      "8\n",
      "input:\t<SOS>我要全心灌溉所有<EOS>1勇\n",
      "pred:\t<SOS>勇敢<EOS>\n",
      "\n",
      "9\n",
      "input:\t<SOS>鸟儿啊天黑了啊啊<EOS>10勇\n",
      "pred:\t<SOS>我的的的的的的的的勇<EOS>\n",
      "\n",
      "10\n",
      "input:\t<SOS>然后又怎样啊啊啊<EOS>8勇\n",
      "pred:\t<SOS>我不的的的的的勇<EOS>\n",
      "\n",
      "1\n",
      "input:\t<SOS>这一场秋风后华丽<EOS>3勇\n",
      "pred:\t<SOS>我有勇敢<EOS>\n",
      "\n",
      "2\n",
      "input:\t<SOS>那年跟着你走过好<EOS>1勇\n",
      "pred:\t<SOS>勇敢<EOS>\n",
      "\n",
      "3\n",
      "input:\t<SOS>谁先认输的谁就先<EOS>5勇\n",
      "pred:\t<SOS>我不不我勇敢<EOS>\n",
      "\n",
      "4\n",
      "input:\t<SOS>下班啊啊啊啊啊啊<EOS>9勇\n",
      "pred:\t<SOS>我是的的的的的的勇<EOS>\n",
      "\n",
      "5\n",
      "input:\t<SOS>我没权终止见面只<EOS>8勇\n",
      "pred:\t<SOS>我不的的不的的勇<EOS>\n",
      "\n",
      "6\n",
      "input:\t<SOS>陈红啊啊啊啊啊啊<EOS>10勇\n",
      "pred:\t<SOS>我不的的的的的的的勇<EOS>\n",
      "\n",
      "7\n",
      "input:\t<SOS>茫然走在海边看那<EOS>1勇\n",
      "pred:\t<SOS>勇敢<EOS>\n",
      "\n",
      "8\n",
      "input:\t<SOS>谁在等待不可知的<EOS>4勇\n",
      "pred:\t<SOS>我不的勇敢<EOS>\n",
      "\n",
      "9\n",
      "input:\t<SOS>天暗了灯亮了啊啊<EOS>8勇\n",
      "pred:\t<SOS>我的的的的的的勇<EOS>\n",
      "\n",
      "10\n",
      "input:\t<SOS>我要从南走到北啊<EOS>5勇\n",
      "pred:\t<SOS>我的的的勇<EOS>\n",
      "\n",
      "1\n",
      "input:\t<SOS>是需要是习惯是无<EOS>2勇\n",
      "pred:\t<SOS>我勇敢<EOS>\n",
      "\n",
      "2\n",
      "input:\t<SOS>有钱啊啊啊啊啊啊<EOS>9勇\n",
      "pred:\t<SOS>我不的的的的的的勇<EOS>\n",
      "\n",
      "3\n",
      "input:\t<SOS>还是要结束啊啊啊<EOS>9勇\n",
      "pred:\t<SOS>我不的的的的的的勇<EOS>\n",
      "\n",
      "4\n",
      "input:\t<SOS>唱来歌声俏啊啊啊<EOS>4勇\n",
      "pred:\t<SOS>我不的勇敢<EOS>\n",
      "\n",
      "5\n",
      "input:\t<SOS>用我的心跳同步你<EOS>8勇\n",
      "pred:\t<SOS>我不的的不的的勇<EOS>\n",
      "\n",
      "6\n",
      "input:\t<SOS>自习室图书馆啊啊<EOS>5勇\n",
      "pred:\t<SOS>我不的的勇<EOS>\n",
      "\n",
      "7\n",
      "input:\t<SOS>失恋啊就像发烧好<EOS>3勇\n",
      "pred:\t<SOS>我有勇敢<EOS>\n",
      "\n",
      "8\n",
      "input:\t<SOS>她先后谈了几个对<EOS>6勇\n",
      "pred:\t<SOS>我不的不的勇敢<EOS>\n",
      "\n",
      "9\n",
      "input:\t<SOS>伟能流连忘返总是<EOS>8勇\n",
      "pred:\t<SOS>我不的的的的的勇<EOS>\n",
      "\n",
      "10\n",
      "input:\t<SOS>望着窗外的上弦月<EOS>8勇\n",
      "pred:\t<SOS>我的的的的的的勇<EOS>\n",
      "\n",
      "1\n",
      "input:\t<SOS>真相也从不对谁宽<EOS>8勇\n",
      "pred:\t<SOS>我不的的不的的勇<EOS>\n",
      "\n",
      "2\n",
      "input:\t<SOS>那故乡的风和故乡<EOS>4勇\n",
      "pred:\t<SOS>我不的勇敢<EOS>\n",
      "\n",
      "3\n",
      "input:\t<SOS>理想邦我愿靠我双<EOS>8勇\n",
      "pred:\t<SOS>我不的的的的的勇<EOS>\n",
      "\n",
      "4\n",
      "input:\t<SOS>终于你变成了最好<EOS>9勇\n",
      "pred:\t<SOS>我不的的不不的的勇<EOS>\n",
      "\n",
      "5\n",
      "input:\t<SOS>如果你生命中的基<EOS>1勇\n",
      "pred:\t<SOS>勇敢<EOS>\n",
      "\n",
      "6\n",
      "input:\t<SOS>燃烧所有羞涩感伤<EOS>8勇\n",
      "pred:\t<SOS>我的的的的的的勇<EOS>\n",
      "\n",
      "7\n",
      "input:\t<SOS>爱就是有我常烦着<EOS>2勇\n",
      "pred:\t<SOS>我勇敢<EOS>\n",
      "\n",
      "8\n",
      "input:\t<SOS>银色发箍金色厨具<EOS>9勇\n",
      "pred:\t<SOS>我是的的的不的的勇<EOS>\n",
      "\n",
      "9\n",
      "input:\t<SOS>万年后对对啊啊啊<EOS>1勇\n",
      "pred:\t<SOS>勇敢<EOS>\n",
      "\n",
      "10\n",
      "input:\t<SOS>不烦我不烦啊啊啊<EOS>1勇\n",
      "pred:\t<SOS>勇敢<EOS>\n",
      "\n",
      "1\n",
      "input:\t<SOS>啊啊啊啊啊啊啊啊<EOS>1勇\n",
      "pred:\t<SOS>勇敢<EOS>\n",
      "\n",
      "2\n",
      "input:\t<SOS>不需言传啊啊啊啊<EOS>1勇\n",
      "pred:\t<SOS>勇敢<EOS>\n",
      "\n",
      "3\n",
      "input:\t<SOS>的一位编辑啊啊啊<EOS>3勇\n",
      "pred:\t<SOS>我有勇敢<EOS>\n",
      "\n",
      "4\n",
      "input:\t<SOS>等待的时候也要随<EOS>4勇\n",
      "pred:\t<SOS>我不的勇敢<EOS>\n",
      "\n",
      "5\n",
      "input:\t<SOS>别害怕我总是对着<EOS>2勇\n",
      "pred:\t<SOS>我勇敢<EOS>\n",
      "\n",
      "6\n",
      "input:\t<SOS>我的梦从此已经不<EOS>7勇\n",
      "pred:\t<SOS>我不的的的的勇<EOS>\n",
      "\n",
      "7\n",
      "input:\t<SOS>你到底是谁的啊啊<EOS>5勇\n",
      "pred:\t<SOS>我不的的勇敢<EOS>\n",
      "\n",
      "8\n",
      "input:\t<SOS>等待我们的不是幸<EOS>6勇\n",
      "pred:\t<SOS>我不你的的勇敢<EOS>\n",
      "\n",
      "9\n",
      "input:\t<SOS>毛主席教导记心间<EOS>7勇\n",
      "pred:\t<SOS>我不的的不我勇<EOS>\n",
      "\n",
      "10\n",
      "input:\t<SOS>是否泪水已干不再<EOS>5勇\n",
      "pred:\t<SOS>我不的的勇敢<EOS>\n",
      "\n",
      "1\n",
      "input:\t<SOS>轻轻洒落到大地沙<EOS>5勇\n",
      "pred:\t<SOS>我的的的勇敢<EOS>\n",
      "\n",
      "2\n",
      "input:\t<SOS>幽幽眼神似比火海<EOS>4勇\n",
      "pred:\t<SOS>我不有勇敢<EOS>\n",
      "\n",
      "3\n",
      "input:\t<SOS>混音室啊啊啊啊啊<EOS>7勇\n",
      "pred:\t<SOS>我的的的的的勇<EOS>\n",
      "\n",
      "4\n",
      "input:\t<SOS>我忠诚的爱人和朋<EOS>6勇\n",
      "pred:\t<SOS>我不不不我勇敢<EOS>\n",
      "\n",
      "5\n",
      "input:\t<SOS>叫我如何不心慌啊<EOS>6勇\n",
      "pred:\t<SOS>我不的的的勇敢<EOS>\n",
      "\n",
      "6\n",
      "input:\t<SOS>凝望地上我的泪湿<EOS>6勇\n",
      "pred:\t<SOS>我不的的的勇敢<EOS>\n",
      "\n",
      "7\n",
      "input:\t<SOS>男无一可比你女一<EOS>3勇\n",
      "pred:\t<SOS>我有勇敢<EOS>\n",
      "\n",
      "8\n",
      "input:\t<SOS>她摆了我偷送的花<EOS>10勇\n",
      "pred:\t<SOS>我不的的的的的的的勇<EOS>\n",
      "\n",
      "9\n",
      "input:\t<SOS>友听毕啊啊啊啊啊<EOS>1勇\n",
      "pred:\t<SOS>勇敢<EOS>\n",
      "\n",
      "10\n",
      "input:\t<SOS>神态不浮躁啊啊啊<EOS>3勇\n",
      "pred:\t<SOS>我要勇敢<EOS>\n",
      "\n",
      "1\n",
      "input:\t<SOS>让所有很久很久以<EOS>5勇\n",
      "pred:\t<SOS>我不不的勇敢<EOS>\n",
      "\n",
      "2\n",
      "input:\t<SOS>相聚在很多年以后<EOS>3勇\n",
      "pred:\t<SOS>我有勇敢<EOS>\n",
      "\n",
      "3\n",
      "input:\t<SOS>吻我至凄冷的深宵<EOS>9勇\n",
      "pred:\t<SOS>我不的的的的的的勇<EOS>\n",
      "\n",
      "4\n",
      "input:\t<SOS>而回忆越是甜就是<EOS>10勇\n",
      "pred:\t<SOS>我不的的的不不的的勇<EOS>\n",
      "\n",
      "5\n",
      "input:\t<SOS>从教堂回来的路上<EOS>4勇\n",
      "pred:\t<SOS>我不的勇敢<EOS>\n",
      "\n",
      "6\n",
      "input:\t<SOS>送你送到小村外啊<EOS>7勇\n",
      "pred:\t<SOS>我的的的的的勇<EOS>\n",
      "\n",
      "7\n",
      "input:\t<SOS>愿来生还能再度拥<EOS>8勇\n",
      "pred:\t<SOS>我不的的不的的勇<EOS>\n",
      "\n",
      "8\n",
      "input:\t<SOS>刀剑依旧在吟唱啊<EOS>7勇\n",
      "pred:\t<SOS>我的的的的的勇<EOS>\n",
      "\n",
      "9\n",
      "input:\t<SOS>那句话一直藏在心<EOS>4勇\n",
      "pred:\t<SOS>我不的勇敢<EOS>\n",
      "\n",
      "10\n",
      "input:\t<SOS>有人在雪地里燃起<EOS>10勇\n",
      "pred:\t<SOS>我不的的的的的的的勇<EOS>\n",
      "\n",
      "1\n",
      "input:\t<SOS>我曾经遇见你啊啊<EOS>8勇\n",
      "pred:\t<SOS>我不的的的的的勇<EOS>\n",
      "\n",
      "2\n",
      "input:\t<SOS>我正发觉我有生命<EOS>1勇\n",
      "pred:\t<SOS>勇敢<EOS>\n",
      "\n",
      "3\n",
      "input:\t<SOS>反正她都不难受她<EOS>10勇\n",
      "pred:\t<SOS>我不的的的不不的的勇<EOS>\n",
      "\n",
      "4\n",
      "input:\t<SOS>不过要坚守绝不可<EOS>9勇\n",
      "pred:\t<SOS>我不的的不不的的勇<EOS>\n",
      "\n",
      "5\n",
      "input:\t<SOS>一道道山啊啊啊啊<EOS>2勇\n",
      "pred:\t<SOS>我勇敢<EOS>\n",
      "\n",
      "6\n",
      "input:\t<SOS>一首为爱为你唱的<EOS>1勇\n",
      "pred:\t<SOS>勇敢<EOS>\n",
      "\n",
      "7\n",
      "input:\t<SOS>天花板不只盯了多<EOS>10勇\n",
      "pred:\t<SOS>我不的的的的的的的勇<EOS>\n",
      "\n",
      "8\n",
      "input:\t<SOS>拈花的笑啊啊啊啊<EOS>7勇\n",
      "pred:\t<SOS>我的的的的的勇<EOS>\n",
      "\n",
      "9\n",
      "input:\t<SOS>想若结局一样啊啊<EOS>5勇\n",
      "pred:\t<SOS>我不的我勇敢<EOS>\n",
      "\n",
      "10\n",
      "input:\t<SOS>日夜提醒我幸福的<EOS>4勇\n",
      "pred:\t<SOS>我不的勇敢<EOS>\n",
      "\n",
      "1\n",
      "input:\t<SOS>就是矛盾龃龉也在<EOS>10勇\n",
      "pred:\t<SOS>我不的的的不不不的勇<EOS>\n",
      "\n",
      "2\n",
      "input:\t<SOS>人海中就我一人挂<EOS>8勇\n",
      "pred:\t<SOS>我不的的的的的勇<EOS>\n",
      "\n",
      "3\n",
      "input:\t<SOS>心里有一首歌啊啊<EOS>2勇\n",
      "pred:\t<SOS>我勇敢<EOS>\n",
      "\n",
      "4\n",
      "input:\t<SOS>等你怒放替他传达<EOS>5勇\n",
      "pred:\t<SOS>我不我我勇敢<EOS>\n",
      "\n",
      "5\n",
      "input:\t<SOS>是你转世而来的魂<EOS>5勇\n",
      "pred:\t<SOS>我不你的勇敢<EOS>\n",
      "\n",
      "6\n",
      "input:\t<SOS>我曾爱过一个男孩<EOS>4勇\n",
      "pred:\t<SOS>我不的勇敢<EOS>\n",
      "\n",
      "7\n",
      "input:\t<SOS>你会流泪啊啊啊啊<EOS>2勇\n",
      "pred:\t<SOS>我勇敢<EOS>\n",
      "\n",
      "8\n",
      "input:\t<SOS>寂寞的围堵我可以<EOS>6勇\n",
      "pred:\t<SOS>我不你不的勇敢<EOS>\n",
      "\n",
      "9\n",
      "input:\t<SOS>管他是对是错是人<EOS>10勇\n",
      "pred:\t<SOS>我不的不不不不不的勇<EOS>\n",
      "\n",
      "10\n",
      "input:\t<SOS>从大阪出发啊啊啊<EOS>5勇\n",
      "pred:\t<SOS>我不的的勇<EOS>\n",
      "\n"
     ]
    }
   ],
   "source": [
    "# Process multi-EOS tokens\n",
    "predictions_set = []\n",
    "for p in predictions:\n",
    "    p = list(p)\n",
    "    if EOS in p:\n",
    "        p = p[:p.index(EOS)+1]\n",
    "    else:\n",
    "        p.append(EOS)\n",
    "    predictions_set.append(embedder.unTokenize(p))\n",
    "    \n",
    "\n",
    "for sent_id in range(len(certain_set)):\n",
    "    sent_in = ''.join(certain_set[sent_id])\n",
    "    sent_pred = ''.join(predictions_set[sent_id])\n",
    "    print('{}\\ninput:\\t{}\\npred:\\t{}\\n'.format((sent_id%10)+1,sent_in,sent_pred))"
   ]
  },
  {
   "cell_type": "code",
   "execution_count": 33,
   "metadata": {},
   "outputs": [
    {
     "data": {
      "text/plain": [
       "((128, 12), (128, 12), (128, 12), (128, 12), (100, 128, 12), (100, 128))"
      ]
     },
     "execution_count": 33,
     "metadata": {},
     "output_type": "execute_result"
    }
   ],
   "source": [
    "import matplotlib.pyplot as plt\n",
    "import numpy as np\n",
    "\n",
    "updategates = gru_info['updategates'].mean(0).detach().cpu().numpy()\n",
    "\n",
    "resetgates = gru_info['resetgates'].mean(0).detach().cpu().numpy()\n",
    "\n",
    "newgates = gru_info['newgates'].mean(0).detach().cpu().numpy()\n",
    "\n",
    "hiddens = gru_info['hiddens'].mean(0).detach().cpu().numpy()\n",
    "\n",
    "encoder_hiddens = gru_info['encoder_hiddens'].detach().cpu().numpy()\n",
    "\n",
    "context = gru_info['context'].detach().cpu().numpy()\n",
    "\n",
    "output_len = updategates.shape[1]\n",
    "\n",
    "updategates.shape , resetgates.shape , newgates.shape , hiddens.shape, encoder_hiddens.shape,context.shape\n"
   ]
  },
  {
   "cell_type": "code",
   "execution_count": 34,
   "metadata": {},
   "outputs": [
    {
     "name": "stdout",
     "output_type": "stream",
     "text": [
      "pos 11 is empty\n",
      "pos 12 is empty\n"
     ]
    }
   ],
   "source": [
    "encoder_hiddens_set = [[],[],[],[],[],[],[],[],[],[],[],[],[]]\n",
    "\n",
    "for xi,hi in zip(x,encoder_hiddens):\n",
    "    xi = xi.cpu().numpy()\n",
    "    idx = np.where(xi==embedder.to_index('<EOS>'))[0][0]+1\n",
    "    pos_id = xi[idx]\n",
    "    pos = int(embedder.to_word(pos_id))\n",
    "    encoder_hiddens_set[pos].append(hi)\n",
    "    \n",
    "for i in range(1,len(encoder_hiddens_set)):\n",
    "    try:\n",
    "        encoder_hiddens_set[i] = np.stack(encoder_hiddens_set[i],axis=0)\n",
    "    except:\n",
    "        print('pos',i,'is empty')\n",
    "        pass"
   ]
  },
  {
   "cell_type": "code",
   "execution_count": 35,
   "metadata": {
    "scrolled": false
   },
   "outputs": [
    {
     "data": {
      "image/png": "[encoded data removed]",
      "text/plain": [
       "<Figure size 1296x720 with 1 Axes>"
      ]
     },
     "metadata": {
      "needs_background": "light"
     },
     "output_type": "display_data"
    },
    {
     "data": {
      "image/png": "[encoded data removed]",
      "text/plain": [
       "<Figure size 1296x720 with 1 Axes>"
      ]
     },
     "metadata": {
      "needs_background": "light"
     },
     "output_type": "display_data"
    },
    {
     "data": {
      "image/png": "[encoded data removed]",
      "text/plain": [
       "<Figure size 1296x720 with 1 Axes>"
      ]
     },
     "metadata": {
      "needs_background": "light"
     },
     "output_type": "display_data"
    },
    {
     "data": {
      "image/png": "[encoded data removed]",
      "text/plain": [
       "<Figure size 1296x720 with 1 Axes>"
      ]
     },
     "metadata": {
      "needs_background": "light"
     },
     "output_type": "display_data"
    },
    {
     "data": {
      "image/png": "[encoded data removed]",
      "text/plain": [
       "<Figure size 1296x720 with 1 Axes>"
      ]
     },
     "metadata": {
      "needs_background": "light"
     },
     "output_type": "display_data"
    },
    {
     "data": {
      "image/png": "[encoded data removed]",
      "text/plain": [
       "<Figure size 1296x720 with 1 Axes>"
      ]
     },
     "metadata": {
      "needs_background": "light"
     },
     "output_type": "display_data"
    },
    {
     "data": {
      "image/png": "[encoded data removed]",
      "text/plain": [
       "<Figure size 1296x720 with 1 Axes>"
      ]
     },
     "metadata": {
      "needs_background": "light"
     },
     "output_type": "display_data"
    },
    {
     "data": {
      "image/png": "[encoded data removed]",
      "text/plain": [
       "<Figure size 1296x720 with 1 Axes>"
      ]
     },
     "metadata": {
      "needs_background": "light"
     },
     "output_type": "display_data"
    }
   ],
   "source": [
    "\n",
    "plt.close('all') \n",
    "\n",
    "frm = 0\n",
    "to = 16\n",
    "\n",
    "for _ in range(8):\n",
    "    plt.subplots(1)\n",
    "    \n",
    "    a = np.arange(frm,to,1)\n",
    "    \n",
    "    for eh in encoder_hiddens_set[1:6]:\n",
    "\n",
    "        plt.bar(a, eh.mean(0)[frm:to,-1],width=0.175)\n",
    "\n",
    "        fig = plt.gcf()\n",
    "        fig.set_size_inches(18,10)\n",
    "        a = a + 0.19\n",
    "        \n",
    "    frm += 16\n",
    "    to  += 16"
   ]
  },
  {
   "cell_type": "code",
   "execution_count": 36,
   "metadata": {
    "scrolled": false
   },
   "outputs": [
    {
     "data": {
      "image/png": "[encoded data removed]",
      "text/plain": [
       "<Figure size 432x288 with 1 Axes>"
      ]
     },
     "metadata": {
      "needs_background": "light"
     },
     "output_type": "display_data"
    },
    {
     "data": {
      "image/png": "[encoded data removed]",
      "text/plain": [
       "<Figure size 432x288 with 1 Axes>"
      ]
     },
     "metadata": {
      "needs_background": "light"
     },
     "output_type": "display_data"
    },
    {
     "data": {
      "image/png": "[encoded data removed]",
      "text/plain": [
       "<Figure size 432x288 with 1 Axes>"
      ]
     },
     "metadata": {
      "needs_background": "light"
     },
     "output_type": "display_data"
    },
    {
     "data": {
      "image/png": "[encoded data removed]",
      "text/plain": [
       "<Figure size 432x288 with 1 Axes>"
      ]
     },
     "metadata": {
      "needs_background": "light"
     },
     "output_type": "display_data"
    },
    {
     "data": {
      "image/png": "[encoded data removed]",
      "text/plain": [
       "<Figure size 432x288 with 1 Axes>"
      ]
     },
     "metadata": {
      "needs_background": "light"
     },
     "output_type": "display_data"
    },
    {
     "data": {
      "image/png": "[encoded data removed]",
      "text/plain": [
       "<Figure size 432x288 with 1 Axes>"
      ]
     },
     "metadata": {
      "needs_background": "light"
     },
     "output_type": "display_data"
    },
    {
     "data": {
      "image/png": "[encoded data removed]",
      "text/plain": [
       "<Figure size 432x288 with 1 Axes>"
      ]
     },
     "metadata": {
      "needs_background": "light"
     },
     "output_type": "display_data"
    },
    {
     "data": {
      "image/png": "[encoded data removed]",
      "text/plain": [
       "<Figure size 432x288 with 1 Axes>"
      ]
     },
     "metadata": {
      "needs_background": "light"
     },
     "output_type": "display_data"
    },
    {
     "data": {
      "image/png": "[encoded data removed]",
      "text/plain": [
       "<Figure size 432x288 with 1 Axes>"
      ]
     },
     "metadata": {
      "needs_background": "light"
     },
     "output_type": "display_data"
    },
    {
     "data": {
      "image/png": "[encoded data removed]",
      "text/plain": [
       "<Figure size 432x288 with 1 Axes>"
      ]
     },
     "metadata": {
      "needs_background": "light"
     },
     "output_type": "display_data"
    },
    {
     "data": {
      "image/png": "[encoded data removed]",
      "text/plain": [
       "<Figure size 432x288 with 1 Axes>"
      ]
     },
     "metadata": {
      "needs_background": "light"
     },
     "output_type": "display_data"
    },
    {
     "data": {
      "image/png": "[encoded data removed]",
      "text/plain": [
       "<Figure size 432x288 with 1 Axes>"
      ]
     },
     "metadata": {
      "needs_background": "light"
     },
     "output_type": "display_data"
    },
    {
     "data": {
      "image/png": "[encoded data removed]",
      "text/plain": [
       "<Figure size 432x288 with 1 Axes>"
      ]
     },
     "metadata": {
      "needs_background": "light"
     },
     "output_type": "display_data"
    },
    {
     "data": {
      "image/png": "[encoded data removed]",
      "text/plain": [
       "<Figure size 432x288 with 1 Axes>"
      ]
     },
     "metadata": {
      "needs_background": "light"
     },
     "output_type": "display_data"
    },
    {
     "data": {
      "image/png": "[encoded data removed]",
      "text/plain": [
       "<Figure size 432x288 with 1 Axes>"
      ]
     },
     "metadata": {
      "needs_background": "light"
     },
     "output_type": "display_data"
    },
    {
     "data": {
      "image/png": "[encoded data removed]",
      "text/plain": [
       "<Figure size 432x288 with 1 Axes>"
      ]
     },
     "metadata": {
      "needs_background": "light"
     },
     "output_type": "display_data"
    }
   ],
   "source": [
    "countCell = pos_control_cell\n",
    "pos_hidden = np.arange(1,11)\n",
    "for cell in countCell:\n",
    "    plt.subplots(1)\n",
    "    plt.title('Cell {}'.format(cell))\n",
    "    plt.bar(pos_hidden,[ eh.mean(0)[cell,-1] for eh in encoder_hiddens_set[1:11]])\n",
    "    plt.ylim((-1.1, 1.1))\n",
    "    plt.xticks(np.linspace(1, 10, 10))"
   ]
  },
  {
   "cell_type": "code",
   "execution_count": null,
   "metadata": {},
   "outputs": [],
   "source": []
  },
  {
   "cell_type": "code",
   "execution_count": null,
   "metadata": {},
   "outputs": [],
   "source": []
  }
 ],
 "metadata": {
  "kernelspec": {
   "display_name": "Python 3",
   "language": "python",
   "name": "python3"
  },
  "language_info": {
   "codemirror_mode": {
    "name": "ipython",
    "version": 3
   },
   "file_extension": ".py",
   "mimetype": "text/x-python",
   "name": "python",
   "nbconvert_exporter": "python",
   "pygments_lexer": "ipython3",
   "version": "3.7.3"
  }
 },
 "nbformat": 4,
 "nbformat_minor": 2
}
