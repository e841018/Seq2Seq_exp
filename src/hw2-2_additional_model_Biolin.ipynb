{
 "cells": [
  {
   "cell_type": "code",
   "execution_count": 1,
   "metadata": {},
   "outputs": [],
   "source": [
    "import torch\n",
    "import random\n",
    "import numpy as np\n",
    "import os\n",
    "from torch import nn\n",
    "from torch.utils.data import Dataset,DataLoader\n",
    "import matplotlib.pyplot as plt\n",
    "\n",
    "corpus_file = '../hw2.1_corpus.txt'"
   ]
  },
  {
   "cell_type": "code",
   "execution_count": 2,
   "metadata": {},
   "outputs": [],
   "source": [
    "# Load Corpus\n",
    "\n",
    "corpus = []\n",
    "with open(corpus_file,'r') as f:\n",
    "    for row in f:\n",
    "        row = row.replace('\\n','')\n",
    "        row = [w for w in row]\n",
    "        corpus.append(row)"
   ]
  },
  {
   "cell_type": "code",
   "execution_count": 3,
   "metadata": {},
   "outputs": [],
   "source": [
    "# Use list to guarantee the embedded index for each word are same everytime\n",
    "\n",
    "words = []\n",
    "words_set = set()\n",
    "for ws in corpus:\n",
    "    for w in ws:\n",
    "        if w not in words_set:\n",
    "            words_set.add(w)\n",
    "            words.append(w)"
   ]
  },
  {
   "cell_type": "code",
   "execution_count": 4,
   "metadata": {},
   "outputs": [],
   "source": [
    "import re\n",
    "\n",
    "class Embedding:\n",
    "\n",
    "    def __init__(self,words=None,dim=300):\n",
    "        self.word_dict = {}\n",
    "        self.word_list = []\n",
    "        self.emb_dim = dim\n",
    "        self.maxPOS = 12      # Maximum POS\n",
    "        self.addition_words = ['<PAD>','<SOS>','<EOS>','<UNK>']\n",
    "        \n",
    "        for POS in range(self.maxPOS):\n",
    "            self.addition_words.append(str(POS))\n",
    "        \n",
    "        for addition_word in self.addition_words:\n",
    "            if addition_word not in words:\n",
    "                self.word_dict[addition_word] = len(self.word_list)\n",
    "                self.word_list.append(addition_word)\n",
    "        \n",
    "        for word in words:\n",
    "            if word not in self.word_dict:\n",
    "                self.word_dict[word] = len(self.word_list)\n",
    "                self.word_list.append(word)\n",
    "                \n",
    "        self.vectors = torch.nn.init.uniform_(\n",
    "                torch.empty(len(self.word_dict),dim))\n",
    "        \n",
    "    def to_index(self, word):\n",
    "        # single word tokenize\n",
    "        if word not in self.word_dict:\n",
    "            return self.word_dict['<UNK>']\n",
    "        \n",
    "        return self.word_dict[word]\n",
    "        \n",
    "    def tokenize(self, words):\n",
    "        # whole sentence tokenize\n",
    "        return [self.to_index(w) for w in words]\n",
    "    \n",
    "    def to_word(self, idx):\n",
    "        \n",
    "        return self.word_list[idx]\n",
    "        \n",
    "    def unTokenize(self,ids):\n",
    "        \n",
    "        return [self.to_word(idx) for idx in ids]\n",
    "        \n",
    "    def get_vocabulary_size(self):\n",
    "        return self.vectors.shape[0]\n",
    "    \n",
    "    def get_dim(self):\n",
    "        return self.vectors.shape[1]"
   ]
  },
  {
   "cell_type": "code",
   "execution_count": 5,
   "metadata": {},
   "outputs": [],
   "source": [
    "# establish embedder to tokenize\n",
    "embedder = Embedding(words=words,dim=300)\n",
    "\n",
    "PAD = embedder.to_index('<PAD>')\n",
    "SOS = embedder.to_index('<SOS>')\n",
    "EOS = embedder.to_index('<EOS>')"
   ]
  },
  {
   "cell_type": "code",
   "execution_count": 6,
   "metadata": {},
   "outputs": [
    {
     "name": "stdout",
     "output_type": "stream",
     "text": [
      "[[    0. 52971. 33890. 24296. 18252. 13834. 14338.  7428.  4888.  3441.\n",
      "   2116.  1444.   877.]\n",
      " [53270. 33971. 24081. 18376. 13674. 14319.  7365.  5062.  3338.  2217.\n",
      "   1369.   912.     0.]\n",
      " [34011. 24246. 17998. 13776.     0.  7377.  5021.  3331.  2277.  1391.\n",
      "    902.     0.     0.]\n",
      " [23960. 18197. 13812. 14414.  7352.  4997.  3418.  2230.  1436.   897.\n",
      "      0.     0.     0.]\n",
      " [18495. 13889.     0.  7454.  5096.  3420.  2203.  1409.   943.     0.\n",
      "      0.     0.     0.]\n",
      " [13563. 14249.  7289.  5150.  3444.  2304.  1429.   925.     0.     0.\n",
      "      0.     0.     0.]\n",
      " [14364.  7455.  4968.  3274.  2227.  1348.   915.     0.     0.     0.\n",
      "      0.     0.     0.]\n",
      " [ 7328.  5144.  3395.  2309.  1327.   936.     0.     0.     0.     0.\n",
      "      0.     0.     0.]\n",
      " [ 5070.  3422.  2191.  1391.   908.     0.     0.     0.     0.     0.\n",
      "      0.     0.     0.]\n",
      " [ 3333.  2216.  1421.   911.     0.     0.     0.     0.     0.     0.\n",
      "      0.     0.     0.]\n",
      " [ 2200.  1406.   949.     0.     0.     0.     0.     0.     0.     0.\n",
      "      0.     0.     0.]\n",
      " [ 1418.   917.     0.     0.     0.     0.     0.     0.     0.     0.\n",
      "      0.     0.     0.]\n",
      " [  937.     0.     0.     0.     0.     0.     0.     0.     0.     0.\n",
      "      0.     0.     0.]]\n"
     ]
    }
   ],
   "source": [
    "all_set = []\n",
    "counting_table = np.zeros((embedder.maxPOS+1,embedder.maxPOS+1))\n",
    "\n",
    "for former,latter in zip(corpus[:-1],corpus[1:]):\n",
    "    \n",
    "    n = len(latter)\n",
    "    \n",
    "    addition_tokens = []\n",
    "    \n",
    "    former = ['<SOS>'] + former + ['<EOS>'] \n",
    "    latter = ['<SOS>'] + latter + ['<EOS>']\n",
    "    \n",
    "    selected_idx = random.randint(a=1,b=min(n,embedder.maxPOS))\n",
    "    \n",
    "    while 1:\n",
    "        a = random.randint(a=0,b=selected_idx)\n",
    "        b = selected_idx - a\n",
    "        \n",
    "        if (a,b) not in [(4,2),(2,4)]:\n",
    "            break\n",
    "        \n",
    "    counting_table[a,b] += 1\n",
    "    \n",
    "    addition_tokens.append(latter[selected_idx])\n",
    "    if a > 0:    \n",
    "        addition_tokens.append(str(a))\n",
    "    if b > 0:\n",
    "        addition_tokens.append(str(b))\n",
    "    \n",
    "    former = former + addition_tokens\n",
    "    \n",
    "    all_set.append((former,latter))\n",
    "    \n",
    "print(counting_table)"
   ]
  },
  {
   "cell_type": "code",
   "execution_count": 7,
   "metadata": {
    "scrolled": false
   },
   "outputs": [
    {
     "name": "stdout",
     "output_type": "stream",
     "text": [
      "741714 593371 148343\n"
     ]
    }
   ],
   "source": [
    "from sklearn.model_selection import train_test_split\n",
    "\n",
    "train_set,valid_set = train_test_split(all_set,test_size=0.2,random_state=42)\n",
    "\n",
    "print(len(all_set),len(train_set),len(valid_set))"
   ]
  },
  {
   "cell_type": "code",
   "execution_count": 8,
   "metadata": {
    "scrolled": true
   },
   "outputs": [
    {
     "data": {
      "text/plain": [
       "[(['<SOS>',\n",
       "   '心',\n",
       "   '疼',\n",
       "   '你',\n",
       "   '还',\n",
       "   '没',\n",
       "   '挣',\n",
       "   '脱',\n",
       "   '思',\n",
       "   '念',\n",
       "   '的',\n",
       "   '囚',\n",
       "   '禁',\n",
       "   '<EOS>',\n",
       "   '段',\n",
       "   '4',\n",
       "   '1'],\n",
       "  ['<SOS>',\n",
       "   '他',\n",
       "   '在',\n",
       "   '你',\n",
       "   '一',\n",
       "   '段',\n",
       "   '难',\n",
       "   '忘',\n",
       "   '远',\n",
       "   '行',\n",
       "   '最',\n",
       "   '后',\n",
       "   '却',\n",
       "   '离',\n",
       "   '去',\n",
       "   '<EOS>']),\n",
       " (['<SOS>',\n",
       "   '他',\n",
       "   '在',\n",
       "   '你',\n",
       "   '一',\n",
       "   '段',\n",
       "   '难',\n",
       "   '忘',\n",
       "   '远',\n",
       "   '行',\n",
       "   '最',\n",
       "   '后',\n",
       "   '却',\n",
       "   '离',\n",
       "   '去',\n",
       "   '<EOS>',\n",
       "   '我',\n",
       "   '6',\n",
       "   '1'],\n",
       "  ['<SOS>', '你', '无', '力', '依', '靠', '在', '我', '这', '里', '<EOS>']),\n",
       " (['<SOS>',\n",
       "   '你',\n",
       "   '无',\n",
       "   '力',\n",
       "   '依',\n",
       "   '靠',\n",
       "   '在',\n",
       "   '我',\n",
       "   '这',\n",
       "   '里',\n",
       "   '<EOS>',\n",
       "   '的',\n",
       "   '7',\n",
       "   '1'],\n",
       "  ['<SOS>', '隔', '着', '刚', '被', '雨', '淋', '湿', '的', '玻', '璃', '<EOS>']),\n",
       " (['<SOS>',\n",
       "   '隔',\n",
       "   '着',\n",
       "   '刚',\n",
       "   '被',\n",
       "   '雨',\n",
       "   '淋',\n",
       "   '湿',\n",
       "   '的',\n",
       "   '玻',\n",
       "   '璃',\n",
       "   '<EOS>',\n",
       "   '哪',\n",
       "   '9'],\n",
       "  ['<SOS>', '你', '问', '了', '我', '到', '底', '爱', '在', '哪', '里', '<EOS>']),\n",
       " (['<SOS>',\n",
       "   '你',\n",
       "   '问',\n",
       "   '了',\n",
       "   '我',\n",
       "   '到',\n",
       "   '底',\n",
       "   '爱',\n",
       "   '在',\n",
       "   '哪',\n",
       "   '里',\n",
       "   '<EOS>',\n",
       "   '的',\n",
       "   '3',\n",
       "   '4'],\n",
       "  ['<SOS>',\n",
       "   '你',\n",
       "   '最',\n",
       "   '想',\n",
       "   '去',\n",
       "   '的',\n",
       "   '目',\n",
       "   '的',\n",
       "   '地',\n",
       "   '剩',\n",
       "   '多',\n",
       "   '少',\n",
       "   '公',\n",
       "   '里',\n",
       "   '<EOS>'])]"
      ]
     },
     "execution_count": 8,
     "metadata": {},
     "output_type": "execute_result"
    }
   ],
   "source": [
    "# list of turple : [(x0,y0),(x1,y1),(x2,y2),....]\n",
    "all_set[0:5]"
   ]
  },
  {
   "cell_type": "code",
   "execution_count": 9,
   "metadata": {},
   "outputs": [],
   "source": [
    "class SentDataset(Dataset):\n",
    "    def __init__(self, data):\n",
    "        self.data = data\n",
    "        \n",
    "    def __len__(self):\n",
    "        return len(self.data)\n",
    "\n",
    "    def __getitem__(self, index):\n",
    "        \n",
    "        return self.data[index]\n",
    "        \n",
    "    def collate_fn(self, datas):\n",
    "        # get max length in this batch\n",
    "        max_data_len = max([len(data[0]) for data in datas])\n",
    "        max_label_len = max([len(data[1]) for data in datas])\n",
    "        \n",
    "        batch_x = []\n",
    "        batch_y = []\n",
    "        len_x = []\n",
    "        len_y = []\n",
    "        batch_y_ = []\n",
    "        \n",
    "        \n",
    "        for data,label in datas:\n",
    "            \n",
    "            len_x.append(len(data))\n",
    "            len_y.append(len(label))\n",
    "            \n",
    "            # Tokenize\n",
    "            pad_data = embedder.tokenize(data)\n",
    "            pad_label = embedder.tokenize(label)\n",
    "            \n",
    "            # Padding data and label\n",
    "            if len(data) < max_data_len:\n",
    "                pad_data.extend([PAD] * (max_data_len-len(data)))\n",
    "            if len(label) < max_label_len:\n",
    "                pad_label.extend([PAD] * (max_label_len-len(label)))\n",
    "                \n",
    "                \n",
    "            batch_x.append(pad_data)\n",
    "            batch_y.append(pad_label)\n",
    "            \n",
    "            # generate y_\n",
    "            focus_designate = [PAD] * len(pad_label)\n",
    "            focus_designate[0] = SOS\n",
    "            focus_designate[pad_label.index(EOS)] = EOS\n",
    "            \n",
    "            \n",
    "            idx1 = data[data.index('<EOS>')+2]\n",
    "            \n",
    "            \n",
    "            if data.index('<EOS>')+3 < len(data):\n",
    "                idx2 = data[data.index('<EOS>')+3]\n",
    "                idx = int(idx1) + int(idx2)\n",
    "            else:\n",
    "                idx = int(idx1)\n",
    "            focus_designate[idx] = pad_label[idx]\n",
    "            \n",
    "            batch_y_.append(focus_designate)\n",
    "            \n",
    "            \n",
    "        return torch.LongTensor(batch_x), torch.LongTensor(len_x), torch.LongTensor(batch_y), len_y, torch.LongTensor(batch_y_)"
   ]
  },
  {
   "cell_type": "code",
   "execution_count": 10,
   "metadata": {},
   "outputs": [
    {
     "name": "stdout",
     "output_type": "stream",
     "text": [
      "Sentence lenght: tensor([12, 12, 11, 10]) [4, 10, 11, 5] \n",
      "\n",
      "['<SOS>', '入', '目', '心', '神', '为', '之', '一', '爽', '<EOS>', '这', '1']\n",
      "['<SOS>', '这', '些', '<EOS>', '<PAD>', '<PAD>', '<PAD>', '<PAD>', '<PAD>', '<PAD>', '<PAD>']\n",
      "['<SOS>', '这', '<PAD>', '<EOS>', '<PAD>', '<PAD>', '<PAD>', '<PAD>', '<PAD>', '<PAD>', '<PAD>'] \n",
      "\n",
      "['<SOS>', '想', '你', '的', '时', '候', '我', '不', '哭', '<EOS>', '只', '1']\n",
      "['<SOS>', '只', '为', '心', '中', '有', '一', '棵', '树', '<EOS>', '<PAD>']\n",
      "['<SOS>', '只', '<PAD>', '<PAD>', '<PAD>', '<PAD>', '<PAD>', '<PAD>', '<PAD>', '<EOS>', '<PAD>'] \n",
      "\n",
      "['<SOS>', '看', '看', '你', '己', '猜', '透', '<EOS>', '接', '2', '6', '<PAD>']\n",
      "['<SOS>', '憑', '著', '直', '覺', '將', '心', '聲', '接', '收', '<EOS>']\n",
      "['<SOS>', '<PAD>', '<PAD>', '<PAD>', '<PAD>', '<PAD>', '<PAD>', '<PAD>', '接', '<PAD>', '<EOS>'] \n",
      "\n",
      "['<SOS>', '跟', '着', '我', '一', '起', '<EOS>', '要', '2', '1', '<PAD>', '<PAD>']\n",
      "['<SOS>', '要', '不', '要', '<EOS>', '<PAD>', '<PAD>', '<PAD>', '<PAD>', '<PAD>', '<PAD>']\n",
      "['<SOS>', '<PAD>', '<PAD>', '要', '<EOS>', '<PAD>', '<PAD>', '<PAD>', '<PAD>', '<PAD>', '<PAD>'] \n",
      "\n"
     ]
    }
   ],
   "source": [
    "# For Validate~~~~\n",
    "\n",
    "dataset = SentDataset(train_set)\n",
    "dataloader = DataLoader(dataset=dataset,\n",
    "                        batch_size=4,\n",
    "                        shuffle=True,\n",
    "                        collate_fn=dataset.collate_fn,\n",
    "                        num_workers=0)\n",
    "for x,x_len,y,y_len,y_ in dataloader:\n",
    "    print('Sentence lenght:',x_len,y_len,'\\n')\n",
    "    \n",
    "    for xi,yi,y_i in zip(x,y,y_):      \n",
    "        \n",
    "        print(embedder.unTokenize(xi))\n",
    "        print(embedder.unTokenize(yi))\n",
    "        print(embedder.unTokenize(y_i),'\\n')\n",
    "    \n",
    "    break\n"
   ]
  },
  {
   "cell_type": "code",
   "execution_count": 11,
   "metadata": {},
   "outputs": [],
   "source": [
    "from torch.nn.utils.rnn import  pack_padded_sequence, pad_packed_sequence\n",
    "\n",
    "class Encoder(nn.Module):\n",
    "\n",
    "    def __init__(self, vocab_size, embedding_size, output_size):\n",
    "        \n",
    "        super(Encoder, self).__init__()\n",
    "\n",
    "        self.vocab_size = vocab_size\n",
    "        self.embedding = nn.Embedding(vocab_size,embedder.get_dim())\n",
    "        self.embedding.weight = nn.Parameter(embedder.vectors)\n",
    "        self.gru = nn.GRU(embedding_size, output_size,batch_first=True, bias=False)\n",
    "\n",
    "    def forward(self, input_seqs, input_lengths, hidden=None):\n",
    "        \n",
    "        # Sort mini-batch by input_lengths\n",
    "        sorted_input_lengths, indices = torch.sort(input_lengths,descending=True)\n",
    "        _, desorted_indices = torch.sort(indices, descending=False)\n",
    "        input_seqs = input_seqs[indices]\n",
    "        \n",
    "        # Encoder work\n",
    "        embedded = self.embedding(input_seqs)\n",
    "        packed = pack_padded_sequence(embedded, sorted_input_lengths.cpu().numpy(), batch_first=True)\n",
    "        packed_outputs, hidden = self.gru(packed, hidden)\n",
    "        outputs, output_lengths = pad_packed_sequence(packed_outputs,batch_first=True)\n",
    "        \n",
    "        # Desort mini-batch\n",
    "        outputs = outputs[desorted_indices]\n",
    "        hidden = hidden[:,desorted_indices]\n",
    "        \n",
    "        return outputs, hidden"
   ]
  },
  {
   "cell_type": "code",
   "execution_count": 12,
   "metadata": {},
   "outputs": [],
   "source": [
    "class Decoder(nn.Module):\n",
    "\n",
    "    def __init__(self, hidden_size, output_size, teacher_forcing_ratio=0.5):\n",
    "        super(Decoder, self).__init__()\n",
    "\n",
    "        self.hidden_size = hidden_size\n",
    "        self.output_size = output_size\n",
    "        self.embedding = nn.Embedding(embedder.get_vocabulary_size(),embedder.get_dim()) # Unused\n",
    "        self.embedding.weight = nn.Parameter(embedder.vectors)\n",
    "        self.cell = nn.GRUCell(embedder.get_dim(), hidden_size, bias=False)\n",
    "        self.clf = nn.Linear(hidden_size, output_size, bias=False)\n",
    "        \n",
    "        if hidden_size == embedder.vectors.T.shape[0]:\n",
    "            self.clf.weight = nn.Parameter(embedder.vectors)\n",
    "\n",
    "        self.log_softmax = nn.LogSoftmax(dim=1)  # work with NLLLoss\n",
    "\n",
    "        self.teacher_forcing_ratio = teacher_forcing_ratio\n",
    "\n",
    "    def forward_step(self, inputs, hidden):\n",
    "        \n",
    "        # Unused\n",
    "        embedded = self.embedding(inputs)\n",
    "        # For research : all x to 0\n",
    "        embedded = torch.zeros_like(embedded)\n",
    "        \n",
    "        hidden = self.cell(embedded, hidden) # [B,Hidden_dim]\n",
    "        clf_output = self.clf(hidden) # [B,Output_dim]\n",
    "        output = self.log_softmax(clf_output)\n",
    "\n",
    "        return output, hidden\n",
    "\n",
    "    def forward(self, context_vector, target_vars, target_lengths):\n",
    "\n",
    "        batch_size = context_vector.shape[1]\n",
    "        \n",
    "        decoder_input = torch.LongTensor([SOS] * batch_size).to(device)\n",
    "        decoder_hidden = context_vector.squeeze(0)\n",
    "\n",
    "        if target_lengths is None:\n",
    "            max_target_length = 50\n",
    "        else:\n",
    "            max_target_length = max(target_lengths)\n",
    "        decoder_outputs = []\n",
    "        decoder_hiddens = []\n",
    "\n",
    "        use_teacher_forcing = True if random.random() < self.teacher_forcing_ratio else False\n",
    "        \n",
    "        for t in range(max_target_length):    \n",
    "            \n",
    "            decoder_outputs_on_t, decoder_hidden = self.forward_step(decoder_input, decoder_hidden)\n",
    "            decoder_outputs.append(decoder_outputs_on_t)\n",
    "            decoder_hiddens.append(decoder_hidden)\n",
    "            \n",
    "            # Take input for next GRU iteration\n",
    "            if use_teacher_forcing :\n",
    "                decoder_input = target_vars[:,t]\n",
    "            else:\n",
    "                decoder_input = decoder_outputs_on_t.argmax(-1)\n",
    "            \n",
    "            # Early Stop when all predict <EOS> \n",
    "            if torch.all(decoder_input==EOS) and target_lengths is None and self.train() == False:\n",
    "                break\n",
    "            \n",
    "        # Stack output of each word at dimension 2\n",
    "        decoder_outputs = torch.stack(decoder_outputs,dim=2)\n",
    "        # Stack hidden of each timestep at dimension 1\n",
    "        decoder_hiddens = torch.stack(decoder_hiddens,dim=1)\n",
    "        \n",
    "        return decoder_outputs, decoder_hiddens"
   ]
  },
  {
   "cell_type": "code",
   "execution_count": 13,
   "metadata": {},
   "outputs": [],
   "source": [
    "class Seq2Seq(nn.Module):\n",
    "    def __init__(self,encoder,decoder):\n",
    "        super(Seq2Seq, self).__init__()\n",
    "        self.encoder = encoder\n",
    "        self.decoder = decoder\n",
    "    \n",
    "    def forward(self, input_seqs, input_lengths, target_seqs=None, target_lengths=None):\n",
    "        outputs, hidden = encoder(input_seqs, input_lengths)\n",
    "        outputs, hiddens = decoder(hidden, target_seqs, target_lengths)\n",
    "        return outputs,hiddens"
   ]
  },
  {
   "cell_type": "code",
   "execution_count": 14,
   "metadata": {},
   "outputs": [
    {
     "data": {
      "text/plain": [
       "Seq2Seq(\n",
       "  (encoder): Encoder(\n",
       "    (embedding): Embedding(6575, 300)\n",
       "    (gru): GRU(300, 128, bias=False, batch_first=True)\n",
       "  )\n",
       "  (decoder): Decoder(\n",
       "    (embedding): Embedding(6575, 300)\n",
       "    (cell): GRUCell(300, 128, bias=False)\n",
       "    (clf): Linear(in_features=128, out_features=6575, bias=False)\n",
       "    (log_softmax): LogSoftmax()\n",
       "  )\n",
       ")"
      ]
     },
     "execution_count": 14,
     "metadata": {},
     "output_type": "execute_result"
    }
   ],
   "source": [
    "from torch.utils.data import DataLoader\n",
    "from tqdm import tqdm_notebook as tqdm\n",
    "\n",
    "device = torch.device('cuda' if torch.cuda.is_available() else 'cpu')\n",
    "\n",
    "context_dim = 128\n",
    "\n",
    "encoder = Encoder(embedder.get_vocabulary_size(),embedder.get_dim(),output_size=context_dim)\n",
    "decoder = Decoder(context_dim,embedder.get_vocabulary_size(),0.5)\n",
    "model = Seq2Seq(encoder,decoder)\n",
    "model.to(device)"
   ]
  },
  {
   "cell_type": "markdown",
   "metadata": {},
   "source": [
    "# Training"
   ]
  },
  {
   "cell_type": "code",
   "execution_count": 15,
   "metadata": {},
   "outputs": [
    {
     "data": {
      "text/plain": [
       "\"def run_epoch(epoch,dataset,isTraining):\\n    \\n    if isTraining:\\n        model.train()\\n    else:\\n        model.eval()\\n        \\n    dataloader = DataLoader(dataset=dataset,\\n                            batch_size=32,\\n                            shuffle=True,\\n                            collate_fn=dataset.collate_fn,\\n                            num_workers=0)\\n    \\n    if isTraining:\\n        desc='Train {}'\\n    else:\\n        desc='Valid {}'\\n    \\n    trange = tqdm(enumerate(dataloader), total=len(dataloader),desc=desc.format(epoch))\\n    \\n    loss=0\\n    acc = 0\\n    \\n    for i,(x,x_len,y,y_len,y_) in trange:\\n        \\n        x = x.to(device)\\n        y = y.to(device)\\n        y_ = y_.to(device)\\n        \\n        # outputs : [b,emb,s] , hiddens : [b,s,hidden]\\n        outputs,hiddens = model(x,x_len,y,y_len)\\n        \\n        idx = y_>2\\n        tf_map = y_[idx] == outputs.argmax(1)[idx]\\n        batch_acc = tf_map.sum().cpu().float().numpy()/len(tf_map)\\n        acc += batch_acc\\n        \\n        batch_loss_all = criterion(outputs, y)\\n        batch_loss_designated = criterion(outputs, y_)\\n        batch_loss = (1-focus_ratio)*batch_loss_all + focus_ratio*batch_loss_designated\\n        \\n        if isTraining:\\n            optimizer.zero_grad()\\n            batch_loss.backward()\\n            optimizer.step()\\n        \\n        loss += batch_loss.item()\\n        \\n        trange.set_postfix({'loss':loss/(i+1),'accuracy':acc/(i+1)})\\n        \\n        if isTraining:\\n            history_loss['train'].append(batch_loss.item())\\n            history_acc['train'].append(batch_acc)\\n        else:\\n            history_loss['valid'].append(batch_loss.item())\\n            history_acc['valid'].append(batch_acc)\""
      ]
     },
     "execution_count": 15,
     "metadata": {},
     "output_type": "execute_result"
    }
   ],
   "source": [
    "'''def run_epoch(epoch,dataset,isTraining):\n",
    "    \n",
    "    if isTraining:\n",
    "        model.train()\n",
    "    else:\n",
    "        model.eval()\n",
    "        \n",
    "    dataloader = DataLoader(dataset=dataset,\n",
    "                            batch_size=32,\n",
    "                            shuffle=True,\n",
    "                            collate_fn=dataset.collate_fn,\n",
    "                            num_workers=0)\n",
    "    \n",
    "    if isTraining:\n",
    "        desc='Train {}'\n",
    "    else:\n",
    "        desc='Valid {}'\n",
    "    \n",
    "    trange = tqdm(enumerate(dataloader), total=len(dataloader),desc=desc.format(epoch))\n",
    "    \n",
    "    loss=0\n",
    "    acc = 0\n",
    "    \n",
    "    for i,(x,x_len,y,y_len,y_) in trange:\n",
    "        \n",
    "        x = x.to(device)\n",
    "        y = y.to(device)\n",
    "        y_ = y_.to(device)\n",
    "        \n",
    "        # outputs : [b,emb,s] , hiddens : [b,s,hidden]\n",
    "        outputs,hiddens = model(x,x_len,y,y_len)\n",
    "        \n",
    "        idx = y_>2\n",
    "        tf_map = y_[idx] == outputs.argmax(1)[idx]\n",
    "        batch_acc = tf_map.sum().cpu().float().numpy()/len(tf_map)\n",
    "        acc += batch_acc\n",
    "        \n",
    "        batch_loss_all = criterion(outputs, y)\n",
    "        batch_loss_designated = criterion(outputs, y_)\n",
    "        batch_loss = (1-focus_ratio)*batch_loss_all + focus_ratio*batch_loss_designated\n",
    "        \n",
    "        if isTraining:\n",
    "            optimizer.zero_grad()\n",
    "            batch_loss.backward()\n",
    "            optimizer.step()\n",
    "        \n",
    "        loss += batch_loss.item()\n",
    "        \n",
    "        trange.set_postfix({'loss':loss/(i+1),'accuracy':acc/(i+1)})\n",
    "        \n",
    "        if isTraining:\n",
    "            history_loss['train'].append(batch_loss.item())\n",
    "            history_acc['train'].append(batch_acc)\n",
    "        else:\n",
    "            history_loss['valid'].append(batch_loss.item())\n",
    "            history_acc['valid'].append(batch_acc)'''"
   ]
  },
  {
   "cell_type": "code",
   "execution_count": 16,
   "metadata": {},
   "outputs": [
    {
     "data": {
      "text/plain": [
       "\"# Training\\n\\n\\ndataset_all = SentDataset(all_set)\\ndataset_train = SentDataset(train_set)\\ndataset_valid = SentDataset(valid_set)\\n\\ncriterion = torch.nn.NLLLoss(ignore_index=PAD, size_average=True)\\noptimizer = torch.optim.Adam(model.parameters(), lr=1e-3)\\nmax_epoch = 20\\nfocus_ratio = 0.5\\n\\nhistory_loss = {'train':[],'valid':[]}\\nhistory_acc = {'train':[],'valid':[]}\\n\\n\\nfor epoch in range(max_epoch):\\n    \\n    # Training\\n    run_epoch(epoch,dataset=dataset_train,isTraining=True)\\n    \\n    # Validation\\n    run_epoch(epoch,dataset=dataset_valid,isTraining=False)\\n    \\n    # Saving\\n    if not os.path.exists('model'):\\n        os.makedirs('model')\\n    torch.save(model.state_dict(), 'model/model.pkl.{}'.format(epoch))\""
      ]
     },
     "execution_count": 16,
     "metadata": {},
     "output_type": "execute_result"
    }
   ],
   "source": [
    "'''# Training\n",
    "\n",
    "\n",
    "dataset_all = SentDataset(all_set)\n",
    "dataset_train = SentDataset(train_set)\n",
    "dataset_valid = SentDataset(valid_set)\n",
    "\n",
    "criterion = torch.nn.NLLLoss(ignore_index=PAD, size_average=True)\n",
    "optimizer = torch.optim.Adam(model.parameters(), lr=1e-3)\n",
    "max_epoch = 20\n",
    "focus_ratio = 0.5\n",
    "\n",
    "history_loss = {'train':[],'valid':[]}\n",
    "history_acc = {'train':[],'valid':[]}\n",
    "\n",
    "\n",
    "for epoch in range(max_epoch):\n",
    "    \n",
    "    # Training\n",
    "    run_epoch(epoch,dataset=dataset_train,isTraining=True)\n",
    "    \n",
    "    # Validation\n",
    "    run_epoch(epoch,dataset=dataset_valid,isTraining=False)\n",
    "    \n",
    "    # Saving\n",
    "    if not os.path.exists('model'):\n",
    "        os.makedirs('model')\n",
    "    torch.save(model.state_dict(), 'model/model.pkl.{}'.format(epoch))'''"
   ]
  },
  {
   "cell_type": "markdown",
   "metadata": {},
   "source": [
    "# Plot (Loss and acc)"
   ]
  },
  {
   "cell_type": "code",
   "execution_count": 17,
   "metadata": {},
   "outputs": [
    {
     "data": {
      "text/plain": [
       "\"import matplotlib.pyplot as plt\\n\\nmodes = ['train', 'valid']\\nrecs = [history_loss, history_acc]\\nnames = ['Loss', 'Accuracy']\\n\\nvalues = []\\nfor mode in modes:\\n    v = []\\n    for rec in recs:\\n        v.append(rec[mode])\\n    values.append(v)\\n \\nplt.figure(figsize=(32, 4))\\nplt.subplots_adjust(left=0.02, right=0.999)\\nfor r, name in enumerate(names):\\n    plt.subplot(1, len(recs), r+1)\\n    for m in range(len(modes)):\\n        plt.plot(values[m][r])\\n    plt.title(name)\\n    plt.legend(modes)\\n    plt.xlabel('iteration')\\n    plt.show()\\n#plt.savefig('figure.png', dpi=100)\""
      ]
     },
     "execution_count": 17,
     "metadata": {},
     "output_type": "execute_result"
    }
   ],
   "source": [
    "'''import matplotlib.pyplot as plt\n",
    "\n",
    "modes = ['train', 'valid']\n",
    "recs = [history_loss, history_acc]\n",
    "names = ['Loss', 'Accuracy']\n",
    "\n",
    "values = []\n",
    "for mode in modes:\n",
    "    v = []\n",
    "    for rec in recs:\n",
    "        v.append(rec[mode])\n",
    "    values.append(v)\n",
    " \n",
    "plt.figure(figsize=(32, 4))\n",
    "plt.subplots_adjust(left=0.02, right=0.999)\n",
    "for r, name in enumerate(names):\n",
    "    plt.subplot(1, len(recs), r+1)\n",
    "    for m in range(len(modes)):\n",
    "        plt.plot(values[m][r])\n",
    "    plt.title(name)\n",
    "    plt.legend(modes)\n",
    "    plt.xlabel('iteration')\n",
    "    plt.show()\n",
    "#plt.savefig('figure.png', dpi=100)'''"
   ]
  },
  {
   "cell_type": "markdown",
   "metadata": {},
   "source": [
    "# Inference Test Data\n",
    "### Define test data dataloader"
   ]
  },
  {
   "cell_type": "code",
   "execution_count": 18,
   "metadata": {},
   "outputs": [],
   "source": [
    "class TestDataset(Dataset):\n",
    "    def __init__(self, data):\n",
    "        self.data = data\n",
    "        \n",
    "    def __len__(self):\n",
    "        return len(self.data)\n",
    "\n",
    "    def __getitem__(self, index):\n",
    "        return self.data[index]\n",
    "        \n",
    "    def collate_fn(self, datas):\n",
    "        max_data_len = max([len(data) for data in datas])\n",
    "        batch_x = []\n",
    "        len_x = []\n",
    "        \n",
    "        for data in datas:\n",
    "            len_x.append(len(data))\n",
    "            pad_data = [embedder.to_index(w) for w in data]\n",
    "            if len(data) < max_data_len:\n",
    "                pad_data.extend([PAD] * (max_data_len-len(data)))\n",
    "            batch_x.append(pad_data)\n",
    "\n",
    "        return torch.LongTensor(batch_x), torch.LongTensor(len_x)"
   ]
  },
  {
   "cell_type": "markdown",
   "metadata": {},
   "source": [
    "## Load pre-trained model"
   ]
  },
  {
   "cell_type": "code",
   "execution_count": 19,
   "metadata": {},
   "outputs": [
    {
     "data": {
      "text/plain": [
       "Seq2Seq(\n",
       "  (encoder): Encoder(\n",
       "    (embedding): Embedding(6575, 300)\n",
       "    (gru): GRU(300, 128, bias=False, batch_first=True)\n",
       "  )\n",
       "  (decoder): Decoder(\n",
       "    (embedding): Embedding(6575, 300)\n",
       "    (cell): GRUCell(300, 128, bias=False)\n",
       "    (clf): Linear(in_features=128, out_features=6575, bias=False)\n",
       "    (log_softmax): LogSoftmax()\n",
       "  )\n",
       ")"
      ]
     },
     "execution_count": 19,
     "metadata": {},
     "output_type": "execute_result"
    }
   ],
   "source": [
    "path_pkl = '../pre-train/model.pkl.2-2-additional_without42&24'\n",
    "model.load_state_dict(torch.load(path_pkl))\n",
    "model.decoder.teacher_forcing_ratio = 0.0\n",
    "model.eval()"
   ]
  },
  {
   "cell_type": "markdown",
   "metadata": {},
   "source": [
    "## 做一個指定位置的context hidden"
   ]
  },
  {
   "cell_type": "code",
   "execution_count": 20,
   "metadata": {},
   "outputs": [],
   "source": [
    "context_spos = ['<SOS>', '让', '我', '拥', '有', '了', '恬', '静', '的', '<EOS>', '静','3','2']\n",
    "len_context = torch.LongTensor([len(context_spos)])\n",
    "context_spos = [embedder.to_index(w) for w in context_spos]\n",
    "context_spos = torch.LongTensor([context_spos]).to(device)\n",
    "context_spos = model.encoder(context_spos,len_context)[1] \n",
    "context_spos = context_spos.squeeze()# context hidden"
   ]
  },
  {
   "cell_type": "code",
   "execution_count": 21,
   "metadata": {},
   "outputs": [
    {
     "data": {
      "text/plain": [
       "torch.Size([128])"
      ]
     },
     "execution_count": 21,
     "metadata": {},
     "output_type": "execute_result"
    }
   ],
   "source": [
    "context_spos.shape"
   ]
  },
  {
   "cell_type": "markdown",
   "metadata": {},
   "source": [
    "# Deconstruct"
   ]
  },
  {
   "cell_type": "code",
   "execution_count": 22,
   "metadata": {},
   "outputs": [],
   "source": [
    "import torch.nn.functional as F\n",
    "\n",
    "def Deconstruction(model,x,x_len):\n",
    "    \n",
    "    # Encoder \n",
    "    encoder_hiddens, context = model.encoder(x,x_len)\n",
    "    context = context.squeeze(0)\n",
    "    \n",
    "    # replace cells in context hidden by context_spos\n",
    "    cells = []\n",
    "    for c in cells:\n",
    "        context[:,c] = context_spos[c]\n",
    "    \n",
    "    # Decoder\n",
    "    decoder_hidden = context.squeeze(0)\n",
    "    \n",
    "    # Collection signal\n",
    "    decoder_outputs = []\n",
    "    decoder_hiddens = []\n",
    "    decoder_resetGates = []\n",
    "    decoder_updateGates = []\n",
    "    decoder_newGates = []\n",
    "    \n",
    "    while True:\n",
    "        \n",
    "        # GRU Cell\n",
    "        gru = model.decoder.cell\n",
    "        \n",
    "        U_h = F.linear(decoder_hidden, gru.weight_hh)\n",
    "        Ur_h, Uz_h, Un_h = U_h.chunk(3, 1)\n",
    "        reset_gate = torch.sigmoid(Ur_h)\n",
    "        update_gate = torch.sigmoid(Uz_h)\n",
    "        new_gate = torch.tanh(reset_gate * Un_h)\n",
    "        decoder_hidden = new_gate + update_gate * (decoder_hidden - new_gate)\n",
    "        \n",
    "        # Classifier\n",
    "        clf_output = model.decoder.clf(decoder_hidden)\n",
    "        decoder_output = model.decoder.log_softmax(clf_output)\n",
    "        \n",
    "        decoder_resetGates.append(reset_gate)\n",
    "        decoder_updateGates.append(update_gate)\n",
    "        decoder_newGates.append(new_gate)\n",
    "        decoder_outputs.append(decoder_output)            \n",
    "        decoder_hiddens.append(decoder_hidden)\n",
    "                                                   \n",
    "        if torch.all(decoder_output.argmax(-1)==EOS) == True:\n",
    "            break\n",
    "            \n",
    "    outputs = torch.stack(decoder_outputs,dim=2)             # (b,6xxx,s)\n",
    "    \n",
    "    gru_info = { \n",
    "        'context':context,                                        # (b,128)\n",
    "        'hiddens':torch.stack(decoder_hiddens,dim=2),             # (b,128,s)\n",
    "        'resetgates':torch.stack(decoder_resetGates,dim=2),       # (b,128,s)\n",
    "        'updategates':torch.stack(decoder_updateGates,dim=2),     # (b,128,s)\n",
    "        'newgates':torch.stack(decoder_newGates,dim=2)            # (b,128,s)\n",
    "    }\n",
    "    \n",
    "    return outputs, gru_info"
   ]
  },
  {
   "cell_type": "markdown",
   "metadata": {},
   "source": [
    "## Generate certain condition valid datas ( by designated word / position filter )"
   ]
  },
  {
   "cell_type": "code",
   "execution_count": 23,
   "metadata": {},
   "outputs": [
    {
     "name": "stdout",
     "output_type": "stream",
     "text": [
      "['<SOS>', '宁', '愿', '公', '开', '新', '爱', '侣', '得', '<EOS>', '瘪', '4', '2']\n",
      "['<SOS>', '还', '有', '什', '么', '没', '说', '完', '的', '<EOS>', '一', '4', '2']\n",
      "['<SOS>', '今', '夜', '不', '会', '再', '有', '难', '舍', '<EOS>', '那', '4', '2']\n",
      "['<SOS>', '我', '的', '泪', '打', '在', '你', '额', '头', '<EOS>', '的', '4', '2']\n",
      "['<SOS>', '太', '难', '过', '我', '还', '能', '浪', '费', '<EOS>', '歌', '4', '2']\n",
      "['<SOS>', '角', '色', '出', '场', '啊', '啊', '啊', '啊', '<EOS>', '恨', '4', '2']\n",
      "['<SOS>', '我', '又', '在', '山', '里', '转', '悠', '了', '<EOS>', '让', '4', '2']\n",
      "['<SOS>', '以', '后', '自', '然', '会', '懂', '得', '啊', '<EOS>', '时', '4', '2']\n",
      "['<SOS>', '她', '的', '脚', '印', '心', '中', '永', '印', '<EOS>', '的', '4', '2']\n",
      "['<SOS>', '四', '野', '细', '雨', '春', '芒', '啊', '啊', '<EOS>', '到', '4', '2']\n",
      "['<SOS>', '重', '复', '着', '熟', '悉', '的', '场', '景', '<EOS>', '己', '4', '2']\n",
      "['<SOS>', '不', '能', '再', '和', '你', '相', '约', '啊', '<EOS>', '你', '4', '2']\n",
      "['<SOS>', '自', '动', '聚', '在', '村', '口', '的', '大', '<EOS>', '你', '4', '2']\n",
      "['<SOS>', '还', '把', '我', '辛', '苦', '养', '大', '啊', '<EOS>', '之', '4', '2']\n",
      "['<SOS>', '把', '所', '有', '的', '穷', '人', '都', '打', '<EOS>', '遗', '4', '2']\n",
      "['<SOS>', '任', '发', '丝', '缠', '绕', '双', '眸', '啊', '<EOS>', '小', '4', '2']\n"
     ]
    }
   ],
   "source": [
    "# certain_set = []\n",
    "\n",
    "# for sent in random.sample(corpus, k=16):\n",
    "    \n",
    "#     if len(sent) > 8:\n",
    "#         sent = sent[:8]\n",
    "#     else:\n",
    "#         sent = sent + ['啊']*(8-len(sent))\n",
    "    \n",
    "#     designated_POS = random.randint(a=2,b=10)\n",
    "#     designated_POS1 = random.randint(a=1,b=designated_POS-1)\n",
    "#     designated_POS2 = designated_POS - designated_POS1\n",
    "    \n",
    "#     designated_word = random.choice(random.choice(corpus))\n",
    "    \n",
    "#     control_signal = [ designated_word, str(designated_POS1) , str(designated_POS2)]\n",
    "    \n",
    "#     control_signal = [ designated_word, '4','2']\n",
    "    \n",
    "#     data = ['<SOS>'] + sent + ['<EOS>'] + control_signal\n",
    "    \n",
    "#     print(data)\n",
    "    \n",
    "#     certain_set.append(data)\n",
    "    \n",
    "# dataset_certain = TestDataset(certain_set)"
   ]
  },
  {
   "cell_type": "markdown",
   "metadata": {},
   "source": [
    "## Prediction certain condition data"
   ]
  },
  {
   "cell_type": "code",
   "execution_count": 24,
   "metadata": {},
   "outputs": [
    {
     "name": "stderr",
     "output_type": "stream",
     "text": [
      "/home/r07944011/anaconda3/envs/sdmlXai/lib/python3.7/site-packages/ipykernel_launcher.py:8: TqdmDeprecationWarning: This function will be removed in tqdm==5.0.0\n",
      "Please use `tqdm.notebook.tqdm` instead of `tqdm.tqdm_notebook`\n",
      "  \n"
     ]
    },
    {
     "data": {
      "application/vnd.jupyter.widget-view+json": {
       "model_id": "704a77f1b1064463b6445cd51f040202",
       "version_major": 2,
       "version_minor": 0
      },
      "text/plain": [
       "HBox(children=(IntProgress(value=0, max=1), HTML(value='')))"
      ]
     },
     "metadata": {},
     "output_type": "display_data"
    },
    {
     "name": "stdout",
     "output_type": "stream",
     "text": [
      "\n"
     ]
    }
   ],
   "source": [
    "# dataloader = DataLoader(dataset=dataset_certain,\n",
    "#                         batch_size=128,\n",
    "#                         shuffle=False,\n",
    "#                         collate_fn=dataset_certain.collate_fn,\n",
    "#                         num_workers=0)\n",
    "\n",
    "# predictions = []\n",
    "# trange = tqdm(dataloader, total=len(dataloader))\n",
    "\n",
    "# for x,x_len in trange:\n",
    "    \n",
    "#     x = x.to(device)\n",
    "    \n",
    "#     outputs,gru_info = Deconstruction(model,x,x_len)\n",
    "    \n",
    "#     for pred in outputs.cpu().detach().numpy().argmax(1):\n",
    "#         predictions.append(pred)"
   ]
  },
  {
   "cell_type": "code",
   "execution_count": 25,
   "metadata": {},
   "outputs": [
    {
     "name": "stdout",
     "output_type": "stream",
     "text": [
      "input:\t<SOS>宁愿公开新爱侣得<EOS>瘪42\n",
      "pred:\t<SOS>我是的的的牌<EOS>\n",
      "\n",
      "input:\t<SOS>还有什么没说完的<EOS>一42\n",
      "pred:\t<SOS>我是的我我一个<EOS>\n",
      "\n",
      "input:\t<SOS>今夜不会再有难舍<EOS>那42\n",
      "pred:\t<SOS>你你你你在那么<EOS>\n",
      "\n",
      "input:\t<SOS>我的泪打在你额头<EOS>的42\n",
      "pred:\t<SOS>我是你你你的<EOS>\n",
      "\n",
      "input:\t<SOS>太难过我还能浪费<EOS>歌42\n",
      "pred:\t<SOS>我你你你的歌<EOS>\n",
      "\n",
      "input:\t<SOS>角色出场啊啊啊啊<EOS>恨42\n",
      "pred:\t<SOS>我是的的的恨<EOS>\n",
      "\n",
      "input:\t<SOS>我又在山里转悠了<EOS>让42\n",
      "pred:\t<SOS>我的的的你让我<EOS>\n",
      "\n",
      "input:\t<SOS>以后自然会懂得啊<EOS>时42\n",
      "pred:\t<SOS>我是的的的时<EOS>\n",
      "\n",
      "input:\t<SOS>她的脚印心中永印<EOS>的42\n",
      "pred:\t<SOS>我是的是我的<EOS>\n",
      "\n",
      "input:\t<SOS>四野细雨春芒啊啊<EOS>到42\n",
      "pred:\t<SOS>我我的我看到<EOS>\n",
      "\n",
      "input:\t<SOS>重复着熟悉的场景<EOS>己42\n",
      "pred:\t<SOS>我不我是自己<EOS>\n",
      "\n",
      "input:\t<SOS>不能再和你相约啊<EOS>你42\n",
      "pred:\t<SOS>我我你我在你<EOS>\n",
      "\n",
      "input:\t<SOS>自动聚在村口的大<EOS>你42\n",
      "pred:\t<SOS>我我的我着你<EOS>\n",
      "\n",
      "input:\t<SOS>还把我辛苦养大啊<EOS>之42\n",
      "pred:\t<SOS>我一我我的之后<EOS>\n",
      "\n",
      "input:\t<SOS>把所有的穷人都打<EOS>遗42\n",
      "pred:\t<SOS>我不的不不遗忘<EOS>\n",
      "\n",
      "input:\t<SOS>任发丝缠绕双眸啊<EOS>小42\n",
      "pred:\t<SOS>我是的的的小<EOS>\n",
      "\n"
     ]
    }
   ],
   "source": [
    "# # Process multi-EOS tokens\n",
    "# predictions_set = []\n",
    "# for p in predictions:\n",
    "#     p = list(p)\n",
    "#     if EOS in p:\n",
    "#         p = p[:p.index(EOS)+1]\n",
    "#     else:\n",
    "#         p.append(EOS)\n",
    "#     predictions_set.append(embedder.unTokenize(p))\n",
    "    \n",
    "\n",
    "# for sent_id in range(len(certain_set)):\n",
    "#     sent_in = ''.join(certain_set[sent_id])\n",
    "#     sent_pred = ''.join(predictions_set[sent_id])\n",
    "#     print('input:\\t{}\\npred:\\t{}\\n'.format(sent_in,sent_pred))"
   ]
  },
  {
   "cell_type": "code",
   "execution_count": 26,
   "metadata": {},
   "outputs": [
    {
     "data": {
      "text/plain": [
       "((128, 9), (128, 9), (128, 9), (16, 128))"
      ]
     },
     "execution_count": 26,
     "metadata": {},
     "output_type": "execute_result"
    }
   ],
   "source": [
    "updategates = gru_info['updategates'].mean(0).detach().cpu().numpy()\n",
    "\n",
    "resetgates = gru_info['resetgates'].mean(0).detach().cpu().numpy()\n",
    "\n",
    "newgates = gru_info['newgates'].mean(0).detach().cpu().numpy()\n",
    "\n",
    "context = gru_info['context'].detach().cpu().numpy()\n",
    "\n",
    "output_len = updategates.shape[1]\n",
    "\n",
    "updategates.shape , resetgates.shape , newgates.shape , context.shape\n"
   ]
  },
  {
   "cell_type": "markdown",
   "metadata": {},
   "source": [
    "## context_set[i] 收集position為i的輸入句經過Encoder產生的context(h0)"
   ]
  },
  {
   "cell_type": "code",
   "execution_count": 27,
   "metadata": {
    "scrolled": false
   },
   "outputs": [
    {
     "name": "stdout",
     "output_type": "stream",
     "text": [
      "6 瘪\n",
      "6 一\n",
      "6 那\n",
      "6 的\n",
      "6 歌\n",
      "6 恨\n",
      "6 让\n",
      "6 时\n",
      "6 的\n",
      "6 到\n",
      "6 己\n",
      "6 你\n",
      "6 你\n",
      "6 之\n",
      "6 遗\n",
      "6 小\n",
      "pos 1 is empty\n",
      "pos 2 is empty\n",
      "pos 3 is empty\n",
      "pos 4 is empty\n",
      "pos 5 is empty\n",
      "pos 7 is empty\n",
      "pos 8 is empty\n",
      "pos 9 is empty\n",
      "pos 10 is empty\n",
      "pos 11 is empty\n",
      "pos 12 is empty\n"
     ]
    }
   ],
   "source": [
    "context_set = [[],[],[],[],[],[],[],[],[],[],[],[],[]]\n",
    "\n",
    "for xi,hi in zip(x,context):\n",
    "    xi = xi.cpu().numpy()\n",
    "    pos = 0\n",
    "    for token in xi[::-1]:\n",
    "        w = embedder.to_word(token)\n",
    "        if w.isdigit():\n",
    "            pos += int(w)\n",
    "        else:\n",
    "            break\n",
    "    print(pos,w)\n",
    "    context_set[pos].append(hi)\n",
    "    \n",
    "for i in range(1,len(context_set)):\n",
    "    try:\n",
    "        context_set[i] = np.stack(context_set[i],axis=0)\n",
    "    except:\n",
    "        print('pos',i,'is empty')\n",
    "        pass"
   ]
  },
  {
   "cell_type": "markdown",
   "metadata": {},
   "source": [
    "# >>>> Collect hidden context vectors with the same sum"
   ]
  },
  {
   "cell_type": "code",
   "execution_count": 42,
   "metadata": {},
   "outputs": [],
   "source": [
    "from random import randint\n",
    "def get2IntsWithSumN(n):\n",
    "    num1 = randint(1, n - 1)\n",
    "    num2 = n - num1\n",
    "    return num1, num2"
   ]
  },
  {
   "cell_type": "code",
   "execution_count": 43,
   "metadata": {},
   "outputs": [
    {
     "data": {
      "text/plain": [
       "[(5, 1),\n",
       " (2, 4),\n",
       " (4, 2),\n",
       " (2, 4),\n",
       " (1, 5),\n",
       " (4, 2),\n",
       " (5, 1),\n",
       " (1, 5),\n",
       " (1, 5),\n",
       " (3, 3),\n",
       " (4, 2),\n",
       " (3, 3),\n",
       " (1, 5),\n",
       " (4, 2),\n",
       " (5, 1),\n",
       " (5, 1),\n",
       " (1, 5),\n",
       " (3, 3),\n",
       " (1, 5),\n",
       " (1, 5)]"
      ]
     },
     "execution_count": 43,
     "metadata": {},
     "output_type": "execute_result"
    }
   ],
   "source": [
    "[get2IntsWithSumN(6) for i in range(20)]"
   ]
  },
  {
   "cell_type": "code",
   "execution_count": 362,
   "metadata": {},
   "outputs": [],
   "source": [
    "def get_certain_set(number_sum, designated_word=None, sample_size=16, show=False, the_first_num=None):\n",
    "    certain_set = []\n",
    "\n",
    "    for sent in random.sample(corpus, k=sample_size):\n",
    "        \n",
    "        if len(sent) > 8:\n",
    "            sent = sent[:8]\n",
    "        else:\n",
    "            sent = sent + ['啊']*(8-len(sent))\n",
    "\n",
    "#         designated_POS = random.randint(a=2,b=10)\n",
    "#         designated_POS1 = random.randint(a=1,b=designated_POS-1)\n",
    "#         designated_POS2 = designated_POS - designated_POS1\n",
    "        if designated_word == None:\n",
    "            designated_word = random.choice(random.choice(corpus))\n",
    "\n",
    "#         control_signal = [ designated_word, str(designated_POS1) , str(designated_POS2)]\n",
    "        if (the_first_num != None):\n",
    "            num1, num2 = the_first_num, (number_sum - the_first_num) \n",
    "        else:\n",
    "            num1, num2 = get2IntsWithSumN(number_sum)\n",
    "        control_signal = [ designated_word, str(num1), str(num2)]\n",
    "\n",
    "        data = ['<SOS>'] + sent + ['<EOS>'] + control_signal\n",
    "        \n",
    "        if show:\n",
    "            print(data)\n",
    "\n",
    "        certain_set.append(data)\n",
    "\n",
    "    dataset_certain = TestDataset(certain_set)\n",
    "    return dataset_certain"
   ]
  },
  {
   "cell_type": "code",
   "execution_count": 413,
   "metadata": {},
   "outputs": [],
   "source": [
    "def predict(dataset, batch_size=16, verbose=True):\n",
    "    dataloader = DataLoader(dataset=dataset,\n",
    "                            batch_size=batch_size,\n",
    "                            shuffle=False,\n",
    "                            collate_fn=dataset.collate_fn,\n",
    "                            num_workers=0)\n",
    "\n",
    "    predictions = []\n",
    "    if verbose:\n",
    "        trange = tqdm(dataloader, total=len(dataloader))\n",
    "    else:\n",
    "        trange = dataloader\n",
    "\n",
    "    for x,x_len in trange:\n",
    "\n",
    "        x = x.to(device)\n",
    "\n",
    "        outputs,gru_info = Deconstruction(model,x,x_len)\n",
    "\n",
    "        for pred in outputs.cpu().detach().numpy().argmax(1):\n",
    "            predictions.append(pred)\n",
    "    return predictions, gru_info"
   ]
  },
  {
   "cell_type": "code",
   "execution_count": 81,
   "metadata": {},
   "outputs": [],
   "source": [
    "def untokenize_output(dataset, predictions, verbose=True):\n",
    "    # Process multi-EOS tokens\n",
    "    predictions_set = []\n",
    "    for p in predictions:\n",
    "        p = list(p)\n",
    "        if EOS in p:\n",
    "            p = p[:p.index(EOS)+1]\n",
    "        else:\n",
    "            p.append(EOS)\n",
    "        predictions_set.append(embedder.unTokenize(p))\n",
    "\n",
    "    for sent_id in range(len(dataset)):\n",
    "        sent_in = ''.join(dataset[sent_id])\n",
    "        sent_pred = ''.join(predictions_set[sent_id])\n",
    "        if verbose:\n",
    "            print('input:\\t{}\\npred:\\t{}\\n'.format(sent_in,sent_pred))\n",
    "    return dataset, predictions_set"
   ]
  },
  {
   "cell_type": "code",
   "execution_count": 72,
   "metadata": {},
   "outputs": [],
   "source": [
    "def decodeContext(decoder_hidden):\n",
    "    \n",
    "    # Collection signal\n",
    "    decoder_outputs = []\n",
    "    decoder_hiddens = []\n",
    "    decoder_resetGates = []\n",
    "    decoder_updateGates = []\n",
    "    decoder_newGates = []\n",
    "    \n",
    "    while True:\n",
    "        \n",
    "        # GRU Cell\n",
    "        gru = model.decoder.cell\n",
    "        \n",
    "        U_h = F.linear(decoder_hidden, gru.weight_hh)\n",
    "        Ur_h, Uz_h, Un_h = U_h.chunk(3, 1)\n",
    "        reset_gate = torch.sigmoid(Ur_h)\n",
    "        update_gate = torch.sigmoid(Uz_h)\n",
    "        new_gate = torch.tanh(reset_gate * Un_h)\n",
    "        decoder_hidden = new_gate + update_gate * (decoder_hidden - new_gate)\n",
    "        \n",
    "        # Classifier\n",
    "        clf_output = model.decoder.clf(decoder_hidden)\n",
    "        decoder_output = model.decoder.log_softmax(clf_output)\n",
    "        \n",
    "        decoder_resetGates.append(reset_gate)\n",
    "        decoder_updateGates.append(update_gate)\n",
    "        decoder_newGates.append(new_gate)\n",
    "        decoder_outputs.append(decoder_output)            \n",
    "        decoder_hiddens.append(decoder_hidden)\n",
    "                                                   \n",
    "        if torch.all(decoder_output.argmax(-1)==EOS) == True:\n",
    "            break\n",
    "            \n",
    "    outputs = torch.stack(decoder_outputs,dim=2)             # (b,6xxx,s)\n",
    "    return outputs"
   ]
  },
  {
   "cell_type": "code",
   "execution_count": 199,
   "metadata": {},
   "outputs": [],
   "source": [
    "def swapHidden(number1=3, number2=6, swap_cells=[], print_sent=True, sample_size=1024):\n",
    "    print(f\"number1: {number1}, number2: {number2}, swap_cells={swap_cells}\")\n",
    "    ###########################################################################\n",
    "    designated_word = random.choice(random.choice(corpus))\n",
    "    # get dataset\n",
    "    certain_set1 = get_certain_set(number1, designated_word=designated_word, sample_size=sample_size, show=print_sent)\n",
    "    certain_set2 = get_certain_set(number2, designated_word=designated_word, sample_size=sample_size, show=print_sent)\n",
    "    print('XXXXXXXXXXXXXXXXXXXXXXXXXXXXXXXXXXXX')\n",
    "    prediction1_useless, gru_info1 = predict(certain_set1, batch_size=sample_size)\n",
    "    prediction2_useless, gru_info2 = predict(certain_set2, batch_size=sample_size)\n",
    "    context_vec1s = gru_info1['context'] # .detach().cpu().numpy()  # (bs, 128)\n",
    "    context_vec2s = gru_info2['context'] # .detach().cpu().numpy()\n",
    "    #Find the cells with (1)(not implemented) the lowest var for each context \n",
    "    #                    (2) the largest mean difference btw 2 contexts\n",
    "    context1_mean = np.mean(context_vec1s.detach().cpu().numpy() , axis=0)\n",
    "    context2_mean = np.mean(context_vec2s.detach().cpu().numpy() , axis=0)\n",
    "    context1_var = np.var(context_vec1s.detach().cpu().numpy() , axis=0)\n",
    "    context2_var = np.var(context_vec2s.detach().cpu().numpy() , axis=0)\n",
    "    diff = np.absolute(context1_mean - context2_mean)\n",
    "    yy = sorted(zip(range(128), diff), key=lambda x: -x[1]) # decreasing order\n",
    "    yy = [y[0] for y in yy]\n",
    "    print('>>> The cells with max diff of mean: ', yy)\n",
    "    ###########################################################################\n",
    "    isSuccesSwap = True\n",
    "    success_rate1 = 0\n",
    "    success_rate2 = 0\n",
    "    # Load hidden states\n",
    "#     certain_set1 = get_certain_set(swap_position, number1, batch_size=sample_size)\n",
    "#     certain_set2 = get_certain_set(swap_position, number2, batch_size=sample_size)\n",
    "#     predictions1_useless, gru_info1 = predict(certain_set1, disabled_cells=[],\n",
    "#                                               batch_size=sample_size, disabled_clf_input_cells=[])\n",
    "#     predictions2_useless, gru_info2 = predict(certain_set2, disabled_cells=[], \n",
    "#                                               batch_size=sample_size, disabled_clf_input_cells=[])\n",
    "\n",
    "#     context_vec1s = gru_info1['hiddens'].permute(2, 0, 1) # [sent_len, bs, 128]\n",
    "#     context_vec2s = gru_info2['hiddens'].permute(2, 0, 1)\n",
    "#         print(context_vec1s.shape)\n",
    "    # Swap some cell values in the hidden state!!!\n",
    "    context_vec1_tmp = context_vec1s.clone()  # (bs, 128)\n",
    "    context_vec2_tmp = context_vec2s.clone()\n",
    "    mask = torch.ones(128, dtype=torch.bool).cuda()\n",
    "    for cell in swap_cells:\n",
    "        mask[cell] = 0\n",
    "    mask_inv = ~mask\n",
    "    context_vec1s = context_vec2_tmp * mask_inv + context_vec1s * mask  \n",
    "    context_vec2s = context_vec1_tmp * mask_inv + context_vec2s * mask \n",
    "    outputs1 = decodeContext(context_vec1s) # [12, 6575, 6]\n",
    "    outputs2 = decodeContext(context_vec2s)\n",
    "    predictions1 = []\n",
    "    predictions2 = []\n",
    "    for pred in outputs1.cpu().detach().numpy().argmax(1):\n",
    "                predictions1.append(pred)\n",
    "    for pred in outputs2.cpu().detach().numpy().argmax(1):\n",
    "        predictions2.append(pred)\n",
    "\n",
    "    def calculateSuccessRate(input_set, prediction_set, target_pos):\n",
    "        correct_count = 0\n",
    "        for sent_in, sent_pred in zip(input_set, prediction_set):\n",
    "            target_word = sent_in[-3]\n",
    "#             print(f\"{target_word}, {sent_pred}, {sent_in}, {target_pos}\")\n",
    "            if target_pos < len(sent_pred):\n",
    "#                 print(sent_pred[target_pos], target_word)\n",
    "                if sent_pred[target_pos] == target_word:\n",
    "                    correct_count += 1\n",
    "\n",
    "        success_rate = correct_count / len(prediction_set)\n",
    "        return success_rate\n",
    "#     print('>>>>>>>>>>>>>>>>>>>>>>>>>>>>>>>>>')\n",
    "#     _, _ = untokenize_output(certain_set1, prediction1_useless, verbose=print_sent)\n",
    "#     print('WWWWWWWWWWWWWWWWWWWWWWWWWWWWWWWWWWWW')\n",
    "#     _, _ = untokenize_output(certain_set2, prediction2_useless, verbose=print_sent) \n",
    "#     print('AAAAAAAAAAAAAAAAAAAAAAAAAAAAAAAAAAA')\n",
    "    input_set, prediction_set = untokenize_output(certain_set1, predictions1, verbose=print_sent) \n",
    "    success_rate1 = calculateSuccessRate(input_set, prediction_set, number2)\n",
    "    input_set, prediction_set = untokenize_output(certain_set2, predictions2, verbose=print_sent)\n",
    "    success_rate2 = calculateSuccessRate(input_set, prediction_set, number1)\n",
    "    if success_rate1 < 1 or success_rate2 < 1:\n",
    "        isSuccesSwap = False\n",
    "        \n",
    "    print(f\">>> Success rate: {np.mean(success_rate1)}, and {np.mean(success_rate2)}, {number1}, {number2}\")\n",
    " \n",
    "    return isSuccesSwap"
   ]
  },
  {
   "cell_type": "markdown",
   "metadata": {},
   "source": [
    "# Swap sum 3 and sum 6"
   ]
  },
  {
   "cell_type": "code",
   "execution_count": 197,
   "metadata": {},
   "outputs": [],
   "source": [
    "swap_cells = [12, 60, 111, 31, 49, 47, 63, 29, 59, 13, 36, 121, 108, 24, \n",
    "              103, 10, 102, 48, 73, 98, 83, 74, 33, 112, 118, 84, 95, \n",
    "              18, 6, 51, 37, 28, 61, 1, 67, 22, 45, 9, 86, 21]\n",
    "swap_cells = [12, 60, 111, 31, 49, 47, 63, 29, 59, 13, 36, 121, 108, 24, \n",
    "              103, 10, 102, 48, 73, 98, 83, 74, 33, 112, 118, 84, 95]\n",
    "swap_cells = [12, 60, 111, 31, 49, 47, 63, 29, 59, 13, 36, 121, 108, 24]\n",
    "swap_cells = [12, 60, 111, 31, 49, 47, 63, 29, 59, 13, 36]"
   ]
  },
  {
   "cell_type": "code",
   "execution_count": 198,
   "metadata": {},
   "outputs": [
    {
     "name": "stdout",
     "output_type": "stream",
     "text": [
      "number1: 3, number2: 6, swap_cells=[12, 60, 111, 31, 49, 47, 63, 29, 59, 13, 36]\n",
      "XXXXXXXXXXXXXXXXXXXXXXXXXXXXXXXXXXXX\n"
     ]
    },
    {
     "name": "stderr",
     "output_type": "stream",
     "text": [
      "/home/r07944011/anaconda3/envs/sdmlXai/lib/python3.7/site-packages/ipykernel_launcher.py:9: TqdmDeprecationWarning: This function will be removed in tqdm==5.0.0\n",
      "Please use `tqdm.notebook.tqdm` instead of `tqdm.tqdm_notebook`\n",
      "  if __name__ == '__main__':\n"
     ]
    },
    {
     "data": {
      "application/vnd.jupyter.widget-view+json": {
       "model_id": "ae0fcf56311f4b2285dc1758d6d4dcd1",
       "version_major": 2,
       "version_minor": 0
      },
      "text/plain": [
       "HBox(children=(IntProgress(value=0, max=1), HTML(value='')))"
      ]
     },
     "metadata": {},
     "output_type": "display_data"
    },
    {
     "name": "stdout",
     "output_type": "stream",
     "text": [
      "\n"
     ]
    },
    {
     "data": {
      "application/vnd.jupyter.widget-view+json": {
       "model_id": "dbc76bbcd5b84788b9acd98a990ea252",
       "version_major": 2,
       "version_minor": 0
      },
      "text/plain": [
       "HBox(children=(IntProgress(value=0, max=1), HTML(value='')))"
      ]
     },
     "metadata": {},
     "output_type": "display_data"
    },
    {
     "name": "stdout",
     "output_type": "stream",
     "text": [
      "\n",
      ">>> The cells with max diff of mean:  [12, 60, 111, 31, 49, 13, 47, 29, 63, 59, 36, 24, 102, 121, 124, 33, 112, 51, 95, 118, 18, 10, 74, 6, 108, 55, 22, 73, 1, 61, 103, 67, 98, 48, 99, 37, 45, 89, 8, 107, 86, 72, 127, 17, 123, 84, 28, 27, 94, 70, 56, 82, 3, 50, 88, 126, 71, 21, 46, 54, 87, 9, 93, 92, 83, 85, 41, 43, 77, 96, 120, 105, 62, 79, 39, 97, 7, 116, 26, 53, 14, 101, 57, 68, 69, 40, 109, 25, 119, 2, 4, 0, 16, 20, 113, 104, 64, 11, 75, 66, 44, 115, 100, 65, 81, 114, 5, 15, 19, 23, 30, 32, 34, 35, 38, 42, 52, 58, 76, 78, 80, 90, 91, 106, 110, 117, 122, 125]\n",
      ">>> Success rate: 1.0, and 1.0, 3, 6\n"
     ]
    },
    {
     "data": {
      "text/plain": [
       "True"
      ]
     },
     "execution_count": 198,
     "metadata": {},
     "output_type": "execute_result"
    }
   ],
   "source": [
    "swapHidden(swap_cells=swap_cells, print_sent=False)"
   ]
  },
  {
   "cell_type": "markdown",
   "metadata": {},
   "source": [
    "# Swap sum 3 and sum 5"
   ]
  },
  {
   "cell_type": "code",
   "execution_count": 202,
   "metadata": {},
   "outputs": [],
   "source": [
    "swap_cells = [12, 111, 60, 31, 49, 47, 13, 98, 50, 59, 51]"
   ]
  },
  {
   "cell_type": "code",
   "execution_count": 203,
   "metadata": {
    "scrolled": true
   },
   "outputs": [
    {
     "name": "stdout",
     "output_type": "stream",
     "text": [
      "number1: 3, number2: 5, swap_cells=[12, 111, 60, 31, 49, 47, 13, 98, 50, 59, 51]\n",
      "XXXXXXXXXXXXXXXXXXXXXXXXXXXXXXXXXXXX\n"
     ]
    },
    {
     "name": "stderr",
     "output_type": "stream",
     "text": [
      "/home/r07944011/anaconda3/envs/sdmlXai/lib/python3.7/site-packages/ipykernel_launcher.py:9: TqdmDeprecationWarning: This function will be removed in tqdm==5.0.0\n",
      "Please use `tqdm.notebook.tqdm` instead of `tqdm.tqdm_notebook`\n",
      "  if __name__ == '__main__':\n"
     ]
    },
    {
     "data": {
      "application/vnd.jupyter.widget-view+json": {
       "model_id": "",
       "version_major": 2,
       "version_minor": 0
      },
      "text/plain": [
       "HBox(children=(IntProgress(value=0, max=1), HTML(value='')))"
      ]
     },
     "metadata": {},
     "output_type": "display_data"
    },
    {
     "name": "stdout",
     "output_type": "stream",
     "text": [
      "\n"
     ]
    },
    {
     "data": {
      "application/vnd.jupyter.widget-view+json": {
       "model_id": "",
       "version_major": 2,
       "version_minor": 0
      },
      "text/plain": [
       "HBox(children=(IntProgress(value=0, max=1), HTML(value='')))"
      ]
     },
     "metadata": {},
     "output_type": "display_data"
    },
    {
     "name": "stdout",
     "output_type": "stream",
     "text": [
      "\n",
      ">>> The cells with max diff of mean:  [12, 60, 31, 111, 49, 13, 47, 98, 59, 24, 33, 103, 51, 83, 118, 55, 112, 74, 37, 45, 39, 121, 63, 108, 95, 21, 6, 86, 18, 61, 107, 99, 67, 71, 28, 27, 9, 22, 50, 89, 10, 127, 88, 1, 87, 124, 54, 43, 29, 36, 7, 70, 84, 46, 126, 72, 41, 8, 3, 105, 62, 68, 92, 97, 48, 94, 102, 17, 77, 120, 85, 2, 25, 53, 26, 14, 116, 123, 57, 93, 56, 76, 40, 96, 69, 16, 100, 79, 109, 20, 113, 101, 0, 4, 44, 82, 75, 104, 115, 5, 11, 15, 19, 23, 30, 32, 34, 35, 38, 42, 52, 58, 64, 65, 66, 73, 78, 80, 81, 90, 91, 106, 110, 114, 117, 119, 122, 125]\n",
      ">>> Success rate: 1.0, and 1.0, 3, 5\n"
     ]
    },
    {
     "data": {
      "text/plain": [
       "True"
      ]
     },
     "execution_count": 203,
     "metadata": {},
     "output_type": "execute_result"
    }
   ],
   "source": [
    "swapHidden(number1=3, number2=5, swap_cells=swap_cells, print_sent=False)"
   ]
  },
  {
   "cell_type": "markdown",
   "metadata": {},
   "source": [
    "# Swap sum 3 and sum 4"
   ]
  },
  {
   "cell_type": "code",
   "execution_count": 236,
   "metadata": {},
   "outputs": [],
   "source": [
    "swap_cells = [12, 111, 31, 60, 47, 49, 13, 59, 24]"
   ]
  },
  {
   "cell_type": "code",
   "execution_count": 237,
   "metadata": {
    "scrolled": true
   },
   "outputs": [
    {
     "name": "stdout",
     "output_type": "stream",
     "text": [
      "number1: 3, number2: 5, swap_cells=[12, 111, 31, 60, 47, 49, 13, 59, 24]\n",
      "XXXXXXXXXXXXXXXXXXXXXXXXXXXXXXXXXXXX\n"
     ]
    },
    {
     "name": "stderr",
     "output_type": "stream",
     "text": [
      "/home/r07944011/anaconda3/envs/sdmlXai/lib/python3.7/site-packages/ipykernel_launcher.py:9: TqdmDeprecationWarning: This function will be removed in tqdm==5.0.0\n",
      "Please use `tqdm.notebook.tqdm` instead of `tqdm.tqdm_notebook`\n",
      "  if __name__ == '__main__':\n"
     ]
    },
    {
     "data": {
      "application/vnd.jupyter.widget-view+json": {
       "model_id": "",
       "version_major": 2,
       "version_minor": 0
      },
      "text/plain": [
       "HBox(children=(IntProgress(value=0, max=1), HTML(value='')))"
      ]
     },
     "metadata": {},
     "output_type": "display_data"
    },
    {
     "name": "stdout",
     "output_type": "stream",
     "text": [
      "\n"
     ]
    },
    {
     "data": {
      "application/vnd.jupyter.widget-view+json": {
       "model_id": "",
       "version_major": 2,
       "version_minor": 0
      },
      "text/plain": [
       "HBox(children=(IntProgress(value=0, max=1), HTML(value='')))"
      ]
     },
     "metadata": {},
     "output_type": "display_data"
    },
    {
     "name": "stdout",
     "output_type": "stream",
     "text": [
      "\n",
      ">>> The cells with max diff of mean:  [12, 111, 31, 60, 47, 49, 13, 63, 59, 98, 118, 24, 33, 45, 121, 107, 108, 86, 10, 103, 1, 43, 28, 50, 74, 99, 84, 95, 124, 67, 127, 27, 71, 37, 112, 21, 61, 62, 8, 79, 88, 39, 29, 87, 53, 36, 54, 3, 96, 18, 126, 89, 92, 55, 56, 6, 51, 102, 83, 9, 48, 41, 105, 22, 25, 97, 85, 94, 26, 17, 123, 70, 113, 116, 77, 68, 93, 69, 57, 46, 72, 82, 16, 40, 100, 120, 0, 14, 2, 4, 109, 7, 20, 101, 44, 73, 64, 75, 115, 117, 5, 11, 15, 19, 23, 30, 32, 34, 35, 38, 42, 52, 58, 65, 66, 76, 78, 80, 81, 90, 91, 104, 106, 110, 114, 119, 122, 125]\n",
      ">>> Success rate: 1.0, and 1.0, 3, 5\n"
     ]
    },
    {
     "data": {
      "text/plain": [
       "True"
      ]
     },
     "execution_count": 237,
     "metadata": {},
     "output_type": "execute_result"
    }
   ],
   "source": [
    "swapHidden(number1=3, number2=5, swap_cells=swap_cells, print_sent=False)"
   ]
  },
  {
   "cell_type": "code",
   "execution_count": null,
   "metadata": {},
   "outputs": [],
   "source": []
  },
  {
   "cell_type": "markdown",
   "metadata": {},
   "source": [
    "# Swap sum 4 and sum 5"
   ]
  },
  {
   "cell_type": "code",
   "execution_count": 248,
   "metadata": {},
   "outputs": [],
   "source": [
    "swap_cells = [60, 12, 49, 31, 111, 63, 98, 13, 47, 102, 59]"
   ]
  },
  {
   "cell_type": "code",
   "execution_count": 249,
   "metadata": {
    "scrolled": true
   },
   "outputs": [
    {
     "name": "stdout",
     "output_type": "stream",
     "text": [
      "number1: 4, number2: 5, swap_cells=[60, 12, 49, 31, 111, 63, 98, 13, 47, 102, 59]\n",
      "XXXXXXXXXXXXXXXXXXXXXXXXXXXXXXXXXXXX\n"
     ]
    },
    {
     "name": "stderr",
     "output_type": "stream",
     "text": [
      "/home/r07944011/anaconda3/envs/sdmlXai/lib/python3.7/site-packages/ipykernel_launcher.py:9: TqdmDeprecationWarning: This function will be removed in tqdm==5.0.0\n",
      "Please use `tqdm.notebook.tqdm` instead of `tqdm.tqdm_notebook`\n",
      "  if __name__ == '__main__':\n"
     ]
    },
    {
     "data": {
      "application/vnd.jupyter.widget-view+json": {
       "model_id": "fd2cc573c8744d00bba5a4e740733ad8",
       "version_major": 2,
       "version_minor": 0
      },
      "text/plain": [
       "HBox(children=(IntProgress(value=0, max=1), HTML(value='')))"
      ]
     },
     "metadata": {},
     "output_type": "display_data"
    },
    {
     "name": "stdout",
     "output_type": "stream",
     "text": [
      "\n"
     ]
    },
    {
     "data": {
      "application/vnd.jupyter.widget-view+json": {
       "model_id": "2cf2c26e2e53409d872abf76aeb8e4bc",
       "version_major": 2,
       "version_minor": 0
      },
      "text/plain": [
       "HBox(children=(IntProgress(value=0, max=1), HTML(value='')))"
      ]
     },
     "metadata": {},
     "output_type": "display_data"
    },
    {
     "name": "stdout",
     "output_type": "stream",
     "text": [
      "\n",
      ">>> The cells with max diff of mean:  [60, 12, 49, 111, 31, 79, 47, 50, 13, 59, 24, 95, 112, 102, 45, 98, 124, 83, 51, 121, 37, 33, 63, 86, 55, 39, 28, 67, 103, 89, 127, 18, 6, 61, 74, 10, 21, 96, 1, 27, 99, 84, 56, 71, 7, 62, 88, 70, 17, 126, 108, 107, 53, 29, 41, 68, 105, 36, 48, 92, 123, 118, 3, 9, 97, 87, 46, 93, 22, 69, 101, 54, 26, 85, 8, 72, 82, 120, 76, 25, 77, 113, 20, 57, 100, 40, 43, 0, 14, 109, 4, 94, 2, 75, 116, 16, 44, 42, 64, 104, 114, 115, 5, 11, 15, 19, 23, 30, 32, 34, 35, 38, 52, 58, 65, 66, 73, 78, 80, 81, 90, 91, 106, 110, 117, 119, 122, 125]\n",
      ">>> Success rate: 1.0, and 1.0, 4, 5\n"
     ]
    },
    {
     "data": {
      "text/plain": [
       "True"
      ]
     },
     "execution_count": 249,
     "metadata": {},
     "output_type": "execute_result"
    }
   ],
   "source": [
    "swapHidden(number1=4, number2=5, swap_cells=swap_cells, print_sent=False)"
   ]
  },
  {
   "cell_type": "code",
   "execution_count": null,
   "metadata": {},
   "outputs": [],
   "source": []
  },
  {
   "cell_type": "markdown",
   "metadata": {},
   "source": [
    "# Swap sum 4 and sum 6"
   ]
  },
  {
   "cell_type": "code",
   "execution_count": 265,
   "metadata": {},
   "outputs": [],
   "source": [
    "swap_cells = [60, 49, 12, 111, 29, 31, 47, 13, 63, 36, 59]"
   ]
  },
  {
   "cell_type": "code",
   "execution_count": 266,
   "metadata": {
    "scrolled": true
   },
   "outputs": [
    {
     "name": "stdout",
     "output_type": "stream",
     "text": [
      "number1: 4, number2: 6, swap_cells=[60, 49, 12, 111, 29, 31, 47, 13, 63, 36, 59]\n",
      "XXXXXXXXXXXXXXXXXXXXXXXXXXXXXXXXXXXX\n"
     ]
    },
    {
     "name": "stderr",
     "output_type": "stream",
     "text": [
      "/home/r07944011/anaconda3/envs/sdmlXai/lib/python3.7/site-packages/ipykernel_launcher.py:9: TqdmDeprecationWarning: This function will be removed in tqdm==5.0.0\n",
      "Please use `tqdm.notebook.tqdm` instead of `tqdm.tqdm_notebook`\n",
      "  if __name__ == '__main__':\n"
     ]
    },
    {
     "data": {
      "application/vnd.jupyter.widget-view+json": {
       "model_id": "0570c1010d33458f92be82e80e87be5f",
       "version_major": 2,
       "version_minor": 0
      },
      "text/plain": [
       "HBox(children=(IntProgress(value=0, max=1), HTML(value='')))"
      ]
     },
     "metadata": {},
     "output_type": "display_data"
    },
    {
     "name": "stdout",
     "output_type": "stream",
     "text": [
      "\n"
     ]
    },
    {
     "data": {
      "application/vnd.jupyter.widget-view+json": {
       "model_id": "9a902891c58e49cda644bded2eb14ac8",
       "version_major": 2,
       "version_minor": 0
      },
      "text/plain": [
       "HBox(children=(IntProgress(value=0, max=1), HTML(value='')))"
      ]
     },
     "metadata": {},
     "output_type": "display_data"
    },
    {
     "name": "stdout",
     "output_type": "stream",
     "text": [
      "\n",
      ">>> The cells with max diff of mean:  [60, 49, 12, 63, 111, 29, 31, 79, 47, 13, 36, 59, 24, 121, 103, 98, 74, 118, 112, 33, 86, 124, 67, 108, 10, 48, 6, 45, 99, 83, 39, 37, 51, 62, 3, 102, 27, 50, 127, 55, 107, 82, 21, 71, 9, 61, 88, 7, 92, 126, 84, 22, 53, 18, 89, 28, 54, 8, 73, 77, 70, 105, 1, 97, 26, 41, 25, 72, 43, 40, 93, 116, 87, 14, 17, 101, 56, 120, 68, 94, 85, 69, 57, 95, 96, 109, 4, 100, 16, 113, 0, 20, 123, 2, 104, 75, 44, 46, 64, 115, 5, 11, 15, 19, 23, 30, 32, 34, 35, 38, 42, 52, 58, 65, 66, 76, 78, 80, 81, 90, 91, 106, 110, 114, 117, 119, 122, 125]\n",
      ">>> Success rate: 1.0, and 1.0, 4, 6\n"
     ]
    },
    {
     "data": {
      "text/plain": [
       "True"
      ]
     },
     "execution_count": 266,
     "metadata": {},
     "output_type": "execute_result"
    }
   ],
   "source": [
    "swapHidden(number1=4, number2=6, swap_cells=swap_cells, print_sent=False)"
   ]
  },
  {
   "cell_type": "markdown",
   "metadata": {},
   "source": [
    "# Swap sum 5 and sum 6"
   ]
  },
  {
   "cell_type": "code",
   "execution_count": 279,
   "metadata": {},
   "outputs": [],
   "source": [
    "swap_cells = [60, 29, 63, 49, 111, 36, 98, 59, 47, 13, 24]"
   ]
  },
  {
   "cell_type": "code",
   "execution_count": 280,
   "metadata": {
    "scrolled": true
   },
   "outputs": [
    {
     "name": "stdout",
     "output_type": "stream",
     "text": [
      "number1: 5, number2: 6, swap_cells=[60, 29, 63, 49, 111, 36, 98, 59, 47, 13, 24]\n",
      "XXXXXXXXXXXXXXXXXXXXXXXXXXXXXXXXXXXX\n"
     ]
    },
    {
     "name": "stderr",
     "output_type": "stream",
     "text": [
      "/home/r07944011/anaconda3/envs/sdmlXai/lib/python3.7/site-packages/ipykernel_launcher.py:9: TqdmDeprecationWarning: This function will be removed in tqdm==5.0.0\n",
      "Please use `tqdm.notebook.tqdm` instead of `tqdm.tqdm_notebook`\n",
      "  if __name__ == '__main__':\n"
     ]
    },
    {
     "data": {
      "application/vnd.jupyter.widget-view+json": {
       "model_id": "",
       "version_major": 2,
       "version_minor": 0
      },
      "text/plain": [
       "HBox(children=(IntProgress(value=0, max=1), HTML(value='')))"
      ]
     },
     "metadata": {},
     "output_type": "display_data"
    },
    {
     "name": "stdout",
     "output_type": "stream",
     "text": [
      "\n"
     ]
    },
    {
     "data": {
      "application/vnd.jupyter.widget-view+json": {
       "model_id": "",
       "version_major": 2,
       "version_minor": 0
      },
      "text/plain": [
       "HBox(children=(IntProgress(value=0, max=1), HTML(value='')))"
      ]
     },
     "metadata": {},
     "output_type": "display_data"
    },
    {
     "name": "stdout",
     "output_type": "stream",
     "text": [
      "\n",
      ">>> The cells with max diff of mean:  [60, 63, 29, 49, 36, 59, 98, 111, 47, 13, 121, 2, 67, 10, 37, 48, 22, 86, 74, 108, 45, 51, 61, 112, 107, 103, 55, 99, 124, 33, 71, 39, 1, 3, 118, 28, 102, 89, 127, 41, 73, 95, 126, 24, 7, 94, 92, 84, 6, 9, 27, 72, 18, 8, 83, 17, 26, 21, 85, 56, 46, 69, 68, 77, 54, 93, 88, 53, 87, 116, 14, 12, 96, 105, 25, 70, 40, 101, 82, 100, 4, 62, 16, 97, 120, 104, 43, 57, 109, 50, 0, 123, 113, 44, 75, 20, 64, 79, 19, 31, 115, 119, 5, 11, 15, 23, 30, 32, 34, 35, 38, 42, 52, 58, 65, 66, 76, 78, 80, 81, 90, 91, 106, 110, 114, 117, 122, 125]\n",
      ">>> Success rate: 1.0, and 1.0, 5, 6\n"
     ]
    },
    {
     "data": {
      "text/plain": [
       "True"
      ]
     },
     "execution_count": 280,
     "metadata": {},
     "output_type": "execute_result"
    }
   ],
   "source": [
    "swapHidden(number1=5, number2=6, swap_cells=swap_cells, print_sent=False)"
   ]
  },
  {
   "cell_type": "code",
   "execution_count": null,
   "metadata": {},
   "outputs": [],
   "source": []
  },
  {
   "cell_type": "markdown",
   "metadata": {},
   "source": [
    "# Swap sum 2 and sum 3"
   ]
  },
  {
   "cell_type": "code",
   "execution_count": 289,
   "metadata": {},
   "outputs": [],
   "source": [
    "swap_cells = [104, 62, 43, 47, 13, 95, 50, 59, 79, 1]"
   ]
  },
  {
   "cell_type": "code",
   "execution_count": 290,
   "metadata": {
    "scrolled": true
   },
   "outputs": [
    {
     "name": "stdout",
     "output_type": "stream",
     "text": [
      "number1: 2, number2: 3, swap_cells=[104, 62, 43, 47, 13, 95, 50, 59, 79, 1]\n",
      "XXXXXXXXXXXXXXXXXXXXXXXXXXXXXXXXXXXX\n"
     ]
    },
    {
     "name": "stderr",
     "output_type": "stream",
     "text": [
      "/home/r07944011/anaconda3/envs/sdmlXai/lib/python3.7/site-packages/ipykernel_launcher.py:9: TqdmDeprecationWarning: This function will be removed in tqdm==5.0.0\n",
      "Please use `tqdm.notebook.tqdm` instead of `tqdm.tqdm_notebook`\n",
      "  if __name__ == '__main__':\n"
     ]
    },
    {
     "data": {
      "application/vnd.jupyter.widget-view+json": {
       "model_id": "6a2ea356334f4aa69962cc21c20ba4ca",
       "version_major": 2,
       "version_minor": 0
      },
      "text/plain": [
       "HBox(children=(IntProgress(value=0, max=1), HTML(value='')))"
      ]
     },
     "metadata": {},
     "output_type": "display_data"
    },
    {
     "name": "stdout",
     "output_type": "stream",
     "text": [
      "\n"
     ]
    },
    {
     "data": {
      "application/vnd.jupyter.widget-view+json": {
       "model_id": "6c6e0d97f78449f98e28acbf54ec9604",
       "version_major": 2,
       "version_minor": 0
      },
      "text/plain": [
       "HBox(children=(IntProgress(value=0, max=1), HTML(value='')))"
      ]
     },
     "metadata": {},
     "output_type": "display_data"
    },
    {
     "name": "stdout",
     "output_type": "stream",
     "text": [
      "\n",
      ">>> The cells with max diff of mean:  [47, 13, 104, 43, 62, 50, 95, 79, 59, 102, 1, 124, 24, 12, 45, 107, 108, 99, 39, 51, 112, 74, 83, 37, 55, 118, 22, 127, 103, 18, 98, 121, 28, 67, 61, 70, 21, 56, 7, 71, 89, 9, 20, 6, 84, 41, 86, 8, 53, 10, 72, 46, 85, 93, 69, 82, 92, 94, 68, 126, 26, 33, 105, 123, 17, 63, 31, 25, 101, 87, 16, 96, 54, 120, 77, 48, 2, 109, 57, 36, 100, 4, 113, 49, 0, 75, 44, 29, 27, 3, 114, 5, 11, 14, 15, 19, 23, 30, 32, 34, 35, 38, 40, 42, 52, 58, 60, 64, 65, 66, 73, 76, 78, 80, 81, 88, 90, 91, 97, 106, 110, 111, 115, 116, 117, 119, 122, 125]\n",
      ">>> Success rate: 1.0, and 1.0, 2, 3\n"
     ]
    },
    {
     "data": {
      "text/plain": [
       "True"
      ]
     },
     "execution_count": 290,
     "metadata": {},
     "output_type": "execute_result"
    }
   ],
   "source": [
    "swapHidden(number1=2, number2=3, swap_cells=swap_cells, print_sent=False)"
   ]
  },
  {
   "cell_type": "code",
   "execution_count": null,
   "metadata": {},
   "outputs": [],
   "source": []
  },
  {
   "cell_type": "markdown",
   "metadata": {},
   "source": [
    "# Swap sum 2 and sum 4"
   ]
  },
  {
   "cell_type": "code",
   "execution_count": 299,
   "metadata": {},
   "outputs": [],
   "source": [
    "swap_cells = [47, 12, 104, 62, 43, 95, 50, 111, 13, 31, 59]"
   ]
  },
  {
   "cell_type": "code",
   "execution_count": 300,
   "metadata": {
    "scrolled": true
   },
   "outputs": [
    {
     "name": "stdout",
     "output_type": "stream",
     "text": [
      "number1: 2, number2: 4, swap_cells=[47, 12, 104, 62, 43, 95, 50, 111, 13, 31, 59]\n",
      "XXXXXXXXXXXXXXXXXXXXXXXXXXXXXXXXXXXX\n"
     ]
    },
    {
     "name": "stderr",
     "output_type": "stream",
     "text": [
      "/home/r07944011/anaconda3/envs/sdmlXai/lib/python3.7/site-packages/ipykernel_launcher.py:9: TqdmDeprecationWarning: This function will be removed in tqdm==5.0.0\n",
      "Please use `tqdm.notebook.tqdm` instead of `tqdm.tqdm_notebook`\n",
      "  if __name__ == '__main__':\n"
     ]
    },
    {
     "data": {
      "application/vnd.jupyter.widget-view+json": {
       "model_id": "0d71cbbb49e84338a6eee1f3ab7ccbf6",
       "version_major": 2,
       "version_minor": 0
      },
      "text/plain": [
       "HBox(children=(IntProgress(value=0, max=1), HTML(value='')))"
      ]
     },
     "metadata": {},
     "output_type": "display_data"
    },
    {
     "name": "stdout",
     "output_type": "stream",
     "text": [
      "\n"
     ]
    },
    {
     "data": {
      "application/vnd.jupyter.widget-view+json": {
       "model_id": "7b06eebf79bb4739a95b708721a847cf",
       "version_major": 2,
       "version_minor": 0
      },
      "text/plain": [
       "HBox(children=(IntProgress(value=0, max=1), HTML(value='')))"
      ]
     },
     "metadata": {},
     "output_type": "display_data"
    },
    {
     "name": "stdout",
     "output_type": "stream",
     "text": [
      "\n",
      ">>> The cells with max diff of mean:  [12, 47, 104, 62, 43, 95, 50, 31, 111, 13, 59, 79, 63, 107, 83, 118, 1, 103, 45, 112, 102, 121, 99, 6, 2, 10, 33, 51, 39, 84, 37, 89, 21, 108, 61, 74, 71, 124, 87, 86, 126, 70, 98, 82, 18, 8, 36, 67, 28, 53, 54, 41, 96, 92, 46, 93, 7, 17, 26, 9, 22, 69, 56, 116, 127, 120, 105, 25, 14, 72, 68, 55, 77, 85, 57, 24, 16, 123, 20, 94, 27, 88, 100, 48, 101, 4, 113, 109, 29, 97, 3, 44, 75, 0, 49, 114, 5, 11, 15, 19, 23, 30, 32, 34, 35, 38, 40, 42, 52, 58, 60, 64, 65, 66, 73, 76, 78, 80, 81, 90, 91, 106, 110, 115, 117, 119, 122, 125]\n",
      ">>> Success rate: 1.0, and 1.0, 2, 4\n"
     ]
    },
    {
     "data": {
      "text/plain": [
       "True"
      ]
     },
     "execution_count": 300,
     "metadata": {},
     "output_type": "execute_result"
    }
   ],
   "source": [
    "swapHidden(number1=2, number2=4, swap_cells=swap_cells, print_sent=False)"
   ]
  },
  {
   "cell_type": "code",
   "execution_count": null,
   "metadata": {},
   "outputs": [],
   "source": []
  },
  {
   "cell_type": "markdown",
   "metadata": {},
   "source": [
    "# Swap sum 2 and sum 5"
   ]
  },
  {
   "cell_type": "code",
   "execution_count": 325,
   "metadata": {},
   "outputs": [],
   "source": [
    "swap_cells = [12, 47, 60, 111, 31, 104, 62, 43, 59, 13, 95, 49, 98, 50, 63 ]"
   ]
  },
  {
   "cell_type": "code",
   "execution_count": 326,
   "metadata": {
    "scrolled": true
   },
   "outputs": [
    {
     "name": "stdout",
     "output_type": "stream",
     "text": [
      "number1: 2, number2: 5, swap_cells=[12, 47, 60, 111, 31, 104, 62, 43, 59, 13, 95, 49, 98, 50, 63]\n",
      "XXXXXXXXXXXXXXXXXXXXXXXXXXXXXXXXXXXX\n"
     ]
    },
    {
     "name": "stderr",
     "output_type": "stream",
     "text": [
      "/home/r07944011/anaconda3/envs/sdmlXai/lib/python3.7/site-packages/ipykernel_launcher.py:9: TqdmDeprecationWarning: This function will be removed in tqdm==5.0.0\n",
      "Please use `tqdm.notebook.tqdm` instead of `tqdm.tqdm_notebook`\n",
      "  if __name__ == '__main__':\n"
     ]
    },
    {
     "data": {
      "application/vnd.jupyter.widget-view+json": {
       "model_id": "b5744ec60a754a75b715f1d9c4796ced",
       "version_major": 2,
       "version_minor": 0
      },
      "text/plain": [
       "HBox(children=(IntProgress(value=0, max=1), HTML(value='')))"
      ]
     },
     "metadata": {},
     "output_type": "display_data"
    },
    {
     "name": "stdout",
     "output_type": "stream",
     "text": [
      "\n"
     ]
    },
    {
     "data": {
      "application/vnd.jupyter.widget-view+json": {
       "model_id": "2b9e91df0daf4995a5374c87b231fc67",
       "version_major": 2,
       "version_minor": 0
      },
      "text/plain": [
       "HBox(children=(IntProgress(value=0, max=1), HTML(value='')))"
      ]
     },
     "metadata": {},
     "output_type": "display_data"
    },
    {
     "name": "stdout",
     "output_type": "stream",
     "text": [
      "\n",
      ">>> The cells with max diff of mean:  [12, 47, 111, 104, 62, 31, 43, 95, 60, 50, 59, 13, 49, 98, 63, 24, 1, 118, 33, 107, 102, 45, 99, 83, 112, 61, 121, 10, 55, 6, 103, 51, 96, 127, 22, 74, 37, 27, 28, 67, 86, 39, 79, 89, 88, 71, 2, 87, 7, 36, 72, 124, 94, 41, 108, 92, 29, 84, 82, 54, 8, 26, 69, 17, 70, 3, 97, 93, 21, 76, 25, 68, 53, 126, 77, 116, 46, 120, 18, 57, 101, 56, 85, 105, 40, 0, 9, 48, 100, 20, 109, 16, 113, 4, 44, 14, 75, 115, 5, 11, 15, 19, 23, 30, 32, 34, 35, 38, 42, 52, 58, 64, 65, 66, 73, 78, 80, 81, 90, 91, 106, 110, 114, 117, 119, 122, 123, 125]\n",
      ">>> Success rate: 0.99609375, and 0.9970703125, 2, 5\n"
     ]
    },
    {
     "data": {
      "text/plain": [
       "False"
      ]
     },
     "execution_count": 326,
     "metadata": {},
     "output_type": "execute_result"
    }
   ],
   "source": [
    "swapHidden(number1=2, number2=5, swap_cells=swap_cells, print_sent=False)"
   ]
  },
  {
   "cell_type": "code",
   "execution_count": null,
   "metadata": {},
   "outputs": [],
   "source": []
  },
  {
   "cell_type": "markdown",
   "metadata": {},
   "source": [
    "# Swap sum 2 and sum 6"
   ]
  },
  {
   "cell_type": "code",
   "execution_count": 339,
   "metadata": {},
   "outputs": [],
   "source": [
    "swap_cells = [12, 60, 47, 111, 31, 62, 104, 43, 50, 49, 59, 29, 13, 63, 24, 36]"
   ]
  },
  {
   "cell_type": "code",
   "execution_count": 340,
   "metadata": {
    "scrolled": false
   },
   "outputs": [
    {
     "name": "stdout",
     "output_type": "stream",
     "text": [
      "number1: 2, number2: 6, swap_cells=[12, 60, 47, 111, 31, 62, 104, 43, 50, 49, 59, 29, 13, 63, 24, 36]\n",
      "XXXXXXXXXXXXXXXXXXXXXXXXXXXXXXXXXXXX\n"
     ]
    },
    {
     "name": "stderr",
     "output_type": "stream",
     "text": [
      "/home/r07944011/anaconda3/envs/sdmlXai/lib/python3.7/site-packages/ipykernel_launcher.py:9: TqdmDeprecationWarning: This function will be removed in tqdm==5.0.0\n",
      "Please use `tqdm.notebook.tqdm` instead of `tqdm.tqdm_notebook`\n",
      "  if __name__ == '__main__':\n"
     ]
    },
    {
     "data": {
      "application/vnd.jupyter.widget-view+json": {
       "model_id": "",
       "version_major": 2,
       "version_minor": 0
      },
      "text/plain": [
       "HBox(children=(IntProgress(value=0, max=1), HTML(value='')))"
      ]
     },
     "metadata": {},
     "output_type": "display_data"
    },
    {
     "name": "stdout",
     "output_type": "stream",
     "text": [
      "\n"
     ]
    },
    {
     "data": {
      "application/vnd.jupyter.widget-view+json": {
       "model_id": "",
       "version_major": 2,
       "version_minor": 0
      },
      "text/plain": [
       "HBox(children=(IntProgress(value=0, max=1), HTML(value='')))"
      ]
     },
     "metadata": {},
     "output_type": "display_data"
    },
    {
     "name": "stdout",
     "output_type": "stream",
     "text": [
      "\n",
      ">>> The cells with max diff of mean:  [12, 47, 60, 111, 31, 104, 62, 43, 95, 50, 49, 59, 29, 13, 63, 79, 24, 98, 36, 103, 124, 118, 121, 102, 45, 33, 1, 99, 107, 39, 51, 83, 74, 67, 37, 86, 127, 28, 112, 10, 17, 70, 6, 27, 55, 21, 108, 22, 89, 88, 3, 92, 87, 113, 48, 61, 84, 94, 8, 72, 26, 7, 71, 53, 9, 68, 126, 54, 73, 75, 25, 18, 105, 116, 77, 97, 96, 82, 14, 46, 56, 93, 40, 57, 41, 120, 2, 85, 69, 123, 101, 16, 100, 4, 20, 0, 44, 64, 109, 11, 114, 115, 5, 15, 19, 23, 30, 32, 34, 35, 38, 42, 52, 58, 65, 66, 76, 78, 80, 81, 90, 91, 106, 110, 117, 119, 122, 125]\n",
      ">>> Success rate: 1.0, and 1.0, 2, 6\n"
     ]
    },
    {
     "data": {
      "text/plain": [
       "True"
      ]
     },
     "execution_count": 340,
     "metadata": {},
     "output_type": "execute_result"
    }
   ],
   "source": [
    "swapHidden(number1=2, number2=6, swap_cells=swap_cells, print_sent=False)"
   ]
  },
  {
   "cell_type": "code",
   "execution_count": 346,
   "metadata": {},
   "outputs": [],
   "source": [
    "from utils import Union"
   ]
  },
  {
   "cell_type": "code",
   "execution_count": 350,
   "metadata": {},
   "outputs": [
    {
     "name": "stdout",
     "output_type": "stream",
     "text": [
      "[1, 12, 13, 24, 29, 31, 36, 43, 47, 49, 50, 51, 59, 60, 62, 63, 79, 95, 98, 102, 104, 111]\n"
     ]
    }
   ],
   "source": [
    "swap_cells_collection = []\n",
    "swap_cells_collection.append(set([104, 62, 43, 47, 13, 95, 50, 59, 79, 1]))\n",
    "swap_cells_collection.append(set([47, 12, 104, 62, 43, 95, 50, 111, 13, 31, 59]))\n",
    "swap_cells_collection.append(set([12, 47, 60, 111, 31, 104, 62, 43, 59, 13, 95, 49, 98, 50, 63 ]))\n",
    "swap_cells_collection.append(set([12, 60, 47, 111, 31, 62, 104, 43, 50, 49, 59, 29, 13, 63, 24, 36]))\n",
    "\n",
    "swap_cells_collection.append(set([12, 111, 31, 60, 47, 49, 13, 59, 24]))\n",
    "swap_cells_collection.append(set([12, 111, 60, 31, 49, 47, 13, 98, 50, 59, 51]))\n",
    "swap_cells_collection.append(set([12, 60, 111, 31, 49, 47, 63, 29, 59, 13, 36]))\n",
    "\n",
    "\n",
    "\n",
    "swap_cells_collection.append(set([60, 12, 49, 31, 111, 63, 98, 13, 47, 102, 59]))\n",
    "swap_cells_collection.append(set([60, 49, 12, 111, 29, 31, 47, 13, 63, 36, 59]))\n",
    "\n",
    "swap_cells_collection.append(set([60, 29, 63, 49, 111, 36, 98, 59, 47, 13, 24]))\n",
    "cells = Union(swap_cells_collection)\n",
    "print(cells)"
   ]
  },
  {
   "cell_type": "code",
   "execution_count": null,
   "metadata": {},
   "outputs": [],
   "source": []
  },
  {
   "cell_type": "markdown",
   "metadata": {},
   "source": [
    "# Test sum 2 and sum 6"
   ]
  },
  {
   "cell_type": "code",
   "execution_count": 487,
   "metadata": {},
   "outputs": [],
   "source": [
    "swap_cells_final = [1, 12, 13, 24, 29, 31, 36, 43, 47, 49, 50, 51, 59, 60, 62, 63, 79, 95, 98, 102, 104, 111]\n",
    "# The cells below are from the observation of the plotted figure\n",
    "swap_cells_final = [12, 13, 24, 29, 31, 36, 43, 47, 49, 50, 51, 59, 60, 62, 63, 79, 95, 104, 111]\n",
    "swap_cells_final = [12, 13, 29, 31, 36, 43, 47, 49, 50, 51, 59, 60, 62, 63, 79, 95, 104, 111]"
   ]
  },
  {
   "cell_type": "code",
   "execution_count": 464,
   "metadata": {
    "scrolled": false
   },
   "outputs": [
    {
     "name": "stdout",
     "output_type": "stream",
     "text": [
      "number1: 4, number2: 2, swap_cells=[12, 13, 29, 31, 36, 43, 47, 49, 50, 51, 59, 60, 62, 63, 79, 95, 104, 111]\n",
      "XXXXXXXXXXXXXXXXXXXXXXXXXXXXXXXXXXXX\n"
     ]
    },
    {
     "name": "stderr",
     "output_type": "stream",
     "text": [
      "/home/r07944011/anaconda3/envs/sdmlXai/lib/python3.7/site-packages/ipykernel_launcher.py:10: TqdmDeprecationWarning: This function will be removed in tqdm==5.0.0\n",
      "Please use `tqdm.notebook.tqdm` instead of `tqdm.tqdm_notebook`\n",
      "  # Remove the CWD from sys.path while we load stuff.\n"
     ]
    },
    {
     "data": {
      "application/vnd.jupyter.widget-view+json": {
       "model_id": "de504736eb254cf2b0264d0cb67ddc41",
       "version_major": 2,
       "version_minor": 0
      },
      "text/plain": [
       "HBox(children=(IntProgress(value=0, max=1), HTML(value='')))"
      ]
     },
     "metadata": {},
     "output_type": "display_data"
    },
    {
     "name": "stdout",
     "output_type": "stream",
     "text": [
      "\n"
     ]
    },
    {
     "data": {
      "application/vnd.jupyter.widget-view+json": {
       "model_id": "894f32029946412ba9de8cb087f81914",
       "version_major": 2,
       "version_minor": 0
      },
      "text/plain": [
       "HBox(children=(IntProgress(value=0, max=1), HTML(value='')))"
      ]
     },
     "metadata": {},
     "output_type": "display_data"
    },
    {
     "name": "stdout",
     "output_type": "stream",
     "text": [
      "\n",
      ">>> The cells with max diff of mean:  [47, 12, 104, 62, 43, 95, 59, 50, 111, 13, 31, 124, 112, 45, 83, 74, 102, 55, 108, 39, 103, 22, 127, 10, 33, 37, 6, 61, 107, 51, 84, 71, 118, 1, 86, 24, 99, 2, 98, 121, 79, 126, 7, 89, 67, 9, 56, 41, 53, 70, 8, 72, 113, 92, 46, 63, 26, 54, 68, 123, 87, 21, 25, 85, 105, 120, 82, 18, 77, 28, 96, 36, 93, 75, 94, 101, 17, 116, 14, 4, 20, 100, 27, 3, 88, 57, 69, 109, 49, 97, 60, 48, 29, 16, 44, 64, 117, 35, 110, 114, 42, 115, 0, 5, 11, 15, 19, 23, 30, 32, 34, 38, 40, 52, 58, 65, 66, 73, 76, 78, 80, 81, 90, 91, 106, 119, 122, 125]\n",
      ">>> Success rate: 1.0, and 1.0, 4, 2\n"
     ]
    },
    {
     "data": {
      "text/plain": [
       "True"
      ]
     },
     "execution_count": 464,
     "metadata": {},
     "output_type": "execute_result"
    }
   ],
   "source": [
    "swapHidden(number1=4, number2=2, swap_cells=swap_cells_final, print_sent=False, sample_size=16)"
   ]
  },
  {
   "cell_type": "markdown",
   "metadata": {},
   "source": [
    "# given a+b = const-> 畫不同a, b正整數組合"
   ]
  },
  {
   "cell_type": "code",
   "execution_count": 465,
   "metadata": {},
   "outputs": [],
   "source": [
    "def getContextMeanAndVar(designated_word=None, total_sum=6, the_first_num=2, \n",
    "                         plot_cells=[], print_sent=True, sample_size=1024, verbose=True):\n",
    "    if verbose:\n",
    "        print(f\"total_sum: {total_sum}, plot_cells={plot_cells}\")\n",
    "    ###########################################################################\n",
    "    if designated_word == None:\n",
    "        designated_word = random.choice(random.choice(corpus))\n",
    "    # get dataset\n",
    "    certain_set1 = get_certain_set(total_sum, designated_word=designated_word,\n",
    "                                   sample_size=sample_size, show=print_sent, \n",
    "                                   the_first_num=the_first_num)\n",
    "    prediction1_useless, gru_info1 = predict(certain_set1, batch_size=sample_size, verbose=verbose)\n",
    "    context_vec1s = gru_info1['context'] # .detach().cpu().numpy()  # (bs, 128)\n",
    "    #Find the cells with (1)(not implemented) the lowest var for each context \n",
    "    #                    (2) the largest mean difference btw 2 contexts\n",
    "    context1_mean = np.mean(context_vec1s.detach().cpu().numpy() , axis=0)\n",
    "    context1_var = np.var(context_vec1s.detach().cpu().numpy() , axis=0)\n",
    "    return context1_mean[plot_cells], context1_var[plot_cells]"
   ]
  },
  {
   "cell_type": "code",
   "execution_count": 466,
   "metadata": {},
   "outputs": [],
   "source": [
    "import matplotlib.pyplot as plt"
   ]
  },
  {
   "cell_type": "code",
   "execution_count": 467,
   "metadata": {},
   "outputs": [
    {
     "name": "stdout",
     "output_type": "stream",
     "text": [
      "total_sum: 6, plot_cells=[12, 13, 29, 31, 36, 43, 47, 49, 50, 51, 59, 60, 62, 63, 79, 95, 104, 111]\n",
      "['<SOS>', '它', '是', '我', '曾', '历', '经', '的', '风', '<EOS>', '不', '2', '4']\n",
      "['<SOS>', '花', '在', '风', '中', '摇', '来', '摇', '去', '<EOS>', '不', '2', '4']\n",
      "['<SOS>', '像', '遇', '见', '一', '本', '故', '事', '会', '<EOS>', '不', '2', '4']\n",
      "['<SOS>', '电', '话', '一', '直', '都', '在', '枕', '边', '<EOS>', '不', '2', '4']\n",
      "['<SOS>', '那', '是', '我', '心', '甘', '情', '愿', '承', '<EOS>', '不', '2', '4']\n",
      "['<SOS>', '常', '回', '家', '看', '看', '回', '家', '看', '<EOS>', '不', '2', '4']\n",
      "['<SOS>', '直', '催', '得', '人', '消', '瘦', '啊', '啊', '<EOS>', '不', '2', '4']\n",
      "['<SOS>', '想', '要', '飞', '天', '那', '这', '呢', '黑', '<EOS>', '不', '2', '4']\n",
      "['<SOS>', '人', '已', '老', '一', '柱', '香', '啊', '啊', '<EOS>', '不', '2', '4']\n",
      "['<SOS>', '唱', '高', '十', '度', '在', '协', '助', '啊', '<EOS>', '不', '2', '4']\n",
      "['<SOS>', '兰', '花', '指', '又', '一', '指', '衣', '带', '<EOS>', '不', '2', '4']\n",
      "['<SOS>', '枉', '有', '千', '言', '万', '语', '讲', '啊', '<EOS>', '不', '2', '4']\n",
      "['<SOS>', '爱', '让', '心', '中', '毒', '成', '为', '你', '<EOS>', '不', '2', '4']\n",
      "['<SOS>', '海', '浪', '一', '声', '声', '拍', '打', '在', '<EOS>', '不', '2', '4']\n",
      "['<SOS>', '我', '说', '我', '盼', '望', '我', '说', '我', '<EOS>', '不', '2', '4']\n",
      "['<SOS>', '没', '有', '人', '想', '轻', '易', '说', '分', '<EOS>', '不', '2', '4']\n",
      "['<SOS>', '學', '習', '十', '戒', '學', '習', '佛', '學', '<EOS>', '不', '2', '4']\n",
      "['<SOS>', '我', '就', '拥', '有', '她', '的', '世', '界', '<EOS>', '不', '2', '4']\n",
      "['<SOS>', '倾', '倒', '不', '致', '过', '于', '颠', '倒', '<EOS>', '不', '2', '4']\n",
      "['<SOS>', '就', '算', '一', '步', '一', '步', '一', '步', '<EOS>', '不', '2', '4']\n",
      "['<SOS>', '欢', '笑', '和', '泪', '滴', '不', '必', '太', '<EOS>', '不', '2', '4']\n",
      "['<SOS>', '走', '了', '就', '不', '能', '回', '啊', '啊', '<EOS>', '不', '2', '4']\n",
      "['<SOS>', '闪', '亮', '亮', '棉', '花', '糖', '融', '化', '<EOS>', '不', '2', '4']\n",
      "['<SOS>', '谎', '言', '只', '是', '靠', '自', '己', '去', '<EOS>', '不', '2', '4']\n",
      "['<SOS>', '笑', '和', '痛', '似', '假', '还', '似', '真', '<EOS>', '不', '2', '4']\n",
      "['<SOS>', '付', '出', '付', '出', '我', '的', '全', '部', '<EOS>', '不', '2', '4']\n",
      "['<SOS>', '你', '和', '我', '是', '河', '两', '岸', '永', '<EOS>', '不', '2', '4']\n",
      "['<SOS>', '琴', '声', '不', '断', '与', '谁', '今', '生', '<EOS>', '不', '2', '4']\n",
      "['<SOS>', '而', '你', '的', '笑', '容', '依', '然', '清', '<EOS>', '不', '2', '4']\n",
      "['<SOS>', '我', '试', '着', '不', '再', '说', '啊', '啊', '<EOS>', '不', '2', '4']\n",
      "['<SOS>', '跟', '着', '我', '的', '爱', '人', '上', '战', '<EOS>', '不', '2', '4']\n",
      "['<SOS>', '我', '说', '我', '说', '我', '要', '我', '们', '<EOS>', '不', '2', '4']\n",
      "['<SOS>', '怕', '日', '后', '梦', '醒', '时', '候', '啊', '<EOS>', '不', '2', '4']\n",
      "['<SOS>', '莫', '艳', '琳', '关', '喆', '紫', '薇', '哪', '<EOS>', '不', '2', '4']\n",
      "['<SOS>', '那', '一', '个', '骑', '单', '车', '卖', '报', '<EOS>', '不', '2', '4']\n",
      "['<SOS>', '听', '见', '自', '己', '喊', '啊', '啊', '啊', '<EOS>', '不', '2', '4']\n",
      "['<SOS>', '键', '盘', '尹', '岳', '洋', '啊', '啊', '啊', '<EOS>', '不', '2', '4']\n",
      "['<SOS>', '我', '要', '想', '办', '法', '毁', '掉', '一', '<EOS>', '不', '2', '4']\n",
      "['<SOS>', '不', '过', '啊', '啊', '啊', '啊', '啊', '啊', '<EOS>', '不', '2', '4']\n",
      "['<SOS>', '生', '命', '依', '然', '充', '满', '渴', '望', '<EOS>', '不', '2', '4']\n",
      "['<SOS>', '沉', '默', '就', '像', '是', '我', '们', '的', '<EOS>', '不', '2', '4']\n",
      "['<SOS>', '让', '我', '放', '下', '武', '装', '像', '个', '<EOS>', '不', '2', '4']\n",
      "['<SOS>', '只', '要', '你', '过', '得', '比', '我', '好', '<EOS>', '不', '2', '4']\n",
      "['<SOS>', '一', '碗', '冷', '汤', '啊', '啊', '啊', '啊', '<EOS>', '不', '2', '4']\n",
      "['<SOS>', '我', '知', '道', '她', '爱', '你', '啊', '啊', '<EOS>', '不', '2', '4']\n",
      "['<SOS>', '像', '流', '星', '的', '坠', '落', '灿', '烂', '<EOS>', '不', '2', '4']\n",
      "['<SOS>', '消', '磨', '她', '最', '美', '的', '年', '华', '<EOS>', '不', '2', '4']\n",
      "['<SOS>', '我', '们', '的', '爱', '情', '是', '两', '颗', '<EOS>', '不', '2', '4']\n",
      "['<SOS>', '呼', '吸', '声', '音', '太', '近', '吗', '拉', '<EOS>', '不', '2', '4']\n",
      "['<SOS>', '你', '你', '你', '为', '了', '爱', '情', '今', '<EOS>', '不', '2', '4']\n",
      "['<SOS>', '月', '亮', '出', '来', '亮', '汪', '汪', '啊', '<EOS>', '不', '2', '4']\n",
      "['<SOS>', '每', '个', '人', '都', '差', '不', '多', '一', '<EOS>', '不', '2', '4']\n",
      "['<SOS>', '如', '果', '你', '爱', '着', '我', '啊', '啊', '<EOS>', '不', '2', '4']\n",
      "['<SOS>', '他', '的', '手', '掌', '有', '种', '粗', '糙', '<EOS>', '不', '2', '4']\n",
      "['<SOS>', '带', '上', '我', '殷', '切', '的', '希', '望', '<EOS>', '不', '2', '4']\n",
      "['<SOS>', '为', '什', '么', '给', '你', '机', '会', '让', '<EOS>', '不', '2', '4']\n",
      "['<SOS>', '依', '然', '明', '亮', '如', '昔', '啊', '啊', '<EOS>', '不', '2', '4']\n",
      "['<SOS>', '不', '管', '醒', '在', '那', '里', '啊', '啊', '<EOS>', '不', '2', '4']\n",
      "['<SOS>', '阵', '阵', '凉', '风', '吹', '得', '我', '啊', '<EOS>', '不', '2', '4']\n",
      "['<SOS>', '掏', '掏', '它', '的', '神', '奇', '口', '袋', '<EOS>', '不', '2', '4']\n",
      "['<SOS>', '三', '字', '经', '啊', '啊', '啊', '啊', '啊', '<EOS>', '不', '2', '4']\n",
      "['<SOS>', '不', '再', '追', '寻', '你', '的', '背', '影', '<EOS>', '不', '2', '4']\n",
      "['<SOS>', '男', '合', '啊', '啊', '啊', '啊', '啊', '啊', '<EOS>', '不', '2', '4']\n",
      "['<SOS>', '那', '一', '年', '曾', '留', '在', '你', '枕', '<EOS>', '不', '2', '4']\n",
      "['<SOS>', '啦', '啦', '啦', '啦', '啦', '啦', '啦', '啦', '<EOS>', '不', '2', '4']\n",
      "['<SOS>', '没', '有', '共', '产', '党', '就', '没', '有', '<EOS>', '不', '2', '4']\n",
      "['<SOS>', '或', '者', '当', '初', '你', '只', '贪', '我', '<EOS>', '不', '2', '4']\n",
      "['<SOS>', '音', '乐', '静', '止', '了', '啊', '啊', '啊', '<EOS>', '不', '2', '4']\n",
      "['<SOS>', '便', '是', '人', '间', '好', '时', '节', '啊', '<EOS>', '不', '2', '4']\n",
      "['<SOS>', '去', '买', '成', '烟', '啊', '啊', '啊', '啊', '<EOS>', '不', '2', '4']\n",
      "['<SOS>', '从', '来', '都', '不', '怕', '你', '不', '开', '<EOS>', '不', '2', '4']\n",
      "['<SOS>', '我', '也', '不', '想', '要', '你', '承', '诺', '<EOS>', '不', '2', '4']\n",
      "['<SOS>', '友', '人', '对', '我', '啊', '啊', '啊', '啊', '<EOS>', '不', '2', '4']\n",
      "['<SOS>', '甚', '至', '有', '点', '放', '纵', '的', '让', '<EOS>', '不', '2', '4']\n",
      "['<SOS>', '拥', '有', '你', '名', '字', '不', '容', '易', '<EOS>', '不', '2', '4']\n",
      "['<SOS>', '尹', '毓', '恪', '某', '天', '我', '们', '总', '<EOS>', '不', '2', '4']\n",
      "['<SOS>', '林', '子', '祥', '我', '系', '阿', '我', '哋', '<EOS>', '不', '2', '4']\n",
      "['<SOS>', '现', '在', '的', '人', '都', '说', '啊', '啊', '<EOS>', '不', '2', '4']\n",
      "['<SOS>', '少', '年', '的', '中', '国', '没', '有', '老', '<EOS>', '不', '2', '4']\n",
      "['<SOS>', '就', '在', '半', '梦', '半', '醒', '之', '间', '<EOS>', '不', '2', '4']\n",
      "['<SOS>', '没', '来', '由', '的', '激', '动', '有', '时', '<EOS>', '不', '2', '4']\n",
      "['<SOS>', '幻', '想', '你', '回', '来', '倒', '转', '时', '<EOS>', '不', '2', '4']\n",
      "['<SOS>', '自', '從', '那', '天', '分', '手', '後', '停', '<EOS>', '不', '2', '4']\n",
      "['<SOS>', '我', '总', '是', '数', '不', '到', '一', '百', '<EOS>', '不', '2', '4']\n",
      "['<SOS>', '云', '儿', '散', '开', '笑', '容', '又', '回', '<EOS>', '不', '2', '4']\n",
      "['<SOS>', '向', '对', '岸', '甩', '甩', '手', '点', '亮', '<EOS>', '不', '2', '4']\n",
      "['<SOS>', '还', '剩', '下', '多', '少', '已', '不', '重', '<EOS>', '不', '2', '4']\n",
      "['<SOS>', '当', '天', '空', '昏', '暗', '当', '气', '温', '<EOS>', '不', '2', '4']\n",
      "['<SOS>', '才', '懂', '得', '怎', '么', '诚', '实', '面', '<EOS>', '不', '2', '4']\n",
      "['<SOS>', '明', '月', '出', '天', '山', '啊', '啊', '啊', '<EOS>', '不', '2', '4']\n",
      "['<SOS>', '所', '以', '开', '了', '一', '整', '夜', '的', '<EOS>', '不', '2', '4']\n",
      "['<SOS>', '独', '上', '高', '楼', '把', '天', '涯', '路', '<EOS>', '不', '2', '4']\n",
      "['<SOS>', '重', '播', '那', '些', '曾', '有', '你', '的', '<EOS>', '不', '2', '4']\n",
      "['<SOS>', '忍', '不', '住', '想', '要', '吻', '你', '的', '<EOS>', '不', '2', '4']\n",
      "['<SOS>', '来', '将', '我', '抱', '啊', '啊', '啊', '啊', '<EOS>', '不', '2', '4']\n",
      "['<SOS>', '月', '牙', '悄', '悄', '爬', '上', '了', '夜', '<EOS>', '不', '2', '4']\n",
      "['<SOS>', '偷', '看', '着', '谜', '底', '啊', '啊', '啊', '<EOS>', '不', '2', '4']\n",
      "['<SOS>', '可', '否', '决', '定', '为', '一', '人', '啊', '<EOS>', '不', '2', '4']\n",
      "['<SOS>', '你', '何', '时', '跟', '我', '走', '啊', '啊', '<EOS>', '不', '2', '4']\n",
      "['<SOS>', '满', '淌', '流', '的', '都', '是', '我', '们', '<EOS>', '不', '2', '4']\n",
      "['<SOS>', '也', '许', '我', '们', '反', '而', '更', '相', '<EOS>', '不', '2', '4']\n",
      "['<SOS>', '我', '们', '大', '学', '生', '活', '啊', '啊', '<EOS>', '不', '2', '4']\n",
      "['<SOS>', '我', '的', '天', '真', '在', '泪', '水', '里', '<EOS>', '不', '2', '4']\n",
      "['<SOS>', '而', '我', '问', '我', '为', '何', '还', '能', '<EOS>', '不', '2', '4']\n",
      "['<SOS>', '你', '倾', '诉', '你', '和', '他', '之', '间', '<EOS>', '不', '2', '4']\n",
      "['<SOS>', '如', '果', '你', '也', '会', '难', '过', '啊', '<EOS>', '不', '2', '4']\n",
      "['<SOS>', '在', '稻', '草', '堆', '等', '到', '天', '亮', '<EOS>', '不', '2', '4']\n",
      "['<SOS>', '要', '有', '你', '的', '歌', '声', '并', '不', '<EOS>', '不', '2', '4']\n",
      "['<SOS>', '世', '间', '万', '千', '的', '变', '幻', '啊', '<EOS>', '不', '2', '4']\n",
      "['<SOS>', '笑', '颜', '渗', '啊', '啊', '啊', '啊', '啊', '<EOS>', '不', '2', '4']\n",
      "['<SOS>', '请', '你', '教', '我', '们', '太', '子', '之', '<EOS>', '不', '2', '4']\n",
      "['<SOS>', '不', '要', '做', '渺', '小', '的', '小', '卒', '<EOS>', '不', '2', '4']\n",
      "['<SOS>', '让', '我', '们', '的', '传', '奇', '翻', '涌', '<EOS>', '不', '2', '4']\n",
      "['<SOS>', '谁', '能', '预', '测', '于', '对', '方', '心', '<EOS>', '不', '2', '4']\n",
      "['<SOS>', '装', '点', '你', '的', '岁', '月', '我', '的', '<EOS>', '不', '2', '4']\n",
      "['<SOS>', '我', '心', '为', '谁', '痛', '啊', '啊', '啊', '<EOS>', '不', '2', '4']\n",
      "['<SOS>', '空', '即', '是', '色', '色', '即', '是', '空', '<EOS>', '不', '2', '4']\n",
      "['<SOS>', '我', '背', '着', '吉', '他', '浪', '迹', '天', '<EOS>', '不', '2', '4']\n",
      "['<SOS>', '跟', '我', '一', '起', '去', '流', '浪', '啊', '<EOS>', '不', '2', '4']\n",
      "['<SOS>', '心', '中', '独', '留', '啊', '啊', '啊', '啊', '<EOS>', '不', '2', '4']\n",
      "['<SOS>', '好', '想', '你', '啊', '啊', '啊', '啊', '啊', '<EOS>', '不', '2', '4']\n",
      "['<SOS>', '长', '大', '是', '瓦', '解', '后', '了', '解', '<EOS>', '不', '2', '4']\n",
      "['<SOS>', '能', '动', '不', '动', '就', '说', '到', '永', '<EOS>', '不', '2', '4']\n",
      "['<SOS>', '因', '为', '情', '深', '切', '啊', '啊', '啊', '<EOS>', '不', '2', '4']\n",
      "['<SOS>', '生', '死', '老', '病', '如', '轮', '回', '啊', '<EOS>', '不', '2', '4']\n",
      "['<SOS>', '我', '要', '守', '在', '地', '狱', '的', '门', '<EOS>', '不', '2', '4']\n",
      "['<SOS>', '转', '身', '以', '后', '啊', '啊', '啊', '啊', '<EOS>', '不', '2', '4']\n",
      "['<SOS>', '你', '的', '多', '情', '出', '卖', '我', '的', '<EOS>', '不', '2', '4']\n",
      "['<SOS>', '月', '光', '下', '有', '个', '王', '子', '啊', '<EOS>', '不', '2', '4']\n",
      "['<SOS>', '扎', '西', '德', '勒', '夜', '啼', '你', '好', '<EOS>', '不', '2', '4']\n",
      "['<SOS>', '无', '法', '错', '过', '啊', '啊', '啊', '啊', '<EOS>', '不', '2', '4']\n",
      "['<SOS>', '都', '没', '有', '错', '只', '是', '幸', '福', '<EOS>', '不', '2', '4']\n",
      "['<SOS>', '我', '拿', '出', '一', '个', '漂', '亮', '的', '<EOS>', '不', '2', '4']\n",
      "['<SOS>', '震', '撼', '力', '很', '强', '啊', '啊', '啊', '<EOS>', '不', '2', '4']\n",
      "['<SOS>', '伤', '都', '会', '好', '的', '走', '过', '了', '<EOS>', '不', '2', '4']\n",
      "['<SOS>', '让', '我', '们', '让', '这', '一', '次', '不', '<EOS>', '不', '2', '4']\n",
      "['<SOS>', '又', '过', '了', '一', '个', '路', '口', '又', '<EOS>', '不', '2', '4']\n",
      "['<SOS>', '路', '走', '的', '好', '累', '好', '长', '啊', '<EOS>', '不', '2', '4']\n",
      "['<SOS>', '母', '带', '工', '程', '师', '赵', '靖', '啊', '<EOS>', '不', '2', '4']\n",
      "['<SOS>', '一', '条', '发', '光', '的', '公', '路', '两', '<EOS>', '不', '2', '4']\n",
      "['<SOS>', '阮', '叫', '的', '名', '阮', '要', '需', '你', '<EOS>', '不', '2', '4']\n",
      "['<SOS>', '芳', '华', '怕', '孤', '单', '啊', '啊', '啊', '<EOS>', '不', '2', '4']\n",
      "['<SOS>', '聊', '个', '一', '整', '夜', '只', '怕', '不', '<EOS>', '不', '2', '4']\n",
      "['<SOS>', '只', '不', '过', '太', '短', '暂', '而', '已', '<EOS>', '不', '2', '4']\n",
      "['<SOS>', '在', '秋', '天', '飘', '下', '了', '落', '叶', '<EOS>', '不', '2', '4']\n",
      "['<SOS>', '剪', '不', '断', '共', '缠', '绵', '啊', '啊', '<EOS>', '不', '2', '4']\n",
      "['<SOS>', '这', '是', '一', '个', '神', '奇', '的', '号', '<EOS>', '不', '2', '4']\n",
      "['<SOS>', '我', '与', '你', '看', '见', '烈', '日', '密', '<EOS>', '不', '2', '4']\n",
      "['<SOS>', '我', '爱', '上', '你', '会', '发', '光', '的', '<EOS>', '不', '2', '4']\n",
      "['<SOS>', '我', '纵', '身', '跳', '啊', '啊', '啊', '啊', '<EOS>', '不', '2', '4']\n",
      "['<SOS>', '困', '起', '来', '你', '躺', '在', '芙', '蓉', '<EOS>', '不', '2', '4']\n",
      "['<SOS>', '独', '自', '闪', '耀', '啊', '啊', '啊', '啊', '<EOS>', '不', '2', '4']\n",
      "['<SOS>', '有', '缘', '再', '聚', '啊', '啊', '啊', '啊', '<EOS>', '不', '2', '4']\n",
      "['<SOS>', '没', '有', '伤', '害', '啊', '啊', '啊', '啊', '<EOS>', '不', '2', '4']\n",
      "['<SOS>', '心', '是', '灰', '色', '的', '啊', '啊', '啊', '<EOS>', '不', '2', '4']\n",
      "['<SOS>', '是', '我', '不', '变', '的', '情', '怀', '啊', '<EOS>', '不', '2', '4']\n",
      "['<SOS>', '当', '我', '听', '你', '说', '话', '啊', '啊', '<EOS>', '不', '2', '4']\n",
      "['<SOS>', '为', '我', '唱', '首', '快', '乐', '的', '歌', '<EOS>', '不', '2', '4']\n",
      "['<SOS>', '那', '幸', '福', '不', '灭', '的', '定', '律', '<EOS>', '不', '2', '4']\n",
      "['<SOS>', '邻', '人', '扶', '助', '温', '馨', '的', '景', '<EOS>', '不', '2', '4']\n",
      "['<SOS>', '在', '路', '上', '在', '路', '上', '也', '可', '<EOS>', '不', '2', '4']\n",
      "['<SOS>', '誰', '抱', '著', '你', '誰', '啊', '啊', '啊', '<EOS>', '不', '2', '4']\n",
      "['<SOS>', '一', '抹', '红', '唇', '青', '衣', '只', '为', '<EOS>', '不', '2', '4']\n",
      "['<SOS>', '半', '老', '徐', '娘', '啊', '啊', '啊', '啊', '<EOS>', '不', '2', '4']\n",
      "['<SOS>', '就', '算', '要', '跨', '越', '地', '平', '线', '<EOS>', '不', '2', '4']\n",
      "['<SOS>', '让', '沉', '默', '填', '满', '了', '留', '白', '<EOS>', '不', '2', '4']\n",
      "['<SOS>', '成', '了', '爆', '落', '散', '开', '来', '的', '<EOS>', '不', '2', '4']\n",
      "['<SOS>', '给', '我', '你', '的', '手', '在', '微', '风', '<EOS>', '不', '2', '4']\n",
      "['<SOS>', '抓', '紧', '我', '吧', '啊', '啊', '啊', '啊', '<EOS>', '不', '2', '4']\n",
      "['<SOS>', '太', '多', '光', '吃', '掉', '他', '们', '的', '<EOS>', '不', '2', '4']\n",
      "['<SOS>', '能', '拥', '有', '爱', '不', '要', '再', '分', '<EOS>', '不', '2', '4']\n",
      "['<SOS>', '回', '头', '当', '天', '的', '我', '也', '相', '<EOS>', '不', '2', '4']\n",
      "['<SOS>', '为', '着', '我', '不', '退', '半', '步', '啊', '<EOS>', '不', '2', '4']\n",
      "['<SOS>', '像', '尘', '埃', '一', '样', '的', '无', '畏', '<EOS>', '不', '2', '4']\n",
      "['<SOS>', '我', '望', '着', '星', '星', '背', '风', '阑', '<EOS>', '不', '2', '4']\n",
      "['<SOS>', '糟', '了', '宠', '坏', '了', '是', '你', '让', '<EOS>', '不', '2', '4']\n",
      "['<SOS>', '缓', '缓', '让', '心', '意', '随', '乐', '声', '<EOS>', '不', '2', '4']\n",
      "['<SOS>', '你', '冷', '酷', '外', '表', '下', '藏', '着', '<EOS>', '不', '2', '4']\n",
      "['<SOS>', '有', '乜', '野', '冲', '撞', '你', '跟', '我', '<EOS>', '不', '2', '4']\n",
      "['<SOS>', '只', '想', '在', '睡', '前', '再', '听', '见', '<EOS>', '不', '2', '4']\n",
      "['<SOS>', '我', '也', '要', '向', '你', '恳', '求', '绝', '<EOS>', '不', '2', '4']\n",
      "['<SOS>', '沉', '默', '在', '掩', '饰', '啊', '啊', '啊', '<EOS>', '不', '2', '4']\n",
      "['<SOS>', '就', '算', '伤', '心', '心', '里', '还', '是', '<EOS>', '不', '2', '4']\n",
      "['<SOS>', '是', '此', '刻', '流', '水', '来', '自', '高', '<EOS>', '不', '2', '4']\n",
      "['<SOS>', '女', '啊', '啊', '啊', '啊', '啊', '啊', '啊', '<EOS>', '不', '2', '4']\n",
      "['<SOS>', '生', '活', '我', '过', '得', '紧', '张', '啊', '<EOS>', '不', '2', '4']\n",
      "['<SOS>', '你', '不', '愿', '意', '说', '再', '会', '啊', '<EOS>', '不', '2', '4']\n",
      "['<SOS>', '兄', '弟', '姐', '妹', '过', '好', '日', '子', '<EOS>', '不', '2', '4']\n",
      "['<SOS>', '我', '始', '终', '一', '步', '一', '步', '忘', '<EOS>', '不', '2', '4']\n",
      "['<SOS>', '雁', '叫', '声', '声', '心', '欲', '碎', '啊', '<EOS>', '不', '2', '4']\n",
      "['<SOS>', '我', '试', '着', '听', '见', '试', '着', '看', '<EOS>', '不', '2', '4']\n",
      "['<SOS>', '我', '要', '做', '你', '的', '偶', '像', '不', '<EOS>', '不', '2', '4']\n",
      "['<SOS>', '西', '武', '找', '不', '到', '也', '好', '啊', '<EOS>', '不', '2', '4']\n",
      "['<SOS>', '我', '燃', '烧', '了', '翅', '膀', '到', '不', '<EOS>', '不', '2', '4']\n",
      "['<SOS>', '萧', '忆', '情', '啊', '啊', '啊', '啊', '啊', '<EOS>', '不', '2', '4']\n",
      "['<SOS>', '当', '我', '厌', '倦', '天', '空', '啊', '啊', '<EOS>', '不', '2', '4']\n",
      "['<SOS>', '失', '败', '总', '是', '重', '来', '总', '是', '<EOS>', '不', '2', '4']\n",
      "['<SOS>', '如', '果', '你', '能', '够', '爱', '我', '有', '<EOS>', '不', '2', '4']\n",
      "['<SOS>', '梦', '到', '狮', '子', '将', '你', '带', '走', '<EOS>', '不', '2', '4']\n",
      "['<SOS>', '我', '心', '为', '谁', '把', '伤', '心', '泪', '<EOS>', '不', '2', '4']\n",
      "['<SOS>', '冷', '风', '一', '般', '的', '你', '没', '法', '<EOS>', '不', '2', '4']\n",
      "['<SOS>', '共', '饮', '天', '和', '地', '常', '石', '磊', '<EOS>', '不', '2', '4']\n",
      "['<SOS>', '风', '将', '你', '吹', '向', '哪', '方', '啊', '<EOS>', '不', '2', '4']\n",
      "['<SOS>', '深', '藏', '的', '暗', '涌', '已', '经', '越', '<EOS>', '不', '2', '4']\n",
      "['<SOS>', '一', '路', '上', '我', '都', '不', '孤', '单', '<EOS>', '不', '2', '4']\n",
      "['<SOS>', '你', '的', '柔', '情', '似', '水', '啊', '啊', '<EOS>', '不', '2', '4']\n",
      "['<SOS>', '只', '看', '有', '了', '什', '么', '啊', '啊', '<EOS>', '不', '2', '4']\n",
      "['<SOS>', '修', '补', '我', '破', '了', '洞', '的', '偏', '<EOS>', '不', '2', '4']\n",
      "['<SOS>', '吉', '他', '谷', '傈', '啊', '啊', '啊', '啊', '<EOS>', '不', '2', '4']\n",
      "['<SOS>', '哎', '呦', '哎', '呦', '啊', '啊', '啊', '啊', '<EOS>', '不', '2', '4']\n",
      "['<SOS>', '岁', '月', '春', '来', '冬', '去', '寒', '夜', '<EOS>', '不', '2', '4']\n",
      "['<SOS>', '就', '迎', '接', '挑', '战', '啊', '啊', '啊', '<EOS>', '不', '2', '4']\n",
      "['<SOS>', '女', '我', '明', '白', '男', '你', '早', '该', '<EOS>', '不', '2', '4']\n",
      "['<SOS>', '我', '才', '不', '会', '害', '怕', '啊', '啊', '<EOS>', '不', '2', '4']\n",
      "['<SOS>', '那', '南', '风', '吹', '来', '清', '凉', '啊', '<EOS>', '不', '2', '4']\n",
      "['<SOS>', '奄', '奄', '一', '息', '的', '凡', '人', '梦', '<EOS>', '不', '2', '4']\n",
      "['<SOS>', '疾', '飞', '的', '鸟', '儿', '啊', '啊', '啊', '<EOS>', '不', '2', '4']\n",
      "['<SOS>', '就', '让', '爱', '是', '最', '初', '的', '感', '<EOS>', '不', '2', '4']\n",
      "['<SOS>', '方', '可', '当', '真', '啊', '啊', '啊', '啊', '<EOS>', '不', '2', '4']\n",
      "['<SOS>', '也', '许', '只', '是', '碰', '巧', '猜', '中', '<EOS>', '不', '2', '4']\n",
      "['<SOS>', '人', '轻', '轻', '洒', '上', '香', '氛', '也', '<EOS>', '不', '2', '4']\n",
      "['<SOS>', '这', '在', '目', '前', '的', '中', '国', '是', '<EOS>', '不', '2', '4']\n",
      "['<SOS>', '请', '告', '诉', '我', '是', '否', '实', '验', '<EOS>', '不', '2', '4']\n",
      "['<SOS>', '想', '给', '你', '我', '太', '多', '的', '爱', '<EOS>', '不', '2', '4']\n",
      "['<SOS>', '令', '十', '等', '于', '一', '百', '的', '方', '<EOS>', '不', '2', '4']\n",
      "['<SOS>', '三', '角', '花', '原', '谅', '我', '已', '离', '<EOS>', '不', '2', '4']\n",
      "['<SOS>', '我', '说', '要', '去', '看', '海', '就', '要', '<EOS>', '不', '2', '4']\n",
      "['<SOS>', '倘', '若', '雨', '势', '再', '蔓', '延', '啊', '<EOS>', '不', '2', '4']\n",
      "['<SOS>', '浪', '漫', '随', '时', '环', '绕', '啊', '啊', '<EOS>', '不', '2', '4']\n",
      "['<SOS>', '向', '左', '向', '右', '向', '前', '走', '啊', '<EOS>', '不', '2', '4']\n",
      "['<SOS>', '仍', '全', '情', '投', '入', '伤', '都', '不', '<EOS>', '不', '2', '4']\n",
      "['<SOS>', '乐', '乐', '乐', '乐', '啊', '啊', '啊', '啊', '<EOS>', '不', '2', '4']\n",
      "['<SOS>', '摩', '诃', '揭', '啰', '诃', '若', '阇', '啊', '<EOS>', '不', '2', '4']\n",
      "['<SOS>', '美', '丽', '呀', '才', '如', '此', '忧', '伤', '<EOS>', '不', '2', '4']\n",
      "['<SOS>', '越', '大', '漠', '飞', '云', '霄', '浸', '泪', '<EOS>', '不', '2', '4']\n",
      "['<SOS>', '今', '晚', '谁', '也', '别', '想', '啊', '啊', '<EOS>', '不', '2', '4']\n",
      "['<SOS>', '不', '肯', '向', '别', '人', '诉', '的', '苦', '<EOS>', '不', '2', '4']\n",
      "['<SOS>', '合', '难', '得', '大', '家', '有', '些', '笑', '<EOS>', '不', '2', '4']\n",
      "['<SOS>', '现', '在', '的', '我', '也', '有', '了', '变', '<EOS>', '不', '2', '4']\n",
      "['<SOS>', '有', '人', '谈', '恋', '爱', '是', '爱', '到', '<EOS>', '不', '2', '4']\n",
      "['<SOS>', '我', '犹', '豫', '要', '不', '要', '告', '诉', '<EOS>', '不', '2', '4']\n",
      "['<SOS>', '这', '是', '身', '体', '给', '予', '腐', '朽', '<EOS>', '不', '2', '4']\n",
      "['<SOS>', '我', '们', '一', '直', '在', '交', '流', '啊', '<EOS>', '不', '2', '4']\n",
      "['<SOS>', '爱', '与', '恨', '一', '瞬', '间', '爱', '与', '<EOS>', '不', '2', '4']\n",
      "['<SOS>', '心', '疼', '是', '真', '相', '逢', '是', '空', '<EOS>', '不', '2', '4']\n",
      "['<SOS>', '火', '了', '火', '了', '中', '国', '火', '了', '<EOS>', '不', '2', '4']\n",
      "['<SOS>', '渡', '过', '多', '少', '飘', '泊', '夜', '雨', '<EOS>', '不', '2', '4']\n",
      "['<SOS>', '喝', '完', '这', '杯', '酒', '啊', '啊', '啊', '<EOS>', '不', '2', '4']\n",
      "['<SOS>', '如', '何', '去', '面', '对', '爱', '情', '的', '<EOS>', '不', '2', '4']\n",
      "['<SOS>', '是', '一', '种', '不', '可', '知', '的', '温', '<EOS>', '不', '2', '4']\n",
      "['<SOS>', '脑', '海', '中', '浮', '现', '了', '啊', '啊', '<EOS>', '不', '2', '4']\n",
      "['<SOS>', '或', '许', '我', '的', '爱', '真', '的', '不', '<EOS>', '不', '2', '4']\n",
      "['<SOS>', '一', '開', '波', '走', '走', '走', '位', '攻', '<EOS>', '不', '2', '4']\n",
      "['<SOS>', '你', '说', '你', '学', '会', '了', '妥', '协', '<EOS>', '不', '2', '4']\n",
      "['<SOS>', '究', '竟', '有', '什', '么', '原', '因', '啊', '<EOS>', '不', '2', '4']\n",
      "['<SOS>', '教', '我', '怎', '么', '做', '啊', '啊', '啊', '<EOS>', '不', '2', '4']\n",
      "['<SOS>', '一', '个', '月', '的', '薪', '水', '赚', '了', '<EOS>', '不', '2', '4']\n",
      "['<SOS>', '别', '什', '么', '都', '爱', '什', '么', '都', '<EOS>', '不', '2', '4']\n",
      "['<SOS>', '于', '是', '我', '一', '个', '人', '喝', '酒', '<EOS>', '不', '2', '4']\n",
      "['<SOS>', '不', '白', '活', '一', '回', '啊', '啊', '啊', '<EOS>', '不', '2', '4']\n",
      "['<SOS>', '我', '这', '种', '啊', '啊', '啊', '啊', '啊', '<EOS>', '不', '2', '4']\n",
      "['<SOS>', '爱', '是', '心', '中', '的', '花', '蕾', '啊', '<EOS>', '不', '2', '4']\n",
      "['<SOS>', '来', '世', '盼', '会', '有', '那', '一', '天', '<EOS>', '不', '2', '4']\n",
      "['<SOS>', '至', '少', '让', '我', '拥', '有', '竞', '争', '<EOS>', '不', '2', '4']\n",
      "['<SOS>', '丰', '富', '圆', '满', '啦', '啦', '啊', '啊', '<EOS>', '不', '2', '4']\n",
      "['<SOS>', '交', '稿', '死', '期', '已', '过', '啊', '啊', '<EOS>', '不', '2', '4']\n",
      "['<SOS>', '雄', '壮', '威', '武', '我', '在', '呐', '喊', '<EOS>', '不', '2', '4']\n",
      "['<SOS>', '礼', '多', '人', '不', '怪', '啊', '啊', '啊', '<EOS>', '不', '2', '4']\n",
      "['<SOS>', '向', '前', '冲', '昂', '起', '头', '啊', '啊', '<EOS>', '不', '2', '4']\n",
      "['<SOS>', '时', '辰', '未', '够', '早', '抛', '下', '良', '<EOS>', '不', '2', '4']\n",
      "['<SOS>', '可', '你', '曾', '经', '那', '么', '爱', '我', '<EOS>', '不', '2', '4']\n",
      "['<SOS>', '不', '是', '不', '明', '白', '啊', '啊', '啊', '<EOS>', '不', '2', '4']\n",
      "['<SOS>', '我', '要', '爱', '情', '不', '需', '要', '登', '<EOS>', '不', '2', '4']\n",
      "['<SOS>', '吉', '他', '白', '云', '啊', '啊', '啊', '啊', '<EOS>', '不', '2', '4']\n",
      "['<SOS>', '一', '于', '记', '住', '一', '于', '记', '住', '<EOS>', '不', '2', '4']\n",
      "['<SOS>', '刽', '子', '手', '不', '理', '替', '何', '人', '<EOS>', '不', '2', '4']\n",
      "['<SOS>', '然', '而', '身', '为', '一', '片', '落', '叶', '<EOS>', '不', '2', '4']\n",
      "['<SOS>', '妹', '在', '前', '郎', '在', '后', '啊', '啊', '<EOS>', '不', '2', '4']\n",
      "['<SOS>', '妳', '的', '笑', '啊', '啊', '啊', '啊', '啊', '<EOS>', '不', '2', '4']\n",
      "['<SOS>', '共', '唱', '这', '歌', '有', '福', '同', '寻', '<EOS>', '不', '2', '4']\n",
      "['<SOS>', '城', '郊', '牧', '笛', '声', '落', '在', '那', '<EOS>', '不', '2', '4']\n",
      "['<SOS>', '如', '果', '长', '大', '学', '会', '飞', '翔', '<EOS>', '不', '2', '4']\n",
      "['<SOS>', '齐', '天', '大', '圣', '地', '上', '行', '者', '<EOS>', '不', '2', '4']\n",
      "['<SOS>', '望', '着', '你', '我', '终', '于', '明', '白', '<EOS>', '不', '2', '4']\n",
      "['<SOS>', '天', '让', '我', '这', '样', '的', '苦', '一', '<EOS>', '不', '2', '4']\n",
      "['<SOS>', '爱', '到', '你', '我', '分', '不', '开', '现', '<EOS>', '不', '2', '4']\n",
      "['<SOS>', '心', '奥', '仆', '全', '溢', '出', '啊', '啊', '<EOS>', '不', '2', '4']\n",
      "['<SOS>', '我', '想', '念', '你', '的', '吻', '和', '手', '<EOS>', '不', '2', '4']\n",
      "['<SOS>', '会', '还', '给', '你', '很', '多', '爱', '啊', '<EOS>', '不', '2', '4']\n",
      "['<SOS>', '分', '手', '的', '最', '后', '理', '由', '啊', '<EOS>', '不', '2', '4']\n",
      "['<SOS>', '又', '过', '几', '个', '秋', '啊', '啊', '啊', '<EOS>', '不', '2', '4']\n",
      "['<SOS>', '让', '远', '路', '好', '像', '是', '一', '种', '<EOS>', '不', '2', '4']\n",
      "['<SOS>', '感', '觉', '那', '心', '灵', '的', '伤', '口', '<EOS>', '不', '2', '4']\n",
      "['<SOS>', '你', '是', '否', '也', '曾', '怀', '念', '那', '<EOS>', '不', '2', '4']\n",
      "['<SOS>', '很', '喜', '欢', '这', '样', '的', '自', '己', '<EOS>', '不', '2', '4']\n",
      "['<SOS>', '祈', '求', '繁', '忙', '城', '内', '跟', '他', '<EOS>', '不', '2', '4']\n",
      "['<SOS>', '当', '潮', '流', '爱', '新', '鲜', '当', '旁', '<EOS>', '不', '2', '4']\n",
      "['<SOS>', '那', '久', '泊', '的', '船', '儿', '呀', '快', '<EOS>', '不', '2', '4']\n",
      "['<SOS>', '我', '不', '相', '信', '掀', '不', '起', '惊', '<EOS>', '不', '2', '4']\n",
      "['<SOS>', '谁', '话', '求', '梦', '圆', '是', '何', '样', '<EOS>', '不', '2', '4']\n",
      "['<SOS>', '夜', '是', '落', '地', '的', '香', '味', '啊', '<EOS>', '不', '2', '4']\n",
      "['<SOS>', '音', '乐', '才', '让', '我', '自', '在', '啊', '<EOS>', '不', '2', '4']\n",
      "['<SOS>', '以', '前', '不', '会', '吸', '烟', '的', '啊', '<EOS>', '不', '2', '4']\n",
      "['<SOS>', '不', '必', '再', '等', '候', '啊', '啊', '啊', '<EOS>', '不', '2', '4']\n",
      "['<SOS>', '低', '头', '对', '书', '一', '笑', '啊', '啊', '<EOS>', '不', '2', '4']\n",
      "['<SOS>', '你', '眼', '中', '的', '我', '已', '经', '疲', '<EOS>', '不', '2', '4']\n",
      "['<SOS>', '可', '不', '可', '以', '相', '信', '你', '说', '<EOS>', '不', '2', '4']\n",
      "['<SOS>', '你', '你', '你', '为', '了', '爱', '情', '得', '<EOS>', '不', '2', '4']\n",
      "['<SOS>', '空', '中', '的', '彩', '虹', '桥', '啊', '啊', '<EOS>', '不', '2', '4']\n",
      "['<SOS>', '那', '天', '也', '下', '着', '小', '雨', '啊', '<EOS>', '不', '2', '4']\n",
      "['<SOS>', '多', '年', '以', '后', '一', '样', '的', '天', '<EOS>', '不', '2', '4']\n",
      "['<SOS>', '丑', '八', '怪', '能', '否', '别', '把', '灯', '<EOS>', '不', '2', '4']\n",
      "['<SOS>', '拼', '起', '来', '才', '发', '现', '我', '竟', '<EOS>', '不', '2', '4']\n",
      "['<SOS>', '汪', '汪', '汪', '汪', '汪', '啊', '啊', '啊', '<EOS>', '不', '2', '4']\n",
      "['<SOS>', '盖', '着', '头', '如', '何', '解', '放', '喝', '<EOS>', '不', '2', '4']\n",
      "['<SOS>', '含', '着', '泪', '白', '色', '恋', '人', '却', '<EOS>', '不', '2', '4']\n",
      "['<SOS>', '你', '在', '牵', '挂', '我', '也', '在', '牵', '<EOS>', '不', '2', '4']\n",
      "['<SOS>', '不', '变', '情', '谊', '永', '首', '啊', '啊', '<EOS>', '不', '2', '4']\n",
      "['<SOS>', '是', '我', '太', '寂', '寞', '啊', '啊', '啊', '<EOS>', '不', '2', '4']\n",
      "['<SOS>', '不', '如', '让', '你', '再', '想', '一', '想', '<EOS>', '不', '2', '4']\n",
      "['<SOS>', '不', '插', '电', '的', '对', '立', '啊', '啊', '<EOS>', '不', '2', '4']\n",
      "['<SOS>', '爱', '能', '不', '能', '永', '远', '啊', '啊', '<EOS>', '不', '2', '4']\n",
      "['<SOS>', '告', '诉', '我', '世', '界', '已', '经', '改', '<EOS>', '不', '2', '4']\n",
      "['<SOS>', '暂', '时', '懒', '得', '开', '灯', '啊', '啊', '<EOS>', '不', '2', '4']\n",
      "['<SOS>', '你', '跳', '下', '去', '了', '很', '久', '没', '<EOS>', '不', '2', '4']\n",
      "['<SOS>', '人', '间', '一', '粒', '米', '啊', '啊', '啊', '<EOS>', '不', '2', '4']\n",
      "['<SOS>', '我', '愿', '为', '你', '错', '啊', '啊', '啊', '<EOS>', '不', '2', '4']\n",
      "['<SOS>', '应', '该', '为', '你', '笑', '过', '为', '你', '<EOS>', '不', '2', '4']\n",
      "['<SOS>', '由', '是', '如', '今', '我', '祈', '求', '的', '<EOS>', '不', '2', '4']\n",
      "['<SOS>', '你', '可', '以', '借', '這', '理', '由', '離', '<EOS>', '不', '2', '4']\n",
      "['<SOS>', '合', '啊', '啊', '啊', '啊', '啊', '啊', '啊', '<EOS>', '不', '2', '4']\n",
      "['<SOS>', '消', '失', '的', '光', '阴', '散', '在', '风', '<EOS>', '不', '2', '4']\n",
      "['<SOS>', '我', '有', '吻', '过', '你', '这', '毕', '竟', '<EOS>', '不', '2', '4']\n",
      "['<SOS>', '只', '是', '因', '为', '有', '过', '你', '啊', '<EOS>', '不', '2', '4']\n",
      "['<SOS>', '为', '了', '什', '么', '该', '哭', '的', '场', '<EOS>', '不', '2', '4']\n",
      "['<SOS>', '嘴', '中', '念', '念', '有', '词', '双', '眼', '<EOS>', '不', '2', '4']\n",
      "['<SOS>', '无', '谓', '剩', '系', '挂', '念', '啊', '啊', '<EOS>', '不', '2', '4']\n",
      "['<SOS>', '这', '一', '天', '我', '开', '始', '仰', '望', '<EOS>', '不', '2', '4']\n",
      "['<SOS>', '雨', '中', '漫', '步', '又', '未', '尝', '不', '<EOS>', '不', '2', '4']\n",
      "['<SOS>', '老', '妹', '儿', '啊', '你', '等', '会', '儿', '<EOS>', '不', '2', '4']\n",
      "['<SOS>', '天', '亮', '了', '天', '亮', '了', '啊', '啊', '<EOS>', '不', '2', '4']\n",
      "['<SOS>', '幸', '福', '这', '温', '暖', '地', '带', '啊', '<EOS>', '不', '2', '4']\n",
      "['<SOS>', '我', '的', '三', '百', '六', '十', '五', '天', '<EOS>', '不', '2', '4']\n",
      "['<SOS>', '恋', '爱', '故', '事', '到', '最', '后', '怎', '<EOS>', '不', '2', '4']\n",
      "['<SOS>', '慢', '动', '作', '的', '世', '界', '啊', '啊', '<EOS>', '不', '2', '4']\n",
      "['<SOS>', '你', '欠', '人', '扁', '啊', '啊', '啊', '啊', '<EOS>', '不', '2', '4']\n",
      "['<SOS>', '我', '们', '是', '永', '远', '充', '满', '爱', '<EOS>', '不', '2', '4']\n",
      "['<SOS>', '徐', '小', '凤', '人', '心', '关', '起', '会', '<EOS>', '不', '2', '4']\n",
      "['<SOS>', '打', '击', '乐', '乔', '羽', '啊', '啊', '啊', '<EOS>', '不', '2', '4']\n",
      "['<SOS>', '想', '向', '你', '敞', '开', '我', '的', '情', '<EOS>', '不', '2', '4']\n",
      "['<SOS>', '我', '想', '爱', '越', '痛', '越', '爱', '啊', '<EOS>', '不', '2', '4']\n",
      "['<SOS>', '切', '不', '断', '对', '你', '的', '眷', '恋', '<EOS>', '不', '2', '4']\n",
      "['<SOS>', '烧', '过', '沸', '点', '的', '眼', '泪', '啊', '<EOS>', '不', '2', '4']\n",
      "['<SOS>', '香', '蒲', '枝', '下', '啊', '啊', '啊', '啊', '<EOS>', '不', '2', '4']\n",
      "['<SOS>', '不', '用', '去', '后', '悔', '啊', '啊', '啊', '<EOS>', '不', '2', '4']\n",
      "['<SOS>', '疾', '飞', '的', '鸟', '儿', '啊', '啊', '啊', '<EOS>', '不', '2', '4']\n",
      "['<SOS>', '让', '我', '随', '你', '去', '让', '我', '随', '<EOS>', '不', '2', '4']\n",
      "['<SOS>', '无', '谓', '着', '上', '我', '的', '爱', '还', '<EOS>', '不', '2', '4']\n",
      "['<SOS>', '心', '情', '多', '么', '开', '朗', '啊', '啊', '<EOS>', '不', '2', '4']\n",
      "['<SOS>', '怕', '有', '人', '感', '到', '我', '消', '失', '<EOS>', '不', '2', '4']\n",
      "['<SOS>', '福', '星', '照', '请', '君', '转', '个', '运', '<EOS>', '不', '2', '4']\n",
      "['<SOS>', '你', '要', '听', '着', '不', '够', '爽', '啊', '<EOS>', '不', '2', '4']\n",
      "['<SOS>', '可', '叫', '你', '啊', '啊', '啊', '啊', '啊', '<EOS>', '不', '2', '4']\n",
      "['<SOS>', '干', '啥', '呢', '干', '啥', '呢', '已', '被', '<EOS>', '不', '2', '4']\n",
      "['<SOS>', '令', '我', '窒', '息', '啊', '啊', '啊', '啊', '<EOS>', '不', '2', '4']\n",
      "['<SOS>', '同', '志', '和', '朋', '友', '啊', '啊', '啊', '<EOS>', '不', '2', '4']\n",
      "['<SOS>', '可', '是', '填', '不', '满', '也', '掏', '不', '<EOS>', '不', '2', '4']\n",
      "['<SOS>', '拜', '天', '拜', '地', '求', '神', '问', '鬼', '<EOS>', '不', '2', '4']\n",
      "['<SOS>', '错', '过', '了', '就', '让', '它', '过', '去', '<EOS>', '不', '2', '4']\n",
      "['<SOS>', '谁', '对', '谁', '不', '在', '乎', '啊', '啊', '<EOS>', '不', '2', '4']\n",
      "['<SOS>', '只', '为', '你', '啊', '啊', '啊', '啊', '啊', '<EOS>', '不', '2', '4']\n",
      "['<SOS>', '我', '会', '让', '你', '从', '此', '不', '再', '<EOS>', '不', '2', '4']\n",
      "['<SOS>', '泪', '花', '泡', '月', '亮', '啊', '啊', '啊', '<EOS>', '不', '2', '4']\n",
      "['<SOS>', '我', '们', '的', '心', '也', '脆', '弱', '啊', '<EOS>', '不', '2', '4']\n",
      "['<SOS>', '在', '一', '片', '孤', '独', '的', '沙', '漠', '<EOS>', '不', '2', '4']\n",
      "['<SOS>', '单', '纯', '新', '鲜', '的', '期', '待', '啊', '<EOS>', '不', '2', '4']\n",
      "['<SOS>', '你', '表', '情', '的', '风', '吹', '草', '动', '<EOS>', '不', '2', '4']\n",
      "['<SOS>', '我', '低', '头', '静', '静', '地', '想', '一', '<EOS>', '不', '2', '4']\n",
      "['<SOS>', '录', '音', '师', '白', '志', '森', '啊', '啊', '<EOS>', '不', '2', '4']\n",
      "['<SOS>', '给', '你', '最', '愉', '快', '的', '消', '磨', '<EOS>', '不', '2', '4']\n",
      "['<SOS>', '也', '曾', '对', '我', '说', '每', '颗', '心', '<EOS>', '不', '2', '4']\n",
      "['<SOS>', '总', '是', '有', '人', '说', '我', '太', '痴', '<EOS>', '不', '2', '4']\n",
      "['<SOS>', '到', '底', '得', '几', '分', '伤', '心', '几', '<EOS>', '不', '2', '4']\n",
      "['<SOS>', '塞', '车', '逼', '的', '人', '崩', '溃', '啊', '<EOS>', '不', '2', '4']\n",
      "['<SOS>', '如', '果', '真', '的', '改', '变', '啊', '啊', '<EOS>', '不', '2', '4']\n",
      "['<SOS>', '北', '京', '的', '我', '们', '像', '一', '只', '<EOS>', '不', '2', '4']\n",
      "['<SOS>', '我', '需', '要', '一', '缕', '阳', '光', '啊', '<EOS>', '不', '2', '4']\n",
      "['<SOS>', '满', '天', '的', '星', '光', '将', '愿', '望', '<EOS>', '不', '2', '4']\n",
      "['<SOS>', '我', '亲', '爱', '的', '朋', '友', '远', '方', '<EOS>', '不', '2', '4']\n",
      "['<SOS>', '它', '是', '一', '只', '自', '杀', '的', '不', '<EOS>', '不', '2', '4']\n",
      "['<SOS>', '却', '放', '弃', '我', '为', '了', '工', '作', '<EOS>', '不', '2', '4']\n",
      "['<SOS>', '为', '你', '定', '做', '独', '家', '痴', '情', '<EOS>', '不', '2', '4']\n",
      "['<SOS>', '喜', '欢', '暗', '恋', '坦', '白', '笑', '颜', '<EOS>', '不', '2', '4']\n",
      "['<SOS>', '有', '那', '么', '一', '点', '点', '动', '心', '<EOS>', '不', '2', '4']\n",
      "['<SOS>', '好', '多', '時', '我', '都', '唔', '知', '想', '<EOS>', '不', '2', '4']\n",
      "['<SOS>', '可', '是', '泪', '不', '信', '啊', '啊', '啊', '<EOS>', '不', '2', '4']\n",
      "['<SOS>', '奇', '怪', '的', '直', '觉', '错', '误', '的', '<EOS>', '不', '2', '4']\n",
      "['<SOS>', '等', '不', '到', '你', '分', '不', '清', '自', '<EOS>', '不', '2', '4']\n",
      "['<SOS>', '争', '番', '一', '口', '气', '男', '子', '组', '<EOS>', '不', '2', '4']\n",
      "['<SOS>', '徘', '徊', '在', '我', '的', '未', '来', '啊', '<EOS>', '不', '2', '4']\n",
      "['<SOS>', '明', '明', '旧', '梦', '已', '告', '终', '怎', '<EOS>', '不', '2', '4']\n",
      "['<SOS>', '正', '要', '往', '田', '去', '收', '割', '小', '<EOS>', '不', '2', '4']\n",
      "['<SOS>', '它', '默', '默', '把', '我', '陪', '啊', '啊', '<EOS>', '不', '2', '4']\n",
      "['<SOS>', '我', '担', '心', '哪', '天', '关', '于', '你', '<EOS>', '不', '2', '4']\n",
      "['<SOS>', '我', '们', '真', '的', '有', '啊', '啊', '啊', '<EOS>', '不', '2', '4']\n",
      "['<SOS>', '竟', '一', '直', '托', '着', '我', '四', '处', '<EOS>', '不', '2', '4']\n",
      "['<SOS>', '岁', '月', '无', '情', '啊', '啊', '啊', '啊', '<EOS>', '不', '2', '4']\n",
      "['<SOS>', '是', '否', '参', '禅', '人', '未', '曾', '言', '<EOS>', '不', '2', '4']\n",
      "['<SOS>', '平', '安', '的', '祝', '福', '啊', '啊', '啊', '<EOS>', '不', '2', '4']\n",
      "['<SOS>', '朝', '着', '对', '方', '伤', '口', '乱', '攻', '<EOS>', '不', '2', '4']\n",
      "['<SOS>', '阳', '光', '般', '的', '笑', '容', '将', '我', '<EOS>', '不', '2', '4']\n",
      "['<SOS>', '让', '美', '丽', '回', '忆', '于', '今', '天', '<EOS>', '不', '2', '4']\n",
      "['<SOS>', '我', '在', '清', '晨', '时', '候', '醒', '来', '<EOS>', '不', '2', '4']\n",
      "['<SOS>', '有', '些', '道', '理', '我', '懂', '可', '是', '<EOS>', '不', '2', '4']\n",
      "['<SOS>', '争', '持', '到', '底', '还', '是', '恋', '执', '<EOS>', '不', '2', '4']\n",
      "['<SOS>', '停', '住', '了', '从', '前', '停', '不', '住', '<EOS>', '不', '2', '4']\n",
      "['<SOS>', '留', '下', '足', '迹', '才', '美', '丽', '啊', '<EOS>', '不', '2', '4']\n",
      "['<SOS>', '可', '是', '你', '不', '知', '道', '那', '瓦', '<EOS>', '不', '2', '4']\n",
      "['<SOS>', '熊', '熊', '的', '火', '是', '我', '的', '情', '<EOS>', '不', '2', '4']\n",
      "['<SOS>', '是', '一', '种', '平', '衡', '啊', '啊', '啊', '<EOS>', '不', '2', '4']\n",
      "['<SOS>', '大', '大', '声', '地', '说', '出', '来', '啊', '<EOS>', '不', '2', '4']\n",
      "['<SOS>', '在', '发', '端', '飘', '过', '是', '你', '气', '<EOS>', '不', '2', '4']\n",
      "['<SOS>', '连', '眉', '梢', '都', '沾', '满', '了', '风', '<EOS>', '不', '2', '4']\n",
      "['<SOS>', '结', '果', '咧', '结', '果', '咧', '结', '果', '<EOS>', '不', '2', '4']\n",
      "['<SOS>', '想', '黏', '着', '你', '叫', '心', '里', '坐', '<EOS>', '不', '2', '4']\n",
      "['<SOS>', '再', '丢', '下', '我', '一', '个', '人', '在', '<EOS>', '不', '2', '4']\n",
      "['<SOS>', '陌', '生', '的', '人', '请', '给', '我', '一', '<EOS>', '不', '2', '4']\n",
      "['<SOS>', '焦', '啊', '啊', '啊', '啊', '啊', '啊', '啊', '<EOS>', '不', '2', '4']\n",
      "['<SOS>', '醒', '来', '之', '后', '不', '记', '得', '梦', '<EOS>', '不', '2', '4']\n",
      "['<SOS>', '吉', '他', '啊', '啊', '啊', '啊', '啊', '啊', '<EOS>', '不', '2', '4']\n",
      "['<SOS>', '你', '没', '忽', '略', '我', '倔', '强', '下', '<EOS>', '不', '2', '4']\n",
      "['<SOS>', '我', '爱', '这', '夜', '色', '茫', '茫', '啊', '<EOS>', '不', '2', '4']\n",
      "['<SOS>', '历', '经', '的', '伤', '都', '不', '感', '觉', '<EOS>', '不', '2', '4']\n",
      "['<SOS>', '千', '言', '万', '语', '里', '啊', '啊', '啊', '<EOS>', '不', '2', '4']\n",
      "['<SOS>', '独', '特', '的', '你', '和', '我', '啊', '啊', '<EOS>', '不', '2', '4']\n",
      "['<SOS>', '事', '后', '啊', '啊', '啊', '啊', '啊', '啊', '<EOS>', '不', '2', '4']\n",
      "['<SOS>', '也', '心', '甘', '情', '愿', '啊', '啊', '啊', '<EOS>', '不', '2', '4']\n",
      "['<SOS>', '才', '是', '有', '意', '义', '的', '啊', '啊', '<EOS>', '不', '2', '4']\n",
      "['<SOS>', '原', '来', '太', '多', '悲', '伤', '续', '集', '<EOS>', '不', '2', '4']\n",
      "['<SOS>', '脱', '光', '换', '张', '脸', '啊', '啊', '啊', '<EOS>', '不', '2', '4']\n",
      "['<SOS>', '有', '人', '在', '天', '亮', '以', '前', '啊', '<EOS>', '不', '2', '4']\n",
      "['<SOS>', '无', '奈', '我', '已', '爱', '上', '你', '啊', '<EOS>', '不', '2', '4']\n",
      "['<SOS>', '不', '是', '我', '没', '祈', '祷', '啊', '啊', '<EOS>', '不', '2', '4']\n",
      "['<SOS>', '那', '为', '何', '我', '还', '会', '伤', '心', '<EOS>', '不', '2', '4']\n",
      "['<SOS>', '等', '你', '一', '起', '过', '来', '啊', '啊', '<EOS>', '不', '2', '4']\n",
      "['<SOS>', '也', '许', '你', '只', '把', '爱', '当', '游', '<EOS>', '不', '2', '4']\n",
      "['<SOS>', '然', '後', '你', '怀', '着', '两', '份', '热', '<EOS>', '不', '2', '4']\n",
      "['<SOS>', '大', '作', '广', '告', '啊', '啊', '啊', '啊', '<EOS>', '不', '2', '4']\n",
      "['<SOS>', '情', '爱', '中', '工', '作', '中', '啊', '啊', '<EOS>', '不', '2', '4']\n",
      "['<SOS>', '请', '原', '谅', '我', '的', '爱', '诉', '说', '<EOS>', '不', '2', '4']\n",
      "['<SOS>', '还', '不', '至', '于', '回', '不', '去', '啊', '<EOS>', '不', '2', '4']\n",
      "['<SOS>', '你', '红', '啦', '我', '绿', '儿', '啊', '你', '<EOS>', '不', '2', '4']\n",
      "['<SOS>', '在', '天', '空', '盘', '旋', '啊', '啊', '啊', '<EOS>', '不', '2', '4']\n",
      "['<SOS>', '能', '不', '能', '给', '我', '一', '个', '吻', '<EOS>', '不', '2', '4']\n",
      "['<SOS>', '但', '冷', '漠', '的', '眼', '神', '凝', '望', '<EOS>', '不', '2', '4']\n",
      "['<SOS>', '汗', '滴', '在', '血', '海', '红', '不', '红', '<EOS>', '不', '2', '4']\n",
      "['<SOS>', '却', '割', '舍', '不', '下', '啊', '啊', '啊', '<EOS>', '不', '2', '4']\n",
      "['<SOS>', '挽', '新', '面', '梳', '红', '妆', '去', '见', '<EOS>', '不', '2', '4']\n",
      "['<SOS>', '酒', '干', '倘', '卖', '无', '啊', '啊', '啊', '<EOS>', '不', '2', '4']\n",
      "['<SOS>', '又', '不', '是', '没', '努', '力', '过', '啊', '<EOS>', '不', '2', '4']\n",
      "['<SOS>', '万', '般', '可', '怜', '只', '因', '一', '厢', '<EOS>', '不', '2', '4']\n",
      "['<SOS>', '快', '欣', '赏', '身', '边', '啊', '啊', '啊', '<EOS>', '不', '2', '4']\n",
      "['<SOS>', '合', '是', '永', '远', '都', '灿', '烂', '的', '<EOS>', '不', '2', '4']\n",
      "['<SOS>', '有', '苦', '我', '为', '你', '分', '担', '啊', '<EOS>', '不', '2', '4']\n",
      "['<SOS>', '你', '不', '必', '过', '份', '多', '说', '你', '<EOS>', '不', '2', '4']\n",
      "['<SOS>', '我', '确', '信', '最', '美', '丽', '仍', '是', '<EOS>', '不', '2', '4']\n",
      "['<SOS>', '有', '的', '关', '怀', '社', '会', '啊', '啊', '<EOS>', '不', '2', '4']\n",
      "['<SOS>', '想', '来', '一', '次', '海', '枯', '石', '烂', '<EOS>', '不', '2', '4']\n",
      "['<SOS>', '这', '个', '见', '鬼', '的', '阴', '天', '啊', '<EOS>', '不', '2', '4']\n",
      "['<SOS>', '沉', '默', '的', '空', '气', '凝', '结', '幻', '<EOS>', '不', '2', '4']\n",
      "['<SOS>', '心', '里', '的', '伤', '无', '法', '分', '享', '<EOS>', '不', '2', '4']\n",
      "['<SOS>', '钟', '声', '让', '我', '沉', '睡', '啊', '啊', '<EOS>', '不', '2', '4']\n",
      "['<SOS>', '来', '换', '两', '句', '我', '爱', '你', '啊', '<EOS>', '不', '2', '4']\n",
      "['<SOS>', '当', '微', '风', '吹', '动', '我', '长', '发', '<EOS>', '不', '2', '4']\n",
      "['<SOS>', '偏', '偏', '偶', '遇', '啊', '啊', '啊', '啊', '<EOS>', '不', '2', '4']\n",
      "['<SOS>', '我', '给', '的', '保', '证', '没', '有', '期', '<EOS>', '不', '2', '4']\n",
      "['<SOS>', '新', '的', '挑', '战', '里', '实', '在', '是', '<EOS>', '不', '2', '4']\n",
      "['<SOS>', '真', '感', '觉', '飞', '越', '极', '限', '啊', '<EOS>', '不', '2', '4']\n",
      "['<SOS>', '在', '屋', '顶', '和', '我', '爱', '的', '人', '<EOS>', '不', '2', '4']\n",
      "['<SOS>', '这', '绿', '岛', '的', '夜', '已', '经', '这', '<EOS>', '不', '2', '4']\n",
      "['<SOS>', '心', '中', '的', '虹', '架', '在', '天', '上', '<EOS>', '不', '2', '4']\n",
      "['<SOS>', '腐', '朽', '被', '重', '新', '定', '义', '啊', '<EOS>', '不', '2', '4']\n",
      "['<SOS>', '简', '单', '到', '时', '间', '一', '冲', '就', '<EOS>', '不', '2', '4']\n",
      "['<SOS>', '才', '能', '得', '分', '不', '被', '判', '出', '<EOS>', '不', '2', '4']\n",
      "['<SOS>', '只', '要', '看', '你', '一', '眼', '一', '瞬', '<EOS>', '不', '2', '4']\n",
      "['<SOS>', '我', '受', '够', '这', '时', '代', '欺', '诈', '<EOS>', '不', '2', '4']\n",
      "['<SOS>', '你', '不', '断', '点', '烟', '我', '看', '窗', '<EOS>', '不', '2', '4']\n",
      "['<SOS>', '我', '的', '信', '念', '坚', '硬', '如', '钢', '<EOS>', '不', '2', '4']\n",
      "['<SOS>', '宇', '宙', '偏', '离', '的', '践', '踏', '啊', '<EOS>', '不', '2', '4']\n",
      "['<SOS>', '因', '为', '你', '我', '决', '不', '会', '轻', '<EOS>', '不', '2', '4']\n",
      "['<SOS>', '也', '能', '贡', '献', '笑', '容', '的', '重', '<EOS>', '不', '2', '4']\n",
      "['<SOS>', '我', '们', '不', '要', '拖', '拖', '拉', '拉', '<EOS>', '不', '2', '4']\n",
      "['<SOS>', '在', '纤', '绳', '上', '啊', '啊', '啊', '啊', '<EOS>', '不', '2', '4']\n",
      "['<SOS>', '零', '时', '差', '的', '拥', '有', '啊', '啊', '<EOS>', '不', '2', '4']\n",
      "['<SOS>', '时', '光', '已', '溜', '走', '啊', '啊', '啊', '<EOS>', '不', '2', '4']\n",
      "['<SOS>', '管', '不', '得', '究', '竟', '真', '正', '开', '<EOS>', '不', '2', '4']\n",
      "['<SOS>', '而', '今', '我', '已', '经', '成', '长', '啊', '<EOS>', '不', '2', '4']\n",
      "['<SOS>', '现', '在', '我', '想', '要', '自', '由', '天', '<EOS>', '不', '2', '4']\n",
      "['<SOS>', '如', '果', '给', '你', '寄', '一', '本', '书', '<EOS>', '不', '2', '4']\n",
      "['<SOS>', '这', '专', '属', '我', '的', '保', '护', '领', '<EOS>', '不', '2', '4']\n",
      "['<SOS>', '让', '我', '们', '有', '同', '样', '的', '梦', '<EOS>', '不', '2', '4']\n",
      "['<SOS>', '林', '梦', '为', '努', '力', '浇', '了', '水', '<EOS>', '不', '2', '4']\n",
      "['<SOS>', '合', '倾', '我', '自', '发', '自', '创', '的', '<EOS>', '不', '2', '4']\n",
      "['<SOS>', '姑', '娘', '小', '白', '不', '学', '小', '乔', '<EOS>', '不', '2', '4']\n",
      "['<SOS>', '跳', '这', '火', '坑', '啊', '啊', '啊', '啊', '<EOS>', '不', '2', '4']\n",
      "['<SOS>', '啥', '叫', '黑', '撒', '你', '翻', '字', '典', '<EOS>', '不', '2', '4']\n",
      "['<SOS>', '你', '干', '嘛', '你', '干', '嘛', '你', '干', '<EOS>', '不', '2', '4']\n",
      "['<SOS>', '挖', '个', '空', '空', '深', '渊', '中', '自', '<EOS>', '不', '2', '4']\n",
      "['<SOS>', '就', '算', '天', '塌', '下', '来', '还', '有', '<EOS>', '不', '2', '4']\n",
      "['<SOS>', '那', '里', '会', '有', '海', '风', '吹', '来', '<EOS>', '不', '2', '4']\n",
      "['<SOS>', '只', '要', '荧', '光', '屏', '上', '有', '图', '<EOS>', '不', '2', '4']\n",
      "['<SOS>', '又', '平', '淡', '似', '水', '啊', '啊', '啊', '<EOS>', '不', '2', '4']\n",
      "['<SOS>', '钢', '琴', '赵', '兆', '啊', '啊', '啊', '啊', '<EOS>', '不', '2', '4']\n",
      "['<SOS>', '相', '信', '自', '己', '啊', '啊', '啊', '啊', '<EOS>', '不', '2', '4']\n",
      "['<SOS>', '我', '才', '肯', '回', '家', '啊', '啊', '啊', '<EOS>', '不', '2', '4']\n",
      "['<SOS>', '让', '我', '的', '泪', '水', '流', '干', '啊', '<EOS>', '不', '2', '4']\n",
      "['<SOS>', '可', '我', '自', '得', '其', '乐', '心', '里', '<EOS>', '不', '2', '4']\n",
      "['<SOS>', '就', '该', '让', '它', '醉', '啊', '啊', '啊', '<EOS>', '不', '2', '4']\n",
      "['<SOS>', '了', '解', '让', '我', '们', '在', '一', '起', '<EOS>', '不', '2', '4']\n",
      "['<SOS>', '加', '冕', '光', '圈', '变', '天', '使', '啊', '<EOS>', '不', '2', '4']\n",
      "['<SOS>', '哦', '你', '爱', '永', '不', '变', '从', '今', '<EOS>', '不', '2', '4']\n",
      "['<SOS>', '如', '果', '那', '一', '刻', '你', '面', '带', '<EOS>', '不', '2', '4']\n",
      "['<SOS>', '我', '的', '吻', '狂', '乱', '地', '落', '下', '<EOS>', '不', '2', '4']\n",
      "['<SOS>', '不', '暴', '跳', '不', '会', '吓', '跑', '不', '<EOS>', '不', '2', '4']\n",
      "['<SOS>', '不', '需', '要', '脆', '弱', '的', '伪', '装', '<EOS>', '不', '2', '4']\n",
      "['<SOS>', '我', '也', '许', '没', '有', '也', '许', '啊', '<EOS>', '不', '2', '4']\n",
      "['<SOS>', '我', '承', '认', '世', '界', '对', '我', '有', '<EOS>', '不', '2', '4']\n",
      "['<SOS>', '哈', '哈', '我', '怎', '么', '可', '能', '怕', '<EOS>', '不', '2', '4']\n",
      "['<SOS>', '排', '长', '啊', '啊', '啊', '啊', '啊', '啊', '<EOS>', '不', '2', '4']\n",
      "['<SOS>', '这', '是', '否', '会', '让', '你', '感', '到', '<EOS>', '不', '2', '4']\n",
      "['<SOS>', '我', '没', '有', '羡', '慕', '啊', '啊', '啊', '<EOS>', '不', '2', '4']\n",
      "['<SOS>', '你', '的', '声', '音', '有', '如', '荡', '漾', '<EOS>', '不', '2', '4']\n",
      "['<SOS>', '足', '以', '对', '抗', '非', '洲', '的', '湿', '<EOS>', '不', '2', '4']\n",
      "['<SOS>', '就', '算', '末', '日', '爱', '都', '会', '继', '<EOS>', '不', '2', '4']\n",
      "['<SOS>', '父', '亲', '我', '的', '好', '父', '亲', '啊', '<EOS>', '不', '2', '4']\n",
      "['<SOS>', '去', '稻', '城', '巴', '黎', '啊', '啊', '啊', '<EOS>', '不', '2', '4']\n",
      "['<SOS>', '仁', '厚', '啊', '啊', '啊', '啊', '啊', '啊', '<EOS>', '不', '2', '4']\n",
      "['<SOS>', '让', '你', '能', '乘', '着', '风', '飞', '翔', '<EOS>', '不', '2', '4']\n",
      "['<SOS>', '叫', '我', '如', '何', '不', '再', '难', '过', '<EOS>', '不', '2', '4']\n",
      "['<SOS>', '你', '是', '我', '梦', '里', '啊', '啊', '啊', '<EOS>', '不', '2', '4']\n",
      "['<SOS>', '和', '你', '朝', '朝', '暮', '暮', '看', '日', '<EOS>', '不', '2', '4']\n",
      "['<SOS>', '让', '人', '们', '不', '由', '分', '说', '将', '<EOS>', '不', '2', '4']\n",
      "['<SOS>', '今', '夜', '的', '星', '星', '已', '早', '睡', '<EOS>', '不', '2', '4']\n",
      "['<SOS>', '风', '中', '凄', '清', '的', '一', '个', '却', '<EOS>', '不', '2', '4']\n",
      "['<SOS>', '我', '们', '忘', '了', '决', '心', '忘', '记', '<EOS>', '不', '2', '4']\n",
      "['<SOS>', '以', '热', '情', '更', '烈', '更', '旺', '啊', '<EOS>', '不', '2', '4']\n",
      "['<SOS>', '难', '道', '现', '在', '就', '不', '珍', '贵', '<EOS>', '不', '2', '4']\n",
      "['<SOS>', '你', '有', '大', '招', '我', '有', '绝', '技', '<EOS>', '不', '2', '4']\n",
      "['<SOS>', '回', '忆', '像', '午', '后', '的', '大', '雨', '<EOS>', '不', '2', '4']\n",
      "['<SOS>', '多', '少', '次', '望', '着', '你', '孤', '单', '<EOS>', '不', '2', '4']\n",
      "['<SOS>', '不', '应', '极', '力', '缠', '住', '啊', '啊', '<EOS>', '不', '2', '4']\n",
      "['<SOS>', '不', '是', '一', '般', '人', '的', '认', '真', '<EOS>', '不', '2', '4']\n",
      "['<SOS>', '你', '说', '你', '犯', '了', '不', '该', '犯', '<EOS>', '不', '2', '4']\n",
      "['<SOS>', '他', '们', '说', '说', '说', '说', '就', '快', '<EOS>', '不', '2', '4']\n",
      "['<SOS>', '十', '二', '岁', '鞭', '炮', '声', '糖', '纸', '<EOS>', '不', '2', '4']\n",
      "['<SOS>', '什', '么', '痛', '都', '是', '很', '渺', '小', '<EOS>', '不', '2', '4']\n",
      "['<SOS>', '我', '要', '停', '留', '我', '当', '回', '留', '<EOS>', '不', '2', '4']\n",
      "['<SOS>', '老', '路', '上', '路', '灯', '光', '依', '然', '<EOS>', '不', '2', '4']\n",
      "['<SOS>', '请', '明', '月', '代', '问', '候', '思', '念', '<EOS>', '不', '2', '4']\n",
      "['<SOS>', '凝', '聚', '了', '每', '点', '光', '茫', '啊', '<EOS>', '不', '2', '4']\n",
      "['<SOS>', '奥', '在', '心', '里', '啊', '啊', '啊', '啊', '<EOS>', '不', '2', '4']\n",
      "['<SOS>', '红', '尘', '任', '他', '凄', '凉', '啊', '啊', '<EOS>', '不', '2', '4']\n",
      "['<SOS>', '如', '火', '的', '葬', '礼', '啊', '啊', '啊', '<EOS>', '不', '2', '4']\n",
      "['<SOS>', '熟', '悉', '的', '角', '落', '里', '啊', '啊', '<EOS>', '不', '2', '4']\n",
      "['<SOS>', '一', '个', '人', '走', '在', '寂', '寞', '的', '<EOS>', '不', '2', '4']\n",
      "['<SOS>', '惹', '起', '有', '些', '眼', '光', '啊', '啊', '<EOS>', '不', '2', '4']\n",
      "['<SOS>', '某', '些', '白', '发', '真', '实', '的', '表', '<EOS>', '不', '2', '4']\n",
      "['<SOS>', '一', '个', '你', '呀', '一', '个', '我', '啊', '<EOS>', '不', '2', '4']\n",
      "['<SOS>', '虽', '然', '这', '秒', '时', '辰', '未', '到', '<EOS>', '不', '2', '4']\n",
      "['<SOS>', '不', '然', '太', '舒', '服', '还', '为', '眼', '<EOS>', '不', '2', '4']\n",
      "['<SOS>', '景', '岗', '山', '啊', '啊', '啊', '啊', '啊', '<EOS>', '不', '2', '4']\n",
      "['<SOS>', '男', '同', '声', '同', '气', '女', '同', '心', '<EOS>', '不', '2', '4']\n",
      "['<SOS>', '最', '后', '我', '们', '没', '有', '在', '一', '<EOS>', '不', '2', '4']\n",
      "['<SOS>', '大', '慈', '大', '悲', '啊', '啊', '啊', '啊', '<EOS>', '不', '2', '4']\n",
      "['<SOS>', '我', '依', '然', '不', '会', '忘', '记', '啊', '<EOS>', '不', '2', '4']\n",
      "['<SOS>', '我', '要', '用', '所', '有', '美', '好', '的', '<EOS>', '不', '2', '4']\n",
      "['<SOS>', '我', '发', '现', '你', '是', '个', '很', '啊', '<EOS>', '不', '2', '4']\n",
      "['<SOS>', '手', '握', '霸', '姬', '大', '宝', '剑', '啊', '<EOS>', '不', '2', '4']\n",
      "['<SOS>', '看', '我', '含', '泡', '泪', '你', '好', '象', '<EOS>', '不', '2', '4']\n",
      "['<SOS>', '鱼', '罐', '头', '一', '样', '在', '平', '躺', '<EOS>', '不', '2', '4']\n",
      "['<SOS>', '踩', '不', '出', '和', '谐', '双', '人', '舞', '<EOS>', '不', '2', '4']\n",
      "['<SOS>', '我', '爱', '我', '的', '天', '份', '四', '处', '<EOS>', '不', '2', '4']\n",
      "['<SOS>', '你', '是', '唯', '一', '啊', '啊', '啊', '啊', '<EOS>', '不', '2', '4']\n",
      "['<SOS>', '看', '着', '窗', '外', '的', '天', '空', '像', '<EOS>', '不', '2', '4']\n",
      "['<SOS>', '相', '机', '闪', '一', '刻', '只', '拍', '到', '<EOS>', '不', '2', '4']\n",
      "['<SOS>', '很', '遗', '憾', '啊', '啊', '啊', '啊', '啊', '<EOS>', '不', '2', '4']\n",
      "['<SOS>', '祝', '福', '你', '半', '天', '一', '生', '都', '<EOS>', '不', '2', '4']\n",
      "['<SOS>', '尘', '浮', '随', '浪', '只', '记', '今', '朝', '<EOS>', '不', '2', '4']\n",
      "['<SOS>', '何', '必', '在', '意', '那', '一', '点', '点', '<EOS>', '不', '2', '4']\n",
      "['<SOS>', '怎', '样', '参', '透', '情', '中', '线', '啊', '<EOS>', '不', '2', '4']\n",
      "['<SOS>', '一', '度', '啊', '啊', '啊', '啊', '啊', '啊', '<EOS>', '不', '2', '4']\n",
      "['<SOS>', '你', '亦', '无', '权', '让', '人', '在', '家', '<EOS>', '不', '2', '4']\n",
      "['<SOS>', '穷', '天', '人', '之', '际', '啊', '啊', '啊', '<EOS>', '不', '2', '4']\n",
      "['<SOS>', '就', '这', '样', '流', '浪', '流', '浪', '啊', '<EOS>', '不', '2', '4']\n",
      "['<SOS>', '你', '的', '暴', '烈', '太', '温', '柔', '啊', '<EOS>', '不', '2', '4']\n",
      "['<SOS>', '渴', '望', '众', '人', '许', '可', '冷', '静', '<EOS>', '不', '2', '4']\n",
      "['<SOS>', '旋', '转', '中', '细', '味', '啊', '啊', '啊', '<EOS>', '不', '2', '4']\n",
      "['<SOS>', '你', '像', '一', '只', '飞', '来', '飞', '去', '<EOS>', '不', '2', '4']\n",
      "['<SOS>', '高', '安', '自', '强', '不', '息', '啊', '啊', '<EOS>', '不', '2', '4']\n",
      "['<SOS>', '让', '理', '想', '燃', '亮', '我', '啊', '啊', '<EOS>', '不', '2', '4']\n",
      "['<SOS>', '沉', '默', '会', '不', '会', '比', '较', '好', '<EOS>', '不', '2', '4']\n",
      "['<SOS>', '我', '只', '想', '让', '你', '明', '白', '啊', '<EOS>', '不', '2', '4']\n",
      "['<SOS>', '昏', '黄', '烛', '光', '烂', '欲', '留', '拂', '<EOS>', '不', '2', '4']\n",
      "['<SOS>', '陪', '那', '片', '夜', '色', '啊', '啊', '啊', '<EOS>', '不', '2', '4']\n",
      "['<SOS>', '喜', '或', '哀', '啊', '啊', '啊', '啊', '啊', '<EOS>', '不', '2', '4']\n",
      "['<SOS>', '只', '是', '为', '何', '当', '初', '你', '是', '<EOS>', '不', '2', '4']\n",
      "['<SOS>', '体', '验', '着', '海', '啊', '啊', '啊', '啊', '<EOS>', '不', '2', '4']\n",
      "['<SOS>', '编', '曲', '盖', '瑞', '啊', '啊', '啊', '啊', '<EOS>', '不', '2', '4']\n",
      "['<SOS>', '你', '理', '解', '的', '永', '远', '不', '就', '<EOS>', '不', '2', '4']\n",
      "['<SOS>', '化', '作', '一', '江', '蜀', '浪', '东', '流', '<EOS>', '不', '2', '4']\n",
      "['<SOS>', '我', '可', '以', '很', '安', '静', '啊', '啊', '<EOS>', '不', '2', '4']\n",
      "['<SOS>', '很', '心', '急', '拥', '抱', '所', '以', '在', '<EOS>', '不', '2', '4']\n",
      "['<SOS>', '我', '宁', '愿', '你', '绝', '情', '到', '底', '<EOS>', '不', '2', '4']\n",
      "['<SOS>', '玫', '瑰', '爱', '情', '和', '美', '酒', '被', '<EOS>', '不', '2', '4']\n",
      "['<SOS>', '是', '不', '是', '有', '啊', '啊', '啊', '啊', '<EOS>', '不', '2', '4']\n",
      "['<SOS>', '什', '么', '都', '不', '爱', '啊', '啊', '啊', '<EOS>', '不', '2', '4']\n",
      "['<SOS>', '非', '你', '不', '爱', '啊', '啊', '啊', '啊', '<EOS>', '不', '2', '4']\n",
      "['<SOS>', '你', '却', '不', '相', '信', '你', '会', '赢', '<EOS>', '不', '2', '4']\n",
      "['<SOS>', '看', '你', '翩', '若', '惊', '鸿', '宛', '如', '<EOS>', '不', '2', '4']\n",
      "['<SOS>', '爱', '不', '到', '我', '最', '想', '要', '爱', '<EOS>', '不', '2', '4']\n",
      "['<SOS>', '我', '只', '想', '要', '一', '个', '啊', '啊', '<EOS>', '不', '2', '4']\n",
      "['<SOS>', '你', '时', '圆', '时', '缺', '时', '迷', '惘', '<EOS>', '不', '2', '4']\n",
      "['<SOS>', '粉', '红', '色', '的', '鞋', '底', '啊', '啊', '<EOS>', '不', '2', '4']\n",
      "['<SOS>', '思', '念', '总', '在', '分', '手', '后', '开', '<EOS>', '不', '2', '4']\n",
      "['<SOS>', '你', '曾', '经', '牢', '牢', '地', '在', '我', '<EOS>', '不', '2', '4']\n",
      "['<SOS>', '白', '发', '都', '让', '人', '羡', '慕', '啊', '<EOS>', '不', '2', '4']\n",
      "['<SOS>', '你', '讨', '厌', '你', '讨', '厌', '我', '要', '<EOS>', '不', '2', '4']\n",
      "['<SOS>', '带', '走', '我', '啊', '啊', '啊', '啊', '啊', '<EOS>', '不', '2', '4']\n",
      "['<SOS>', '做', '父', '亲', '的', '也', '应', '庄', '重', '<EOS>', '不', '2', '4']\n",
      "['<SOS>', '一', '旦', '睡', '着', '了', '啊', '啊', '啊', '<EOS>', '不', '2', '4']\n",
      "['<SOS>', '涅', '槃', '无', '解', '啊', '啊', '啊', '啊', '<EOS>', '不', '2', '4']\n",
      "['<SOS>', '我', '却', '没', '抓', '紧', '你', '啊', '啊', '<EOS>', '不', '2', '4']\n",
      "['<SOS>', '难', '道', '是', '我', '把', '一', '切', '想', '<EOS>', '不', '2', '4']\n",
      "['<SOS>', '在', '这', '大', '雪', '纷', '飞', '迷', '雾', '<EOS>', '不', '2', '4']\n",
      "['<SOS>', '有', '牆', '可', '穿', '就', '不', '用', '把', '<EOS>', '不', '2', '4']\n",
      "['<SOS>', '匆', '匆', '怎', '诉', '情', '无', '限', '啊', '<EOS>', '不', '2', '4']\n",
      "['<SOS>', '光', '点', '的', '瞬', '间', '宇', '宙', '之', '<EOS>', '不', '2', '4']\n",
      "['<SOS>', '我', '要', '把', '这', '世', '界', '为', '你', '<EOS>', '不', '2', '4']\n",
      "['<SOS>', '法', '海', '你', '真', '的', '不', '懂', '爱', '<EOS>', '不', '2', '4']\n",
      "['<SOS>', '爱', '要', '爱', '得', '长', '久', '啊', '啊', '<EOS>', '不', '2', '4']\n",
      "['<SOS>', '不', '值', '得', '翻', '来', '覆', '去', '啊', '<EOS>', '不', '2', '4']\n",
      "['<SOS>', '等', '于', '背', '叛', '地', '球', '啊', '啊', '<EOS>', '不', '2', '4']\n",
      "['<SOS>', '随', '时', '处', '在', '战', '斗', '状', '态', '<EOS>', '不', '2', '4']\n",
      "['<SOS>', '每', '个', '人', '怀', '中', '啊', '啊', '啊', '<EOS>', '不', '2', '4']\n",
      "['<SOS>', '不', '吹', '灰', '震', '动', '全', '世', '界', '<EOS>', '不', '2', '4']\n",
      "['<SOS>', '狱', '卒', '的', '兄', '弟', '走', '头', '前', '<EOS>', '不', '2', '4']\n",
      "['<SOS>', '所', '有', '的', '一', '切', '啊', '啊', '啊', '<EOS>', '不', '2', '4']\n",
      "['<SOS>', '和', '声', '柳', '静', '安', '敏', '捷', '曾', '<EOS>', '不', '2', '4']\n",
      "['<SOS>', '想', '要', '我', '的', '爱', '情', '你', '就', '<EOS>', '不', '2', '4']\n",
      "['<SOS>', '或', '为', '树', '啊', '啊', '啊', '啊', '啊', '<EOS>', '不', '2', '4']\n",
      "['<SOS>', '你', '常', '说', '肯', '定', '是', '我', '们', '<EOS>', '不', '2', '4']\n",
      "['<SOS>', '当', '恋', '爱', '王', '见', '王', '啊', '啊', '<EOS>', '不', '2', '4']\n",
      "['<SOS>', '你', '的', '心', '中', '满', '是', '伤', '痕', '<EOS>', '不', '2', '4']\n",
      "['<SOS>', '你', '写', '给', '我', '啊', '啊', '啊', '啊', '<EOS>', '不', '2', '4']\n",
      "['<SOS>', '我', '曾', '和', '其', '他', '几', '位', '待', '<EOS>', '不', '2', '4']\n",
      "['<SOS>', '手', '牵', '手', '一', '起', '渡', '过', '啊', '<EOS>', '不', '2', '4']\n",
      "['<SOS>', '但', '讲', '不', '出', '意', '思', '啊', '啊', '<EOS>', '不', '2', '4']\n",
      "['<SOS>', '说', '你', '永', '远', '都', '爱', '我', '啊', '<EOS>', '不', '2', '4']\n",
      "['<SOS>', '忘', '了', '就', '好', '啊', '啊', '啊', '啊', '<EOS>', '不', '2', '4']\n",
      "['<SOS>', '喜', '到', '噢', '喜', '那', '拉', '比', '拉', '<EOS>', '不', '2', '4']\n",
      "['<SOS>', '幽', '怨', '的', '你', '极', '冰', '冻', '啊', '<EOS>', '不', '2', '4']\n",
      "['<SOS>', '难', '过', '你', '为', '何', '不', '肯', '告', '<EOS>', '不', '2', '4']\n",
      "['<SOS>', '你', '不', '想', '被', '打', '扰', '我', '安', '<EOS>', '不', '2', '4']\n",
      "['<SOS>', '一', '抹', '红', '唇', '青', '衣', '只', '为', '<EOS>', '不', '2', '4']\n",
      "['<SOS>', '和', '寂', '寞', '交', '换', '着', '悲', '伤', '<EOS>', '不', '2', '4']\n",
      "['<SOS>', '爱', '情', '像', '天', '空', '的', '云', '忽', '<EOS>', '不', '2', '4']\n",
      "['<SOS>', '悲', '伤', '与', '快', '乐', '都', '直', '接', '<EOS>', '不', '2', '4']\n",
      "['<SOS>', '也', '曾', '伤', '心', '流', '泪', '啊', '啊', '<EOS>', '不', '2', '4']\n",
      "['<SOS>', '手', '里', '抓', '着', '沙', '葱', '啊', '啊', '<EOS>', '不', '2', '4']\n",
      "['<SOS>', '年', '轻', '的', '心', '中', '啊', '啊', '啊', '<EOS>', '不', '2', '4']\n",
      "['<SOS>', '才', '想', '起', '回', '家', '的', '门', '啊', '<EOS>', '不', '2', '4']\n",
      "['<SOS>', '潮', '来', '潮', '往', '世', '界', '多', '变', '<EOS>', '不', '2', '4']\n",
      "['<SOS>', '白', '白', '屈', '守', '变', '枯', '枝', '啊', '<EOS>', '不', '2', '4']\n",
      "['<SOS>', '来', '来', '往', '往', '传', '送', '简', '讯', '<EOS>', '不', '2', '4']\n",
      "['<SOS>', '寂', '寞', '路', '上', '遇', '痴', '心', '相', '<EOS>', '不', '2', '4']\n",
      "['<SOS>', '一', '首', '再', '一', '首', '这', '无', '力', '<EOS>', '不', '2', '4']\n",
      "['<SOS>', '可', '爱', '的', '小', '毛', '球', '偶', '尔', '<EOS>', '不', '2', '4']\n",
      "['<SOS>', '她', '拿', '着', '沐', '浴', '盆', '就', '去', '<EOS>', '不', '2', '4']\n",
      "['<SOS>', '彼', '此', '推', '翻', '承', '诺', '手', '牵', '<EOS>', '不', '2', '4']\n",
      "['<SOS>', '那', '么', '温', '柔', '的', '怀', '抱', '啊', '<EOS>', '不', '2', '4']\n",
      "['<SOS>', '这', '逻', '辑', '荒', '唐', '又', '可', '笑', '<EOS>', '不', '2', '4']\n",
      "['<SOS>', '换', '方', '向', '啊', '啊', '啊', '啊', '啊', '<EOS>', '不', '2', '4']\n",
      "['<SOS>', '道', '路', '两', '旁', '的', '美', '丽', '鲜', '<EOS>', '不', '2', '4']\n",
      "['<SOS>', '看', '著', '时', '间', '的', '进', '行', '像', '<EOS>', '不', '2', '4']\n",
      "['<SOS>', '女', '原', '来', '你', '啊', '啊', '啊', '啊', '<EOS>', '不', '2', '4']\n",
      "['<SOS>', '从', '早', '到', '晚', '啊', '啊', '啊', '啊', '<EOS>', '不', '2', '4']\n",
      "['<SOS>', '还', '不', '比', '野', '火', '烧', '过', '的', '<EOS>', '不', '2', '4']\n",
      "['<SOS>', '太', '累', '了', '心', '里', '有', '点', '酸', '<EOS>', '不', '2', '4']\n",
      "['<SOS>', '各', '级', '人', '才', '交', '流', '服', '务', '<EOS>', '不', '2', '4']\n",
      "['<SOS>', '空', '心', '啊', '啊', '啊', '啊', '啊', '啊', '<EOS>', '不', '2', '4']\n",
      "['<SOS>', '但', '却', '感', '觉', '距', '离', '还', '是', '<EOS>', '不', '2', '4']\n",
      "['<SOS>', '我', '忍', '住', '泪', '腺', '啊', '啊', '啊', '<EOS>', '不', '2', '4']\n",
      "['<SOS>', '嘚', '咯', '呔', '嘚', '啲', '吺', '嘚', '咯', '<EOS>', '不', '2', '4']\n",
      "['<SOS>', '请', '放', '心', '请', '安', '息', '啊', '啊', '<EOS>', '不', '2', '4']\n",
      "['<SOS>', '透', '明', '是', '什', '么', '颜', '色', '的', '<EOS>', '不', '2', '4']\n",
      "['<SOS>', '鼓', '王', '卉', '啊', '啊', '啊', '啊', '啊', '<EOS>', '不', '2', '4']\n",
      "['<SOS>', '把', '每', '一', '段', '日', '子', '都', '留', '<EOS>', '不', '2', '4']\n",
      "['<SOS>', '她', '请', '人', '用', '独', '轮', '车', '推', '<EOS>', '不', '2', '4']\n",
      "['<SOS>', '我', '也', '只', '是', '在', '选', '择', '啊', '<EOS>', '不', '2', '4']\n",
      "['<SOS>', '勤', '能', '补', '拙', '会', '想', '三', '次', '<EOS>', '不', '2', '4']\n",
      "['<SOS>', '寒', '冷', '的', '雨', '滴', '不', '會', '再', '<EOS>', '不', '2', '4']\n",
      "['<SOS>', '是', '我', '天', '空', '最', '美', '丽', '的', '<EOS>', '不', '2', '4']\n",
      "['<SOS>', '陪', '你', '唱', '往', '日', '的', '歌', '啊', '<EOS>', '不', '2', '4']\n",
      "['<SOS>', '然', '後', '好', '几', '年', '都', '闻', '不', '<EOS>', '不', '2', '4']\n",
      "['<SOS>', '我', '寻', '寻', '觅', '觅', '寻', '寻', '觅', '<EOS>', '不', '2', '4']\n",
      "['<SOS>', '无', '疑', '地', '啊', '啊', '啊', '啊', '啊', '<EOS>', '不', '2', '4']\n",
      "['<SOS>', '你', '想', '知', '道', '什', '么', '我', '让', '<EOS>', '不', '2', '4']\n",
      "['<SOS>', '永', '遠', '永', '遠', '也', '未', '平', '靜', '<EOS>', '不', '2', '4']\n",
      "['<SOS>', '深', '空', '啊', '啊', '啊', '啊', '啊', '啊', '<EOS>', '不', '2', '4']\n",
      "['<SOS>', '狠', '狠', '地', '把', '心', '痛', '了', '断', '<EOS>', '不', '2', '4']\n",
      "['<SOS>', '我', '想', '问', '还', '有', '谁', '能', '逃', '<EOS>', '不', '2', '4']\n",
      "['<SOS>', '是', '她', '应', '该', '做', '的', '一', '切', '<EOS>', '不', '2', '4']\n",
      "['<SOS>', '那', '繁', '华', '都', '是', '梦', '多', '久', '<EOS>', '不', '2', '4']\n",
      "['<SOS>', '陪', '你', '奋', '斗', '用', '我', '强', '悍', '<EOS>', '不', '2', '4']\n",
      "['<SOS>', '男', '歌', '歌', '舞', '舞', '共', '欢', '庆', '<EOS>', '不', '2', '4']\n",
      "['<SOS>', '什', '么', '成', '就', '也', '没', '有', '啊', '<EOS>', '不', '2', '4']\n",
      "['<SOS>', '只', '牵', '你', '的', '手', '啊', '啊', '啊', '<EOS>', '不', '2', '4']\n",
      "['<SOS>', '特', '地', '指', '定', '小', '学', '徒', '为', '<EOS>', '不', '2', '4']\n",
      "['<SOS>', '超', '出', '你', '的', '想', '像', '啊', '啊', '<EOS>', '不', '2', '4']\n",
      "['<SOS>', '地', '上', '有', '烟', '锁', '重', '楼', '啊', '<EOS>', '不', '2', '4']\n",
      "['<SOS>', '超', '越', '让', '世', '界', '洒', '满', '和', '<EOS>', '不', '2', '4']\n",
      "['<SOS>', '掩', '饰', '失', '意', '心', '里', '面', '啊', '<EOS>', '不', '2', '4']\n",
      "['<SOS>', '从', '死', '角', '前', '脱', '逃', '啊', '啊', '<EOS>', '不', '2', '4']\n",
      "['<SOS>', '让', '我', '们', '坚', '定', '信', '念', '啊', '<EOS>', '不', '2', '4']\n",
      "['<SOS>', '豪', '情', '还', '剩', '了', '啊', '啊', '啊', '<EOS>', '不', '2', '4']\n",
      "['<SOS>', '相', '思', '算', '什', '么', '啊', '啊', '啊', '<EOS>', '不', '2', '4']\n",
      "['<SOS>', '啦', '啦', '啦', '啦', '啦', '啦', '啦', '啦', '<EOS>', '不', '2', '4']\n",
      "['<SOS>', '留', '一', '段', '日', '光', '啊', '啊', '啊', '<EOS>', '不', '2', '4']\n",
      "['<SOS>', '搜', '寻', '搜', '寻', '搜', '寻', '不', '到', '<EOS>', '不', '2', '4']\n",
      "['<SOS>', '一', '来', '啊', '啊', '啊', '啊', '啊', '啊', '<EOS>', '不', '2', '4']\n",
      "['<SOS>', '你', '是', '爱', '我', '的', '就', '不', '怕', '<EOS>', '不', '2', '4']\n",
      "['<SOS>', '但', '每', '次', '它', '只', '留', '下', '惊', '<EOS>', '不', '2', '4']\n",
      "['<SOS>', '就', '不', '再', '困', '惑', '生', '命', '有', '<EOS>', '不', '2', '4']\n",
      "['<SOS>', '我', '害', '怕', '慵', '懒', '把', '爱', '变', '<EOS>', '不', '2', '4']\n",
      "['<SOS>', '你', '在', '哪', '里', '呢', '我', '很', '想', '<EOS>', '不', '2', '4']\n",
      "['<SOS>', '迷', '失', '的', '我', '就', '似', '天', '地', '<EOS>', '不', '2', '4']\n",
      "['<SOS>', '农', '妇', '见', '了', '很', '难', '过', '啊', '<EOS>', '不', '2', '4']\n",
      "['<SOS>', '就', '算', '失', '去', '所', '有', '爱', '的', '<EOS>', '不', '2', '4']\n",
      "['<SOS>', '和', '中', '国', '的', '相', '似', '啊', '啊', '<EOS>', '不', '2', '4']\n",
      "['<SOS>', '嘟', '嘟', '嘟', '嘟', '嘟', '嘟', '嘟', '嘟', '<EOS>', '不', '2', '4']\n",
      "['<SOS>', '不', '如', '我', '们', '谈', '恋', '爱', '啊', '<EOS>', '不', '2', '4']\n",
      "['<SOS>', '都', '是', '跟', '随', '你', '走', '的', '脚', '<EOS>', '不', '2', '4']\n",
      "['<SOS>', '我', '喜', '欢', '你', '啊', '啊', '啊', '啊', '<EOS>', '不', '2', '4']\n",
      "['<SOS>', '就', '和', '你', '手', '牵', '手', '的', '走', '<EOS>', '不', '2', '4']\n",
      "['<SOS>', '又', '可', '以', '望', '见', '大', '雁', '啊', '<EOS>', '不', '2', '4']\n",
      "['<SOS>', '于', '是', '就', '有', '了', '大', '年', '夜', '<EOS>', '不', '2', '4']\n",
      "['<SOS>', '给', '你', '拯', '救', '的', '体', '温', '总', '<EOS>', '不', '2', '4']\n",
      "['<SOS>', '哔', '叭', '剥', '列', '啊', '啊', '啊', '啊', '<EOS>', '不', '2', '4']\n",
      "['<SOS>', '如', '初', '啊', '啊', '啊', '啊', '啊', '啊', '<EOS>', '不', '2', '4']\n",
      "['<SOS>', '忘', '不', '了', '醉', '人', '的', '缠', '绵', '<EOS>', '不', '2', '4']\n",
      "['<SOS>', '我', '的', '心', '已', '无', '法', '呼', '吸', '<EOS>', '不', '2', '4']\n",
      "['<SOS>', '蘑', '蘑', '菇', '菇', '啊', '啊', '啊', '啊', '<EOS>', '不', '2', '4']\n",
      "['<SOS>', '千', '言', '万', '语', '凝', '结', '成', '一', '<EOS>', '不', '2', '4']\n",
      "['<SOS>', '唯', '有', '到', '爱', '不', '起', '便', '明', '<EOS>', '不', '2', '4']\n",
      "['<SOS>', '而', '是', '有', '你', '在', '心', '上', '啊', '<EOS>', '不', '2', '4']\n",
      "['<SOS>', '念', '念', '不', '忘', '啊', '啊', '啊', '啊', '<EOS>', '不', '2', '4']\n",
      "['<SOS>', '心', '痛', '吧', '谁', '人', '能', '潇', '洒', '<EOS>', '不', '2', '4']\n",
      "['<SOS>', '也', '许', '我', '浅', '薄', '可', '不', '是', '<EOS>', '不', '2', '4']\n",
      "['<SOS>', '集', '各', '款', '叹', '号', '写', '落', '记', '<EOS>', '不', '2', '4']\n",
      "['<SOS>', '说', '完', '这', '句', '就', '消', '失', '就', '<EOS>', '不', '2', '4']\n",
      "['<SOS>', '手', '在', '键', '盘', '敲', '很', '轻', '啊', '<EOS>', '不', '2', '4']\n",
      "['<SOS>', '我', '想', '对', '你', '说', '却', '害', '怕', '<EOS>', '不', '2', '4']\n",
      "['<SOS>', '只', '想', '携', '你', '一', '起', '啊', '啊', '<EOS>', '不', '2', '4']\n",
      "['<SOS>', '过', '去', '像', '盲', '婚', '哑', '嫁', '啊', '<EOS>', '不', '2', '4']\n",
      "['<SOS>', '南', '方', '的', '冬', '天', '啊', '啊', '啊', '<EOS>', '不', '2', '4']\n",
      "['<SOS>', '没', '有', '深', '陷', '到', '不', '可', '自', '<EOS>', '不', '2', '4']\n",
      "['<SOS>', '没', '料', '到', '我', '所', '失', '的', '啊', '<EOS>', '不', '2', '4']\n",
      "['<SOS>', '不', '普', '通', '的', '都', '失', '踪', '普', '<EOS>', '不', '2', '4']\n",
      "['<SOS>', '我', '只', '怕', '会', '受', '不', '了', '啊', '<EOS>', '不', '2', '4']\n",
      "['<SOS>', '心', '只', '想', '跟', '他', '一', '起', '轻', '<EOS>', '不', '2', '4']\n",
      "['<SOS>', '回', '首', '灯', '火', '不', '见', '阑', '珊', '<EOS>', '不', '2', '4']\n",
      "['<SOS>', '再', '见', '也', '不', '能', '挽', '回', '啊', '<EOS>', '不', '2', '4']\n",
      "['<SOS>', '来', '为', '你', '的', '错', '误', '买', '单', '<EOS>', '不', '2', '4']\n",
      "['<SOS>', '我', '突', '然', '懂', '了', '很', '多', '事', '<EOS>', '不', '2', '4']\n",
      "['<SOS>', '你', '说', '会', '梦', '见', '我', '啊', '啊', '<EOS>', '不', '2', '4']\n",
      "['<SOS>', '是', '回', '家', '的', '芬', '芳', '啊', '啊', '<EOS>', '不', '2', '4']\n",
      "['<SOS>', '任', '时', '光', '匆', '匆', '流', '去', '啊', '<EOS>', '不', '2', '4']\n",
      "['<SOS>', '一', '双', '手', '不', '息', '挣', '扎', '闯', '<EOS>', '不', '2', '4']\n",
      "['<SOS>', '拥', '抱', '陪', '我', '啊', '啊', '啊', '啊', '<EOS>', '不', '2', '4']\n",
      "['<SOS>', '和', '声', '编', '配', '暗', '杠', '啊', '啊', '<EOS>', '不', '2', '4']\n",
      "['<SOS>', '扭', '一', '扭', '啊', '啊', '啊', '啊', '啊', '<EOS>', '不', '2', '4']\n",
      "['<SOS>', '候', '鸟', '的', '倒', '影', '排', '成', '双', '<EOS>', '不', '2', '4']\n",
      "['<SOS>', '父', '亲', '我', '的', '好', '父', '亲', '啊', '<EOS>', '不', '2', '4']\n",
      "['<SOS>', '关', '於', '你', '的', '歌', '啊', '啊', '啊', '<EOS>', '不', '2', '4']\n",
      "['<SOS>', '我', '愿', '意', '用', '全', '部', '啊', '啊', '<EOS>', '不', '2', '4']\n",
      "['<SOS>', '仰', '望', '着', '夜', '空', '听', '潮', '起', '<EOS>', '不', '2', '4']\n",
      "['<SOS>', '怒', '目', '喷', '火', '热', '血', '涌', '啊', '<EOS>', '不', '2', '4']\n",
      "['<SOS>', '我', '们', '爱', '过', '就', '好', '爱', '了', '<EOS>', '不', '2', '4']\n",
      "['<SOS>', '在', '开', '满', '向', '日', '葵', '的', '小', '<EOS>', '不', '2', '4']\n",
      "['<SOS>', '音', '乐', '总', '监', '赵', '兆', '啊', '啊', '<EOS>', '不', '2', '4']\n",
      "['<SOS>', '线', '的', '另', '一', '边', '你', '紧', '紧', '<EOS>', '不', '2', '4']\n",
      "['<SOS>', '柑', '未', '停', '余', '香', '沁', '人', '心', '<EOS>', '不', '2', '4']\n",
      "['<SOS>', '看', '看', '可', '爱', '的', '天', '摸', '摸', '<EOS>', '不', '2', '4']\n",
      "['<SOS>', '不', '紧', '张', '啊', '啊', '啊', '啊', '啊', '<EOS>', '不', '2', '4']\n",
      "['<SOS>', '春', '天', '啊', '啊', '啊', '啊', '啊', '啊', '<EOS>', '不', '2', '4']\n",
      "['<SOS>', '是', '故', '空', '中', '无', '色', '啊', '啊', '<EOS>', '不', '2', '4']\n",
      "['<SOS>', '你', '躲', '在', '有', '人', '陪', '伴', '的', '<EOS>', '不', '2', '4']\n",
      "['<SOS>', '哎', '呀', '我', '的', '天', '哎', '呀', '我', '<EOS>', '不', '2', '4']\n",
      "['<SOS>', '你', '看', '这', '混', '蛋', '他', '有', '多', '<EOS>', '不', '2', '4']\n",
      "['<SOS>', '容', '不', '下', '我', '的', '痴', '啊', '啊', '<EOS>', '不', '2', '4']\n",
      "['<SOS>', '用', '力', '想', '用', '力', '想', '没', '有', '<EOS>', '不', '2', '4']\n",
      "['<SOS>', '转', '眼', '间', '恶', '善', '神', '魔', '交', '<EOS>', '不', '2', '4']\n",
      "['<SOS>', '手', '心', '之', '间', '我', '只', '想', '要', '<EOS>', '不', '2', '4']\n",
      "['<SOS>', '是', '出', '生', '所', '有', '小', '命', '看', '<EOS>', '不', '2', '4']\n",
      "['<SOS>', '你', '锁', '了', '人', '家', '就', '懂', '了', '<EOS>', '不', '2', '4']\n",
      "['<SOS>', '新', '波', '衫', '波', '砵', '皮', '球', '冲', '<EOS>', '不', '2', '4']\n",
      "['<SOS>', '我', '以', '为', '当', '时', '勇', '于', '分', '<EOS>', '不', '2', '4']\n",
      "['<SOS>', '混', '录', '王', '宇', '枫', '啊', '啊', '啊', '<EOS>', '不', '2', '4']\n",
      "['<SOS>', '如', '何', '着', '既', '我', '的', '本', '性', '<EOS>', '不', '2', '4']\n",
      "['<SOS>', '而', '不', '是', '各', '自', '缅', '怀', '啊', '<EOS>', '不', '2', '4']\n",
      "['<SOS>', '你', '就', '像', '那', '一', '把', '火', '啊', '<EOS>', '不', '2', '4']\n",
      "['<SOS>', '让', '我', '的', '双', '手', '做', '温', '暖', '<EOS>', '不', '2', '4']\n",
      "['<SOS>', '对', '你', '的', '祝', '福', '也', '太', '虚', '<EOS>', '不', '2', '4']\n",
      "['<SOS>', '多', '少', '花', '园', '啊', '啊', '啊', '啊', '<EOS>', '不', '2', '4']\n",
      "['<SOS>', '但', '是', '啊', '啊', '啊', '啊', '啊', '啊', '<EOS>', '不', '2', '4']\n",
      "['<SOS>', '乘', '上', '最', '末', '的', '一', '班', '车', '<EOS>', '不', '2', '4']\n",
      "['<SOS>', '中', '提', '琴', '何', '辉', '啊', '啊', '啊', '<EOS>', '不', '2', '4']\n",
      "['<SOS>', '界', '碑', '真', '的', '能', '使', '人', '感', '<EOS>', '不', '2', '4']\n",
      "['<SOS>', '想', '起', '了', '那', '年', '的', '春', '天', '<EOS>', '不', '2', '4']\n",
      "['<SOS>', '牵', '挂', '没', '有', '放', '下', '只', '是', '<EOS>', '不', '2', '4']\n",
      "['<SOS>', '有', '多', '少', '童', '话', '般', '的', '人', '<EOS>', '不', '2', '4']\n",
      "['<SOS>', '如', '何', '瞬', '间', '冻', '结', '时', '间', '<EOS>', '不', '2', '4']\n",
      "['<SOS>', '有', '些', '人', '用', '肉', '眼', '去', '细', '<EOS>', '不', '2', '4']\n",
      "['<SOS>', '我', '为', '什', '么', '觉', '得', '难', '过', '<EOS>', '不', '2', '4']\n",
      "['<SOS>', '孤', '单', '的', '老', '树', '啊', '啊', '啊', '<EOS>', '不', '2', '4']\n",
      "['<SOS>', '我', '也', '应', '该', '要', '来', '了', '啊', '<EOS>', '不', '2', '4']\n",
      "['<SOS>', '栗', '坤', '王', '业', '涂', '经', '纬', '郭', '<EOS>', '不', '2', '4']\n",
      "['<SOS>', '只', '能', '说', '既', '然', '爱', '过', '就', '<EOS>', '不', '2', '4']\n",
      "['<SOS>', '却', '碰', '到', '你', '坐', '在', '对', '面', '<EOS>', '不', '2', '4']\n",
      "['<SOS>', '就', '快', '把', '心', '情', '热', '起', '来', '<EOS>', '不', '2', '4']\n",
      "['<SOS>', '我', '无', '意', '间', '哼', '出', '那', '个', '<EOS>', '不', '2', '4']\n",
      "['<SOS>', '得', '到', '了', '金', '银', '财', '宝', '与', '<EOS>', '不', '2', '4']\n",
      "['<SOS>', '和', '声', '编', '写', '和', '声', '李', '剑', '<EOS>', '不', '2', '4']\n",
      "['<SOS>', '因', '为', '我', '的', '病', '就', '是', '没', '<EOS>', '不', '2', '4']\n",
      "['<SOS>', '而', '明', '日', '明', '日', '又', '隔', '天', '<EOS>', '不', '2', '4']\n",
      "['<SOS>', '每', '天', '看', '着', '那', '粉', '红', '的', '<EOS>', '不', '2', '4']\n",
      "['<SOS>', '意', '气', '风', '发', '啊', '啊', '啊', '啊', '<EOS>', '不', '2', '4']\n",
      "['<SOS>', '你', '只', '需', '要', '给', '他', '来', '一', '<EOS>', '不', '2', '4']\n",
      "['<SOS>', '是', '你', '的', '山', '你', '的', '水', '你', '<EOS>', '不', '2', '4']\n",
      "['<SOS>', '陪', '你', '望', '着', '天', '啊', '啊', '啊', '<EOS>', '不', '2', '4']\n",
      "['<SOS>', '只', '顾', '着', '头', '上', '盛', '开', '的', '<EOS>', '不', '2', '4']\n",
      "['<SOS>', '想', '不', '出', '未', '来', '又', '会', '有', '<EOS>', '不', '2', '4']\n",
      "['<SOS>', '我', '不', '是', '真', '的', '把', '你', '拱', '<EOS>', '不', '2', '4']\n",
      "['<SOS>', '说', '着', '快', '乐', '说', '着', '悲', '伤', '<EOS>', '不', '2', '4']\n",
      "['<SOS>', '成', '功', '虽', '是', '一', '种', '目', '的', '<EOS>', '不', '2', '4']\n",
      "['<SOS>', '爱', '人', '我', '们', '已', '久', '违', '啊', '<EOS>', '不', '2', '4']\n",
      "['<SOS>', '有', '你', '肩', '膀', '分', '享', '温', '暖', '<EOS>', '不', '2', '4']\n",
      "['<SOS>', '将', '心', '意', '再', '还', '谁', '啊', '啊', '<EOS>', '不', '2', '4']\n",
      "['<SOS>', '我', '愿', '意', '为', '爱', '苦', '痛', '啊', '<EOS>', '不', '2', '4']\n",
      "['<SOS>', '冷', '暖', '气', '候', '同', '样', '影', '响', '<EOS>', '不', '2', '4']\n",
      "['<SOS>', '一', '个', '人', '的', '夜', '难', '以', '入', '<EOS>', '不', '2', '4']\n",
      "['<SOS>', '旧', '州', '歌', '就', '要', '唱', '完', '了', '<EOS>', '不', '2', '4']\n",
      "['<SOS>', '爱', '像', '自', '助', '旅', '行', '我', '们', '<EOS>', '不', '2', '4']\n",
      "['<SOS>', '你', '的', '热', '情', '像', '太', '阳', '啊', '<EOS>', '不', '2', '4']\n",
      "['<SOS>', '又', '进', '进', '退', '退', '痛', '苦', '试', '<EOS>', '不', '2', '4']\n",
      "['<SOS>', '你', '说', '遇', '见', '一', '个', '人', '给', '<EOS>', '不', '2', '4']\n",
      "['<SOS>', '等', '不', '到', '西', '海', '天', '际', '蔚', '<EOS>', '不', '2', '4']\n",
      "['<SOS>', '让', '寂', '寞', '随', '黑', '夜', '袭', '来', '<EOS>', '不', '2', '4']\n",
      "['<SOS>', '海', '棠', '花', '儿', '不', '会', '自', '己', '<EOS>', '不', '2', '4']\n",
      "['<SOS>', '我', '一', '无', '所', '有', '啊', '啊', '啊', '<EOS>', '不', '2', '4']\n",
      "['<SOS>', '那', '天', '的', '无', '人', '山', '谷', '仿', '<EOS>', '不', '2', '4']\n",
      "['<SOS>', '来', '到', '这', '个', '陌', '生', '的', '城', '<EOS>', '不', '2', '4']\n",
      "['<SOS>', '好', '好', '去', '享', '受', '这', '一', '对', '<EOS>', '不', '2', '4']\n",
      "['<SOS>', '祝', '大', '家', '啊', '啊', '啊', '啊', '啊', '<EOS>', '不', '2', '4']\n",
      "['<SOS>', '不', '敢', '听', '树', '上', '的', '鸟', '儿', '<EOS>', '不', '2', '4']\n",
      "['<SOS>', '所', '有', '的', '问', '号', '交', '给', '我', '<EOS>', '不', '2', '4']\n",
      "['<SOS>', '新', '衣', '新', '裤', '别', '剃', '头', '嘞', '<EOS>', '不', '2', '4']\n",
      "['<SOS>', '时', '间', '带', '走', '的', '比', '想', '像', '<EOS>', '不', '2', '4']\n",
      "['<SOS>', '那', '高', '高', '在', '上', '啊', '啊', '啊', '<EOS>', '不', '2', '4']\n",
      "['<SOS>', '对', '你', '的', '思', '念', '更', '添', '上', '<EOS>', '不', '2', '4']\n",
      "['<SOS>', '你', '也', '不', '必', '牵', '强', '再', '说', '<EOS>', '不', '2', '4']\n",
      "['<SOS>', '我', '再', '不', '面', '红', '但', '愿', '不', '<EOS>', '不', '2', '4']\n",
      "['<SOS>', '你', '说', '你', '有', '方', '向', '我', '说', '<EOS>', '不', '2', '4']\n",
      "['<SOS>', '请', '让', '我', '靠', '近', '啊', '啊', '啊', '<EOS>', '不', '2', '4']\n",
      "['<SOS>', '富', '强', '民', '主', '文', '明', '和', '谐', '<EOS>', '不', '2', '4']\n",
      "['<SOS>', '我', '劝', '你', '早', '点', '归', '去', '啊', '<EOS>', '不', '2', '4']\n",
      "['<SOS>', '在', '阳', '光', '灿', '烂', '的', '一', '天', '<EOS>', '不', '2', '4']\n",
      "['<SOS>', '我', '多', '问', '一', '句', '你', '就', '回', '<EOS>', '不', '2', '4']\n",
      "['<SOS>', '没', '说', '对', '不', '起', '借', '过', '啊', '<EOS>', '不', '2', '4']\n",
      "['<SOS>', '但', '愿', '世', '界', '别', '改', '变', '啊', '<EOS>', '不', '2', '4']\n",
      "['<SOS>', '不', '要', '让', '痛', '苦', '留', '下', '来', '<EOS>', '不', '2', '4']\n",
      "['<SOS>', '月', '落', '乌', '啼', '梦', '影', '依', '稀', '<EOS>', '不', '2', '4']\n",
      "['<SOS>', '三', '世', '界', '上', '什', '么', '路', '最', '<EOS>', '不', '2', '4']\n",
      "['<SOS>', '即', '使', '再', '多', '一', '双', '白', '眼', '<EOS>', '不', '2', '4']\n",
      "['<SOS>', '祝', '福', '凝', '结', '空', '气', '中', '啊', '<EOS>', '不', '2', '4']\n",
      "['<SOS>', '我', '夜', '里', '茫', '然', '偷', '偷', '想', '<EOS>', '不', '2', '4']\n",
      "['<SOS>', '平', '易', '近', '人', '清', '新', '开', '朗', '<EOS>', '不', '2', '4']\n",
      "['<SOS>', '每', '当', '我', '迷', '失', '在', '黑', '夜', '<EOS>', '不', '2', '4']\n",
      "['<SOS>', '我', '不', '管', '你', '懂', '不', '懂', '我', '<EOS>', '不', '2', '4']\n",
      "['<SOS>', '疼', '不', '在', '乎', '啊', '啊', '啊', '啊', '<EOS>', '不', '2', '4']\n",
      "['<SOS>', '就', '算', '梦', '碎', '了', '都', '深', '爱', '<EOS>', '不', '2', '4']\n",
      "['<SOS>', '被', '风', '吹', '得', '不', '懂', '该', '往', '<EOS>', '不', '2', '4']\n",
      "['<SOS>', '摇', '到', '那', '座', '桥', '啊', '啊', '啊', '<EOS>', '不', '2', '4']\n",
      "['<SOS>', '谁', '能', '忘', '记', '那', '段', '时', '光', '<EOS>', '不', '2', '4']\n",
      "['<SOS>', '是', '什', '麽', '在', '我', '的', '身', '边', '<EOS>', '不', '2', '4']\n",
      "['<SOS>', '合', '一', '些', '恋', '爱', '怨', '恨', '更', '<EOS>', '不', '2', '4']\n",
      "['<SOS>', '你', '若', '要', '是', '其', '实', '渴', '望', '<EOS>', '不', '2', '4']\n",
      "['<SOS>', '你', '的', '温', '柔', '背', '后', '啊', '啊', '<EOS>', '不', '2', '4']\n",
      "['<SOS>', '一', '生', '一', '世', '命', '運', '的', '離', '<EOS>', '不', '2', '4']\n",
      "['<SOS>', '钢', '盔', '它', '带', '在', '头', '颅', '上', '<EOS>', '不', '2', '4']\n",
      "['<SOS>', '成', '全', '了', '我', '的', '碧', '海', '蓝', '<EOS>', '不', '2', '4']\n",
      "['<SOS>', '飞', '到', '曾', '经', '过', '的', '港', '口', '<EOS>', '不', '2', '4']\n",
      "['<SOS>', '怎', '么', '你', '还', '在', '我', '心', '房', '<EOS>', '不', '2', '4']\n",
      "['<SOS>', '林', '宇', '中', '忙', '碌', '的', '世', '界', '<EOS>', '不', '2', '4']\n",
      "['<SOS>', '双', '脚', '却', '上', '不', '了', '船', '啊', '<EOS>', '不', '2', '4']\n",
      "['<SOS>', '风', '带', '走', '了', '从', '前', '却', '带', '<EOS>', '不', '2', '4']\n",
      "['<SOS>', '那', '该', '多', '好', '啊', '啊', '啊', '啊', '<EOS>', '不', '2', '4']\n",
      "['<SOS>', '因', '爱', '你', '牺', '牲', '一', '亿', '晚', '<EOS>', '不', '2', '4']\n",
      "['<SOS>', '寂', '寞', '时', '候', '流', '眼', '泪', '啊', '<EOS>', '不', '2', '4']\n",
      "['<SOS>', '情', '感', '和', '要', '求', '啊', '啊', '啊', '<EOS>', '不', '2', '4']\n",
      "['<SOS>', '我', '早', '几', '天', '搬', '进', '了', '楼', '<EOS>', '不', '2', '4']\n",
      "['<SOS>', '不', '能', '直', '到', '永', '恒', '啊', '啊', '<EOS>', '不', '2', '4']\n",
      "['<SOS>', '动', '心', '灵', '的', '美', '啊', '啊', '啊', '<EOS>', '不', '2', '4']\n",
      "['<SOS>', '我', '不', '能', '决', '定', '啊', '啊', '啊', '<EOS>', '不', '2', '4']\n",
      "['<SOS>', '音', '乐', '固', '然', '是', '美', '的', '啊', '<EOS>', '不', '2', '4']\n",
      "['<SOS>', '呼', '吸', '提', '醒', '我', '活', '着', '的', '<EOS>', '不', '2', '4']\n",
      "['<SOS>', '让', '我', '对', '得', '起', '美', '丽', '寓', '<EOS>', '不', '2', '4']\n",
      "['<SOS>', '三', '杯', '下', '肚', '就', '忘', '了', '清', '<EOS>', '不', '2', '4']\n",
      "['<SOS>', '巴', '黎', '如', '同', '一', '个', '汪', '洋', '<EOS>', '不', '2', '4']\n",
      "['<SOS>', '空', '气', '却', '不', '能', '代', '替', '你', '<EOS>', '不', '2', '4']\n",
      "['<SOS>', '白', '尝', '爱', '眷', '青', '试', '温', '暖', '<EOS>', '不', '2', '4']\n",
      "['<SOS>', '昨', '夜', '的', '落', '花', '依', '旧', '芬', '<EOS>', '不', '2', '4']\n",
      "['<SOS>', '除', '了', '你', '啊', '啊', '啊', '啊', '啊', '<EOS>', '不', '2', '4']\n",
      "['<SOS>', '吃', '亏', '就', '是', '占', '便', '宜', '啊', '<EOS>', '不', '2', '4']\n",
      "['<SOS>', '还', '能', '及', '爱', '於', '人', '之', '老', '<EOS>', '不', '2', '4']\n",
      "['<SOS>', '我', '向', '你', '追', '啊', '啊', '啊', '啊', '<EOS>', '不', '2', '4']\n",
      "['<SOS>', '你', '我', '相', '恋', '却', '变', '成', '过', '<EOS>', '不', '2', '4']\n",
      "['<SOS>', '说', '不', '出', '的', '心', '疼', '啊', '啊', '<EOS>', '不', '2', '4']\n",
      "['<SOS>', '这', '样', '可', '以', '用', '明', '天', '继', '<EOS>', '不', '2', '4']\n",
      "['<SOS>', '又', '出', '现', '在', '我', '的', '梦', '乡', '<EOS>', '不', '2', '4']\n",
      "['<SOS>', '王', '晶', '你', '说', '陕', '西', '木', '有', '<EOS>', '不', '2', '4']\n",
      "['<SOS>', '魂', '不', '附', '体', '的', '两', '个', '人', '<EOS>', '不', '2', '4']\n",
      "['<SOS>', '舊', '苑', '望', '帝', '魂', '那', '得', '見', '<EOS>', '不', '2', '4']\n",
      "['<SOS>', '那', '时', '几', '首', '流', '行', '歌', '成', '<EOS>', '不', '2', '4']\n",
      "['<SOS>', '哎', '呀', '哎', '哎', '呀', '啊', '啊', '啊', '<EOS>', '不', '2', '4']\n",
      "['<SOS>', '不', '会', '惊', '世', '事', '无', '定', '啊', '<EOS>', '不', '2', '4']\n",
      "['<SOS>', '人', '越', '抓', '住', '幸', '福', '啊', '啊', '<EOS>', '不', '2', '4']\n",
      "['<SOS>', '像', '孩', '子', '天', '真', '地', '享', '受', '<EOS>', '不', '2', '4']\n",
      "['<SOS>', '何', '必', '开', '始', '啊', '啊', '啊', '啊', '<EOS>', '不', '2', '4']\n",
      "['<SOS>', '只', '要', '明', '天', '还', '有', '你', '啊', '<EOS>', '不', '2', '4']\n",
      "['<SOS>', '注', '定', '我', '变', '成', '啊', '啊', '啊', '<EOS>', '不', '2', '4']\n",
      "['<SOS>', '我', '所', '有', '的', '何', '妨', '何', '必', '<EOS>', '不', '2', '4']\n",
      "['<SOS>', '爱', '会', '像', '头', '饿', '狼', '天', '天', '<EOS>', '不', '2', '4']\n",
      "['<SOS>', '像', '我', '手', '中', '冷', '掉', '的', '可', '<EOS>', '不', '2', '4']\n",
      "['<SOS>', '每', '一', '棵', '树', '啊', '啊', '啊', '啊', '<EOS>', '不', '2', '4']\n",
      "['<SOS>', '鸽', '子', '啊', '啊', '啊', '啊', '啊', '啊', '<EOS>', '不', '2', '4']\n",
      "['<SOS>', '我', '快', '要', '不', '能', '呼', '吸', '啊', '<EOS>', '不', '2', '4']\n",
      "['<SOS>', '门', '牌', '还', '有', '几', '号', '之', '几', '<EOS>', '不', '2', '4']\n",
      "['<SOS>', '谎', '言', '啊', '啊', '啊', '啊', '啊', '啊', '<EOS>', '不', '2', '4']\n",
      "['<SOS>', '香', '甜', '或', '忧', '郁', '啊', '啊', '啊', '<EOS>', '不', '2', '4']\n",
      "['<SOS>', '过', '去', '不', '再', '寻', '啊', '啊', '啊', '<EOS>', '不', '2', '4']\n",
      "['<SOS>', '丢', '失', '的', '从', '前', '让', '我', '无', '<EOS>', '不', '2', '4']\n",
      "['<SOS>', '没', '有', '说', '啊', '啊', '啊', '啊', '啊', '<EOS>', '不', '2', '4']\n",
      "['<SOS>', '我', '相', '信', '你', '正', '在', '与', '我', '<EOS>', '不', '2', '4']\n",
      "['<SOS>', '只', '能', '想', '到', '你', '已', '烙', '印', '<EOS>', '不', '2', '4']\n",
      "['<SOS>', '最', '美', '丽', '的', '星', '星', '啊', '啊', '<EOS>', '不', '2', '4']\n",
      "['<SOS>', '诱', '人', '灯', '火', '似', '星', '要', '让', '<EOS>', '不', '2', '4']\n",
      "['<SOS>', '再', '温', '暖', '的', '拥', '抱', '都', '不', '<EOS>', '不', '2', '4']\n",
      "['<SOS>', '我', '想', '过', '一', '件', '事', '啊', '啊', '<EOS>', '不', '2', '4']\n",
      "['<SOS>', '我', '绝', '对', '不', '说', '我', '爱', '你', '<EOS>', '不', '2', '4']\n",
      "['<SOS>', '躺', '着', '一', '块', '干', '干', '净', '净', '<EOS>', '不', '2', '4']\n",
      "['<SOS>', '倾', '国', '的', '星', '辰', '如', '麻', '啊', '<EOS>', '不', '2', '4']\n",
      "['<SOS>', '生', '活', '让', '人', '承', '受', '着', '太', '<EOS>', '不', '2', '4']\n",
      "['<SOS>', '当', '你', '在', '风', '雨', '的', '未', '知', '<EOS>', '不', '2', '4']\n",
      "['<SOS>', '悲', '了', '秋', '风', '中', '这', '把', '画', '<EOS>', '不', '2', '4']\n",
      "['<SOS>', '睫', '毛', '溺', '了', '水', '那', '不', '是', '<EOS>', '不', '2', '4']\n",
      "['<SOS>', '还', '在', '不', '停', '追', '啊', '啊', '啊', '<EOS>', '不', '2', '4']\n",
      "['<SOS>', '唱', '情', '歌', '流', '眼', '泪', '不', '会', '<EOS>', '不', '2', '4']\n",
      "['<SOS>', '已', '经', '完', '全', '的', '失', '去', '方', '<EOS>', '不', '2', '4']\n",
      "['<SOS>', '爱', '你', '那', '段', '时', '侯', '啊', '啊', '<EOS>', '不', '2', '4']\n",
      "['<SOS>', '时', '间', '酝', '酿', '了', '感', '动', '发', '<EOS>', '不', '2', '4']\n",
      "['<SOS>', '随', '浪', '随', '风', '飘', '荡', '啊', '啊', '<EOS>', '不', '2', '4']\n",
      "['<SOS>', '人', '生', '内', '何', '啊', '啊', '啊', '啊', '<EOS>', '不', '2', '4']\n",
      "['<SOS>', '我', '就', '在', '你', '左', '右', '你', '还', '<EOS>', '不', '2', '4']\n",
      "['<SOS>', '在', '另', '一', '个', '世', '界', '晴', '空', '<EOS>', '不', '2', '4']\n",
      "['<SOS>', '愿', '对', '你', '的', '感', '觉', '不', '变', '<EOS>', '不', '2', '4']\n",
      "['<SOS>', '在', '镜', '子', '前', '面', '画', '一', '个', '<EOS>', '不', '2', '4']\n",
      "['<SOS>', '浪', '与', '星', '啊', '啊', '啊', '啊', '啊', '<EOS>', '不', '2', '4']\n",
      "['<SOS>', '真', '的', '应', '该', '怎', '么', '办', '啊', '<EOS>', '不', '2', '4']\n",
      "['<SOS>', '踏', '上', '浪', '漫', '征', '途', '啊', '啊', '<EOS>', '不', '2', '4']\n",
      "['<SOS>', '我', '想', '我', '应', '该', '是', '一', '朵', '<EOS>', '不', '2', '4']\n",
      "['<SOS>', '想', '你', '啊', '啊', '啊', '啊', '啊', '啊', '<EOS>', '不', '2', '4']\n",
      "['<SOS>', '走', '在', '冰', '天', '雪', '地', '啊', '啊', '<EOS>', '不', '2', '4']\n",
      "['<SOS>', '谁', '没', '有', '盲', '目', '过', '然', '后', '<EOS>', '不', '2', '4']\n",
      "['<SOS>', '我', '的', '歌', '唱', '啊', '啊', '啊', '啊', '<EOS>', '不', '2', '4']\n",
      "['<SOS>', '当', '我', '需', '要', '你', '的', '时', '候', '<EOS>', '不', '2', '4']\n",
      "['<SOS>', '来', '吧', '阿', '婆', '帮', '你', '偷', '偷', '<EOS>', '不', '2', '4']\n",
      "['<SOS>', '发', '出', '了', '啊', '啊', '啊', '啊', '啊', '<EOS>', '不', '2', '4']\n",
      "['<SOS>', '你', '是', '否', '明', '白', '啊', '啊', '啊', '<EOS>', '不', '2', '4']\n",
      "['<SOS>', '不', '自', '觉', '真', '心', '喜', '欢', '了', '<EOS>', '不', '2', '4']\n",
      "['<SOS>', '一', '直', '向', '前', '不', '停', '休', '啊', '<EOS>', '不', '2', '4']\n",
      "['<SOS>', '只', '缘', '阴', '错', '阳', '差', '此', '身', '<EOS>', '不', '2', '4']\n",
      "['<SOS>', '在', '你', '我', '之', '间', '有', '一', '种', '<EOS>', '不', '2', '4']\n",
      "['<SOS>', '在', '突', '然', '醒', '来', '的', '黑', '夜', '<EOS>', '不', '2', '4']\n",
      "['<SOS>', '听', '着', '雨', '声', '夜', '夜', '醒', '到', '<EOS>', '不', '2', '4']\n",
      "['<SOS>', '我', '们', '终', '于', '互', '相', '了', '解', '<EOS>', '不', '2', '4']\n",
      "['<SOS>', '弄', '堂', '的', '门', '口', '大', '叔', '卖', '<EOS>', '不', '2', '4']\n",
      "['<SOS>', '上', '天', '会', '保', '佑', '我', '的', '啊', '<EOS>', '不', '2', '4']\n",
      "['<SOS>', '永', '恒', '的', '出', '口', '啊', '啊', '啊', '<EOS>', '不', '2', '4']\n",
      "['<SOS>', '愿', '你', '准', '许', '这', '歌', '代', '表', '<EOS>', '不', '2', '4']\n",
      "['<SOS>', '在', '北', '大', '荒', '七', '个', '隆', '冬', '<EOS>', '不', '2', '4']\n",
      "['<SOS>', '小', '时', '候', '坐', '窗', '口', '等', '着', '<EOS>', '不', '2', '4']\n",
      "['<SOS>', '就', '算', '孤', '芳', '得', '我', '赏', '啊', '<EOS>', '不', '2', '4']\n",
      "['<SOS>', '青', '春', '是', '划', '过', '的', '星', '火', '<EOS>', '不', '2', '4']\n",
      "['<SOS>', '眼', '睛', '动', '一', '动', '耳', '朵', '啊', '<EOS>', '不', '2', '4']\n",
      "['<SOS>', '不', '要', '自', '找', '烦', '恼', '啊', '啊', '<EOS>', '不', '2', '4']\n",
      "['<SOS>', '我', '知', '道', '自', '己', '对', '你', '的', '<EOS>', '不', '2', '4']\n",
      "['<SOS>', '昂', '步', '挺', '胸', '大', '家', '作', '栋', '<EOS>', '不', '2', '4']\n",
      "['<SOS>', '对', '你', '的', '爱', '早', '已', '坚', '定', '<EOS>', '不', '2', '4']\n",
      "['<SOS>', '闭', '着', '眼', '睛', '哭', '啊', '啊', '啊', '<EOS>', '不', '2', '4']\n",
      "['<SOS>', '我', '们', '可', '以', '找', '出', '种', '种', '<EOS>', '不', '2', '4']\n",
      "['<SOS>', '让', '我', '们', '喝', '两', '口', '灌', '醉', '<EOS>', '不', '2', '4']\n",
      "['<SOS>', '我', '知', '道', '啊', '啊', '啊', '啊', '啊', '<EOS>', '不', '2', '4']\n",
      "['<SOS>', '太', '阳', '一', '定', '就', '快', '出', '现', '<EOS>', '不', '2', '4']\n",
      "['<SOS>', '结', '伴', '呐', '溪', '水', '啊', '慢', '慢', '<EOS>', '不', '2', '4']\n",
      "['<SOS>', '用', '绳', '子', '捆', '啊', '啊', '啊', '啊', '<EOS>', '不', '2', '4']\n",
      "['<SOS>', '无', '力', '继', '续', '啊', '啊', '啊', '啊', '<EOS>', '不', '2', '4']\n",
      "['<SOS>', '天', '黑', '黑', '要', '下', '雨', '天', '黑', '<EOS>', '不', '2', '4']\n",
      "['<SOS>', '如', '今', '同', '学', '越', '看', '越', '顺', '<EOS>', '不', '2', '4']\n",
      "['<SOS>', '风', '雪', '连', '天', '万', '户', '候', '啊', '<EOS>', '不', '2', '4']\n",
      "['<SOS>', '你', '会', '不', '会', '也', '相', '信', '啊', '<EOS>', '不', '2', '4']\n",
      "['<SOS>', '指', '出', '啊', '啊', '啊', '啊', '啊', '啊', '<EOS>', '不', '2', '4']\n",
      "['<SOS>', '让', '你', '飞', '向', '梦', '中', '的', '世', '<EOS>', '不', '2', '4']\n",
      "['<SOS>', '将', '这', '段', '温', '情', '独', '自', '咏', '<EOS>', '不', '2', '4']\n"
     ]
    },
    {
     "name": "stderr",
     "output_type": "stream",
     "text": [
      "/home/r07944011/anaconda3/envs/sdmlXai/lib/python3.7/site-packages/ipykernel_launcher.py:10: TqdmDeprecationWarning: This function will be removed in tqdm==5.0.0\n",
      "Please use `tqdm.notebook.tqdm` instead of `tqdm.tqdm_notebook`\n",
      "  # Remove the CWD from sys.path while we load stuff.\n"
     ]
    },
    {
     "data": {
      "application/vnd.jupyter.widget-view+json": {
       "model_id": "67c80403ef2144a4905f703fa254ec41",
       "version_major": 2,
       "version_minor": 0
      },
      "text/plain": [
       "HBox(children=(IntProgress(value=0, max=1), HTML(value='')))"
      ]
     },
     "metadata": {},
     "output_type": "display_data"
    },
    {
     "name": "stdout",
     "output_type": "stream",
     "text": [
      "\n",
      "total_sum: 6, plot_cells=[12, 13, 29, 31, 36, 43, 47, 49, 50, 51, 59, 60, 62, 63, 79, 95, 104, 111]\n",
      "['<SOS>', '烟', '也', '有', '眷', '恋', '啊', '啊', '啊', '<EOS>', '去', '3', '3']\n",
      "['<SOS>', '与', '其', '把', '爱', '变', '成', '了', '负', '<EOS>', '去', '3', '3']\n",
      "['<SOS>', '两', '个', '人', '曾', '经', '相', '似', '的', '<EOS>', '去', '3', '3']\n",
      "['<SOS>', '骑', '着', '单', '车', '笑', '啊', '啊', '啊', '<EOS>', '去', '3', '3']\n",
      "['<SOS>', '当', '叶', '子', '离', '开', '了', '秋', '天', '<EOS>', '去', '3', '3']\n",
      "['<SOS>', '春', '天', '和', '你', '漫', '步', '在', '盛', '<EOS>', '去', '3', '3']\n",
      "['<SOS>', '她', '说', '美', '丽', '花', '儿', '好', '象', '<EOS>', '去', '3', '3']\n",
      "['<SOS>', '是', '哪', '一', '颗', '星', '星', '掌', '管', '<EOS>', '去', '3', '3']\n",
      "['<SOS>', '依', '然', '闪', '烁', '啊', '啊', '啊', '啊', '<EOS>', '去', '3', '3']\n",
      "['<SOS>', '合', '幸', '福', '的', '预', '言', '陪', '你', '<EOS>', '去', '3', '3']\n",
      "['<SOS>', '摇', '动', '着', '是', '胜', '利', '啊', '啊', '<EOS>', '去', '3', '3']\n",
      "['<SOS>', '是', '该', '继', '续', '还', '是', '该', '放', '<EOS>', '去', '3', '3']\n",
      "['<SOS>', '留', '下', '世', '放', '手', '啊', '啊', '啊', '<EOS>', '去', '3', '3']\n",
      "['<SOS>', '为', '何', '梦', '中', '她', '的', '眼', '神', '<EOS>', '去', '3', '3']\n",
      "['<SOS>', '让', '你', '看', '那', '冬', '天', '的', '雪', '<EOS>', '去', '3', '3']\n",
      "['<SOS>', '你', '就', '要', '变', '心', '像', '时', '光', '<EOS>', '去', '3', '3']\n",
      "['<SOS>', '我', '回', '答', '说', '没', '有', '年', '轻', '<EOS>', '去', '3', '3']\n",
      "['<SOS>', '吊', '串', '辣', '椒', '她', '碰', '嘴', '巴', '<EOS>', '去', '3', '3']\n",
      "['<SOS>', '就', '像', '一', '杯', '令', '人', '沉', '醉', '<EOS>', '去', '3', '3']\n",
      "['<SOS>', '最', '后', '知', '道', '真', '相', '的', '我', '<EOS>', '去', '3', '3']\n",
      "['<SOS>', '才', '明', '白', '原', '来', '啊', '啊', '啊', '<EOS>', '去', '3', '3']\n",
      "['<SOS>', '星', '空', '下', '勾', '小', '指', '头', '沿', '<EOS>', '去', '3', '3']\n",
      "['<SOS>', '让', '最', '初', '的', '善', '良', '保', '有', '<EOS>', '去', '3', '3']\n",
      "['<SOS>', '你', '身', '体', '的', '语', '言', '在', '暗', '<EOS>', '去', '3', '3']\n",
      "['<SOS>', '这', '一', '切', '真', '是', '无', '耻', '啊', '<EOS>', '去', '3', '3']\n",
      "['<SOS>', '与', '我', '等', '一', '览', '众', '彩', '霞', '<EOS>', '去', '3', '3']\n",
      "['<SOS>', '窗', '外', '阳', '光', '洒', '落', '有', '多', '<EOS>', '去', '3', '3']\n",
      "['<SOS>', '他', '不', '明', '白', '多', '么', '地', '无', '<EOS>', '去', '3', '3']\n",
      "['<SOS>', '从', '这', '一', '刻', '到', '最', '后', '啊', '<EOS>', '去', '3', '3']\n",
      "['<SOS>', '心', '里', '是', '不', '是', '还', '有', '个', '<EOS>', '去', '3', '3']\n",
      "['<SOS>', '只', '要', '有', '你', '陪', '在', '身', '边', '<EOS>', '去', '3', '3']\n",
      "['<SOS>', '我', '知', '道', '你', '心', '里', '一', '定', '<EOS>', '去', '3', '3']\n",
      "['<SOS>', '放', '在', '床', '边', '堆', '好', '多', '啊', '<EOS>', '去', '3', '3']\n",
      "['<SOS>', '情', '愿', '为', '爱', '忙', '到', '虚', '脱', '<EOS>', '去', '3', '3']\n",
      "['<SOS>', '锁', '子', '全', '坏', '了', '啊', '啊', '啊', '<EOS>', '去', '3', '3']\n",
      "['<SOS>', '想', '爱', '不', '敢', '爱', '往', '往', '最', '<EOS>', '去', '3', '3']\n",
      "['<SOS>', '希', '望', '你', '能', '对', '我', '说', '你', '<EOS>', '去', '3', '3']\n",
      "['<SOS>', '悔', '恨', '已', '晚', '来', '世', '攀', '谈', '<EOS>', '去', '3', '3']\n",
      "['<SOS>', '你', '会', '讶', '异', '啊', '啊', '啊', '啊', '<EOS>', '去', '3', '3']\n",
      "['<SOS>', '在', '吻', '别', '双', '手', '再', '一', '次', '<EOS>', '去', '3', '3']\n",
      "['<SOS>', '乌', '兰', '巴', '托', '的', '夜', '啊', '啊', '<EOS>', '去', '3', '3']\n",
      "['<SOS>', '昨', '冬', '初', '逢', '可', '忆', '今', '朝', '<EOS>', '去', '3', '3']\n",
      "['<SOS>', '有', '谁', '烦', '恼', '啊', '啊', '啊', '啊', '<EOS>', '去', '3', '3']\n",
      "['<SOS>', '存', '在', '神', '秘', '引', '力', '啊', '啊', '<EOS>', '去', '3', '3']\n",
      "['<SOS>', '迈', '向', '漩', '涡', '还', '有', '什', '么', '<EOS>', '去', '3', '3']\n",
      "['<SOS>', '跟', '小', '时', '候', '不', '一', '样', '啊', '<EOS>', '去', '3', '3']\n",
      "['<SOS>', '罗', '青', '属', '之', '啊', '啊', '啊', '啊', '<EOS>', '去', '3', '3']\n",
      "['<SOS>', '我', '快', '要', '分', '不', '出', '是', '真', '<EOS>', '去', '3', '3']\n",
      "['<SOS>', '唱', '情', '歌', '齐', '齐', '来', '一', '遍', '<EOS>', '去', '3', '3']\n",
      "['<SOS>', '留', '恋', '雨', '夜', '幕', '雨', '中', '一', '<EOS>', '去', '3', '3']\n",
      "['<SOS>', '我', '的', '爱', '如', '潮', '水', '爱', '如', '<EOS>', '去', '3', '3']\n",
      "['<SOS>', '说', '不', '出', '的', '幸', '福', '啊', '啊', '<EOS>', '去', '3', '3']\n",
      "['<SOS>', '可', '是', '我', '累', '了', '啊', '啊', '啊', '<EOS>', '去', '3', '3']\n",
      "['<SOS>', '让', '所', '有', '期', '待', '未', '来', '的', '<EOS>', '去', '3', '3']\n",
      "['<SOS>', '世', '上', '哪', '见', '树', '缠', '藤', '啊', '<EOS>', '去', '3', '3']\n",
      "['<SOS>', '但', '再', '想', '不', '起', '那', '时', '候', '<EOS>', '去', '3', '3']\n",
      "['<SOS>', '请', '给', '我', '足', '够', '的', '勇', '敢', '<EOS>', '去', '3', '3']\n",
      "['<SOS>', '我', '会', '试', '着', '放', '下', '往', '事', '<EOS>', '去', '3', '3']\n",
      "['<SOS>', '就', '让', '我', '的', '泪', '不', '停', '的', '<EOS>', '去', '3', '3']\n",
      "['<SOS>', '嗡', '嘛', '尼', '呗', '美', '吽', '啊', '啊', '<EOS>', '去', '3', '3']\n",
      "['<SOS>', '直', '到', '你', '那', '灿', '烂', '的', '光', '<EOS>', '去', '3', '3']\n",
      "['<SOS>', '画', '着', '你', '画', '不', '出', '你', '的', '<EOS>', '去', '3', '3']\n",
      "['<SOS>', '在', '地', '铁', '站', '或', '美', '术', '馆', '<EOS>', '去', '3', '3']\n",
      "['<SOS>', '我', '期', '待', '晴', '天', '娃', '娃', '召', '<EOS>', '去', '3', '3']\n",
      "['<SOS>', '穿', '什', '么', '品', '牌', '啊', '啊', '啊', '<EOS>', '去', '3', '3']\n",
      "['<SOS>', '而', '我', '们', '只', '能', '凋', '零', '这', '<EOS>', '去', '3', '3']\n",
      "['<SOS>', '越', '过', '那', '条', '长', '街', '在', '转', '<EOS>', '去', '3', '3']\n",
      "['<SOS>', '雪', '爱', '过', '明', '天', '就', '啊', '啊', '<EOS>', '去', '3', '3']\n",
      "['<SOS>', '一', '声', '又', '一', '声', '叹', '著', '那', '<EOS>', '去', '3', '3']\n",
      "['<SOS>', '时', '间', '太', '慷', '慨', '啊', '啊', '啊', '<EOS>', '去', '3', '3']\n",
      "['<SOS>', '平', '凡', '都', '市', '變', '鬧', '哄', '啊', '<EOS>', '去', '3', '3']\n",
      "['<SOS>', '现', '在', '慢', '慢', '将', '指', '尖', '松', '<EOS>', '去', '3', '3']\n",
      "['<SOS>', '深', '夜', '发', '梦', '枕', '下', '是', '清', '<EOS>', '去', '3', '3']\n",
      "['<SOS>', '可', '我', '不', '知', '道', '啊', '啊', '啊', '<EOS>', '去', '3', '3']\n",
      "['<SOS>', '我', '是', '一', '只', '小', '小', '鸟', '赵', '<EOS>', '去', '3', '3']\n",
      "['<SOS>', '赵', '啊', '啊', '啊', '啊', '啊', '啊', '啊', '<EOS>', '去', '3', '3']\n",
      "['<SOS>', '化', '作', '了', '清', '风', '的', '时', '候', '<EOS>', '去', '3', '3']\n",
      "['<SOS>', '世', '界', '让', '人', '们', '慢', '慢', '的', '<EOS>', '去', '3', '3']\n",
      "['<SOS>', '师', '清', '理', '完', '界', '碑', '上', '的', '<EOS>', '去', '3', '3']\n",
      "['<SOS>', '男', '看', '得', '见', '在', '我', '们', '心', '<EOS>', '去', '3', '3']\n",
      "['<SOS>', '信', '乐', '团', '爱', '永', '远', '在', '你', '<EOS>', '去', '3', '3']\n",
      "['<SOS>', '看', '到', '達', '皇', '后', '街', '嗎', '也', '<EOS>', '去', '3', '3']\n",
      "['<SOS>', '天', '明', '遥', '遥', '山', '海', '关', '啊', '<EOS>', '去', '3', '3']\n",
      "['<SOS>', '成', '就', '它', '固', '然', '可', '贵', '工', '<EOS>', '去', '3', '3']\n",
      "['<SOS>', '想', '让', '每', '个', '人', '羡', '慕', '高', '<EOS>', '去', '3', '3']\n",
      "['<SOS>', '暂', '时', '停', '下', '来', '男', '啊', '啊', '<EOS>', '去', '3', '3']\n",
      "['<SOS>', '交', '汇', '在', '前', '世', '和', '今', '生', '<EOS>', '去', '3', '3']\n",
      "['<SOS>', '无', '限', '个', '痛', '泣', '哀', '不', '过', '<EOS>', '去', '3', '3']\n",
      "['<SOS>', '都', '概', '莫', '能', '属', '啊', '啊', '啊', '<EOS>', '去', '3', '3']\n",
      "['<SOS>', '或', '许', '是', '看', '不', '见', '啊', '啊', '<EOS>', '去', '3', '3']\n",
      "['<SOS>', '原', '唱', '王', '梦', '茹', '啊', '啊', '啊', '<EOS>', '去', '3', '3']\n",
      "['<SOS>', '哦', '哦', '哦', '哦', '哦', '哦', '啊', '啊', '<EOS>', '去', '3', '3']\n",
      "['<SOS>', '花', '间', '柳', '下', '的', '秘', '密', '麻', '<EOS>', '去', '3', '3']\n",
      "['<SOS>', '有', '一', '种', '不', '能', '忘', '记', '的', '<EOS>', '去', '3', '3']\n",
      "['<SOS>', '是', '我', '不', '变', '的', '情', '怀', '啊', '<EOS>', '去', '3', '3']\n",
      "['<SOS>', '忍', '住', '不', '哭', '我', '要', '忍', '住', '<EOS>', '去', '3', '3']\n",
      "['<SOS>', '大', '眼', '啊', '啊', '啊', '啊', '啊', '啊', '<EOS>', '去', '3', '3']\n",
      "['<SOS>', '你', '捧', '着', '我', '的', '脸', '啊', '啊', '<EOS>', '去', '3', '3']\n",
      "['<SOS>', '你', '我', '来', '自', '湖', '北', '四', '川', '<EOS>', '去', '3', '3']\n",
      "['<SOS>', '丑', '的', '灵', '魂', '啊', '啊', '啊', '啊', '<EOS>', '去', '3', '3']\n",
      "['<SOS>', '我', '珍', '惜', '过', '的', '啊', '啊', '啊', '<EOS>', '去', '3', '3']\n",
      "['<SOS>', '不', '要', '再', '想', '你', '不', '要', '再', '<EOS>', '去', '3', '3']\n",
      "['<SOS>', '听', '说', '只', '热', '衷', '于', '写', '小', '<EOS>', '去', '3', '3']\n",
      "['<SOS>', '无', '谓', '问', '我', '伤', '心', '事', '啊', '<EOS>', '去', '3', '3']\n",
      "['<SOS>', '你', '会', '恨', '我', '吗', '啊', '啊', '啊', '<EOS>', '去', '3', '3']\n",
      "['<SOS>', '好', '强', '无', '奈', '孤', '独', '脆', '弱', '<EOS>', '去', '3', '3']\n",
      "['<SOS>', '摇', '曳', '在', '春', '风', '中', '啊', '啊', '<EOS>', '去', '3', '3']\n",
      "['<SOS>', '有', '千', '般', '美', '妙', '啊', '啊', '啊', '<EOS>', '去', '3', '3']\n",
      "['<SOS>', '一', '路', '随', '我', '很', '累', '啊', '啊', '<EOS>', '去', '3', '3']\n",
      "['<SOS>', '他', '击', '打', '我', '的', '心', '啊', '啊', '<EOS>', '去', '3', '3']\n",
      "['<SOS>', '两', '颗', '心', '同', '步', '爱', '啊', '啊', '<EOS>', '去', '3', '3']\n",
      "['<SOS>', '好', '让', '我', '再', '想', '一', '想', '啊', '<EOS>', '去', '3', '3']\n",
      "['<SOS>', '幸', '福', '啊', '啊', '啊', '啊', '啊', '啊', '<EOS>', '去', '3', '3']\n",
      "['<SOS>', '让', '梦', '想', '窒', '息', '的', '暗', '流', '<EOS>', '去', '3', '3']\n",
      "['<SOS>', '只', '恨', '当', '时', '年', '少', '太', '懵', '<EOS>', '去', '3', '3']\n",
      "['<SOS>', '落', '水', '的', '誓', '言', '要', '怎', '么', '<EOS>', '去', '3', '3']\n",
      "['<SOS>', '你', '是', '变', '形', '金', '刚', '说', '变', '<EOS>', '去', '3', '3']\n",
      "['<SOS>', '假', '如', '我', '先', '幸', '福', '了', '亲', '<EOS>', '去', '3', '3']\n",
      "['<SOS>', '再', '回', '到', '她', '的', '身', '旁', '啊', '<EOS>', '去', '3', '3']\n",
      "['<SOS>', '不', '介', '意', '孤', '独', '比', '爱', '你', '<EOS>', '去', '3', '3']\n",
      "['<SOS>', '大', '王', '叫', '我', '来', '巡', '山', '啊', '<EOS>', '去', '3', '3']\n",
      "['<SOS>', '我', '变', '了', '碰', '到', '你', '什', '么', '<EOS>', '去', '3', '3']\n",
      "['<SOS>', '林', '志', '炫', '我', '和', '你', '去', '导', '<EOS>', '去', '3', '3']\n",
      "['<SOS>', '他', '的', '情', '他', '的', '爱', '啊', '啊', '<EOS>', '去', '3', '3']\n",
      "['<SOS>', '我', '不', '回', '头', '你', '不', '挽', '留', '<EOS>', '去', '3', '3']\n",
      "['<SOS>', '波', '利', '富', '流', '那', '遮', '利', '三', '<EOS>', '去', '3', '3']\n",
      "['<SOS>', '站', '在', '这', '里', '会', '不', '会', '立', '<EOS>', '去', '3', '3']\n",
      "['<SOS>', '谁', '把', '谁', '关', '在', '这', '大', '楼', '<EOS>', '去', '3', '3']\n",
      "['<SOS>', '原', '来', '嘛', '你', '也', '是', '上', '山', '<EOS>', '去', '3', '3']\n",
      "['<SOS>', '想', '陪', '在', '你', '身', '边', '啊', '啊', '<EOS>', '去', '3', '3']\n",
      "['<SOS>', '飘', '拂', '岁', '月', '里', '永', '伴', '永', '<EOS>', '去', '3', '3']\n",
      "['<SOS>', '你', '从', '墨', '色', '深', '处', '被', '隐', '<EOS>', '去', '3', '3']\n",
      "['<SOS>', '齐', '心', '唤', '醒', '心', '中', '那', '火', '<EOS>', '去', '3', '3']\n",
      "['<SOS>', '老', '祖', '宗', '陆', '羽', '和', '杜', '康', '<EOS>', '去', '3', '3']\n",
      "['<SOS>', '疏', '离', '得', '让', '自', '己', '啊', '啊', '<EOS>', '去', '3', '3']\n",
      "['<SOS>', '懂', '了', '珍', '惜', '吵', '闹', '也', '温', '<EOS>', '去', '3', '3']\n",
      "['<SOS>', '从', '没', '想', '过', '离', '开', '啊', '啊', '<EOS>', '去', '3', '3']\n",
      "['<SOS>', '逼', '得', '我', '非', '用', '功', '不', '可', '<EOS>', '去', '3', '3']\n",
      "['<SOS>', '放', '弃', '胜', '过', '一', '千', '句', '解', '<EOS>', '去', '3', '3']\n",
      "['<SOS>', '知', '道', '这', '样', '不', '行', '啊', '啊', '<EOS>', '去', '3', '3']\n",
      "['<SOS>', '泣', '啊', '啊', '啊', '啊', '啊', '啊', '啊', '<EOS>', '去', '3', '3']\n",
      "['<SOS>', '每', '当', '心', '中', '又', '想', '起', '了', '<EOS>', '去', '3', '3']\n",
      "['<SOS>', '冷', '却', '了', '伤', '悲', '啊', '啊', '啊', '<EOS>', '去', '3', '3']\n",
      "['<SOS>', '扬', '起', '丝', '丝', '密', '密', '灰', '尘', '<EOS>', '去', '3', '3']\n",
      "['<SOS>', '莫', '文', '蔚', '活', '在', '今', '天', '不', '<EOS>', '去', '3', '3']\n",
      "['<SOS>', '此', '事', '还', '是', '不', '该', '瞒', '着', '<EOS>', '去', '3', '3']\n",
      "['<SOS>', '天', '道', '在', '人', '心', '啊', '啊', '啊', '<EOS>', '去', '3', '3']\n",
      "['<SOS>', '青', '春', '的', '岁', '月', '啊', '啊', '啊', '<EOS>', '去', '3', '3']\n",
      "['<SOS>', '生', '命', '中', '本', '来', '就', '有', '太', '<EOS>', '去', '3', '3']\n",
      "['<SOS>', '混', '音', '鱼', '啊', '啊', '啊', '啊', '啊', '<EOS>', '去', '3', '3']\n",
      "['<SOS>', '不', '是', '小', '的', '时', '候', '就', '能', '<EOS>', '去', '3', '3']\n",
      "['<SOS>', '你', '轻', '柔', '靠', '近', '亲', '吻', '他', '<EOS>', '去', '3', '3']\n",
      "['<SOS>', '没', '有', '方', '向', '啊', '啊', '啊', '啊', '<EOS>', '去', '3', '3']\n",
      "['<SOS>', '越', '是', '自', '怜', '越', '自', '恋', '啊', '<EOS>', '去', '3', '3']\n",
      "['<SOS>', '快', '举', '起', '你', '的', '双', '手', '啊', '<EOS>', '去', '3', '3']\n",
      "['<SOS>', '让', '我', '们', '彼', '此', '能', '想', '信', '<EOS>', '去', '3', '3']\n",
      "['<SOS>', '只', '是', '我', '回', '首', '来', '时', '路', '<EOS>', '去', '3', '3']\n",
      "['<SOS>', '才', '了', '解', '所', '谓', '的', '爱', '啊', '<EOS>', '去', '3', '3']\n",
      "['<SOS>', '我', '开', '始', '想', '念', '你', '啊', '啊', '<EOS>', '去', '3', '3']\n",
      "['<SOS>', '也', '够', '你', '一', '回', '两', '回', '的', '<EOS>', '去', '3', '3']\n",
      "['<SOS>', '你', '用', '巨', '大', '的', '坚', '强', '总', '<EOS>', '去', '3', '3']\n",
      "['<SOS>', '人', '影', '素', '描', '的', '画', '像', '啊', '<EOS>', '去', '3', '3']\n",
      "['<SOS>', '我', '知', '道', '你', '也', '有', '同', '样', '<EOS>', '去', '3', '3']\n",
      "['<SOS>', '不', '痛', '我', '笑', '一', '笑', '从', '容', '<EOS>', '去', '3', '3']\n",
      "['<SOS>', '没', '有', '的', '事', '亲', '爱', '的', '爸', '<EOS>', '去', '3', '3']\n",
      "['<SOS>', '闪', '过', '一', '种', '想', '爱', '的', '焰', '<EOS>', '去', '3', '3']\n",
      "['<SOS>', '凡', '胎', '恰', '登', '对', '天', '命', '难', '<EOS>', '去', '3', '3']\n",
      "['<SOS>', '逆', '境', '之', '中', '我', '随', '时', '挺', '<EOS>', '去', '3', '3']\n",
      "['<SOS>', '我', '一', '心', '只', '想', '王', '宝', '钏', '<EOS>', '去', '3', '3']\n",
      "['<SOS>', '我', '只', '有', '过', '往', '却', '没', '有', '<EOS>', '去', '3', '3']\n",
      "['<SOS>', '松', '开', '的', '这', '双', '手', '啊', '啊', '<EOS>', '去', '3', '3']\n",
      "['<SOS>', '你', '就', '多', '对', '谁', '好', '一', '点', '<EOS>', '去', '3', '3']\n",
      "['<SOS>', '离', '开', '我', '你', '会', '更', '快', '乐', '<EOS>', '去', '3', '3']\n",
      "['<SOS>', '我', '们', '共', '同', '生', '活', '在', '这', '<EOS>', '去', '3', '3']\n",
      "['<SOS>', '不', '夸', '张', '自', '己', '的', '美', '德', '<EOS>', '去', '3', '3']\n",
      "['<SOS>', '忘', '记', '萦', '系', '着', '她', '渺', '茫', '<EOS>', '去', '3', '3']\n",
      "['<SOS>', '只', '要', '你', '还', '能', '够', '记', '得', '<EOS>', '去', '3', '3']\n",
      "['<SOS>', '你', '的', '指', '尖', '和', '我', '的', '心', '<EOS>', '去', '3', '3']\n",
      "['<SOS>', '傲', '然', '地', '笑', '对', '冷', '冰', '彩', '<EOS>', '去', '3', '3']\n",
      "['<SOS>', '并', '不', '是', '谁', '的', '爱', '啊', '啊', '<EOS>', '去', '3', '3']\n",
      "['<SOS>', '娓', '娓', '动', '人', '忧', '伤', '带', '着', '<EOS>', '去', '3', '3']\n",
      "['<SOS>', '女', '能', '有', '你', '快', '活', '无', '可', '<EOS>', '去', '3', '3']\n",
      "['<SOS>', '沿', '途', '风', '景', '留', '到', '以', '后', '<EOS>', '去', '3', '3']\n",
      "['<SOS>', '一', '开', '掣', '灿', '烂', '一', '闩', '掣', '<EOS>', '去', '3', '3']\n",
      "['<SOS>', '不', '要', '甜', '蜜', '的', '语', '言', '啊', '<EOS>', '去', '3', '3']\n",
      "['<SOS>', '却', '又', '无', '法', '安', '放', '的', '伤', '<EOS>', '去', '3', '3']\n",
      "['<SOS>', '王', '啊', '啊', '啊', '啊', '啊', '啊', '啊', '<EOS>', '去', '3', '3']\n",
      "['<SOS>', '千', '万', '里', '衡', '阳', '啊', '啊', '啊', '<EOS>', '去', '3', '3']\n",
      "['<SOS>', '世', '纪', '到', '啊', '啊', '啊', '啊', '啊', '<EOS>', '去', '3', '3']\n",
      "['<SOS>', '你', '问', '我', '要', '去', '向', '何', '方', '<EOS>', '去', '3', '3']\n",
      "['<SOS>', '明', '知', '故', '犯', '的', '错', '啊', '啊', '<EOS>', '去', '3', '3']\n",
      "['<SOS>', '说', '过', '的', '话', '已', '不', '重', '要', '<EOS>', '去', '3', '3']\n",
      "['<SOS>', '仍', '然', '能', '缠', '绵', '渡', '过', '飘', '<EOS>', '去', '3', '3']\n",
      "['<SOS>', '每', '次', '我', '都', '喝', '醉', '啊', '啊', '<EOS>', '去', '3', '3']\n",
      "['<SOS>', '最', '冻', '那', '晚', '幸', '有', '他', '双', '<EOS>', '去', '3', '3']\n",
      "['<SOS>', '美', '国', '的', '机', '床', '市', '场', '十', '<EOS>', '去', '3', '3']\n",
      "['<SOS>', '用', '多', '久', '的', '时', '间', '啊', '啊', '<EOS>', '去', '3', '3']\n",
      "['<SOS>', '我', '知', '道', '有', '天', '你', '会', '啊', '<EOS>', '去', '3', '3']\n",
      "['<SOS>', '别', '说', '你', '不', '用', '说', '啊', '啊', '<EOS>', '去', '3', '3']\n",
      "['<SOS>', '释', '放', '你', '的', '灵', '魂', '啊', '啊', '<EOS>', '去', '3', '3']\n",
      "['<SOS>', '突', '然', '需', '要', '被', '了', '解', '啊', '<EOS>', '去', '3', '3']\n",
      "['<SOS>', '生', '命', '也', '可', '以', '牺', '牲', '啊', '<EOS>', '去', '3', '3']\n",
      "['<SOS>', '许', '志', '安', '泪', '光', '在', '眼', '眶', '<EOS>', '去', '3', '3']\n",
      "['<SOS>', '任', '路', '人', '目', '睹', '着', '我', '的', '<EOS>', '去', '3', '3']\n",
      "['<SOS>', '任', '由', '泪', '水', '覆', '盖', '啊', '啊', '<EOS>', '去', '3', '3']\n",
      "['<SOS>', '是', '你', '变', '了', '吗', '啊', '啊', '啊', '<EOS>', '去', '3', '3']\n",
      "['<SOS>', '别', '人', '的', '话', '都', '不', '听', '啊', '<EOS>', '去', '3', '3']\n",
      "['<SOS>', '曾', '有', '一', '片', '风', '和', '日', '丽', '<EOS>', '去', '3', '3']\n",
      "['<SOS>', '沿', '着', '湍', '急', '的', '河', '流', '啊', '<EOS>', '去', '3', '3']\n",
      "['<SOS>', '我', '爸', '的', '笔', '跑', '去', '哪', '里', '<EOS>', '去', '3', '3']\n",
      "['<SOS>', '心', '里', '的', '酸', '楚', '要', '去', '遗', '<EOS>', '去', '3', '3']\n",
      "['<SOS>', '眼', '前', '全', '在', '这', '里', '啊', '啊', '<EOS>', '去', '3', '3']\n",
      "['<SOS>', '其', '实', '长', '得', '算', '可', '爱', '啊', '<EOS>', '去', '3', '3']\n",
      "['<SOS>', '珊', '珊', '要', '我', '行', '我', '素', '赤', '<EOS>', '去', '3', '3']\n",
      "['<SOS>', '请', '披', '上', '你', '的', '战', '袍', '保', '<EOS>', '去', '3', '3']\n",
      "['<SOS>', '听', '着', '忘', '情', '水', '长', '大', '啊', '<EOS>', '去', '3', '3']\n",
      "['<SOS>', '不', '要', '再', '为', '我', '伤', '心', '啊', '<EOS>', '去', '3', '3']\n",
      "['<SOS>', '你', '你', '你', '为', '了', '爱', '情', '得', '<EOS>', '去', '3', '3']\n",
      "['<SOS>', '沙', '包', '皮', '筋', '迷', '藏', '扮', '悟', '<EOS>', '去', '3', '3']\n",
      "['<SOS>', '爱', '有', '双', '重', '魔', '力', '也', '苦', '<EOS>', '去', '3', '3']\n",
      "['<SOS>', '明', '我', '也', '情', '愿', '啊', '啊', '啊', '<EOS>', '去', '3', '3']\n",
      "['<SOS>', '你', '扑', '进', '我', '怀', '里', '突', '然', '<EOS>', '去', '3', '3']\n",
      "['<SOS>', '谁', '对', '谁', '辜', '负', '你', '我', '都', '<EOS>', '去', '3', '3']\n",
      "['<SOS>', '我', '只', '要', '靖', '哥', '哥', '完', '美', '<EOS>', '去', '3', '3']\n",
      "['<SOS>', '异', '常', '醒', '目', '啊', '啊', '啊', '啊', '<EOS>', '去', '3', '3']\n",
      "['<SOS>', '阳', '光', '普', '照', '照', '耀', '世', '人', '<EOS>', '去', '3', '3']\n",
      "['<SOS>', '真', '正', '厉', '害', '的', '作', '品', '宽', '<EOS>', '去', '3', '3']\n",
      "['<SOS>', '我', '说', '去', '你', '的', '坚', '强', '啊', '<EOS>', '去', '3', '3']\n",
      "['<SOS>', '的', '气', '度', '啊', '啊', '啊', '啊', '啊', '<EOS>', '去', '3', '3']\n",
      "['<SOS>', '谁', '管', '晴', '天', '下', '雨', '刮', '风', '<EOS>', '去', '3', '3']\n",
      "['<SOS>', '还', '是', '会', '消', '失', '影', '踪', '啊', '<EOS>', '去', '3', '3']\n",
      "['<SOS>', '今', '夜', '梦', '里', '会', '不', '会', '哭', '<EOS>', '去', '3', '3']\n",
      "['<SOS>', '在', '一', '起', '期', '待', '着', '春', '天', '<EOS>', '去', '3', '3']\n",
      "['<SOS>', '能', '帮', '你', '什', '么', '吗', '啊', '啊', '<EOS>', '去', '3', '3']\n",
      "['<SOS>', '心', '跟', '着', '飞', '起', '来', '啊', '啊', '<EOS>', '去', '3', '3']\n",
      "['<SOS>', '翻', '越', '这', '山', '川', '啊', '啊', '啊', '<EOS>', '去', '3', '3']\n",
      "['<SOS>', '快', '樂', '總', '是', '轉', '瞬', '即', '走', '<EOS>', '去', '3', '3']\n",
      "['<SOS>', '还', '是', '没', '有', '生', '成', '呢', '啊', '<EOS>', '去', '3', '3']\n",
      "['<SOS>', '幸', '福', '不', '曾', '呼', '唤', '我', '啊', '<EOS>', '去', '3', '3']\n",
      "['<SOS>', '祝', '福', '随', '风', '红', '叶', '飘', '来', '<EOS>', '去', '3', '3']\n",
      "['<SOS>', '恋', '爱', '找', '不', '到', '安', '全', '地', '<EOS>', '去', '3', '3']\n",
      "['<SOS>', '格', '桑', '花', '开', '过', '啊', '啊', '啊', '<EOS>', '去', '3', '3']\n",
      "['<SOS>', '原', '谅', '我', '只', '是', '个', '大', '女', '<EOS>', '去', '3', '3']\n",
      "['<SOS>', '混', '音', '师', '啊', '啊', '啊', '啊', '啊', '<EOS>', '去', '3', '3']\n",
      "['<SOS>', '告', '诉', '我', '吧', '啊', '啊', '啊', '啊', '<EOS>', '去', '3', '3']\n",
      "['<SOS>', '哎', '呀', '呀', '呀', '呀', '呀', '我', '的', '<EOS>', '去', '3', '3']\n",
      "['<SOS>', '宝', '贵', '的', '感', '动', '在', '原', '地', '<EOS>', '去', '3', '3']\n",
      "['<SOS>', '或', '伟', '岸', '生', '花', '啊', '啊', '啊', '<EOS>', '去', '3', '3']\n",
      "['<SOS>', '追', '逐', '天', '边', '绚', '丽', '的', '彩', '<EOS>', '去', '3', '3']\n",
      "['<SOS>', '人', '们', '把', '您', '当', '成', '普', '通', '<EOS>', '去', '3', '3']\n",
      "['<SOS>', '我', '拿', '什', '么', '条', '件', '可', '以', '<EOS>', '去', '3', '3']\n",
      "['<SOS>', '我', '的', '生', '活', '啊', '啊', '啊', '啊', '<EOS>', '去', '3', '3']\n",
      "['<SOS>', '只', '有', '伤', '感', '渗', '入', '晚', '风', '<EOS>', '去', '3', '3']\n",
      "['<SOS>', '痛', '苦', '最', '是', '这', '景', '象', '还', '<EOS>', '去', '3', '3']\n",
      "['<SOS>', '但', '实', '际', '只', '当', '是', '节', '目', '<EOS>', '去', '3', '3']\n",
      "['<SOS>', '直', '到', '夜', '色', '吞', '没', '我', '俩', '<EOS>', '去', '3', '3']\n",
      "['<SOS>', '我', '知', '道', '你', '在', '我', '身', '边', '<EOS>', '去', '3', '3']\n",
      "['<SOS>', '寒', '冷', '啊', '啊', '啊', '啊', '啊', '啊', '<EOS>', '去', '3', '3']\n",
      "['<SOS>', '合', '当', '世', '界', '已', '经', '桑', '田', '<EOS>', '去', '3', '3']\n",
      "['<SOS>', '我', '那', '时', '候', '才', '又', '明', '白', '<EOS>', '去', '3', '3']\n",
      "['<SOS>', '几', '十', '个', '世', '纪', '后', '出', '土', '<EOS>', '去', '3', '3']\n",
      "['<SOS>', '你', '就', '在', '我', '怀', '里', '啊', '啊', '<EOS>', '去', '3', '3']\n",
      "['<SOS>', '就', '是', '这', '样', '度', '过', '一', '生', '<EOS>', '去', '3', '3']\n",
      "['<SOS>', '有', '你', '的', '陪', '伴', '招', '阮', '作', '<EOS>', '去', '3', '3']\n",
      "['<SOS>', '你', '只', '有', '握', '紧', '拳', '头', '啊', '<EOS>', '去', '3', '3']\n",
      "['<SOS>', '用', '眼', '光', '照', '亮', '模', '了', '糊', '<EOS>', '去', '3', '3']\n",
      "['<SOS>', '从', '熟', '悉', '经', '典', '翻', '出', '新', '<EOS>', '去', '3', '3']\n",
      "['<SOS>', '卑', '鄙', '卑', '鄙', '啊', '啊', '啊', '啊', '<EOS>', '去', '3', '3']\n",
      "['<SOS>', '那', '些', '日', '子', '不', '再', '有', '啊', '<EOS>', '去', '3', '3']\n",
      "['<SOS>', '我', '从', '一', '千', '里', '以', '外', '的', '<EOS>', '去', '3', '3']\n",
      "['<SOS>', '既', '然', '你', '爱', '错', '了', '我', '啊', '<EOS>', '去', '3', '3']\n",
      "['<SOS>', '遗', '落', '荒', '原', '啊', '啊', '啊', '啊', '<EOS>', '去', '3', '3']\n",
      "['<SOS>', '达', '令', '啊', '啊', '啊', '啊', '啊', '啊', '<EOS>', '去', '3', '3']\n",
      "['<SOS>', '令', '这', '夜', '我', '亦', '有', '极', '暖', '<EOS>', '去', '3', '3']\n",
      "['<SOS>', '有', '很', '多', '细', '微', '的', '声', '音', '<EOS>', '去', '3', '3']\n",
      "['<SOS>', '我', '是', '超', '级', '男', '神', '啊', '啊', '<EOS>', '去', '3', '3']\n",
      "['<SOS>', '观', '察', '离', '开', '后', '的', '变', '化', '<EOS>', '去', '3', '3']\n",
      "['<SOS>', '合', '粤', '动', '听', '啊', '啊', '啊', '啊', '<EOS>', '去', '3', '3']\n",
      "['<SOS>', '原', '来', '重', '逢', '啊', '啊', '啊', '啊', '<EOS>', '去', '3', '3']\n",
      "['<SOS>', '第', '啊', '啊', '啊', '啊', '啊', '啊', '啊', '<EOS>', '去', '3', '3']\n",
      "['<SOS>', '缩', '混', '母', '带', '啊', '啊', '啊', '啊', '<EOS>', '去', '3', '3']\n",
      "['<SOS>', '你', '如', '此', '宽', '厚', '啊', '啊', '啊', '<EOS>', '去', '3', '3']\n",
      "['<SOS>', '那', '深', '陷', '在', '沼', '泽', '我', '不', '<EOS>', '去', '3', '3']\n",
      "['<SOS>', '她', '们', '起', '先', '是', '用', '目', '光', '<EOS>', '去', '3', '3']\n",
      "['<SOS>', '你', '说', '过', '要', '去', '那', '肯', '尼', '<EOS>', '去', '3', '3']\n",
      "['<SOS>', '也', '许', '它', '要', '的', '只', '有', '那', '<EOS>', '去', '3', '3']\n",
      "['<SOS>', '看', '那', '阴', '霾', '来', '的', '奇', '怪', '<EOS>', '去', '3', '3']\n",
      "['<SOS>', '鱼', '的', '眼', '泪', '在', '海', '心', '里', '<EOS>', '去', '3', '3']\n",
      "['<SOS>', '不', '让', '你', '来', '去', '自', '如', '是', '<EOS>', '去', '3', '3']\n",
      "['<SOS>', '键', '盘', '就', '像', '唢', '呐', '兴', '高', '<EOS>', '去', '3', '3']\n",
      "['<SOS>', '自', '信', '打', '不', '死', '的', '心', '态', '<EOS>', '去', '3', '3']\n",
      "['<SOS>', '忘', '记', '伴', '侣', '忘', '了', '孤', '寂', '<EOS>', '去', '3', '3']\n",
      "['<SOS>', '不', '想', '跑', '也', '不', '相', '信', '啊', '<EOS>', '去', '3', '3']\n",
      "['<SOS>', '在', '人', '世', '中', '少', '你', '左', '右', '<EOS>', '去', '3', '3']\n",
      "['<SOS>', '让', '冰', '雪', '有', '阳', '光', '啊', '啊', '<EOS>', '去', '3', '3']\n",
      "['<SOS>', '诗', '白', '不', '夸', '万', '户', '公', '侯', '<EOS>', '去', '3', '3']\n",
      "['<SOS>', '这', '时', '的', '爱', '情', '啊', '啊', '啊', '<EOS>', '去', '3', '3']\n",
      "['<SOS>', '紧', '握', '的', '手', '是', '你', '给', '我', '<EOS>', '去', '3', '3']\n",
      "['<SOS>', '就', '爱', '这', '样', '的', '你', '啊', '啊', '<EOS>', '去', '3', '3']\n",
      "['<SOS>', '不', '可', '以', '再', '一', '次', '伤', '心', '<EOS>', '去', '3', '3']\n",
      "['<SOS>', '你', '还', '是', '那', '么', '的', '可', '爱', '<EOS>', '去', '3', '3']\n",
      "['<SOS>', '对', '月', '当', '歌', '纵', '横', '上', '云', '<EOS>', '去', '3', '3']\n",
      "['<SOS>', '一', '年', '又', '一', '年', '啊', '啊', '啊', '<EOS>', '去', '3', '3']\n",
      "['<SOS>', '苏', '有', '人', '在', '遥', '远', '地', '方', '<EOS>', '去', '3', '3']\n",
      "['<SOS>', '所', '有', '执', '着', '都', '化', '成', '泡', '<EOS>', '去', '3', '3']\n",
      "['<SOS>', '所', '以', '人', '们', '都', '拿', '起', '咖', '<EOS>', '去', '3', '3']\n",
      "['<SOS>', '过', '去', '的', '点', '滴', '啊', '啊', '啊', '<EOS>', '去', '3', '3']\n",
      "['<SOS>', '哦', '哦', '呐', '伊', '呦', '呐', '伊', '呦', '<EOS>', '去', '3', '3']\n",
      "['<SOS>', '你', '正', '恋', '爱', '啊', '啊', '啊', '啊', '<EOS>', '去', '3', '3']\n",
      "['<SOS>', '眼', '神', '如', '此', '焦', '急', '啊', '啊', '<EOS>', '去', '3', '3']\n",
      "['<SOS>', '仿', '佛', '可', '见', '到', '啊', '啊', '啊', '<EOS>', '去', '3', '3']\n",
      "['<SOS>', '阿', '地', '目', '帝', '啊', '啊', '啊', '啊', '<EOS>', '去', '3', '3']\n",
      "['<SOS>', '在', '这', '个', '软', '弱', '又', '无', '助', '<EOS>', '去', '3', '3']\n",
      "['<SOS>', '让', '你', '感', '受', '我', '的', '力', '量', '<EOS>', '去', '3', '3']\n",
      "['<SOS>', '来', '吧', '我', '们', '在', '你', '身', '旁', '<EOS>', '去', '3', '3']\n",
      "['<SOS>', '你', '依', '然', '象', '身', '边', '的', '风', '<EOS>', '去', '3', '3']\n",
      "['<SOS>', '忘', '了', '起', '跑', '线', '的', '我', '啊', '<EOS>', '去', '3', '3']\n",
      "['<SOS>', '只', '怪', '十', '指', '纤', '纤', '啊', '啊', '<EOS>', '去', '3', '3']\n",
      "['<SOS>', '我', '们', '许', '下', '同', '一', '个', '心', '<EOS>', '去', '3', '3']\n",
      "['<SOS>', '只', '想', '今', '天', '给', '你', '看', '到', '<EOS>', '去', '3', '3']\n",
      "['<SOS>', '被', '电', '到', '大', '方', '又', '贴', '心', '<EOS>', '去', '3', '3']\n",
      "['<SOS>', '这', '叫', '吟', '味', '啊', '啊', '啊', '啊', '<EOS>', '去', '3', '3']\n",
      "['<SOS>', '也', '许', '从', '一', '个', '起', '点', '啊', '<EOS>', '去', '3', '3']\n",
      "['<SOS>', '青', '山', '与', '小', '楼', '已', '不', '再', '<EOS>', '去', '3', '3']\n",
      "['<SOS>', '集', '体', '把', '电', '话', '啊', '啊', '啊', '<EOS>', '去', '3', '3']\n",
      "['<SOS>', '不', '纵', '容', '他', '再', '给', '你', '伤', '<EOS>', '去', '3', '3']\n",
      "['<SOS>', '那', '不', '曾', '扑', '灭', '的', '梦', '幻', '<EOS>', '去', '3', '3']\n",
      "['<SOS>', '放', '飞', '一', '只', '老', '风', '筝', '啊', '<EOS>', '去', '3', '3']\n",
      "['<SOS>', '你', '发', '如', '雪', '纷', '飞', '了', '眼', '<EOS>', '去', '3', '3']\n",
      "['<SOS>', '不', '想', '碰', '爱', '情', '啊', '啊', '啊', '<EOS>', '去', '3', '3']\n",
      "['<SOS>', '编', '曲', '梁', '翘', '柏', '啊', '啊', '啊', '<EOS>', '去', '3', '3']\n",
      "['<SOS>', '来', '到', '这', '个', '世', '界', '不', '是', '<EOS>', '去', '3', '3']\n",
      "['<SOS>', '日', '子', '也', '难', '过', '啊', '啊', '啊', '<EOS>', '去', '3', '3']\n",
      "['<SOS>', '像', '爸', '爸', '啊', '啊', '啊', '啊', '啊', '<EOS>', '去', '3', '3']\n",
      "['<SOS>', '他', '叫', '力', '轩', '啊', '啊', '啊', '啊', '<EOS>', '去', '3', '3']\n",
      "['<SOS>', '心', '早', '已', '变', '形', '啊', '啊', '啊', '<EOS>', '去', '3', '3']\n",
      "['<SOS>', '情', '怀', '啊', '啊', '啊', '啊', '啊', '啊', '<EOS>', '去', '3', '3']\n",
      "['<SOS>', '透', '过', '这', '屋', '檐', '啊', '啊', '啊', '<EOS>', '去', '3', '3']\n",
      "['<SOS>', '光', '速', '间', '一', '闪', '的', '脸', '太', '<EOS>', '去', '3', '3']\n",
      "['<SOS>', '我', '和', '你', '不', '逃', '过', '啊', '啊', '<EOS>', '去', '3', '3']\n",
      "['<SOS>', '只', '是', '因', '为', '听', '一', '首', '歌', '<EOS>', '去', '3', '3']\n",
      "['<SOS>', '你', '让', '我', '的', '朋', '友', '关', '心', '<EOS>', '去', '3', '3']\n",
      "['<SOS>', '只', '是', '女', '人', '容', '易', '一', '往', '<EOS>', '去', '3', '3']\n",
      "['<SOS>', '别', '再', '拖', '下', '去', '啊', '啊', '啊', '<EOS>', '去', '3', '3']\n",
      "['<SOS>', '还', '会', '想', '你', '还', '在', '想', '你', '<EOS>', '去', '3', '3']\n",
      "['<SOS>', '为', '什', '么', '这', '样', '呢', '啊', '啊', '<EOS>', '去', '3', '3']\n",
      "['<SOS>', '无', '助', '的', '我', '一', '秒', '间', '失', '<EOS>', '去', '3', '3']\n",
      "['<SOS>', '像', '一', '片', '落', '叶', '暗', '示', '着', '<EOS>', '去', '3', '3']\n",
      "['<SOS>', '在', '编', '织', '回', '忆', '啊', '啊', '啊', '<EOS>', '去', '3', '3']\n",
      "['<SOS>', '只', '剩', '尴', '尬', '的', '笑', '脸', '啊', '<EOS>', '去', '3', '3']\n",
      "['<SOS>', '于', '是', '我', '我', '们', '多', '好', '啊', '<EOS>', '去', '3', '3']\n",
      "['<SOS>', '我', '随', '风', '飞', '舞', '啊', '啊', '啊', '<EOS>', '去', '3', '3']\n",
      "['<SOS>', '缘', '若', '尽', '了', '就', '不', '该', '再', '<EOS>', '去', '3', '3']\n",
      "['<SOS>', '呜', '嗷', '呜', '女', '孩', '没', '在', '怕', '<EOS>', '去', '3', '3']\n",
      "['<SOS>', '坐', '在', '桌', '前', '想', '写', '点', '什', '<EOS>', '去', '3', '3']\n",
      "['<SOS>', '有', '人', '喜', '滋', '滋', '地', '说', '啊', '<EOS>', '去', '3', '3']\n",
      "['<SOS>', '比', '如', '看', '她', '游', '泳', '到', '河', '<EOS>', '去', '3', '3']\n",
      "['<SOS>', '人', '生', '是', '一', '场', '棒', '球', '比', '<EOS>', '去', '3', '3']\n",
      "['<SOS>', '像', '蠢', '动', '的', '音', '乐', '教', '人', '<EOS>', '去', '3', '3']\n",
      "['<SOS>', '管', '我', '力', '竭', '与', '声', '嘶', '啊', '<EOS>', '去', '3', '3']\n",
      "['<SOS>', '饥', '饿', '的', '人', '把', '自', '己', '吃', '<EOS>', '去', '3', '3']\n",
      "['<SOS>', '爱', '到', '花', '儿', '绽', '放', '鸟', '儿', '<EOS>', '去', '3', '3']\n",
      "['<SOS>', '你', '早', '已', '经', '切', '断', '了', '这', '<EOS>', '去', '3', '3']\n",
      "['<SOS>', '冰', '激', '凌', '快', '融', '化', '了', '啊', '<EOS>', '去', '3', '3']\n",
      "['<SOS>', '让', '你', '让', '心', '都', '受', '痛', '啊', '<EOS>', '去', '3', '3']\n",
      "['<SOS>', '当', '天', '空', '开', '始', '下', '雨', '啊', '<EOS>', '去', '3', '3']\n",
      "['<SOS>', '通', '往', '平', '静', '的', '天', '梯', '啊', '<EOS>', '去', '3', '3']\n",
      "['<SOS>', '你', '知', '道', '只', '要', '穿', '上', '它', '<EOS>', '去', '3', '3']\n",
      "['<SOS>', '当', '奶', '笑', '里', '有', '海', '浪', '闻', '<EOS>', '去', '3', '3']\n",
      "['<SOS>', '我', '一', '定', '再', '一', '次', '紧', '握', '<EOS>', '去', '3', '3']\n",
      "['<SOS>', '我', '愿', '意', '为', '你', '守', '护', '到', '<EOS>', '去', '3', '3']\n",
      "['<SOS>', '才', '会', '坚', '持', '到', '了', '底', '啊', '<EOS>', '去', '3', '3']\n",
      "['<SOS>', '快', '节', '奏', '地', '动', '作', '啊', '啊', '<EOS>', '去', '3', '3']\n",
      "['<SOS>', '你', '站', '在', '冬', '天', '的', '阳', '台', '<EOS>', '去', '3', '3']\n",
      "['<SOS>', '我', '的', '爱', '牵', '着', '山', '脉', '啊', '<EOS>', '去', '3', '3']\n",
      "['<SOS>', '这', '个', '国', '家', '需', '要', '你', '啊', '<EOS>', '去', '3', '3']\n",
      "['<SOS>', '啊', '啊', '啊', '啊', '啊', '啊', '啊', '啊', '<EOS>', '去', '3', '3']\n",
      "['<SOS>', '握', '紧', '这', '拳', '头', '啊', '啊', '啊', '<EOS>', '去', '3', '3']\n",
      "['<SOS>', '只', '要', '从', '前', '一', '样', '就', '好', '<EOS>', '去', '3', '3']\n",
      "['<SOS>', '我', '不', '再', '让', '你', '孤', '单', '啊', '<EOS>', '去', '3', '3']\n",
      "['<SOS>', '每', '一', '次', '相', '聚', '舍', '不', '得', '<EOS>', '去', '3', '3']\n",
      "['<SOS>', '你', '说', '北', '京', '的', '天', '空', '氤', '<EOS>', '去', '3', '3']\n",
      "['<SOS>', '天', '涯', '何', '处', '无', '芳', '草', '啊', '<EOS>', '去', '3', '3']\n",
      "['<SOS>', '仍', '然', '梦', '得', '到', '啊', '啊', '啊', '<EOS>', '去', '3', '3']\n",
      "['<SOS>', '国', '与', '家', '连', '在', '一', '起', '创', '<EOS>', '去', '3', '3']\n",
      "['<SOS>', '那', '些', '回', '忆', '都', '躲', '不', '过', '<EOS>', '去', '3', '3']\n",
      "['<SOS>', '若', '是', '热', '烈', '地', '爱', '多', '一', '<EOS>', '去', '3', '3']\n",
      "['<SOS>', '花', '儿', '说', '它', '为', '一', '个', '人', '<EOS>', '去', '3', '3']\n",
      "['<SOS>', '需', '要', '什', '么', '对', '白', '啊', '啊', '<EOS>', '去', '3', '3']\n",
      "['<SOS>', '虚', '构', '自', '由', '和', '黎', '明', '啊', '<EOS>', '去', '3', '3']\n",
      "['<SOS>', '谁', '能', '与', '我', '同', '醉', '啊', '啊', '<EOS>', '去', '3', '3']\n",
      "['<SOS>', '时', '光', '悠', '悠', '流', '火', '盛', '夏', '<EOS>', '去', '3', '3']\n",
      "['<SOS>', '而', '我', '中', '国', '在', '今', '日', '为', '<EOS>', '去', '3', '3']\n",
      "['<SOS>', '能', '不', '能', '不', '要', '学', '习', '没', '<EOS>', '去', '3', '3']\n",
      "['<SOS>', '离', '开', '的', '理', '由', '我', '只', '需', '<EOS>', '去', '3', '3']\n",
      "['<SOS>', '韭', '菜', '盒', '子', '八', '宝', '辣', '子', '<EOS>', '去', '3', '3']\n",
      "['<SOS>', '走', '带', '我', '走', '我', '爱', '醉', '卧', '<EOS>', '去', '3', '3']\n",
      "['<SOS>', '啊', '风', '也', '想', '着', '它', '雨', '也', '<EOS>', '去', '3', '3']\n",
      "['<SOS>', '并', '不', '是', '说', '它', '不', '完', '美', '<EOS>', '去', '3', '3']\n",
      "['<SOS>', '我', '的', '青', '春', '小', '鸟', '一', '去', '<EOS>', '去', '3', '3']\n",
      "['<SOS>', '我', '紧', '闭', '双', '眼', '摒', '住', '呼', '<EOS>', '去', '3', '3']\n",
      "['<SOS>', '全', '生', '为', '上', '啊', '啊', '啊', '啊', '<EOS>', '去', '3', '3']\n",
      "['<SOS>', '这', '次', '要', '把', '风', '景', '带', '走', '<EOS>', '去', '3', '3']\n",
      "['<SOS>', '像', '旧', '梦', '的', '声', '音', '啊', '啊', '<EOS>', '去', '3', '3']\n",
      "['<SOS>', '我', '是', '否', '还', '是', '你', '的', '唯', '<EOS>', '去', '3', '3']\n",
      "['<SOS>', '不', '应', '该', '啊', '啊', '啊', '啊', '啊', '<EOS>', '去', '3', '3']\n",
      "['<SOS>', '为', '这', '秒', '不', '顾', '一', '切', '啊', '<EOS>', '去', '3', '3']\n",
      "['<SOS>', '我', '爱', '一', '出', '门', '口', '就', '想', '<EOS>', '去', '3', '3']\n",
      "['<SOS>', '你', '笑', '容', '让', '我', '心', '动', '啊', '<EOS>', '去', '3', '3']\n",
      "['<SOS>', '该', '走', '到', '哪', '里', '才', '有', '世', '<EOS>', '去', '3', '3']\n",
      "['<SOS>', '看', '那', '天', '教', '室', '里', '笑', '声', '<EOS>', '去', '3', '3']\n",
      "['<SOS>', '当', '他', '突', '然', '转', '身', '你', '却', '<EOS>', '去', '3', '3']\n",
      "['<SOS>', '突', '然', '车', '窗', '外', '下', '起', '了', '<EOS>', '去', '3', '3']\n",
      "['<SOS>', '打', '击', '乐', '胡', '宇', '飞', '啊', '啊', '<EOS>', '去', '3', '3']\n",
      "['<SOS>', '消', '失', '仿', '似', '流', '星', '啊', '啊', '<EOS>', '去', '3', '3']\n",
      "['<SOS>', '就', '让', '它', '结', '冰', '只', '能', '让', '<EOS>', '去', '3', '3']\n",
      "['<SOS>', '只', '剩', '我', '啊', '啊', '啊', '啊', '啊', '<EOS>', '去', '3', '3']\n",
      "['<SOS>', '一', '瞬', '间', '你', '让', '我', '的', '伤', '<EOS>', '去', '3', '3']\n",
      "['<SOS>', '再', '一', '步', '或', '许', '就', '要', '告', '<EOS>', '去', '3', '3']\n",
      "['<SOS>', '或', '许', '从', '来', '你', '不', '愿', '多', '<EOS>', '去', '3', '3']\n",
      "['<SOS>', '一', '说', '成', '空', '啊', '啊', '啊', '啊', '<EOS>', '去', '3', '3']\n",
      "['<SOS>', '胡', '萝', '卜', '和', '小', '葱', '致', '谢', '<EOS>', '去', '3', '3']\n",
      "['<SOS>', '吻', '你', '是', '烟', '火', '吻', '后', '是', '<EOS>', '去', '3', '3']\n",
      "['<SOS>', '然', '后', '跟', '紧', '我', '啊', '啊', '啊', '<EOS>', '去', '3', '3']\n",
      "['<SOS>', '一', '个', '人', '走', '不', '到', '天', '涯', '<EOS>', '去', '3', '3']\n",
      "['<SOS>', '若', '我', '啊', '啊', '啊', '啊', '啊', '啊', '<EOS>', '去', '3', '3']\n",
      "['<SOS>', '通', '通', '不', '要', '好', '过', '啊', '啊', '<EOS>', '去', '3', '3']\n",
      "['<SOS>', '过', '每', '天', '啊', '啊', '啊', '啊', '啊', '<EOS>', '去', '3', '3']\n",
      "['<SOS>', '相', '思', '无', '用', '啊', '啊', '啊', '啊', '<EOS>', '去', '3', '3']\n",
      "['<SOS>', '这', '种', '感', '觉', '很', '微', '妙', '啊', '<EOS>', '去', '3', '3']\n",
      "['<SOS>', '相', '会', '在', '北', '京', '啊', '啊', '啊', '<EOS>', '去', '3', '3']\n",
      "['<SOS>', '反', '正', '我', '连', '你', '都', '已', '失', '<EOS>', '去', '3', '3']\n",
      "['<SOS>', '改', '朝', '与', '换', '代', '再', '重', '演', '<EOS>', '去', '3', '3']\n",
      "['<SOS>', '抱', '紧', '我', '说', '爱', '我', '爱', '我', '<EOS>', '去', '3', '3']\n",
      "['<SOS>', '有', '时', '候', '张', '开', '怀', '抱', '啊', '<EOS>', '去', '3', '3']\n",
      "['<SOS>', '慢', '慢', '成', '老', '朽', '啊', '啊', '啊', '<EOS>', '去', '3', '3']\n",
      "['<SOS>', '熟', '悉', '的', '回', '眸', '啊', '啊', '啊', '<EOS>', '去', '3', '3']\n",
      "['<SOS>', '寻', '回', '你', '的', '真', '情', '我', '的', '<EOS>', '去', '3', '3']\n",
      "['<SOS>', '身', '为', '战', '士', '做', '英', '雄', '啊', '<EOS>', '去', '3', '3']\n",
      "['<SOS>', '纵', '容', '自', '己', '还', '给', '你', '宽', '<EOS>', '去', '3', '3']\n",
      "['<SOS>', '高', '高', '在', '上', '的', '你', '啊', '啊', '<EOS>', '去', '3', '3']\n",
      "['<SOS>', '赐', '我', '三', '千', '轮', '回', '化', '作', '<EOS>', '去', '3', '3']\n",
      "['<SOS>', '如', '今', '独', '自', '沉', '醉', '啊', '啊', '<EOS>', '去', '3', '3']\n",
      "['<SOS>', '永', '在', '我', '心', '中', '虽', '然', '已', '<EOS>', '去', '3', '3']\n",
      "['<SOS>', '渐', '渐', '少', '联', '络', '这', '样', '算', '<EOS>', '去', '3', '3']\n",
      "['<SOS>', '能', '不', '谴', '是', '非', '啊', '啊', '啊', '<EOS>', '去', '3', '3']\n",
      "['<SOS>', '在', '这', '样', '的', '海', '边', '啊', '啊', '<EOS>', '去', '3', '3']\n",
      "['<SOS>', '英', '雄', '啸', '天', '风', '气', '狂', '沙', '<EOS>', '去', '3', '3']\n",
      "['<SOS>', '谁', '拿', '我', '没', '辄', '我', '偏', '要', '<EOS>', '去', '3', '3']\n",
      "['<SOS>', '一', '百', '年', '後', '没', '有', '你', '也', '<EOS>', '去', '3', '3']\n",
      "['<SOS>', '原', '来', '是', '我', '自', '作', '多', '情', '<EOS>', '去', '3', '3']\n",
      "['<SOS>', '渐', '渐', '的', '在', '褪', '色', '啊', '啊', '<EOS>', '去', '3', '3']\n",
      "['<SOS>', '你', '是', '春', '风', '我', '是', '雨', '啊', '<EOS>', '去', '3', '3']\n",
      "['<SOS>', '而', '我', '只', '是', '一', '个', '穷', '小', '<EOS>', '去', '3', '3']\n",
      "['<SOS>', '不', '怕', '哪', '一', '天', '啊', '啊', '啊', '<EOS>', '去', '3', '3']\n",
      "['<SOS>', '夏', '場', '啊', '啊', '啊', '啊', '啊', '啊', '<EOS>', '去', '3', '3']\n",
      "['<SOS>', '闭', '上', '眼', '的', '云', '端', '却', '是', '<EOS>', '去', '3', '3']\n",
      "['<SOS>', '天', '涯', '无', '涯', '啊', '啊', '啊', '啊', '<EOS>', '去', '3', '3']\n",
      "['<SOS>', '那', '是', '我', '温', '顺', '的', '感', '觉', '<EOS>', '去', '3', '3']\n",
      "['<SOS>', '永', '恒', '的', '情', '意', '永', '远', '在', '<EOS>', '去', '3', '3']\n",
      "['<SOS>', '豆', '豆', '龙', '豆', '豆', '龙', '豆', '豆', '<EOS>', '去', '3', '3']\n",
      "['<SOS>', '只', '身', '茫', '茫', '人', '海', '啊', '啊', '<EOS>', '去', '3', '3']\n",
      "['<SOS>', '我', '猜', '你', '从', '来', '没', '甩', '过', '<EOS>', '去', '3', '3']\n",
      "['<SOS>', '来', '不', '及', '话', '别', '便', '却', '步', '<EOS>', '去', '3', '3']\n",
      "['<SOS>', '这', '感', '觉', '完', '美', '的', '姿', '态', '<EOS>', '去', '3', '3']\n",
      "['<SOS>', '西', '部', '的', '传', '奇', '随', '风', '呼', '<EOS>', '去', '3', '3']\n",
      "['<SOS>', '他', '们', '像', '我', '一', '样', '到', '这', '<EOS>', '去', '3', '3']\n",
      "['<SOS>', '就', '是', '那', '一', '瞬', '间', '的', '永', '<EOS>', '去', '3', '3']\n",
      "['<SOS>', '活', '得', '精', '彩', '啊', '啊', '啊', '啊', '<EOS>', '去', '3', '3']\n",
      "['<SOS>', '烦', '躁', '不', '安', '地', '不', '停', '来', '<EOS>', '去', '3', '3']\n",
      "['<SOS>', '我', '一', '个', '人', '旅', '行', '啊', '啊', '<EOS>', '去', '3', '3']\n",
      "['<SOS>', '就', '算', '遇', '到', '伤', '心', '在', '眼', '<EOS>', '去', '3', '3']\n",
      "['<SOS>', '还', '乡', '又', '还', '乡', '啊', '啊', '啊', '<EOS>', '去', '3', '3']\n",
      "['<SOS>', '黄', '娜', '等', '未', '雨', '绸', '缪', '解', '<EOS>', '去', '3', '3']\n",
      "['<SOS>', '不', '一', '样', '把', '梦', '想', '都', '分', '<EOS>', '去', '3', '3']\n",
      "['<SOS>', '让', '初', '恋', '像', '昨', '天', '记', '录', '<EOS>', '去', '3', '3']\n",
      "['<SOS>', '松', '开', '手', '放', '下', '那', '虚', '伪', '<EOS>', '去', '3', '3']\n",
      "['<SOS>', '多', '么', '美', '丽', '终', '消', '逝', '谁', '<EOS>', '去', '3', '3']\n",
      "['<SOS>', '也', '只', '能', '哼', '情', '歌', '啊', '啊', '<EOS>', '去', '3', '3']\n",
      "['<SOS>', '快', '乐', '是', '一', '个', '奖', '励', '啊', '<EOS>', '去', '3', '3']\n",
      "['<SOS>', '不', '及', '他', '第', '一', '次', '遇', '见', '<EOS>', '去', '3', '3']\n",
      "['<SOS>', '女', '共', '渡', '渡', '过', '几', '日', '才', '<EOS>', '去', '3', '3']\n",
      "['<SOS>', '我', '都', '不', '会', '放', '弃', '最', '初', '<EOS>', '去', '3', '3']\n",
      "['<SOS>', '重', '逢', '还', '是', '不', '见', '面', '亦', '<EOS>', '去', '3', '3']\n",
      "['<SOS>', '让', '我', '知', '道', '犹', '豫', '是', '否', '<EOS>', '去', '3', '3']\n",
      "['<SOS>', '一', '切', '希', '望', '都', '带', '着', '注', '<EOS>', '去', '3', '3']\n",
      "['<SOS>', '我', '的', '情', '也', '真', '啊', '啊', '啊', '<EOS>', '去', '3', '3']\n",
      "['<SOS>', '突', '然', '想', '起', '爸', '爸', '说', '的', '<EOS>', '去', '3', '3']\n",
      "['<SOS>', '使', '世', '界', '兴', '奋', '韵', '律', '和', '<EOS>', '去', '3', '3']\n",
      "['<SOS>', '为', '你', '流', '下', '第', '一', '滴', '泪', '<EOS>', '去', '3', '3']\n",
      "['<SOS>', '如', '果', '爱', '要', '我', '牺', '牲', '我', '<EOS>', '去', '3', '3']\n",
      "['<SOS>', '若', '有', '一', '天', '能', '重', '逢', '啊', '<EOS>', '去', '3', '3']\n",
      "['<SOS>', '总', '有', '浪', '漫', '的', '情', '节', '啊', '<EOS>', '去', '3', '3']\n",
      "['<SOS>', '是', '醉', '也', '苦', '啊', '啊', '啊', '啊', '<EOS>', '去', '3', '3']\n",
      "['<SOS>', '是', '上', '帝', '在', '哭', '泣', '啊', '啊', '<EOS>', '去', '3', '3']\n",
      "['<SOS>', '秋', '天', '晒', '晒', '月', '光', '冬', '夜', '<EOS>', '去', '3', '3']\n",
      "['<SOS>', '人', '最', '苦', '的', '是', '梦', '醒', '了', '<EOS>', '去', '3', '3']\n",
      "['<SOS>', '谁', '不', '曾', '爱', '上', '自', '由', '啊', '<EOS>', '去', '3', '3']\n",
      "['<SOS>', '爱', '你', '痛', '彻', '我', '心', '扉', '啊', '<EOS>', '去', '3', '3']\n",
      "['<SOS>', '历', '尽', '了', '沧', '桑', '意', '志', '愈', '<EOS>', '去', '3', '3']\n",
      "['<SOS>', '選', '手', '回', '到', '原', '位', '啊', '啊', '<EOS>', '去', '3', '3']\n",
      "['<SOS>', '二', '很', '小', '的', '时', '候', '啊', '啊', '<EOS>', '去', '3', '3']\n",
      "['<SOS>', '明', '知', '爱', '已', '变', '得', '脆', '弱', '<EOS>', '去', '3', '3']\n",
      "['<SOS>', '不', '要', '说', '这', '种', '相', '思', '令', '<EOS>', '去', '3', '3']\n",
      "['<SOS>', '看', '见', '夕', '阳', '把', '天', '空', '染', '<EOS>', '去', '3', '3']\n",
      "['<SOS>', '天', '上', '的', '星', '星', '哟', '也', '了', '<EOS>', '去', '3', '3']\n",
      "['<SOS>', '岁', '月', '无', '法', '停', '留', '啊', '啊', '<EOS>', '去', '3', '3']\n",
      "['<SOS>', '现', '在', '正', '是', '时', '候', '啊', '啊', '<EOS>', '去', '3', '3']\n",
      "['<SOS>', '就', '算', '走', '的', '安', '安', '静', '静', '<EOS>', '去', '3', '3']\n",
      "['<SOS>', '他', '不', '羁', '的', '脸', '像', '天', '色', '<EOS>', '去', '3', '3']\n",
      "['<SOS>', '现', '在', '我', '知', '道', '你', '回', '了', '<EOS>', '去', '3', '3']\n",
      "['<SOS>', '说', '我', '们', '的', '故', '事', '却', '忘', '<EOS>', '去', '3', '3']\n",
      "['<SOS>', '就', '同', '舟', '共', '济', '啊', '啊', '啊', '<EOS>', '去', '3', '3']\n",
      "['<SOS>', '这', '一', '切', '没', '有', '想', '像', '的', '<EOS>', '去', '3', '3']\n",
      "['<SOS>', '天', '在', '地', '的', '下', '面', '啊', '啊', '<EOS>', '去', '3', '3']\n",
      "['<SOS>', '追', '寻', '你', '时', '间', '滴', '滴', '答', '<EOS>', '去', '3', '3']\n",
      "['<SOS>', '我', '用', '漂', '亮', '的', '押', '韵', '啊', '<EOS>', '去', '3', '3']\n",
      "['<SOS>', '看', '坚', '持', '变', '成', '宇', '宙', '最', '<EOS>', '去', '3', '3']\n",
      "['<SOS>', '天', '使', '和', '芸', '芸', '众', '生', '都', '<EOS>', '去', '3', '3']\n",
      "['<SOS>', '怎', '样', '面', '对', '一', '切', '啊', '啊', '<EOS>', '去', '3', '3']\n",
      "['<SOS>', '散', '落', '却', '从', '来', '都', '没', '发', '<EOS>', '去', '3', '3']\n",
      "['<SOS>', '我', '出', '去', '会', '不', '会', '失', '败', '<EOS>', '去', '3', '3']\n",
      "['<SOS>', '见', '尽', '了', '云', '涌', '风', '起', '还', '<EOS>', '去', '3', '3']\n",
      "['<SOS>', '让', '我', '明', '知', '危', '险', '啊', '啊', '<EOS>', '去', '3', '3']\n",
      "['<SOS>', '微', '风', '轻', '轻', '吹', '不', '要', '流', '<EOS>', '去', '3', '3']\n",
      "['<SOS>', '还', '会', '有', '那', '一', '天', '吗', '啊', '<EOS>', '去', '3', '3']\n",
      "['<SOS>', '往', '事', '不', '回', '头', '跟', '我', '走', '<EOS>', '去', '3', '3']\n",
      "['<SOS>', '无', '谓', '问', '过', '去', '盏', '心', '碎', '<EOS>', '去', '3', '3']\n",
      "['<SOS>', '好', '男', '儿', '别', '去', '逞', '英', '雄', '<EOS>', '去', '3', '3']\n",
      "['<SOS>', '走', '到', '那', '里', '都', '有', '你', '陪', '<EOS>', '去', '3', '3']\n",
      "['<SOS>', '再', '给', '你', '十', '秒', '九', '秒', '八', '<EOS>', '去', '3', '3']\n",
      "['<SOS>', '眼', '看', '着', '天', '都', '亮', '了', '啊', '<EOS>', '去', '3', '3']\n",
      "['<SOS>', '深', '深', '的', '把', '你', '想', '起', '啊', '<EOS>', '去', '3', '3']\n",
      "['<SOS>', '一', '个', '人', '类', '新', '成', '员', '啊', '<EOS>', '去', '3', '3']\n",
      "['<SOS>', '我', '不', '知', '道', '不', '知', '道', '啊', '<EOS>', '去', '3', '3']\n",
      "['<SOS>', '谁', '能', '计', '算', '清', '楚', '啊', '啊', '<EOS>', '去', '3', '3']\n",
      "['<SOS>', '总', '亦', '有', '关', '心', '他', '的', '伴', '<EOS>', '去', '3', '3']\n",
      "['<SOS>', '命', '若', '野', '草', '啊', '啊', '啊', '啊', '<EOS>', '去', '3', '3']\n",
      "['<SOS>', '我', '的', '人', '生', '缺', '你', '不', '可', '<EOS>', '去', '3', '3']\n",
      "['<SOS>', '就', '放', '自', '己', '先', '去', '流', '浪', '<EOS>', '去', '3', '3']\n",
      "['<SOS>', '轻', '松', '的', '向', '前', '自', '由', '的', '<EOS>', '去', '3', '3']\n",
      "['<SOS>', '人', '生', '如', '此', '漂', '忽', '不', '定', '<EOS>', '去', '3', '3']\n",
      "['<SOS>', '我', '不', '爱', '你', '了', '啊', '啊', '啊', '<EOS>', '去', '3', '3']\n",
      "['<SOS>', '枉', '有', '千', '言', '万', '语', '讲', '啊', '<EOS>', '去', '3', '3']\n",
      "['<SOS>', '让', '风', '吹', '干', '流', '过', '的', '泪', '<EOS>', '去', '3', '3']\n",
      "['<SOS>', '任', '时', '光', '匆', '匆', '流', '去', '我', '<EOS>', '去', '3', '3']\n",
      "['<SOS>', '能', '勉', '强', '戒', '绝', '心', '痛', '但', '<EOS>', '去', '3', '3']\n",
      "['<SOS>', '简', '单', '的', '歌', '啊', '啊', '啊', '啊', '<EOS>', '去', '3', '3']\n",
      "['<SOS>', '岁', '月', '不', '知', '人', '间', '多', '少', '<EOS>', '去', '3', '3']\n",
      "['<SOS>', '要', '告', '别', '已', '不', '见', '的', '我', '<EOS>', '去', '3', '3']\n",
      "['<SOS>', '而', '我', '越', '想', '越', '伤', '啊', '啊', '<EOS>', '去', '3', '3']\n",
      "['<SOS>', '啊', '啊', '啊', '啊', '啊', '啊', '啊', '啊', '<EOS>', '去', '3', '3']\n",
      "['<SOS>', '时', '间', '带', '来', '残', '忍', '结', '局', '<EOS>', '去', '3', '3']\n",
      "['<SOS>', '不', '容', '易', '看', '到', '啊', '啊', '啊', '<EOS>', '去', '3', '3']\n",
      "['<SOS>', '树', '也', '缥', '缈', '啊', '啊', '啊', '啊', '<EOS>', '去', '3', '3']\n",
      "['<SOS>', '为', '了', '她', '只', '好', '一', '等', '再', '<EOS>', '去', '3', '3']\n",
      "['<SOS>', '迎', '着', '风', '声', '越', '高', '歌', '声', '<EOS>', '去', '3', '3']\n",
      "['<SOS>', '沉', '溺', '烦', '扰', '磨', '折', '啊', '啊', '<EOS>', '去', '3', '3']\n",
      "['<SOS>', '进', '得', '去', '我', '出', '不', '来', '啊', '<EOS>', '去', '3', '3']\n",
      "['<SOS>', '至', '少', '难', '过', '留', '给', '我', '啊', '<EOS>', '去', '3', '3']\n",
      "['<SOS>', '恍', '恍', '惚', '惚', '挤', '进', '这', '班', '<EOS>', '去', '3', '3']\n",
      "['<SOS>', '难', '道', '终', '此', '一', '生', '都', '要', '<EOS>', '去', '3', '3']\n",
      "['<SOS>', '也', '是', '同', '日', '生', '呀', '啊', '啊', '<EOS>', '去', '3', '3']\n",
      "['<SOS>', '黄', '沙', '已', '吞', '没', '了', '村', '庄', '<EOS>', '去', '3', '3']\n",
      "['<SOS>', '这', '一', '夜', '之', '间', '啊', '啊', '啊', '<EOS>', '去', '3', '3']\n",
      "['<SOS>', '女', '对', '男', '像', '敌', '人', '先', '兴', '<EOS>', '去', '3', '3']\n",
      "['<SOS>', '不', '敢', '相', '信', '你', '就', '这', '样', '<EOS>', '去', '3', '3']\n",
      "['<SOS>', '合', '最', '高', '最', '极', '限', '是', '谁', '<EOS>', '去', '3', '3']\n",
      "['<SOS>', '陈', '翻', '阅', '过', '的', '生', '活', '啊', '<EOS>', '去', '3', '3']\n",
      "['<SOS>', '如', '今', '啊', '啊', '啊', '啊', '啊', '啊', '<EOS>', '去', '3', '3']\n",
      "['<SOS>', '清', '澈', '见', '底', '啊', '啊', '啊', '啊', '<EOS>', '去', '3', '3']\n",
      "['<SOS>', '想', '得', '到', '你', '的', '安', '慰', '啊', '<EOS>', '去', '3', '3']\n",
      "['<SOS>', '心', '跳', '都', '沈', '醉', '了', '啊', '啊', '<EOS>', '去', '3', '3']\n",
      "['<SOS>', '只', '有', '天', '知', '道', '我', '受', '过', '<EOS>', '去', '3', '3']\n",
      "['<SOS>', '他', '那', '俊', '美', '的', '侧', '面', '使', '<EOS>', '去', '3', '3']\n",
      "['<SOS>', '是', '不', '是', '有', '个', '理', '想', '被', '<EOS>', '去', '3', '3']\n",
      "['<SOS>', '相', '看', '七', '世', '也', '不', '厌', '啊', '<EOS>', '去', '3', '3']\n",
      "['<SOS>', '不', '是', '你', '的', '就', '别', '再', '勉', '<EOS>', '去', '3', '3']\n",
      "['<SOS>', '世', '界', '随', '随', '地', '转', '只', '因', '<EOS>', '去', '3', '3']\n",
      "['<SOS>', '人', '生', '在', '世', '图', '个', '快', '意', '<EOS>', '去', '3', '3']\n",
      "['<SOS>', '也', '是', '引', '起', '周', '围', '的', '人', '<EOS>', '去', '3', '3']\n",
      "['<SOS>', '我', '已', '不', '爱', '你', '啊', '啊', '啊', '<EOS>', '去', '3', '3']\n",
      "['<SOS>', '就', '算', '流', '泪', '啊', '啊', '啊', '啊', '<EOS>', '去', '3', '3']\n",
      "['<SOS>', '吹', '落', '我', '手', '中', '的', '刀', '锋', '<EOS>', '去', '3', '3']\n",
      "['<SOS>', '释', '迦', '牟', '尼', '佛', '有', '一', '次', '<EOS>', '去', '3', '3']\n",
      "['<SOS>', '你', '在', '哪', '儿', '啊', '啊', '啊', '啊', '<EOS>', '去', '3', '3']\n",
      "['<SOS>', '月', '有', '阴', '晴', '圆', '缺', '啊', '啊', '<EOS>', '去', '3', '3']\n",
      "['<SOS>', '而', '你', '说', '的', '永', '不', '后', '悔', '<EOS>', '去', '3', '3']\n",
      "['<SOS>', '有', '多', '少', '人', '陷', '入', '回', '忆', '<EOS>', '去', '3', '3']\n",
      "['<SOS>', '难', '道', '是', '我', '还', '不', '够', '好', '<EOS>', '去', '3', '3']\n",
      "['<SOS>', '帅', '到', '掉', '渣', '啊', '啊', '啊', '啊', '<EOS>', '去', '3', '3']\n",
      "['<SOS>', '叫', '得', '蝴', '蝶', '满', '园', '飞', '哟', '<EOS>', '去', '3', '3']\n",
      "['<SOS>', '深', '情', '亦', '是', '过', '客', '啊', '啊', '<EOS>', '去', '3', '3']\n",
      "['<SOS>', '就', '算', '痛', '啊', '就', '算', '哭', '啊', '<EOS>', '去', '3', '3']\n",
      "['<SOS>', '多', '少', '春', '天', '的', '故', '事', '啊', '<EOS>', '去', '3', '3']\n",
      "['<SOS>', '一', '定', '要', '义', '无', '反', '顾', '实', '<EOS>', '去', '3', '3']\n",
      "['<SOS>', '却', '逃', '离', '不', '开', '思', '念', '做', '<EOS>', '去', '3', '3']\n",
      "['<SOS>', '今', '朝', '有', '酒', '今', '朝', '醉', '倒', '<EOS>', '去', '3', '3']\n",
      "['<SOS>', '月', '下', '的', '花', '儿', '都', '入', '梦', '<EOS>', '去', '3', '3']\n",
      "['<SOS>', '我', '再', '从', '西', '厢', '过', '十', '二', '<EOS>', '去', '3', '3']\n",
      "['<SOS>', '男', '人', '其', '实', '也', '会', '有', '心', '<EOS>', '去', '3', '3']\n",
      "['<SOS>', '总', '教', '人', '在', '梦', '与', '醒', '之', '<EOS>', '去', '3', '3']\n",
      "['<SOS>', '每', '个', '日', '子', '都', '是', '星', '期', '<EOS>', '去', '3', '3']\n",
      "['<SOS>', '你', '好', '好', '的', '重', '庆', '啊', '啊', '<EOS>', '去', '3', '3']\n",
      "['<SOS>', '到', '淡', '水', '了', '夜', '车', '飞', '驰', '<EOS>', '去', '3', '3']\n",
      "['<SOS>', '打', '包', '你', '的', '行', '李', '啊', '啊', '<EOS>', '去', '3', '3']\n",
      "['<SOS>', '风', '把', '你', '吹', '到', '了', '这', '里', '<EOS>', '去', '3', '3']\n",
      "['<SOS>', '写', '封', '信', '给', '我', '就', '当', '最', '<EOS>', '去', '3', '3']\n",
      "['<SOS>', '一', '个', '人', '背', '着', '幸', '福', '练', '<EOS>', '去', '3', '3']\n",
      "['<SOS>', '然', '後', '強', '逼', '快', '睡', '啊', '啊', '<EOS>', '去', '3', '3']\n",
      "['<SOS>', '亲', '人', '和', '朋', '友', '请', '多', '原', '<EOS>', '去', '3', '3']\n",
      "['<SOS>', '中', '的', '啊', '啊', '啊', '啊', '啊', '啊', '<EOS>', '去', '3', '3']\n",
      "['<SOS>', '如', '果', '没', '有', '你', '没', '有', '过', '<EOS>', '去', '3', '3']\n",
      "['<SOS>', '我', '是', '一', '条', '寻', '水', '的', '鱼', '<EOS>', '去', '3', '3']\n",
      "['<SOS>', '明', '筱', '岩', '人', '如', '海', '车', '成', '<EOS>', '去', '3', '3']\n",
      "['<SOS>', '我', '已', '深', '深', '爱', '上', '你', '啊', '<EOS>', '去', '3', '3']\n",
      "['<SOS>', '善', '良', '的', '狮', '子', '啊', '你', '快', '<EOS>', '去', '3', '3']\n",
      "['<SOS>', '韩', '阳', '啊', '啊', '啊', '啊', '啊', '啊', '<EOS>', '去', '3', '3']\n",
      "['<SOS>', '无', '憾', '或', '后', '悔', '亦', '是', '像', '<EOS>', '去', '3', '3']\n",
      "['<SOS>', '唱', '出', '未', '来', '唱', '出', '精', '彩', '<EOS>', '去', '3', '3']\n",
      "['<SOS>', '而', '且', '忘', '得', '那', '么', '心', '安', '<EOS>', '去', '3', '3']\n",
      "['<SOS>', '自', '己', '在', '小', '摊', '上', '买', '的', '<EOS>', '去', '3', '3']\n",
      "['<SOS>', '全', '部', '梦', '想', '赶', '紧', '追', '啊', '<EOS>', '去', '3', '3']\n",
      "['<SOS>', '可', '是', '我', '的', '心', '里', '面', '啊', '<EOS>', '去', '3', '3']\n",
      "['<SOS>', '别', '让', '我', '离', '开', '你', '啊', '啊', '<EOS>', '去', '3', '3']\n",
      "['<SOS>', '这', '是', '一', '个', '结', '婚', '的', '车', '<EOS>', '去', '3', '3']\n",
      "['<SOS>', '你', '的', '手', '动', '作', '太', '快', '突', '<EOS>', '去', '3', '3']\n",
      "['<SOS>', '你', '又', '登', '陆', '了', '你', '微', '博', '<EOS>', '去', '3', '3']\n",
      "['<SOS>', '需', '要', '避', '避', '风', '头', '啊', '啊', '<EOS>', '去', '3', '3']\n",
      "['<SOS>', '他', '果', '然', '振', '奋', '起', '来', '了', '<EOS>', '去', '3', '3']\n",
      "['<SOS>', '弦', '乐', '团', '国', '际', '首', '席', '爱', '<EOS>', '去', '3', '3']\n",
      "['<SOS>', '原', '来', '全', '场', '六', '十', '八', '样', '<EOS>', '去', '3', '3']\n",
      "['<SOS>', '怎', '么', '才', '能', '找', '到', '你', '啊', '<EOS>', '去', '3', '3']\n",
      "['<SOS>', '我', '像', '小', '船', '寻', '找', '港', '湾', '<EOS>', '去', '3', '3']\n",
      "['<SOS>', '甘', '会', '一', '别', '著', '消', '失', '啊', '<EOS>', '去', '3', '3']\n",
      "['<SOS>', '哎', '呀', '美', '丽', '的', '阿', '瓦', '古', '<EOS>', '去', '3', '3']\n",
      "['<SOS>', '担', '心', '我', '四', '处', '为', '家', '啊', '<EOS>', '去', '3', '3']\n",
      "['<SOS>', '眼', '中', '的', '落', '寞', '啊', '啊', '啊', '<EOS>', '去', '3', '3']\n",
      "['<SOS>', '不', '是', '当', '初', '的', '少', '年', '啊', '<EOS>', '去', '3', '3']\n",
      "['<SOS>', '吹', '灭', '热', '情', '的', '火', '焰', '啊', '<EOS>', '去', '3', '3']\n",
      "['<SOS>', '追', '寻', '美', '丽', '的', '梦', '啊', '啊', '<EOS>', '去', '3', '3']\n",
      "['<SOS>', '爱', '情', '这', '东', '西', '啊', '啊', '啊', '<EOS>', '去', '3', '3']\n",
      "['<SOS>', '风', '化', '着', '我', '的', '心', '脏', '啊', '<EOS>', '去', '3', '3']\n",
      "['<SOS>', '我', '的', '心', '里', '只', '有', '你', '没', '<EOS>', '去', '3', '3']\n",
      "['<SOS>', '我', '坐', '在', '厅', '里', '啊', '啊', '啊', '<EOS>', '去', '3', '3']\n",
      "['<SOS>', '在', '山', '中', '啊', '啊', '啊', '啊', '啊', '<EOS>', '去', '3', '3']\n",
      "['<SOS>', '同', '学', '们', '问', '我', '的', '印', '象', '<EOS>', '去', '3', '3']\n",
      "['<SOS>', '闭', '上', '双', '眼', '啊', '啊', '啊', '啊', '<EOS>', '去', '3', '3']\n",
      "['<SOS>', '但', '曾', '经', '走', '过', '的', '昨', '天', '<EOS>', '去', '3', '3']\n",
      "['<SOS>', '岁', '啊', '啊', '啊', '啊', '啊', '啊', '啊', '<EOS>', '去', '3', '3']\n",
      "['<SOS>', '来', '电', '者', '的', '恋', '爱', '困', '难', '<EOS>', '去', '3', '3']\n",
      "['<SOS>', '那', '一', '句', '话', '啊', '啊', '啊', '啊', '<EOS>', '去', '3', '3']\n",
      "['<SOS>', '你', '找', '个', '借', '口', '让', '我', '接', '<EOS>', '去', '3', '3']\n",
      "['<SOS>', '坚', '持', '对', '狗', '日', '的', '生', '活', '<EOS>', '去', '3', '3']\n",
      "['<SOS>', '来', '吧', '朋', '友', '啊', '啊', '啊', '啊', '<EOS>', '去', '3', '3']\n",
      "['<SOS>', '穿', '上', '盔', '甲', '后', '的', '信', '念', '<EOS>', '去', '3', '3']\n",
      "['<SOS>', '太', '夺', '目', '而', '掩', '盖', '了', '啊', '<EOS>', '去', '3', '3']\n",
      "['<SOS>', '现', '在', '就', '要', '抱', '抱', '紧', '啊', '<EOS>', '去', '3', '3']\n",
      "['<SOS>', '到', '头', '来', '是', '我', '不', '够', '果', '<EOS>', '去', '3', '3']\n",
      "['<SOS>', '洗', '去', '烦', '闷', '的', '夏', '季', '啊', '<EOS>', '去', '3', '3']\n",
      "['<SOS>', '嘿', '蛋', '炒', '饭', '最', '简', '单', '也', '<EOS>', '去', '3', '3']\n",
      "['<SOS>', '因', '为', '我', '唔', '想', '专', '食', '香', '<EOS>', '去', '3', '3']\n",
      "['<SOS>', '让', '我', '拥', '有', '你', '啊', '啊', '啊', '<EOS>', '去', '3', '3']\n",
      "['<SOS>', '来', '把', '房', '瓦', '掀', '啊', '啊', '啊', '<EOS>', '去', '3', '3']\n",
      "['<SOS>', '感', '觉', '那', '一', '丝', '温', '暖', '啊', '<EOS>', '去', '3', '3']\n",
      "['<SOS>', '曾', '误', '认', '的', '诚', '恳', '每', '个', '<EOS>', '去', '3', '3']\n",
      "['<SOS>', '掌', '握', '中', '文', '与', '历', '史', '有', '<EOS>', '去', '3', '3']\n",
      "['<SOS>', '把', '爱', '收', '进', '胸', '前', '左', '边', '<EOS>', '去', '3', '3']\n",
      "['<SOS>', '或', '天', '旋', '或', '地', '转', '经', '沧', '<EOS>', '去', '3', '3']\n",
      "['<SOS>', '夜', '里', '啊', '啊', '啊', '啊', '啊', '啊', '<EOS>', '去', '3', '3']\n",
      "['<SOS>', '头', '也', '不', '回', '啊', '啊', '啊', '啊', '<EOS>', '去', '3', '3']\n",
      "['<SOS>', '然', '后', '呢', '啊', '啊', '啊', '啊', '啊', '<EOS>', '去', '3', '3']\n",
      "['<SOS>', '昨', '天', '已', '经', '去', '得', '很', '远', '<EOS>', '去', '3', '3']\n",
      "['<SOS>', '无', '所', '谓', '伤', '心', '啊', '啊', '啊', '<EOS>', '去', '3', '3']\n",
      "['<SOS>', '在', '拂', '晓', '的', '时', '候', '啊', '啊', '<EOS>', '去', '3', '3']\n",
      "['<SOS>', '第', '三', '天', '拆', '了', '绷', '带', '啊', '<EOS>', '去', '3', '3']\n",
      "['<SOS>', '我', '的', '痛', '苦', '啊', '啊', '啊', '啊', '<EOS>', '去', '3', '3']\n",
      "['<SOS>', '只', '是', '你', '的', '快', '乐', '啊', '啊', '<EOS>', '去', '3', '3']\n",
      "['<SOS>', '我', '们', '总', '是', '为', '了', '爱', '在', '<EOS>', '去', '3', '3']\n",
      "['<SOS>', '人', '天', '生', '都', '不', '可', '以', '爱', '<EOS>', '去', '3', '3']\n",
      "['<SOS>', '懂', '嗎', '你', '懂', '嗎', '心', '中', '輕', '<EOS>', '去', '3', '3']\n",
      "['<SOS>', '回', '想', '那', '年', '我', '们', '许', '下', '<EOS>', '去', '3', '3']\n",
      "['<SOS>', '如', '果', '你', '愿', '意', '啊', '啊', '啊', '<EOS>', '去', '3', '3']\n",
      "['<SOS>', '快', '乐', '能', '信', '手', '拈', '来', '啊', '<EOS>', '去', '3', '3']\n",
      "['<SOS>', '似', '乎', '识', '得', '几', '句', '啊', '啊', '<EOS>', '去', '3', '3']\n",
      "['<SOS>', '我', '允', '许', '了', '你', '啊', '啊', '啊', '<EOS>', '去', '3', '3']\n",
      "['<SOS>', '我', '也', '不', '想', '啊', '啊', '啊', '啊', '<EOS>', '去', '3', '3']\n",
      "['<SOS>', '像', '身', '上', '的', '味', '道', '啊', '啊', '<EOS>', '去', '3', '3']\n",
      "['<SOS>', '你', '和', '我', '的', '竞', '赛', '啊', '啊', '<EOS>', '去', '3', '3']\n",
      "['<SOS>', '一', '滴', '沉', '落', '于', '岁', '月', '的', '<EOS>', '去', '3', '3']\n",
      "['<SOS>', '也', '没', '能', '羽', '化', '再', '成', '仙', '<EOS>', '去', '3', '3']\n",
      "['<SOS>', '黄', '晓', '明', '爱', '划', '过', '轨', '迹', '<EOS>', '去', '3', '3']\n",
      "['<SOS>', '候', '鸟', '越', '过', '冬', '季', '我', '却', '<EOS>', '去', '3', '3']\n",
      "['<SOS>', '忙', '着', '和', '时', '间', '比', '赛', '啊', '<EOS>', '去', '3', '3']\n",
      "['<SOS>', '哦', '黑', '或', '白', '啊', '啊', '啊', '啊', '<EOS>', '去', '3', '3']\n",
      "['<SOS>', '回', '家', '的', '路', '上', '啊', '啊', '啊', '<EOS>', '去', '3', '3']\n",
      "['<SOS>', '但', '是', '真', '爱', '啊', '啊', '啊', '啊', '<EOS>', '去', '3', '3']\n",
      "['<SOS>', '从', '齐', '眉', '的', '刘', '海', '儿', '到', '<EOS>', '去', '3', '3']\n",
      "['<SOS>', '有', '没', '有', '口', '罩', '一', '个', '给', '<EOS>', '去', '3', '3']\n",
      "['<SOS>', '这', '贪', '心', '程', '度', '在', '我', '看', '<EOS>', '去', '3', '3']\n",
      "['<SOS>', '我', '啊', '啊', '啊', '啊', '啊', '啊', '啊', '<EOS>', '去', '3', '3']\n",
      "['<SOS>', '哟', '吼', '啊', '啊', '啊', '啊', '啊', '啊', '<EOS>', '去', '3', '3']\n",
      "['<SOS>', '还', '是', '毫', '无', '头', '绪', '啊', '啊', '<EOS>', '去', '3', '3']\n",
      "['<SOS>', '这', '算', '什', '么', '啊', '啊', '啊', '啊', '<EOS>', '去', '3', '3']\n",
      "['<SOS>', '赤', '裸', '裸', '啊', '啊', '啊', '啊', '啊', '<EOS>', '去', '3', '3']\n",
      "['<SOS>', '我', '愿', '意', '随', '你', '到', '天', '涯', '<EOS>', '去', '3', '3']\n",
      "['<SOS>', '不', '再', '彷', '徨', '去', '找', '回', '我', '<EOS>', '去', '3', '3']\n",
      "['<SOS>', '向', '前', '冲', '昂', '起', '头', '啊', '啊', '<EOS>', '去', '3', '3']\n",
      "['<SOS>', '我', '时', '刻', '想', '念', '着', '你', '啊', '<EOS>', '去', '3', '3']\n",
      "['<SOS>', '滂', '沱', '了', '来', '生', '再', '见', '的', '<EOS>', '去', '3', '3']\n",
      "['<SOS>', '梦', '醒', '已', '晚', '无', '非', '黯', '淡', '<EOS>', '去', '3', '3']\n",
      "['<SOS>', '他', '的', '夫', '人', '也', '人', '心', '脏', '<EOS>', '去', '3', '3']\n",
      "['<SOS>', '你', '又', '何', '苦', '一', '往', '情', '深', '<EOS>', '去', '3', '3']\n",
      "['<SOS>', '一', '种', '爽', '爽', '朗', '朗', '的', '心', '<EOS>', '去', '3', '3']\n",
      "['<SOS>', '你', '却', '不', '明', '了', '啊', '啊', '啊', '<EOS>', '去', '3', '3']\n",
      "['<SOS>', '朝', '迎', '旭', '日', '升', '啊', '啊', '啊', '<EOS>', '去', '3', '3']\n",
      "['<SOS>', '这', '是', '最', '打', '动', '我', '的', '心', '<EOS>', '去', '3', '3']\n",
      "['<SOS>', '跟', '着', '我', '跟', '着', '我', '走', '向', '<EOS>', '去', '3', '3']\n",
      "['<SOS>', '爱', '要', '越', '挫', '越', '勇', '啊', '啊', '<EOS>', '去', '3', '3']\n",
      "['<SOS>', '外', '面', '的', '世', '界', '很', '无', '奈', '<EOS>', '去', '3', '3']\n",
      "['<SOS>', '但', '愿', '长', '醉', '不', '复', '醒', '啊', '<EOS>', '去', '3', '3']\n",
      "['<SOS>', '儿', '子', '一', '直', '记', '着', '您', '的', '<EOS>', '去', '3', '3']\n",
      "['<SOS>', '她', '家', '住', '在', '乡', '村', '河', '畔', '<EOS>', '去', '3', '3']\n",
      "['<SOS>', '不', '管', '我', '们', '的', '过', '去', '我', '<EOS>', '去', '3', '3']\n",
      "['<SOS>', '一', '杯', '咖', '啡', '过', '后', '啊', '啊', '<EOS>', '去', '3', '3']\n",
      "['<SOS>', '可', '能', '是', '因', '为', '我', '说', '的', '<EOS>', '去', '3', '3']\n",
      "['<SOS>', '沿', '途', '伴', '着', '你', '手', '松', '下', '<EOS>', '去', '3', '3']\n",
      "['<SOS>', '可', '知', '道', '啊', '啊', '啊', '啊', '啊', '<EOS>', '去', '3', '3']\n",
      "['<SOS>', '在', '神', '秘', '秘', '的', '远', '方', '等', '<EOS>', '去', '3', '3']\n",
      "['<SOS>', '走', '到', '岁', '月', '尽', '头', '也', '会', '<EOS>', '去', '3', '3']\n",
      "['<SOS>', '我', '为', '何', '让', '你', '走', '啊', '啊', '<EOS>', '去', '3', '3']\n",
      "['<SOS>', '多', '少', '海', '市', '蜃', '楼', '已', '成', '<EOS>', '去', '3', '3']\n",
      "['<SOS>', '只', '为', '这', '一', '切', '啊', '啊', '啊', '<EOS>', '去', '3', '3']\n",
      "['<SOS>', '他', '点', '着', '灯', '走', '在', '路', '上', '<EOS>', '去', '3', '3']\n",
      "['<SOS>', '初', '恋', '的', '年', '代', '讲', '起', '谈', '<EOS>', '去', '3', '3']\n",
      "['<SOS>', '看', '后', '镜', '中', '便', '能', '愉', '快', '<EOS>', '去', '3', '3']\n",
      "['<SOS>', '陪', '着', '你', '宁', '失', '恋', '千', '百', '<EOS>', '去', '3', '3']\n",
      "['<SOS>', '不', '嫁', '没', '关', '系', '啊', '啊', '啊', '<EOS>', '去', '3', '3']\n",
      "['<SOS>', '你', '若', '不', '想', '留', '啊', '啊', '啊', '<EOS>', '去', '3', '3']\n",
      "['<SOS>', '如', '果', '说', '你', '也', '曾', '经', '在', '<EOS>', '去', '3', '3']\n",
      "['<SOS>', '所', '有', '烦', '恼', '此', '刻', '全', '遗', '<EOS>', '去', '3', '3']\n",
      "['<SOS>', '摸', '索', '摸', '索', '不', '到', '门', '边', '<EOS>', '去', '3', '3']\n",
      "['<SOS>', '月', '亮', '的', '另', '一', '方', '可', '有', '<EOS>', '去', '3', '3']\n",
      "['<SOS>', '却', '象', '铁', '一', '样', '强', '和', '烈', '<EOS>', '去', '3', '3']\n",
      "['<SOS>', '想', '到', '泪', '汪', '汪', '啊', '啊', '啊', '<EOS>', '去', '3', '3']\n",
      "['<SOS>', '勃', '拉', '姆', '斯', '为', '了', '充', '实', '<EOS>', '去', '3', '3']\n",
      "['<SOS>', '思', '念', '会', '像', '细', '沙', '穿', '过', '<EOS>', '去', '3', '3']\n",
      "['<SOS>', '混', '乱', '的', '思', '绪', '啊', '啊', '啊', '<EOS>', '去', '3', '3']\n",
      "['<SOS>', '脸', '就', '红', '了', '啊', '啊', '啊', '啊', '<EOS>', '去', '3', '3']\n",
      "['<SOS>', '走', '进', '我', '那', '朋', '友', '般', '的', '<EOS>', '去', '3', '3']\n",
      "['<SOS>', '像', '是', '生', '活', '我', '这', '么', '样', '<EOS>', '去', '3', '3']\n",
      "['<SOS>', '快', '乐', '是', '否', '也', '来', '过', '啊', '<EOS>', '去', '3', '3']\n",
      "['<SOS>', '青', '丝', '上', '白', '霜', '耄', '耋', '念', '<EOS>', '去', '3', '3']\n",
      "['<SOS>', '艰', '险', '磨', '难', '啊', '啊', '啊', '啊', '<EOS>', '去', '3', '3']\n",
      "['<SOS>', '突', '然', '很', '想', '不', '要', '飞', '啊', '<EOS>', '去', '3', '3']\n",
      "['<SOS>', '轮', '回', '换', '换', '换', '有', '一', '样', '<EOS>', '去', '3', '3']\n",
      "['<SOS>', '对', '爱', '没', '有', '期', '望', '我', '啊', '<EOS>', '去', '3', '3']\n",
      "['<SOS>', '可', '我', '只', '能', '假', '笑', '扮', '从', '<EOS>', '去', '3', '3']\n",
      "['<SOS>', '那', '个', '人', '不', '是', '我', '啊', '啊', '<EOS>', '去', '3', '3']\n",
      "['<SOS>', '谁', '想', '跟', '踪', '你', '一', '世', '纪', '<EOS>', '去', '3', '3']\n",
      "['<SOS>', '不', '要', '怀', '疑', '爱', '情', '以', '退', '<EOS>', '去', '3', '3']\n",
      "['<SOS>', '就', '像', '它', '们', '遭', '受', '苦', '难', '<EOS>', '去', '3', '3']\n",
      "['<SOS>', '蒙', '上', '眼', '睛', '看', '尽', '大', '世', '<EOS>', '去', '3', '3']\n",
      "['<SOS>', '明', '天', '又', '要', '去', '大', '草', '原', '<EOS>', '去', '3', '3']\n",
      "['<SOS>', '这', '种', '感', '情', '经', '历', '是', '有', '<EOS>', '去', '3', '3']\n",
      "['<SOS>', '俯', '身', '拾', '厢', '房', '啊', '啊', '啊', '<EOS>', '去', '3', '3']\n",
      "['<SOS>', '李', '冰', '冰', '北', '京', '欢', '迎', '你', '<EOS>', '去', '3', '3']\n",
      "['<SOS>', '叫', '人', '难', '忘', '记', '啊', '啊', '啊', '<EOS>', '去', '3', '3']\n",
      "['<SOS>', '海', '风', '吹', '起', '你', '的', '头', '发', '<EOS>', '去', '3', '3']\n",
      "['<SOS>', '放', '下', '不', '安', '的', '冲', '动', '的', '<EOS>', '去', '3', '3']\n",
      "['<SOS>', '互', '相', '埋', '怨', '互', '相', '怨', '恨', '<EOS>', '去', '3', '3']\n",
      "['<SOS>', '人', '们', '说', '话', '渐', '渐', '慢', '了', '<EOS>', '去', '3', '3']\n",
      "['<SOS>', '萤', '火', '照', '夜', '空', '啊', '啊', '啊', '<EOS>', '去', '3', '3']\n",
      "['<SOS>', '终', '啊', '啊', '啊', '啊', '啊', '啊', '啊', '<EOS>', '去', '3', '3']\n",
      "['<SOS>', '情', '怀', '仍', '然', '能', '热', '恋', '啊', '<EOS>', '去', '3', '3']\n",
      "['<SOS>', '认', '真', '的', '话', '啊', '啊', '啊', '啊', '<EOS>', '去', '3', '3']\n",
      "['<SOS>', '诗', '了', '你', '的', '青', '春', '啊', '啊', '<EOS>', '去', '3', '3']\n",
      "['<SOS>', '如', '何', '想', '你', '想', '到', '六', '点', '<EOS>', '去', '3', '3']\n",
      "['<SOS>', '放', '弃', '甜', '蜜', '的', '折', '磨', '啊', '<EOS>', '去', '3', '3']\n",
      "['<SOS>', '曾', '经', '拥', '有', '你', '啊', '啊', '啊', '<EOS>', '去', '3', '3']\n",
      "['<SOS>', '你', '一', '如', '既', '往', '的', '飞', '翔', '<EOS>', '去', '3', '3']\n",
      "['<SOS>', '我', '需', '要', '安', '静', '思', '考', '啊', '<EOS>', '去', '3', '3']\n",
      "['<SOS>', '听', '着', '你', '告', '诉', '我', '啊', '啊', '<EOS>', '去', '3', '3']\n",
      "['<SOS>', '高', '处', '不', '胜', '寒', '啊', '啊', '啊', '<EOS>', '去', '3', '3']\n",
      "['<SOS>', '凭', '着', '爱', '情', '怀', '不', '老', '啊', '<EOS>', '去', '3', '3']\n",
      "['<SOS>', '叫', '卖', '的', '呐', '喊', '啊', '啊', '啊', '<EOS>', '去', '3', '3']\n",
      "['<SOS>', '我', '突', '然', '间', '发', '觉', '啊', '啊', '<EOS>', '去', '3', '3']\n",
      "['<SOS>', '伯', '母', '激', '动', '得', '身', '子', '都', '<EOS>', '去', '3', '3']\n",
      "['<SOS>', '两', '颗', '心', '三', '个', '字', '说', '你', '<EOS>', '去', '3', '3']\n",
      "['<SOS>', '一', '支', '安', '闲', '而', '出', '神', '入', '<EOS>', '去', '3', '3']\n",
      "['<SOS>', '孩', '儿', '自', '有', '孩', '儿', '的', '报', '<EOS>', '去', '3', '3']\n",
      "['<SOS>', '我', '说', '出', '这', '句', '誓', '言', '啊', '<EOS>', '去', '3', '3']\n",
      "['<SOS>', '然', '後', '竟', '勾', '痛', '着', '尾', '指', '<EOS>', '去', '3', '3']\n",
      "['<SOS>', '那', '天', '的', '擦', '肩', '淺', '笑', '啊', '<EOS>', '去', '3', '3']\n",
      "['<SOS>', '喜', '欢', '漆', '着', '橄', '榄', '绿', '的', '<EOS>', '去', '3', '3']\n",
      "['<SOS>', '还', '是', '太', '认', '真', '幻', '想', '和', '<EOS>', '去', '3', '3']\n",
      "['<SOS>', '泪', '光', '闪', '动', '我', '也', '为', '你', '<EOS>', '去', '3', '3']\n",
      "['<SOS>', '我', '将', '全', '部', '的', '感', '情', '投', '<EOS>', '去', '3', '3']\n",
      "['<SOS>', '发', '现', '吻', '我', '的', '人', '他', '不', '<EOS>', '去', '3', '3']\n",
      "['<SOS>', '又', '何', '惧', '放', '胆', '啊', '啊', '啊', '<EOS>', '去', '3', '3']\n",
      "['<SOS>', '在', '风', '中', '说', '话', '啊', '啊', '啊', '<EOS>', '去', '3', '3']\n",
      "['<SOS>', '你', '在', '我', '身', '边', '啊', '啊', '啊', '<EOS>', '去', '3', '3']\n",
      "['<SOS>', '你', '啊', '啊', '啊', '啊', '啊', '啊', '啊', '<EOS>', '去', '3', '3']\n",
      "['<SOS>', '没', '有', '选', '择', '总', '是', '做', '着', '<EOS>', '去', '3', '3']\n",
      "['<SOS>', '才', '让', '你', '和', '我', '变', '成', '热', '<EOS>', '去', '3', '3']\n",
      "['<SOS>', '三', '百', '六', '十', '五', '个', '日', '子', '<EOS>', '去', '3', '3']\n",
      "['<SOS>', '因', '为', '受', '过', '了', '伤', '啊', '啊', '<EOS>', '去', '3', '3']\n",
      "['<SOS>', '月', '儿', '像', '柠', '檬', '啊', '啊', '啊', '<EOS>', '去', '3', '3']\n",
      "['<SOS>', '越', '心', '痛', '就', '越', '快', '乐', '啊', '<EOS>', '去', '3', '3']\n",
      "['<SOS>', '就', '此', '忘', '了', '吗', '啊', '啊', '啊', '<EOS>', '去', '3', '3']\n",
      "['<SOS>', '看', '当', '时', '的', '月', '亮', '啊', '啊', '<EOS>', '去', '3', '3']\n",
      "['<SOS>', '我', '说', '我', '想', '去', '大', '连', '啊', '<EOS>', '去', '3', '3']\n",
      "['<SOS>', '我', '早', '已', '因', '你', '疯', '啊', '啊', '<EOS>', '去', '3', '3']\n",
      "['<SOS>', '我', '输', '光', '了', '爱', '情', '我', '还', '<EOS>', '去', '3', '3']\n",
      "['<SOS>', '也', '许', '这', '全', '部', '的', '话', '语', '<EOS>', '去', '3', '3']\n",
      "['<SOS>', '我', '们', '啊', '啊', '啊', '啊', '啊', '啊', '<EOS>', '去', '3', '3']\n",
      "['<SOS>', '波', '底', '一', '炒', '射', '上', '了', '大', '<EOS>', '去', '3', '3']\n",
      "['<SOS>', '因', '为', '我', '很', '固', '执', '又', '很', '<EOS>', '去', '3', '3']\n",
      "['<SOS>', '预', '备', '好', '啦', '预', '备', '好', '啦', '<EOS>', '去', '3', '3']\n",
      "['<SOS>', '如', '果', '今', '天', '我', '们', '就', '要', '<EOS>', '去', '3', '3']\n",
      "['<SOS>', '其', '实', '早', '就', '拥', '有', '啊', '啊', '<EOS>', '去', '3', '3']\n",
      "['<SOS>', '不', '要', '对', '我', '冷', '漠', '啊', '啊', '<EOS>', '去', '3', '3']\n",
      "['<SOS>', '哪', '能', '清', '清', '楚', '楚', '让', '痛', '<EOS>', '去', '3', '3']\n",
      "['<SOS>', '男', '啊', '啊', '啊', '啊', '啊', '啊', '啊', '<EOS>', '去', '3', '3']\n",
      "['<SOS>', '我', '可', '以', '站', '在', '你', '在', '我', '<EOS>', '去', '3', '3']\n",
      "['<SOS>', '太', '多', '的', '爱', '怕', '醉', '啊', '啊', '<EOS>', '去', '3', '3']\n",
      "['<SOS>', '等', '一', '个', '吻', '来', '实', '现', '啊', '<EOS>', '去', '3', '3']\n",
      "['<SOS>', '将', '快', '乐', '洒', '满', '未', '来', '天', '<EOS>', '去', '3', '3']\n",
      "['<SOS>', '轮', '廓', '一', '再', '震', '撼', '我', '情', '<EOS>', '去', '3', '3']\n",
      "['<SOS>', '那', '仰', '望', '的', '人', '心', '底', '的', '<EOS>', '去', '3', '3']\n",
      "['<SOS>', '男', '其', '实', '曾', '内', '心', '挣', '扎', '<EOS>', '去', '3', '3']\n",
      "['<SOS>', '你', '的', '狂', '热', '要', '我', '抱', '着', '<EOS>', '去', '3', '3']\n",
      "['<SOS>', '像', '第', '一', '次', '喝', '的', '黑', '啤', '<EOS>', '去', '3', '3']\n",
      "['<SOS>', '其', '实', '开', '心', '好', '简', '单', '最', '<EOS>', '去', '3', '3']\n",
      "['<SOS>', '一', '剪', '熏', '风', '吹', '不', '走', '谁', '<EOS>', '去', '3', '3']\n",
      "['<SOS>', '明', '明', '想', '得', '很', '硬', '接', '到', '<EOS>', '去', '3', '3']\n",
      "['<SOS>', '要', '如', '何', '才', '能', '走', '出', '回', '<EOS>', '去', '3', '3']\n",
      "['<SOS>', '我', '的', '笑', '容', '想', '要', '去', '伪', '<EOS>', '去', '3', '3']\n",
      "['<SOS>', '你', '的', '眼', '睛', '啊', '啊', '啊', '啊', '<EOS>', '去', '3', '3']\n",
      "['<SOS>', '我', '知', '道', '她', '必', '然', '有', '点', '<EOS>', '去', '3', '3']\n",
      "['<SOS>', '爱', '森', '纳', '赫', '小', '镇', '里', '啊', '<EOS>', '去', '3', '3']\n",
      "['<SOS>', '积', '存', '了', '许', '多', '话', '要', '对', '<EOS>', '去', '3', '3']\n",
      "['<SOS>', '不', '放', '弃', '心', '中', '刻', '下', '了', '<EOS>', '去', '3', '3']\n",
      "['<SOS>', '好', '好', '过', '吧', '啊', '啊', '啊', '啊', '<EOS>', '去', '3', '3']\n",
      "['<SOS>', '这', '么', '多', '年', '早', '就', '喜', '欢', '<EOS>', '去', '3', '3']\n",
      "['<SOS>', '想', '开', '往', '地', '老', '天', '荒', '啊', '<EOS>', '去', '3', '3']\n",
      "['<SOS>', '心', '事', '不', '说', '有', '谁', '会', '知', '<EOS>', '去', '3', '3']\n",
      "['<SOS>', '没', '有', '爱', '人', '相', '随', '啊', '啊', '<EOS>', '去', '3', '3']\n",
      "['<SOS>', '抓', '紧', '这', '次', '决', '不', '再', '错', '<EOS>', '去', '3', '3']\n",
      "['<SOS>', '你', '给', '的', '爱', '啊', '啊', '啊', '啊', '<EOS>', '去', '3', '3']\n",
      "['<SOS>', '抛', '入', '一', '汪', '江', '水', '向', '东', '<EOS>', '去', '3', '3']\n",
      "['<SOS>', '我', '将', '流', '向', '那', '边', '去', '啊', '<EOS>', '去', '3', '3']\n",
      "['<SOS>', '这', '份', '深', '情', '难', '舍', '难', '了', '<EOS>', '去', '3', '3']\n",
      "['<SOS>', '爱', '一', '旦', '往', '前', '飞', '就', '不', '<EOS>', '去', '3', '3']\n",
      "['<SOS>', '陪', '我', '唱', '歌', '清', '唱', '你', '的', '<EOS>', '去', '3', '3']\n",
      "['<SOS>', '走', '来', '走', '去', '风', '浪', '你', '见', '<EOS>', '去', '3', '3']\n",
      "['<SOS>', '撞', '到', '鬼', '打', '墙', '躲', '也', '躲', '<EOS>', '去', '3', '3']\n",
      "['<SOS>', '可', '是', '啊', '啊', '啊', '啊', '啊', '啊', '<EOS>', '去', '3', '3']\n",
      "['<SOS>', '春', '风', '笑', '面', '共', '诉', '情', '啊', '<EOS>', '去', '3', '3']\n",
      "['<SOS>', '你', '的', '手', '藏', '在', '我', '的', '衣', '<EOS>', '去', '3', '3']\n",
      "['<SOS>', '就', '望', '见', '了', '彩', '虹', '啊', '啊', '<EOS>', '去', '3', '3']\n",
      "['<SOS>', '在', '放', '手', '以', '后', '不', '再', '拥', '<EOS>', '去', '3', '3']\n",
      "['<SOS>', '你', '却', '被', '捆', '住', '了', '啊', '啊', '<EOS>', '去', '3', '3']\n",
      "['<SOS>', '一', '年', '一', '年', '啊', '啊', '啊', '啊', '<EOS>', '去', '3', '3']\n",
      "['<SOS>', '诚', '实', '讲', '一', '趟', '啊', '啊', '啊', '<EOS>', '去', '3', '3']\n",
      "['<SOS>', '轻', '易', '的', '改', '变', '我', '们', '的', '<EOS>', '去', '3', '3']\n",
      "['<SOS>', '这', '是', '我', '积', '数', '十', '年', '经', '<EOS>', '去', '3', '3']\n",
      "['<SOS>', '用', '骁', '勇', '粗', '犷', '的', '壮', '士', '<EOS>', '去', '3', '3']\n",
      "['<SOS>', '告', '诉', '我', '啊', '啊', '啊', '啊', '啊', '<EOS>', '去', '3', '3']\n",
      "['<SOS>', '秘', '密', '现', '在', '被', '揭', '晓', '啊', '<EOS>', '去', '3', '3']\n",
      "['<SOS>', '岁', '月', '拉', '长', '了', '衣', '袖', '啊', '<EOS>', '去', '3', '3']\n",
      "['<SOS>', '你', '说', '是', '我', '搞', '错', '啦', '啊', '<EOS>', '去', '3', '3']\n",
      "['<SOS>', '紧', '抱', '双', '臂', '像', '守', '护', '一', '<EOS>', '去', '3', '3']\n",
      "['<SOS>', '无', '法', '摆', '脱', '啊', '啊', '啊', '啊', '<EOS>', '去', '3', '3']\n",
      "['<SOS>', '夜', '来', '香', '啊', '啊', '啊', '啊', '啊', '<EOS>', '去', '3', '3']\n",
      "['<SOS>', '硬', '骨', '柔', '指', '啊', '啊', '啊', '啊', '<EOS>', '去', '3', '3']\n",
      "['<SOS>', '拥', '抱', '的', '那', '一', '刻', '却', '是', '<EOS>', '去', '3', '3']\n",
      "['<SOS>', '错', '在', '我', '太', '寂', '寞', '随', '时', '<EOS>', '去', '3', '3']\n",
      "['<SOS>', '噢', '噢', '我', '们', '睡', '觉', '觉', '啊', '<EOS>', '去', '3', '3']\n",
      "['<SOS>', '还', '有', '那', '次', '不', '顾', '一', '切', '<EOS>', '去', '3', '3']\n",
      "['<SOS>', '你', '的', '爱', '就', '像', '那', '太', '空', '<EOS>', '去', '3', '3']\n",
      "['<SOS>', '明', '柏', '辰', '明', '筱', '岩', '与', '你', '<EOS>', '去', '3', '3']\n",
      "['<SOS>', '午', '夜', '的', '电', '影', '啊', '啊', '啊', '<EOS>', '去', '3', '3']\n",
      "['<SOS>', '谁', '像', '被', '骗', '麽', '啊', '啊', '啊', '<EOS>', '去', '3', '3']\n",
      "['<SOS>', '鲜', '花', '浪', '花', '一', '起', '盛', '开', '<EOS>', '去', '3', '3']\n",
      "['<SOS>', '世', '事', '可', '曾', '是', '有', '完', '美', '<EOS>', '去', '3', '3']\n",
      "['<SOS>', '一', '张', '张', '一', '幕', '幕', '的', '图', '<EOS>', '去', '3', '3']\n",
      "['<SOS>', '张', '国', '荣', '如', '可', '让', '每', '颗', '<EOS>', '去', '3', '3']\n",
      "['<SOS>', '沉', '香', '亭', '北', '倚', '阑', '干', '啊', '<EOS>', '去', '3', '3']\n",
      "['<SOS>', '我', '有', '没', '有', '跟', '你', '说', '过', '<EOS>', '去', '3', '3']\n",
      "['<SOS>', '你', '和', '我', '长', '得', '壮', '啊', '啊', '<EOS>', '去', '3', '3']\n",
      "['<SOS>', '空', '惆', '怅', '空', '惆', '怅', '啊', '啊', '<EOS>', '去', '3', '3']\n",
      "['<SOS>', '我', '也', '已', '经', '自', '由', '了', '啊', '<EOS>', '去', '3', '3']\n",
      "['<SOS>', '金', '光', '里', '谁', '在', '雨', '中', '相', '<EOS>', '去', '3', '3']\n",
      "['<SOS>', '受', '不', '了', '看', '见', '你', '背', '影', '<EOS>', '去', '3', '3']\n",
      "['<SOS>', '四', '月', '将', '近', '雨', '水', '刚', '停', '<EOS>', '去', '3', '3']\n",
      "['<SOS>', '我', '牵', '着', '小', '妹', '的', '小', '手', '<EOS>', '去', '3', '3']\n",
      "['<SOS>', '那', '啰', '谨', '墀', '皤', '伽', '啰', '耶', '<EOS>', '去', '3', '3']\n",
      "['<SOS>', '有', '些', '仇', '心', '藏', '却', '无', '言', '<EOS>', '去', '3', '3']\n",
      "['<SOS>', '我', '望', '眼', '欲', '穿', '啊', '啊', '啊', '<EOS>', '去', '3', '3']\n",
      "['<SOS>', '你', '用', '优', '雅', '姿', '态', '说', '你', '<EOS>', '去', '3', '3']\n",
      "['<SOS>', '所', '有', '的', '完', '美', '回', '忆', '成', '<EOS>', '去', '3', '3']\n",
      "['<SOS>', '不', '复', '理', '残', '机', '啊', '啊', '啊', '<EOS>', '去', '3', '3']\n",
      "['<SOS>', '疯', '狂', '的', '我', '们', '啊', '啊', '啊', '<EOS>', '去', '3', '3']\n",
      "['<SOS>', '我', '也', '曾', '醉', '过', '也', '为', '你', '<EOS>', '去', '3', '3']\n",
      "['<SOS>', '脉', '搏', '仍', '在', '跳', '动', '我', '还', '<EOS>', '去', '3', '3']\n",
      "['<SOS>', '连', '自', '己', '亦', '都', '分', '析', '不', '<EOS>', '去', '3', '3']\n",
      "['<SOS>', '我', '常', '说', '啊', '啊', '啊', '啊', '啊', '<EOS>', '去', '3', '3']\n",
      "['<SOS>', '街', '灯', '下', '我', '依', '旧', '孤', '寂', '<EOS>', '去', '3', '3']\n",
      "['<SOS>', '温', '馨', '至', '此', '悲', '哀', '的', '是', '<EOS>', '去', '3', '3']\n",
      "['<SOS>', '你', '干', '嘛', '你', '干', '嘛', '你', '干', '<EOS>', '去', '3', '3']\n",
      "['<SOS>', '种', '下', '希', '望', '就', '会', '收', '获', '<EOS>', '去', '3', '3']\n",
      "['<SOS>', '我', '只', '是', '渔', '火', '你', '是', '泡', '<EOS>', '去', '3', '3']\n",
      "['<SOS>', '你', '是', '心', '中', '的', '日', '月', '落', '<EOS>', '去', '3', '3']\n",
      "['<SOS>', '大', '屏', '幕', '里', '忽', '然', '给', '我', '<EOS>', '去', '3', '3']\n",
      "['<SOS>', '对', '爱', '的', '执', '著', '啊', '啊', '啊', '<EOS>', '去', '3', '3']\n",
      "['<SOS>', '是', '我', '天', '空', '最', '美', '丽', '的', '<EOS>', '去', '3', '3']\n",
      "['<SOS>', '一', '个', '人', '走', '在', '路', '上', '漫', '<EOS>', '去', '3', '3']\n",
      "['<SOS>', '身', '在', '幻', '城', '看', '不', '清', '人', '<EOS>', '去', '3', '3']\n",
      "['<SOS>', '王', '李', '一', '起', '追', '寻', '啊', '啊', '<EOS>', '去', '3', '3']\n",
      "['<SOS>', '握', '著', '我', '的', '手', '你', '依', '恋', '<EOS>', '去', '3', '3']\n",
      "['<SOS>', '行', '运', '永', '保', '一', '生', '啊', '啊', '<EOS>', '去', '3', '3']\n",
      "['<SOS>', '裂', '天', '那', '传', '说', '忘', '却', '了', '<EOS>', '去', '3', '3']\n",
      "['<SOS>', '同', '在', '这', '一', '扇', '窗', '看', '山', '<EOS>', '去', '3', '3']\n",
      "['<SOS>', '澎', '湃', '着', '中', '华', '的', '声', '音', '<EOS>', '去', '3', '3']\n",
      "['<SOS>', '你', '回', '家', '吧', '困', '难', '的', '时', '<EOS>', '去', '3', '3']\n",
      "['<SOS>', '你', '的', '承', '诺', '算', '什', '么', '啊', '<EOS>', '去', '3', '3']\n",
      "['<SOS>', '肚', '子', '饿', '哄', '哄', '啊', '啊', '啊', '<EOS>', '去', '3', '3']\n",
      "['<SOS>', '你', '是', '自', '由', '的', '不', '必', '只', '<EOS>', '去', '3', '3']\n",
      "['<SOS>', '我', '猜', '我', '眼', '里', '有', '明', '白', '<EOS>', '去', '3', '3']\n",
      "['<SOS>', '别', '说', '爱', '谁', '别', '说', '可', '是', '<EOS>', '去', '3', '3']\n",
      "['<SOS>', '剩', '自', '己', '一', '个', '啊', '啊', '啊', '<EOS>', '去', '3', '3']\n",
      "['<SOS>', '爆', '米', '花', '染', '亮', '了', '天', '的', '<EOS>', '去', '3', '3']\n",
      "['<SOS>', '今', '夕', '何', '夕', '兮', '啊', '啊', '啊', '<EOS>', '去', '3', '3']\n",
      "['<SOS>', '朝', '朝', '频', '顾', '惜', '夜', '夜', '不', '<EOS>', '去', '3', '3']\n",
      "['<SOS>', '我', '才', '知', '道', '人', '们', '为', '了', '<EOS>', '去', '3', '3']\n",
      "['<SOS>', '混', '音', '师', '杨', '大', '伟', '啊', '啊', '<EOS>', '去', '3', '3']\n",
      "['<SOS>', '故', '名', '啊', '啊', '啊', '啊', '啊', '啊', '<EOS>', '去', '3', '3']\n",
      "['<SOS>', '如', '果', '爱', '是', '说', '什', '么', '都', '<EOS>', '去', '3', '3']\n",
      "['<SOS>', '受', '控', '着', '所', '有', '的', '欺', '骗', '<EOS>', '去', '3', '3']\n",
      "['<SOS>', '我', '想', '登', '高', '一', '望', '这', '天', '<EOS>', '去', '3', '3']\n",
      "['<SOS>', '远', '远', '的', '承', '诺', '是', '真', '的', '<EOS>', '去', '3', '3']\n",
      "['<SOS>', '关', '心', '谁', '会', '关', '心', '谁', '谁', '<EOS>', '去', '3', '3']\n",
      "['<SOS>', '照', '亮', '天', '空', '的', '阴', '暗', '啊', '<EOS>', '去', '3', '3']\n",
      "['<SOS>', '听', '那', '杜', '鹃', '在', '林', '中', '轻', '<EOS>', '去', '3', '3']\n",
      "['<SOS>', '在', '这', '下', '雨', '的', '时', '候', '啊', '<EOS>', '去', '3', '3']\n",
      "['<SOS>', '到', '云', '端', '把', '云', '通', '通', '踩', '<EOS>', '去', '3', '3']\n",
      "['<SOS>', '我', '不', '完', '美', '的', '梦', '啊', '啊', '<EOS>', '去', '3', '3']\n",
      "['<SOS>', '自', '己', '有', '能', '给', '你', '的', '东', '<EOS>', '去', '3', '3']\n",
      "['<SOS>', '不', '生', '不', '灭', '啊', '啊', '啊', '啊', '<EOS>', '去', '3', '3']\n",
      "['<SOS>', '谁', '让', '爱', '变', '沉', '重', '啊', '啊', '<EOS>', '去', '3', '3']\n",
      "['<SOS>', '然', '后', '说', '然', '后', '做', '然', '后', '<EOS>', '去', '3', '3']\n",
      "['<SOS>', '歌', '曲', '是', '翻', '唱', '原', '唱', '是', '<EOS>', '去', '3', '3']\n",
      "['<SOS>', '记', '忆', '里', '保', '存', '着', '最', '珍', '<EOS>', '去', '3', '3']\n",
      "['<SOS>', '少', '年', '富', '则', '国', '富', '啊', '啊', '<EOS>', '去', '3', '3']\n",
      "['<SOS>', '何', '不', '潇', '洒', '走', '一', '回', '啊', '<EOS>', '去', '3', '3']\n",
      "['<SOS>', '你', '抱', '怨', '政', '客', '爱', '经', '济', '<EOS>', '去', '3', '3']\n",
      "['<SOS>', '甜', '饼', '啊', '啊', '啊', '啊', '啊', '啊', '<EOS>', '去', '3', '3']\n",
      "['<SOS>', '儿', '子', '说', '啊', '啊', '啊', '啊', '啊', '<EOS>', '去', '3', '3']\n",
      "['<SOS>', '你', '总', '是', '要', '我', '在', '你', '身', '<EOS>', '去', '3', '3']\n",
      "['<SOS>', '平', '凡', '又', '简', '单', '啊', '啊', '啊', '<EOS>', '去', '3', '3']\n",
      "['<SOS>', '在', '你', '的', '眼', '里', '飞', '舞', '盘', '<EOS>', '去', '3', '3']\n",
      "['<SOS>', '轻', '轻', '牵', '手', '拥', '抱', '啊', '啊', '<EOS>', '去', '3', '3']\n",
      "['<SOS>', '忘', '掉', '预', '告', '啊', '啊', '啊', '啊', '<EOS>', '去', '3', '3']\n",
      "['<SOS>', '都', '隐', '隐', '约', '约', '地', '写', '在', '<EOS>', '去', '3', '3']\n",
      "['<SOS>', '爱', '情', '会', '在', '任', '何', '地', '方', '<EOS>', '去', '3', '3']\n",
      "['<SOS>', '爱', '成', '了', '习', '惯', '啊', '啊', '啊', '<EOS>', '去', '3', '3']\n",
      "['<SOS>', '我', '那', '么', '平', '凡', '我', '开', '不', '<EOS>', '去', '3', '3']\n",
      "['<SOS>', '小', '白', '说', '陪', '我', '陪', '到', '老', '<EOS>', '去', '3', '3']\n",
      "['<SOS>', '其', '实', '不', '饿', '是', '嘴', '馋', '嘴', '<EOS>', '去', '3', '3']\n",
      "['<SOS>', '那', '串', '加', '德', '满', '都', '的', '风', '<EOS>', '去', '3', '3']\n",
      "['<SOS>', '后', '来', '彼', '此', '越', '来', '越', '沉', '<EOS>', '去', '3', '3']\n",
      "['<SOS>', '来', '日', '望', '自', '食', '其', '力', '啊', '<EOS>', '去', '3', '3']\n",
      "['<SOS>', '哈', '哈', '哈', '哈', '哈', '啊', '啊', '啊', '<EOS>', '去', '3', '3']\n",
      "['<SOS>', '想', '她', '念', '她', '恨', '她', '啊', '啊', '<EOS>', '去', '3', '3']\n",
      "['<SOS>', '情', '感', '不', '要', '谁', '来', '丈', '量', '<EOS>', '去', '3', '3']\n",
      "['<SOS>', '约', '好', '要', '每', '年', '回', '到', '初', '<EOS>', '去', '3', '3']\n",
      "['<SOS>', '这', '画', '面', '如', '此', '的', '美', '啊', '<EOS>', '去', '3', '3']\n",
      "['<SOS>', '忘', '了', '故', '事', '到', '结', '尾', '重', '<EOS>', '去', '3', '3']\n",
      "['<SOS>', '就', '是', '这', '么', '简', '单', '啊', '啊', '<EOS>', '去', '3', '3']\n",
      "['<SOS>', '我', '已', '经', '习', '惯', '平', '静', '啊', '<EOS>', '去', '3', '3']\n",
      "['<SOS>', '漫', '步', '骤', '雨', '下', '淡', '然', '尽', '<EOS>', '去', '3', '3']\n",
      "['<SOS>', '无', '聊', '的', '歌', '把', '它', '送', '给', '<EOS>', '去', '3', '3']\n",
      "['<SOS>', '各', '位', '朋', '友', '啊', '啊', '啊', '啊', '<EOS>', '去', '3', '3']\n",
      "['<SOS>', '两', '情', '迢', '迢', '啊', '啊', '啊', '啊', '<EOS>', '去', '3', '3']\n",
      "['<SOS>', '虽', '然', '它', '象', '草', '那', '样', '的', '<EOS>', '去', '3', '3']\n",
      "['<SOS>', '我', '做', '想', '做', '的', '事', '情', '忙', '<EOS>', '去', '3', '3']\n",
      "['<SOS>', '被', '动', '被', '动', '的', '人', '啊', '啊', '<EOS>', '去', '3', '3']\n",
      "['<SOS>', '一', '起', '拍', '掌', '请', '举', '起', '你', '<EOS>', '去', '3', '3']\n",
      "['<SOS>', '没', '有', '你', '的', '日', '子', '更', '加', '<EOS>', '去', '3', '3']\n",
      "['<SOS>', '我', '们', '是', '同', '个', '星', '球', '的', '<EOS>', '去', '3', '3']\n",
      "['<SOS>', '狂', '蜂', '般', '遇', '见', '最', '美', '的', '<EOS>', '去', '3', '3']\n",
      "['<SOS>', '你', '转', '身', '我', '经', '过', '便', '是', '<EOS>', '去', '3', '3']\n",
      "['<SOS>', '当', '凯', '薇', '和', '母', '亲', '再', '一', '<EOS>', '去', '3', '3']\n",
      "['<SOS>', '雨', '都', '停', '了', '天', '都', '亮', '了', '<EOS>', '去', '3', '3']\n",
      "['<SOS>', '女', '你', '若', '问', '我', '快', '不', '快', '<EOS>', '去', '3', '3']\n",
      "['<SOS>', '是', '否', '只', '有', '分', '别', '之', '后', '<EOS>', '去', '3', '3']\n",
      "['<SOS>', '红', '线', '牵', '啊', '啊', '啊', '啊', '啊', '<EOS>', '去', '3', '3']\n",
      "['<SOS>', '人', '睡', '了', '啊', '啊', '啊', '啊', '啊', '<EOS>', '去', '3', '3']\n",
      "['<SOS>', '尤', '其', '是', '有', '种', '人', '爱', '惊', '<EOS>', '去', '3', '3']\n",
      "['<SOS>', '你', '哋', '一', '定', '会', '有', '足', '够', '<EOS>', '去', '3', '3']\n",
      "['<SOS>', '这', '份', '感', '情', '难', '收', '偏', '却', '<EOS>', '去', '3', '3']\n",
      "['<SOS>', '每', '每', '寂', '寥', '的', '今', '天', '啊', '<EOS>', '去', '3', '3']\n",
      "['<SOS>', '凤', '凰', '传', '奇', '北', '京', '祝', '福', '<EOS>', '去', '3', '3']\n",
      "['<SOS>', '青', '鸟', '在', '树', '林', '呼', '唤', '你', '<EOS>', '去', '3', '3']\n",
      "['<SOS>', '我', '的', '感', '性', '在', '驾', '驶', '啊', '<EOS>', '去', '3', '3']\n",
      "['<SOS>', '想', '要', '叫', '那', '就', '叫', '啊', '啊', '<EOS>', '去', '3', '3']\n",
      "['<SOS>', '我', '们', '该', '怎', '样', '啊', '啊', '啊', '<EOS>', '去', '3', '3']\n",
      "['<SOS>', '角', '头', '角', '头', '啊', '啊', '啊', '啊', '<EOS>', '去', '3', '3']\n",
      "['<SOS>', '你', '再', '任', '性', '我', '也', '有', '耐', '<EOS>', '去', '3', '3']\n",
      "['<SOS>', '为', '甚', '么', '竟', '然', '防', '备', '啊', '<EOS>', '去', '3', '3']\n",
      "['<SOS>', '我', '问', '过', '爱', '的', '占', '卜', '啊', '<EOS>', '去', '3', '3']\n",
      "['<SOS>', '宁', '愿', '用', '这', '一', '生', '等', '你', '<EOS>', '去', '3', '3']\n",
      "['<SOS>', '没', '有', '半', '分', '猜', '忌', '的', '拥', '<EOS>', '去', '3', '3']\n",
      "['<SOS>', '令', '我', '们', '以', '为', '这', '书', '是', '<EOS>', '去', '3', '3']\n",
      "['<SOS>', '看', '我', '流', '泪', '你', '头', '也', '不', '<EOS>', '去', '3', '3']\n",
      "['<SOS>', '我', '行', '我', '素', '是', '一', '种', '特', '<EOS>', '去', '3', '3']\n",
      "['<SOS>', '我', '想', '了', '想', '说', '啊', '啊', '啊', '<EOS>', '去', '3', '3']\n",
      "['<SOS>', '编', '曲', '刘', '雨', '斯', '啊', '啊', '啊', '<EOS>', '去', '3', '3']\n",
      "['<SOS>', '奈', '何', '总', '是', '勉', '强', '对', '自', '<EOS>', '去', '3', '3']\n",
      "['<SOS>', '一', '直', '到', '今', '天', '啊', '啊', '啊', '<EOS>', '去', '3', '3']\n",
      "['<SOS>', '忍', '不', '住', '想', '要', '轻', '轻', '地', '<EOS>', '去', '3', '3']\n",
      "['<SOS>', '坚', '信', '这', '一', '切', '都', '会', '如', '<EOS>', '去', '3', '3']\n",
      "['<SOS>', '时', '间', '裂', '缝', '啊', '啊', '啊', '啊', '<EOS>', '去', '3', '3']\n"
     ]
    },
    {
     "data": {
      "application/vnd.jupyter.widget-view+json": {
       "model_id": "41c59c18780c44e99b9e572483efb136",
       "version_major": 2,
       "version_minor": 0
      },
      "text/plain": [
       "HBox(children=(IntProgress(value=0, max=1), HTML(value='')))"
      ]
     },
     "metadata": {},
     "output_type": "display_data"
    },
    {
     "name": "stdout",
     "output_type": "stream",
     "text": [
      "\n"
     ]
    }
   ],
   "source": [
    "context_mean, context_var = getContextMeanAndVar(plot_cells=swap_cells_final)\n",
    "context_mean2, context_var2 = getContextMeanAndVar(plot_cells=swap_cells_final, the_first_num=3)\n",
    "# plt.bar(swap_cells_final, context_mean, width=0.1)\n",
    "#     fig = plt.gcf()\n",
    "#     fig.set_size_inches(18,10)"
   ]
  },
  {
   "cell_type": "code",
   "execution_count": 499,
   "metadata": {},
   "outputs": [],
   "source": [
    "def generateDataForTotalSumAndCertainWord(designated_word=None, total_sum=6, \n",
    "                                          swap_cells_final=swap_cells_final, verbose=True):\n",
    "    random_word=False\n",
    "    if designated_word == None:\n",
    "        print('>>>>>>>>>>>>>>>>>>>>>>>>>>>>>')\n",
    "        random_word = True\n",
    "        designated_word = random.choice(random.choice(corpus))\n",
    "    num_pairs = []\n",
    "    means = []\n",
    "    variances = []\n",
    "    for the_first_num in range(1, total_sum):\n",
    "        if random_word:\n",
    "            designated_word = random.choice(random.choice(corpus))\n",
    "            print(f\">>> In generateDataForTotalSumAndCertainWord, random_word={designated_word}\")\n",
    "        num_pairs.append((the_first_num, total_sum - the_first_num))\n",
    "        context_mean, context_var = getContextMeanAndVar(plot_cells=swap_cells_final, \n",
    "                                                         designated_word=designated_word, \n",
    "                                                         total_sum=total_sum, \n",
    "                                                         the_first_num=2, \n",
    "                                                         print_sent=False,\n",
    "                                                         sample_size=8,\n",
    "                                                         verbose=verbose)\n",
    "        means.append(context_mean)\n",
    "        variances.append(context_var)\n",
    "    return np.array(num_pairs), np.array(means), np.array(variances)"
   ]
  },
  {
   "cell_type": "code",
   "execution_count": 496,
   "metadata": {},
   "outputs": [],
   "source": [
    "def plot(swap_cells, designated_word=None, total_sum=6):\n",
    "    labels = swap_cells\n",
    "    if designated_word == None:\n",
    "        designated_word = random.choice(random.choice(corpus))\n",
    "    num_pairs, means, variances = generateDataForTotalSumAndCertainWord(designated_word=designated_word, \n",
    "                                                                        total_sum=total_sum,\n",
    "                                                                        verbose=False)\n",
    "\n",
    "    x = np.arange(len(labels))  # the label locations\n",
    "    width = 0.1  # the width of the bars\n",
    "\n",
    "    fig, ax = plt.subplots(figsize=(12,5))\n",
    "    for num_pair, mean in zip(num_pairs, means):\n",
    "        rects1 = ax.bar(x, mean, width, label=f'{num_pair[0]} + {num_pair[1]}')\n",
    "        x = x + 0.15\n",
    "    # Add some text for labels, title and custom x-axis tick labels, etc.\n",
    "    ax.set_ylabel('cell values')\n",
    "    ax.set_title(f'sum = {total_sum}')\n",
    "    ax.set_xticks(x)\n",
    "    ax.set_xticklabels(labels)\n",
    "    ax.legend()\n",
    "    fig.tight_layout()\n",
    "    plt.show()"
   ]
  },
  {
   "cell_type": "code",
   "execution_count": 470,
   "metadata": {
    "scrolled": false
   },
   "outputs": [
    {
     "name": "stdout",
     "output_type": "stream",
     "text": [
      "气\n",
      ">>> In generateDataForTotalSumAndCertainWord, random_word=啊\n"
     ]
    },
    {
     "data": {
      "image/png": "[encoded data removed]",
      "text/plain": [
       "<Figure size 864x360 with 1 Axes>"
      ]
     },
     "metadata": {
      "needs_background": "light"
     },
     "output_type": "display_data"
    },
    {
     "name": "stdout",
     "output_type": "stream",
     "text": [
      ">>> In generateDataForTotalSumAndCertainWord, random_word=啦\n",
      ">>> In generateDataForTotalSumAndCertainWord, random_word=的\n"
     ]
    },
    {
     "data": {
      "image/png": "[encoded data removed]",
      "text/plain": [
       "<Figure size 864x360 with 1 Axes>"
      ]
     },
     "metadata": {
      "needs_background": "light"
     },
     "output_type": "display_data"
    },
    {
     "name": "stdout",
     "output_type": "stream",
     "text": [
      ">>> In generateDataForTotalSumAndCertainWord, random_word=去\n",
      ">>> In generateDataForTotalSumAndCertainWord, random_word=冰\n",
      ">>> In generateDataForTotalSumAndCertainWord, random_word=上\n"
     ]
    },
    {
     "data": {
      "image/png": "[encoded data removed]",
      "text/plain": [
       "<Figure size 864x360 with 1 Axes>"
      ]
     },
     "metadata": {
      "needs_background": "light"
     },
     "output_type": "display_data"
    },
    {
     "name": "stdout",
     "output_type": "stream",
     "text": [
      ">>> In generateDataForTotalSumAndCertainWord, random_word=双\n",
      ">>> In generateDataForTotalSumAndCertainWord, random_word=不\n",
      ">>> In generateDataForTotalSumAndCertainWord, random_word=在\n",
      ">>> In generateDataForTotalSumAndCertainWord, random_word=生\n"
     ]
    },
    {
     "data": {
      "image/png": "[encoded data removed]",
      "text/plain": [
       "<Figure size 864x360 with 1 Axes>"
      ]
     },
     "metadata": {
      "needs_background": "light"
     },
     "output_type": "display_data"
    },
    {
     "name": "stdout",
     "output_type": "stream",
     "text": [
      ">>> In generateDataForTotalSumAndCertainWord, random_word=福\n",
      ">>> In generateDataForTotalSumAndCertainWord, random_word=懂\n",
      ">>> In generateDataForTotalSumAndCertainWord, random_word=考\n",
      ">>> In generateDataForTotalSumAndCertainWord, random_word=会\n",
      ">>> In generateDataForTotalSumAndCertainWord, random_word=经\n"
     ]
    },
    {
     "data": {
      "image/png": "[encoded data removed]",
      "text/plain": [
       "<Figure size 864x360 with 1 Axes>"
      ]
     },
     "metadata": {
      "needs_background": "light"
     },
     "output_type": "display_data"
    },
    {
     "name": "stdout",
     "output_type": "stream",
     "text": [
      ">>> In generateDataForTotalSumAndCertainWord, random_word=只\n",
      ">>> In generateDataForTotalSumAndCertainWord, random_word=你\n",
      ">>> In generateDataForTotalSumAndCertainWord, random_word=问\n",
      ">>> In generateDataForTotalSumAndCertainWord, random_word=断\n",
      ">>> In generateDataForTotalSumAndCertainWord, random_word=会\n",
      ">>> In generateDataForTotalSumAndCertainWord, random_word=剪\n"
     ]
    },
    {
     "data": {
      "image/png": "[encoded data removed]",
      "text/plain": [
       "<Figure size 864x360 with 1 Axes>"
      ]
     },
     "metadata": {
      "needs_background": "light"
     },
     "output_type": "display_data"
    },
    {
     "name": "stdout",
     "output_type": "stream",
     "text": [
      ">>> In generateDataForTotalSumAndCertainWord, random_word=出\n",
      ">>> In generateDataForTotalSumAndCertainWord, random_word=走\n",
      ">>> In generateDataForTotalSumAndCertainWord, random_word=過\n",
      ">>> In generateDataForTotalSumAndCertainWord, random_word=为\n",
      ">>> In generateDataForTotalSumAndCertainWord, random_word=层\n",
      ">>> In generateDataForTotalSumAndCertainWord, random_word=快\n",
      ">>> In generateDataForTotalSumAndCertainWord, random_word=靠\n"
     ]
    },
    {
     "data": {
      "image/png": "[encoded data removed]",
      "text/plain": [
       "<Figure size 864x360 with 1 Axes>"
      ]
     },
     "metadata": {
      "needs_background": "light"
     },
     "output_type": "display_data"
    }
   ],
   "source": [
    "designated_word = random.choice(random.choice(corpus))\n",
    "print(designated_word)\n",
    "for total_sum in range(2, 9):\n",
    "    plot(swap_cells=swap_cells_final, designated_word=designated_word, total_sum=total_sum)"
   ]
  },
  {
   "cell_type": "markdown",
   "metadata": {},
   "source": [
    "# 控制變因：加起來後定值=？"
   ]
  },
  {
   "cell_type": "code",
   "execution_count": 507,
   "metadata": {},
   "outputs": [],
   "source": [
    "def plotByTotalSum(swap_cells, designated_word=None, total_sum_lower_bound=2, total_sum_upper_bound=3):\n",
    "    labels = swap_cells\n",
    "    if designated_word == None:\n",
    "        designated_word = random.choice(random.choice(corpus))\n",
    "    fig, ax = plt.subplots(figsize=(12,5))\n",
    "    x = np.arange(len(labels))  # the label locations\n",
    "    width = 0.1  # the width of the bars\n",
    "    for total_sum in range(total_sum_lower_bound, total_sum_upper_bound + 1):\n",
    "        _, means, variances = generateDataForTotalSumAndCertainWord(designated_word=designated_word,  \n",
    "                                                                            total_sum=total_sum,\n",
    "                                                                            verbose=False)\n",
    "        means = np.mean(means , axis=0)\n",
    "        variances = np.mean(variances , axis=0)\n",
    "\n",
    "\n",
    "#     for num_pair, mean in zip(num_pairs, means):\n",
    "        rects1 = ax.bar(x, means, width, label=f'{total_sum}')\n",
    "        x = x + 0.15\n",
    "    # Add some text for labels, title and custom x-axis tick labels, etc.\n",
    "    ax.set_ylabel('cell values')\n",
    "    ax.set_title(f'sum lower bound = {total_sum_lower_bound}, upper bound = {total_sum_upper_bound}')\n",
    "    ax.set_xticks(x)\n",
    "    ax.set_xticklabels(labels)\n",
    "    ax.legend()\n",
    "    fig.tight_layout()\n",
    "    plt.show()"
   ]
  },
  {
   "cell_type": "code",
   "execution_count": 511,
   "metadata": {
    "scrolled": false
   },
   "outputs": [
    {
     "name": "stdout",
     "output_type": "stream",
     "text": [
      "们\n"
     ]
    },
    {
     "data": {
      "image/png": "[encoded data removed]",
      "text/plain": [
       "<Figure size 864x360 with 1 Axes>"
      ]
     },
     "metadata": {
      "needs_background": "light"
     },
     "output_type": "display_data"
    },
    {
     "data": {
      "image/png": "[encoded data removed]",
      "text/plain": [
       "<Figure size 864x360 with 1 Axes>"
      ]
     },
     "metadata": {
      "needs_background": "light"
     },
     "output_type": "display_data"
    },
    {
     "data": {
      "image/png": "[encoded data removed]",
      "text/plain": [
       "<Figure size 864x360 with 1 Axes>"
      ]
     },
     "metadata": {
      "needs_background": "light"
     },
     "output_type": "display_data"
    },
    {
     "data": {
      "image/png": "[encoded data removed]",
      "text/plain": [
       "<Figure size 864x360 with 1 Axes>"
      ]
     },
     "metadata": {
      "needs_background": "light"
     },
     "output_type": "display_data"
    },
    {
     "data": {
      "image/png": "[encoded data removed]",
      "text/plain": [
       "<Figure size 864x360 with 1 Axes>"
      ]
     },
     "metadata": {
      "needs_background": "light"
     },
     "output_type": "display_data"
    }
   ],
   "source": [
    "designated_word = random.choice(random.choice(corpus))\n",
    "print(designated_word)\n",
    "for i in range(2, 7):\n",
    "    plotByTotalSum(swap_cells_final, designated_word=designated_word, total_sum_lower_bound=i, total_sum_upper_bound=(i + 1))\n"
   ]
  },
  {
   "cell_type": "code",
   "execution_count": null,
   "metadata": {},
   "outputs": [],
   "source": []
  }
 ],
 "metadata": {
  "kernelspec": {
   "display_name": "Python 3",
   "language": "python",
   "name": "python3"
  },
  "language_info": {
   "codemirror_mode": {
    "name": "ipython",
    "version": 3
   },
   "file_extension": ".py",
   "mimetype": "text/x-python",
   "name": "python",
   "nbconvert_exporter": "python",
   "pygments_lexer": "ipython3",
   "version": "3.7.5"
  }
 },
 "nbformat": 4,
 "nbformat_minor": 2
}
